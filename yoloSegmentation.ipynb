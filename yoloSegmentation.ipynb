{
  "cells": [
    {
      "cell_type": "code",
      "execution_count": null,
      "metadata": {
        "colab": {
          "base_uri": "https://localhost:8080/"
        },
        "id": "yozw0JN21jnT",
        "outputId": "f421d780-f6a4-472a-cec2-c43a58a2bf12"
      },
      "outputs": [
        {
          "name": "stdout",
          "output_type": "stream",
          "text": [
            "\n",
            "UNRAR 6.11 beta 1 freeware      Copyright (c) 1993-2022 Alexander Roshal\n",
            "\n",
            "\n",
            "Extracting from dataset.rar\n",
            "\n",
            "Creating    dataset                                                   OK\n",
            "Creating    dataset/groundtruth01                                     OK\n",
            "Extracting  dataset/groundtruth01/unogt100.jpg                           \b\b\b\b  0%\b\b\b\b\b  OK \n",
            "Extracting  dataset/groundtruth01/unogt140.jpg                           \b\b\b\b  0%\b\b\b\b\b  OK \n",
            "Extracting  dataset/groundtruth01/unogt141.jpg                           \b\b\b\b  0%\b\b\b\b\b  OK \n",
            "Extracting  dataset/groundtruth01/unogt142.jpg                           \b\b\b\b  0%\b\b\b\b\b  OK \n",
            "Extracting  dataset/groundtruth01/unogt143.jpg                           \b\b\b\b  0%\b\b\b\b\b  OK \n",
            "Extracting  dataset/groundtruth01/unogt144.jpg                           \b\b\b\b  0%\b\b\b\b\b  OK \n",
            "Extracting  dataset/groundtruth01/unogt145.jpg                           \b\b\b\b  0%\b\b\b\b\b  OK \n",
            "Extracting  dataset/groundtruth01/unogt146.jpg                           \b\b\b\b  0%\b\b\b\b\b  OK \n",
            "Extracting  dataset/groundtruth01/unogt147.jpg                           \b\b\b\b  0%\b\b\b\b\b  OK \n",
            "Extracting  dataset/groundtruth01/unogt148.jpg                           \b\b\b\b  0%\b\b\b\b\b  OK \n",
            "Extracting  dataset/groundtruth01/unogt149.jpg                           \b\b\b\b  0%\b\b\b\b\b  OK \n",
            "Extracting  dataset/groundtruth01/unogt150.jpg                           \b\b\b\b  0%\b\b\b\b\b  OK \n",
            "Extracting  dataset/groundtruth01/unogt160.jpg                           \b\b\b\b  0%\b\b\b\b\b  OK \n",
            "Extracting  dataset/groundtruth01/unogt161.jpg                           \b\b\b\b  0%\b\b\b\b\b  OK \n",
            "Extracting  dataset/groundtruth01/unogt162.jpg                           \b\b\b\b  0%\b\b\b\b\b  OK \n",
            "Extracting  dataset/groundtruth01/unogt163.jpg                           \b\b\b\b  0%\b\b\b\b\b  OK \n",
            "Extracting  dataset/groundtruth01/unogt164.jpg                           \b\b\b\b  0%\b\b\b\b\b  OK \n",
            "Extracting  dataset/groundtruth01/unogt165.jpg                           \b\b\b\b  0%\b\b\b\b\b  OK \n",
            "Extracting  dataset/groundtruth01/unogt166.jpg                           \b\b\b\b  0%\b\b\b\b\b  OK \n",
            "Extracting  dataset/groundtruth01/unogt167.jpg                           \b\b\b\b  0%\b\b\b\b\b  OK \n",
            "Extracting  dataset/groundtruth01/unogt168.jpg                           \b\b\b\b  0%\b\b\b\b\b  OK \n",
            "Extracting  dataset/groundtruth01/unogt169.jpg                           \b\b\b\b  0%\b\b\b\b\b  OK \n",
            "Extracting  dataset/groundtruth01/unogt170.jpg                           \b\b\b\b  0%\b\b\b\b\b  OK \n",
            "Extracting  dataset/groundtruth01/unogt190.jpg                           \b\b\b\b  0%\b\b\b\b\b  OK \n",
            "Extracting  dataset/groundtruth01/unogt191.jpg                           \b\b\b\b  0%\b\b\b\b\b  OK \n",
            "Extracting  dataset/groundtruth01/unogt192.jpg                           \b\b\b\b  0%\b\b\b\b\b  OK \n",
            "Extracting  dataset/groundtruth01/unogt193.jpg                           \b\b\b\b  0%\b\b\b\b\b  OK \n",
            "Extracting  dataset/groundtruth01/unogt194.jpg                           \b\b\b\b  0%\b\b\b\b\b  OK \n",
            "Extracting  dataset/groundtruth01/unogt195.jpg                           \b\b\b\b  0%\b\b\b\b\b  OK \n",
            "Extracting  dataset/groundtruth01/unogt196.jpg                           \b\b\b\b  0%\b\b\b\b\b  OK \n",
            "Extracting  dataset/groundtruth01/unogt197.jpg                           \b\b\b\b  0%\b\b\b\b\b  OK \n",
            "Extracting  dataset/groundtruth01/unogt198.jpg                           \b\b\b\b  0%\b\b\b\b\b  OK \n",
            "Extracting  dataset/groundtruth01/unogt199.jpg                           \b\b\b\b  0%\b\b\b\b\b  OK \n",
            "Extracting  dataset/groundtruth01/unogt200.jpg                           \b\b\b\b  0%\b\b\b\b\b  OK \n",
            "Extracting  dataset/groundtruth01/unogt220.jpg                           \b\b\b\b  0%\b\b\b\b\b  OK \n",
            "Extracting  dataset/groundtruth01/unogt221.jpg                           \b\b\b\b  0%\b\b\b\b\b  OK \n",
            "Extracting  dataset/groundtruth01/unogt222.jpg                           \b\b\b\b  0%\b\b\b\b\b  OK \n",
            "Extracting  dataset/groundtruth01/unogt223.jpg                           \b\b\b\b  0%\b\b\b\b\b  OK \n",
            "Extracting  dataset/groundtruth01/unogt224.jpg                           \b\b\b\b  0%\b\b\b\b\b  OK \n",
            "Extracting  dataset/groundtruth01/unogt225.jpg                           \b\b\b\b  1%\b\b\b\b\b  OK \n",
            "Extracting  dataset/groundtruth01/unogt226.jpg                           \b\b\b\b  1%\b\b\b\b\b  OK \n",
            "Extracting  dataset/groundtruth01/unogt227.jpg                           \b\b\b\b  1%\b\b\b\b\b  OK \n",
            "Extracting  dataset/groundtruth01/unogt228.jpg                           \b\b\b\b  1%\b\b\b\b\b  OK \n",
            "Extracting  dataset/groundtruth01/unogt229.jpg                           \b\b\b\b  1%\b\b\b\b\b  OK \n",
            "Extracting  dataset/groundtruth01/unogt230.jpg                           \b\b\b\b  1%\b\b\b\b\b  OK \n",
            "Extracting  dataset/groundtruth01/unogt90.jpg                            \b\b\b\b  1%\b\b\b\b\b  OK \n",
            "Extracting  dataset/groundtruth01/unogt91.jpg                            \b\b\b\b  1%\b\b\b\b\b  OK \n",
            "Extracting  dataset/groundtruth01/unogt92.jpg                            \b\b\b\b  1%\b\b\b\b\b  OK \n",
            "Extracting  dataset/groundtruth01/unogt93.jpg                            \b\b\b\b  1%\b\b\b\b\b  OK \n",
            "Extracting  dataset/groundtruth01/unogt94.jpg                            \b\b\b\b  1%\b\b\b\b\b  OK \n",
            "Extracting  dataset/groundtruth01/unogt95.jpg                            \b\b\b\b  1%\b\b\b\b\b  OK \n",
            "Extracting  dataset/groundtruth01/unogt96.jpg                            \b\b\b\b  1%\b\b\b\b\b  OK \n",
            "Extracting  dataset/groundtruth01/unogt97.jpg                            \b\b\b\b  1%\b\b\b\b\b  OK \n",
            "Extracting  dataset/groundtruth01/unogt98.jpg                            \b\b\b\b  1%\b\b\b\b\b  OK \n",
            "Extracting  dataset/groundtruth01/unogt99.jpg                            \b\b\b\b  1%\b\b\b\b\b  OK \n",
            "Creating    dataset/groundtruth02                                     OK\n",
            "Extracting  dataset/groundtruth02/unogt100.jpg                           \b\b\b\b  1%\b\b\b\b\b  OK \n",
            "Extracting  dataset/groundtruth02/unogt140.jpg                           \b\b\b\b  1%\b\b\b\b\b  OK \n",
            "Extracting  dataset/groundtruth02/unogt141.jpg                           \b\b\b\b  1%\b\b\b\b\b  OK \n",
            "Extracting  dataset/groundtruth02/unogt142.jpg                           \b\b\b\b  1%\b\b\b\b\b  OK \n",
            "Extracting  dataset/groundtruth02/unogt143.jpg                           \b\b\b\b  1%\b\b\b\b\b  OK \n",
            "Extracting  dataset/groundtruth02/unogt144.jpg                           \b\b\b\b  1%\b\b\b\b\b  OK \n",
            "Extracting  dataset/groundtruth02/unogt145.jpg                           \b\b\b\b  1%\b\b\b\b\b  OK \n",
            "Extracting  dataset/groundtruth02/unogt146.jpg                           \b\b\b\b  1%\b\b\b\b\b  OK \n",
            "Extracting  dataset/groundtruth02/unogt147.jpg                           \b\b\b\b  1%\b\b\b\b\b  OK \n",
            "Extracting  dataset/groundtruth02/unogt148.jpg                           \b\b\b\b  1%\b\b\b\b\b  OK \n",
            "Extracting  dataset/groundtruth02/unogt149.jpg                           \b\b\b\b  1%\b\b\b\b\b  OK \n",
            "Extracting  dataset/groundtruth02/unogt150.jpg                           \b\b\b\b  1%\b\b\b\b\b  OK \n",
            "Extracting  dataset/groundtruth02/unogt160.jpg                           \b\b\b\b  1%\b\b\b\b\b  OK \n",
            "Extracting  dataset/groundtruth02/unogt161.jpg                           \b\b\b\b  1%\b\b\b\b\b  OK \n",
            "Extracting  dataset/groundtruth02/unogt162.jpg                           \b\b\b\b  1%\b\b\b\b\b  OK \n",
            "Extracting  dataset/groundtruth02/unogt163.jpg                           \b\b\b\b  1%\b\b\b\b\b  OK \n",
            "Extracting  dataset/groundtruth02/unogt164.jpg                           \b\b\b\b  1%\b\b\b\b\b  OK \n",
            "Extracting  dataset/groundtruth02/unogt165.jpg                           \b\b\b\b  1%\b\b\b\b\b  OK \n",
            "Extracting  dataset/groundtruth02/unogt166.jpg                           \b\b\b\b  1%\b\b\b\b\b  OK \n",
            "Extracting  dataset/groundtruth02/unogt167.jpg                           \b\b\b\b  1%\b\b\b\b\b  OK \n",
            "Extracting  dataset/groundtruth02/unogt168.jpg                           \b\b\b\b  1%\b\b\b\b\b  OK \n",
            "Extracting  dataset/groundtruth02/unogt169.jpg                           \b\b\b\b  1%\b\b\b\b\b  OK \n",
            "Extracting  dataset/groundtruth02/unogt170.jpg                           \b\b\b\b  1%\b\b\b\b\b  OK \n",
            "Extracting  dataset/groundtruth02/unogt190.jpg                           \b\b\b\b  1%\b\b\b\b\b  OK \n",
            "Extracting  dataset/groundtruth02/unogt191.jpg                           \b\b\b\b  1%\b\b\b\b\b  OK \n",
            "Extracting  dataset/groundtruth02/unogt192.jpg                           \b\b\b\b  1%\b\b\b\b\b  OK \n",
            "Extracting  dataset/groundtruth02/unogt193.jpg                           \b\b\b\b  1%\b\b\b\b\b  OK \n",
            "Extracting  dataset/groundtruth02/unogt194.jpg                           \b\b\b\b  1%\b\b\b\b\b  OK \n",
            "Extracting  dataset/groundtruth02/unogt195.jpg                           \b\b\b\b  1%\b\b\b\b\b  OK \n",
            "Extracting  dataset/groundtruth02/unogt196.jpg                           \b\b\b\b  2%\b\b\b\b\b  OK \n",
            "Extracting  dataset/groundtruth02/unogt197.jpg                           \b\b\b\b  2%\b\b\b\b\b  OK \n",
            "Extracting  dataset/groundtruth02/unogt198.jpg                           \b\b\b\b  2%\b\b\b\b\b  OK \n",
            "Extracting  dataset/groundtruth02/unogt199.jpg                           \b\b\b\b  2%\b\b\b\b\b  OK \n",
            "Extracting  dataset/groundtruth02/unogt200.jpg                           \b\b\b\b  2%\b\b\b\b\b  OK \n",
            "Extracting  dataset/groundtruth02/unogt220.jpg                           \b\b\b\b  2%\b\b\b\b\b  OK \n",
            "Extracting  dataset/groundtruth02/unogt221.jpg                           \b\b\b\b  2%\b\b\b\b\b  OK \n",
            "Extracting  dataset/groundtruth02/unogt222.jpg                           \b\b\b\b  2%\b\b\b\b\b  OK \n",
            "Extracting  dataset/groundtruth02/unogt223.jpg                           \b\b\b\b  2%\b\b\b\b\b  OK \n",
            "Extracting  dataset/groundtruth02/unogt224.jpg                           \b\b\b\b  2%\b\b\b\b\b  OK \n",
            "Extracting  dataset/groundtruth02/unogt225.jpg                           \b\b\b\b  2%\b\b\b\b\b  OK \n",
            "Extracting  dataset/groundtruth02/unogt226.jpg                           \b\b\b\b  2%\b\b\b\b\b  OK \n",
            "Extracting  dataset/groundtruth02/unogt227.jpg                           \b\b\b\b  2%\b\b\b\b\b  OK \n",
            "Extracting  dataset/groundtruth02/unogt228.jpg                           \b\b\b\b  2%\b\b\b\b\b  OK \n",
            "Extracting  dataset/groundtruth02/unogt229.jpg                           \b\b\b\b  2%\b\b\b\b\b  OK \n",
            "Extracting  dataset/groundtruth02/unogt230.jpg                           \b\b\b\b  2%\b\b\b\b\b  OK \n",
            "Extracting  dataset/groundtruth02/unogt90.jpg                            \b\b\b\b  2%\b\b\b\b\b  OK \n",
            "Extracting  dataset/groundtruth02/unogt91.jpg                            \b\b\b\b  2%\b\b\b\b\b  OK \n",
            "Extracting  dataset/groundtruth02/unogt92.jpg                            \b\b\b\b  2%\b\b\b\b\b  OK \n",
            "Extracting  dataset/groundtruth02/unogt93.jpg                            \b\b\b\b  2%\b\b\b\b\b  OK \n",
            "Extracting  dataset/groundtruth02/unogt94.jpg                            \b\b\b\b  2%\b\b\b\b\b  OK \n",
            "Extracting  dataset/groundtruth02/unogt95.jpg                            \b\b\b\b  2%\b\b\b\b\b  OK \n",
            "Extracting  dataset/groundtruth02/unogt96.jpg                            \b\b\b\b  2%\b\b\b\b\b  OK \n",
            "Extracting  dataset/groundtruth02/unogt97.jpg                            \b\b\b\b  2%\b\b\b\b\b  OK \n",
            "Extracting  dataset/groundtruth02/unogt98.jpg                            \b\b\b\b  2%\b\b\b\b\b  OK \n",
            "Extracting  dataset/groundtruth02/unogt99.jpg                            \b\b\b\b  2%\b\b\b\b\b  OK \n",
            "Creating    dataset/groundtruth03                                     OK\n",
            "Extracting  dataset/groundtruth03/unogt100.jpg                           \b\b\b\b  2%\b\b\b\b\b  OK \n",
            "Extracting  dataset/groundtruth03/unogt140.jpg                           \b\b\b\b  2%\b\b\b\b\b  OK \n",
            "Extracting  dataset/groundtruth03/unogt141.jpg                           \b\b\b\b  2%\b\b\b\b\b  OK \n",
            "Extracting  dataset/groundtruth03/unogt142.jpg                           \b\b\b\b  2%\b\b\b\b\b  OK \n",
            "Extracting  dataset/groundtruth03/unogt143.jpg                           \b\b\b\b  2%\b\b\b\b\b  OK \n",
            "Extracting  dataset/groundtruth03/unogt144.jpg                           \b\b\b\b  2%\b\b\b\b\b  OK \n",
            "Extracting  dataset/groundtruth03/unogt145.jpg                           \b\b\b\b  2%\b\b\b\b\b  OK \n",
            "Extracting  dataset/groundtruth03/unogt146.jpg                           \b\b\b\b  2%\b\b\b\b\b  OK \n",
            "Extracting  dataset/groundtruth03/unogt147.jpg                           \b\b\b\b  2%\b\b\b\b\b  OK \n",
            "Extracting  dataset/groundtruth03/unogt148.jpg                           \b\b\b\b  2%\b\b\b\b\b  OK \n",
            "Extracting  dataset/groundtruth03/unogt149.jpg                           \b\b\b\b  2%\b\b\b\b\b  OK \n",
            "Extracting  dataset/groundtruth03/unogt150.jpg                           \b\b\b\b  2%\b\b\b\b\b  OK \n",
            "Extracting  dataset/groundtruth03/unogt160.jpg                           \b\b\b\b  2%\b\b\b\b\b  OK \n",
            "Extracting  dataset/groundtruth03/unogt161.jpg                           \b\b\b\b  2%\b\b\b\b\b  OK \n",
            "Extracting  dataset/groundtruth03/unogt162.jpg                           \b\b\b\b  2%\b\b\b\b\b  OK \n",
            "Extracting  dataset/groundtruth03/unogt163.jpg                           \b\b\b\b  2%\b\b\b\b\b  OK \n",
            "Extracting  dataset/groundtruth03/unogt164.jpg                           \b\b\b\b  2%\b\b\b\b\b  OK \n",
            "Extracting  dataset/groundtruth03/unogt165.jpg                           \b\b\b\b  2%\b\b\b\b\b  OK \n",
            "Extracting  dataset/groundtruth03/unogt166.jpg                           \b\b\b\b  2%\b\b\b\b\b  OK \n",
            "Extracting  dataset/groundtruth03/unogt167.jpg                           \b\b\b\b  2%\b\b\b\b\b  OK \n",
            "Extracting  dataset/groundtruth03/unogt168.jpg                           \b\b\b\b  2%\b\b\b\b\b  OK \n",
            "Extracting  dataset/groundtruth03/unogt169.jpg                           \b\b\b\b  2%\b\b\b\b\b  OK \n",
            "Extracting  dataset/groundtruth03/unogt170.jpg                           \b\b\b\b  2%\b\b\b\b\b  OK \n",
            "Extracting  dataset/groundtruth03/unogt190.jpg                           \b\b\b\b  2%\b\b\b\b\b  OK \n",
            "Extracting  dataset/groundtruth03/unogt191.jpg                           \b\b\b\b  2%\b\b\b\b\b  OK \n",
            "Extracting  dataset/groundtruth03/unogt192.jpg                           \b\b\b\b  3%\b\b\b\b\b  OK \n",
            "Extracting  dataset/groundtruth03/unogt193.jpg                           \b\b\b\b  3%\b\b\b\b\b  OK \n",
            "Extracting  dataset/groundtruth03/unogt194.jpg                           \b\b\b\b  3%\b\b\b\b\b  OK \n",
            "Extracting  dataset/groundtruth03/unogt195.jpg                           \b\b\b\b  3%\b\b\b\b\b  OK \n",
            "Extracting  dataset/groundtruth03/unogt196.jpg                           \b\b\b\b  3%\b\b\b\b\b  OK \n",
            "Extracting  dataset/groundtruth03/unogt197.jpg                           \b\b\b\b  3%\b\b\b\b\b  OK \n",
            "Extracting  dataset/groundtruth03/unogt198.jpg                           \b\b\b\b  3%\b\b\b\b\b  OK \n",
            "Extracting  dataset/groundtruth03/unogt199.jpg                           \b\b\b\b  3%\b\b\b\b\b  OK \n",
            "Extracting  dataset/groundtruth03/unogt200.jpg                           \b\b\b\b  3%\b\b\b\b\b  OK \n",
            "Extracting  dataset/groundtruth03/unogt220.jpg                           \b\b\b\b  3%\b\b\b\b\b  OK \n",
            "Extracting  dataset/groundtruth03/unogt221.jpg                           \b\b\b\b  3%\b\b\b\b\b  OK \n",
            "Extracting  dataset/groundtruth03/unogt222.jpg                           \b\b\b\b  3%\b\b\b\b\b  OK \n",
            "Extracting  dataset/groundtruth03/unogt223.jpg                           \b\b\b\b  3%\b\b\b\b\b  OK \n",
            "Extracting  dataset/groundtruth03/unogt224.jpg                           \b\b\b\b  3%\b\b\b\b\b  OK \n",
            "Extracting  dataset/groundtruth03/unogt225.jpg                           \b\b\b\b  3%\b\b\b\b\b  OK \n",
            "Extracting  dataset/groundtruth03/unogt226.jpg                           \b\b\b\b  3%\b\b\b\b\b  OK \n",
            "Extracting  dataset/groundtruth03/unogt227.jpg                           \b\b\b\b  3%\b\b\b\b\b  OK \n",
            "Extracting  dataset/groundtruth03/unogt228.jpg                           \b\b\b\b  3%\b\b\b\b\b  OK \n",
            "Extracting  dataset/groundtruth03/unogt229.jpg                           \b\b\b\b  3%\b\b\b\b\b  OK \n",
            "Extracting  dataset/groundtruth03/unogt230.jpg                           \b\b\b\b  3%\b\b\b\b\b  OK \n",
            "Extracting  dataset/groundtruth03/unogt90.jpg                            \b\b\b\b  3%\b\b\b\b\b  OK \n",
            "Extracting  dataset/groundtruth03/unogt91.jpg                            \b\b\b\b  3%\b\b\b\b\b  OK \n",
            "Extracting  dataset/groundtruth03/unogt92.jpg                            \b\b\b\b  3%\b\b\b\b\b  OK \n",
            "Extracting  dataset/groundtruth03/unogt93.jpg                            \b\b\b\b  3%\b\b\b\b\b  OK \n",
            "Extracting  dataset/groundtruth03/unogt94.jpg                            \b\b\b\b  3%\b\b\b\b\b  OK \n",
            "Extracting  dataset/groundtruth03/unogt95.jpg                            \b\b\b\b  3%\b\b\b\b\b  OK \n",
            "Extracting  dataset/groundtruth03/unogt96.jpg                            \b\b\b\b  3%\b\b\b\b\b  OK \n",
            "Extracting  dataset/groundtruth03/unogt97.jpg                            \b\b\b\b  3%\b\b\b\b\b  OK \n",
            "Extracting  dataset/groundtruth03/unogt98.jpg                            \b\b\b\b  3%\b\b\b\b\b  OK \n",
            "Extracting  dataset/groundtruth03/unogt99.jpg                            \b\b\b\b  3%\b\b\b\b\b  OK \n",
            "Creating    dataset/groundtruth04                                     OK\n",
            "Extracting  dataset/groundtruth04/unogt100.jpg                           \b\b\b\b  3%\b\b\b\b\b  OK \n",
            "Extracting  dataset/groundtruth04/unogt140.jpg                           \b\b\b\b  3%\b\b\b\b\b  OK \n",
            "Extracting  dataset/groundtruth04/unogt141.jpg                           \b\b\b\b  3%\b\b\b\b\b  OK \n",
            "Extracting  dataset/groundtruth04/unogt142.jpg                           \b\b\b\b  3%\b\b\b\b\b  OK \n",
            "Extracting  dataset/groundtruth04/unogt143.jpg                           \b\b\b\b  3%\b\b\b\b\b  OK \n",
            "Extracting  dataset/groundtruth04/unogt144.jpg                           \b\b\b\b  3%\b\b\b\b\b  OK \n",
            "Extracting  dataset/groundtruth04/unogt145.jpg                           \b\b\b\b  3%\b\b\b\b\b  OK \n",
            "Extracting  dataset/groundtruth04/unogt146.jpg                           \b\b\b\b  3%\b\b\b\b\b  OK \n",
            "Extracting  dataset/groundtruth04/unogt147.jpg                           \b\b\b\b  3%\b\b\b\b\b  OK \n",
            "Extracting  dataset/groundtruth04/unogt148.jpg                           \b\b\b\b  3%\b\b\b\b\b  OK \n",
            "Extracting  dataset/groundtruth04/unogt149.jpg                           \b\b\b\b  3%\b\b\b\b\b  OK \n",
            "Extracting  dataset/groundtruth04/unogt150.jpg                           \b\b\b\b  3%\b\b\b\b\b  OK \n",
            "Extracting  dataset/groundtruth04/unogt160.jpg                           \b\b\b\b  3%\b\b\b\b\b  OK \n",
            "Extracting  dataset/groundtruth04/unogt161.jpg                           \b\b\b\b  3%\b\b\b\b\b  OK \n",
            "Extracting  dataset/groundtruth04/unogt162.jpg                           \b\b\b\b  3%\b\b\b\b\b  OK \n",
            "Extracting  dataset/groundtruth04/unogt163.jpg                           \b\b\b\b  3%\b\b\b\b\b  OK \n",
            "Extracting  dataset/groundtruth04/unogt164.jpg                           \b\b\b\b  3%\b\b\b\b\b  OK \n",
            "Extracting  dataset/groundtruth04/unogt165.jpg                           \b\b\b\b  3%\b\b\b\b\b  OK \n",
            "Extracting  dataset/groundtruth04/unogt166.jpg                           \b\b\b\b  3%\b\b\b\b\b  OK \n",
            "Extracting  dataset/groundtruth04/unogt167.jpg                           \b\b\b\b  3%\b\b\b\b\b  OK \n",
            "Extracting  dataset/groundtruth04/unogt168.jpg                           \b\b\b\b  3%\b\b\b\b\b  OK \n",
            "Extracting  dataset/groundtruth04/unogt169.jpg                           \b\b\b\b  3%\b\b\b\b\b  OK \n",
            "Extracting  dataset/groundtruth04/unogt170.jpg                           \b\b\b\b  3%\b\b\b\b\b  OK \n",
            "Extracting  dataset/groundtruth04/unogt190.jpg                           \b\b\b\b  3%\b\b\b\b\b  OK \n",
            "Extracting  dataset/groundtruth04/unogt191.jpg                           \b\b\b\b  3%\b\b\b\b\b  OK \n",
            "Extracting  dataset/groundtruth04/unogt192.jpg                           \b\b\b\b  3%\b\b\b\b\b  OK \n",
            "Extracting  dataset/groundtruth04/unogt193.jpg                           \b\b\b\b  3%\b\b\b\b\b  OK \n",
            "Extracting  dataset/groundtruth04/unogt194.jpg                           \b\b\b\b  3%\b\b\b\b\b  OK \n",
            "Extracting  dataset/groundtruth04/unogt195.jpg                           \b\b\b\b  4%\b\b\b\b\b  OK \n",
            "Extracting  dataset/groundtruth04/unogt196.jpg                           \b\b\b\b  4%\b\b\b\b\b  OK \n",
            "Extracting  dataset/groundtruth04/unogt197.jpg                           \b\b\b\b  4%\b\b\b\b\b  OK \n",
            "Extracting  dataset/groundtruth04/unogt198.jpg                           \b\b\b\b  4%\b\b\b\b\b  OK \n",
            "Extracting  dataset/groundtruth04/unogt199.jpg                           \b\b\b\b  4%\b\b\b\b\b  OK \n",
            "Extracting  dataset/groundtruth04/unogt200.jpg                           \b\b\b\b  4%\b\b\b\b\b  OK \n",
            "Extracting  dataset/groundtruth04/unogt220.jpg                           \b\b\b\b  4%\b\b\b\b\b  OK \n",
            "Extracting  dataset/groundtruth04/unogt221.jpg                           \b\b\b\b  4%\b\b\b\b\b  OK \n",
            "Extracting  dataset/groundtruth04/unogt222.jpg                           \b\b\b\b  4%\b\b\b\b\b  OK \n",
            "Extracting  dataset/groundtruth04/unogt223.jpg                           \b\b\b\b  4%\b\b\b\b\b  OK \n",
            "Extracting  dataset/groundtruth04/unogt224.jpg                           \b\b\b\b  4%\b\b\b\b\b  OK \n",
            "Extracting  dataset/groundtruth04/unogt225.jpg                           \b\b\b\b  4%\b\b\b\b\b  OK \n",
            "Extracting  dataset/groundtruth04/unogt226.jpg                           \b\b\b\b  4%\b\b\b\b\b  OK \n",
            "Extracting  dataset/groundtruth04/unogt227.jpg                           \b\b\b\b  4%\b\b\b\b\b  OK \n",
            "Extracting  dataset/groundtruth04/unogt228.jpg                           \b\b\b\b  4%\b\b\b\b\b  OK \n",
            "Extracting  dataset/groundtruth04/unogt229.jpg                           \b\b\b\b  4%\b\b\b\b\b  OK \n",
            "Extracting  dataset/groundtruth04/unogt230.jpg                           \b\b\b\b  4%\b\b\b\b\b  OK \n",
            "Extracting  dataset/groundtruth04/unogt90.jpg                            \b\b\b\b  4%\b\b\b\b\b  OK \n",
            "Extracting  dataset/groundtruth04/unogt91.jpg                            \b\b\b\b  4%\b\b\b\b\b  OK \n",
            "Extracting  dataset/groundtruth04/unogt92.jpg                            \b\b\b\b  4%\b\b\b\b\b  OK \n",
            "Extracting  dataset/groundtruth04/unogt93.jpg                            \b\b\b\b  4%\b\b\b\b\b  OK \n",
            "Extracting  dataset/groundtruth04/unogt94.jpg                            \b\b\b\b  4%\b\b\b\b\b  OK \n",
            "Extracting  dataset/groundtruth04/unogt95.jpg                            \b\b\b\b  4%\b\b\b\b\b  OK \n",
            "Extracting  dataset/groundtruth04/unogt96.jpg                            \b\b\b\b  4%\b\b\b\b\b  OK \n",
            "Extracting  dataset/groundtruth04/unogt97.jpg                            \b\b\b\b  4%\b\b\b\b\b  OK \n",
            "Extracting  dataset/groundtruth04/unogt98.jpg                            \b\b\b\b  4%\b\b\b\b\b  OK \n",
            "Extracting  dataset/groundtruth04/unogt99.jpg                            \b\b\b\b  4%\b\b\b\b\b  OK \n",
            "Creating    dataset/groundtruth05                                     OK\n",
            "Extracting  dataset/groundtruth05/unogt100.jpg                           \b\b\b\b  4%\b\b\b\b\b  OK \n",
            "Extracting  dataset/groundtruth05/unogt140.jpg                           \b\b\b\b  4%\b\b\b\b\b  OK \n",
            "Extracting  dataset/groundtruth05/unogt141.jpg                           \b\b\b\b  4%\b\b\b\b\b  OK \n",
            "Extracting  dataset/groundtruth05/unogt142.jpg                           \b\b\b\b  4%\b\b\b\b\b  OK \n",
            "Extracting  dataset/groundtruth05/unogt143.jpg                           \b\b\b\b  4%\b\b\b\b\b  OK \n",
            "Extracting  dataset/groundtruth05/unogt144.jpg                           \b\b\b\b  4%\b\b\b\b\b  OK \n",
            "Extracting  dataset/groundtruth05/unogt145.jpg                           \b\b\b\b  4%\b\b\b\b\b  OK \n",
            "Extracting  dataset/groundtruth05/unogt146.jpg                           \b\b\b\b  4%\b\b\b\b\b  OK \n",
            "Extracting  dataset/groundtruth05/unogt147.jpg                           \b\b\b\b  4%\b\b\b\b\b  OK \n",
            "Extracting  dataset/groundtruth05/unogt148.jpg                           \b\b\b\b  4%\b\b\b\b\b  OK \n",
            "Extracting  dataset/groundtruth05/unogt149.jpg                           \b\b\b\b  4%\b\b\b\b\b  OK \n",
            "Extracting  dataset/groundtruth05/unogt150.jpg                           \b\b\b\b  4%\b\b\b\b\b  OK \n",
            "Extracting  dataset/groundtruth05/unogt160.jpg                           \b\b\b\b  4%\b\b\b\b\b  OK \n",
            "Extracting  dataset/groundtruth05/unogt161.jpg                           \b\b\b\b  4%\b\b\b\b\b  OK \n",
            "Extracting  dataset/groundtruth05/unogt162.jpg                           \b\b\b\b  4%\b\b\b\b\b  OK \n",
            "Extracting  dataset/groundtruth05/unogt163.jpg                           \b\b\b\b  4%\b\b\b\b\b  OK \n",
            "Extracting  dataset/groundtruth05/unogt164.jpg                           \b\b\b\b  4%\b\b\b\b\b  OK \n",
            "Extracting  dataset/groundtruth05/unogt165.jpg                           \b\b\b\b  4%\b\b\b\b\b  OK \n",
            "Extracting  dataset/groundtruth05/unogt166.jpg                           \b\b\b\b  4%\b\b\b\b\b  OK \n",
            "Extracting  dataset/groundtruth05/unogt167.jpg                           \b\b\b\b  4%\b\b\b\b\b  OK \n",
            "Extracting  dataset/groundtruth05/unogt168.jpg                           \b\b\b\b  4%\b\b\b\b\b  OK \n",
            "Extracting  dataset/groundtruth05/unogt169.jpg                           \b\b\b\b  4%\b\b\b\b\b  OK \n",
            "Extracting  dataset/groundtruth05/unogt170.jpg                           \b\b\b\b  4%\b\b\b\b\b  OK \n",
            "Extracting  dataset/groundtruth05/unogt190.jpg                           \b\b\b\b  4%\b\b\b\b\b  OK \n",
            "Extracting  dataset/groundtruth05/unogt191.jpg                           \b\b\b\b  4%\b\b\b\b\b  OK \n",
            "Extracting  dataset/groundtruth05/unogt192.jpg                           \b\b\b\b  4%\b\b\b\b\b  OK \n",
            "Extracting  dataset/groundtruth05/unogt193.jpg                           \b\b\b\b  4%\b\b\b\b\b  OK \n",
            "Extracting  dataset/groundtruth05/unogt194.jpg                           \b\b\b\b  4%\b\b\b\b\b  OK \n",
            "Extracting  dataset/groundtruth05/unogt195.jpg                           \b\b\b\b  4%\b\b\b\b\b  OK \n",
            "Extracting  dataset/groundtruth05/unogt196.jpg                           \b\b\b\b  4%\b\b\b\b\b  OK \n",
            "Extracting  dataset/groundtruth05/unogt197.jpg                           \b\b\b\b  4%\b\b\b\b\b  OK \n",
            "Extracting  dataset/groundtruth05/unogt198.jpg                           \b\b\b\b  4%\b\b\b\b\b  OK \n",
            "Extracting  dataset/groundtruth05/unogt199.jpg                           \b\b\b\b  4%\b\b\b\b\b  OK \n",
            "Extracting  dataset/groundtruth05/unogt200.jpg                           \b\b\b\b  5%\b\b\b\b\b  OK \n",
            "Extracting  dataset/groundtruth05/unogt220.jpg                           \b\b\b\b  5%\b\b\b\b\b  OK \n",
            "Extracting  dataset/groundtruth05/unogt221.jpg                           \b\b\b\b  5%\b\b\b\b\b  OK \n",
            "Extracting  dataset/groundtruth05/unogt222.jpg                           \b\b\b\b  5%\b\b\b\b\b  OK \n",
            "Extracting  dataset/groundtruth05/unogt223.jpg                           \b\b\b\b  5%\b\b\b\b\b  OK \n",
            "Extracting  dataset/groundtruth05/unogt224.jpg                           \b\b\b\b  5%\b\b\b\b\b  OK \n",
            "Extracting  dataset/groundtruth05/unogt225.jpg                           \b\b\b\b  5%\b\b\b\b\b  OK \n",
            "Extracting  dataset/groundtruth05/unogt226.jpg                           \b\b\b\b  5%\b\b\b\b\b  OK \n",
            "Extracting  dataset/groundtruth05/unogt227.jpg                           \b\b\b\b  5%\b\b\b\b\b  OK \n",
            "Extracting  dataset/groundtruth05/unogt228.jpg                           \b\b\b\b  5%\b\b\b\b\b  OK \n",
            "Extracting  dataset/groundtruth05/unogt229.jpg                           \b\b\b\b  5%\b\b\b\b\b  OK \n",
            "Extracting  dataset/groundtruth05/unogt230.jpg                           \b\b\b\b  5%\b\b\b\b\b  OK \n",
            "Extracting  dataset/groundtruth05/unogt90.jpg                            \b\b\b\b  5%\b\b\b\b\b  OK \n",
            "Extracting  dataset/groundtruth05/unogt91.jpg                            \b\b\b\b  5%\b\b\b\b\b  OK \n",
            "Extracting  dataset/groundtruth05/unogt92.jpg                            \b\b\b\b  5%\b\b\b\b\b  OK \n",
            "Extracting  dataset/groundtruth05/unogt93.jpg                            \b\b\b\b  5%\b\b\b\b\b  OK \n",
            "Extracting  dataset/groundtruth05/unogt94.jpg                            \b\b\b\b  5%\b\b\b\b\b  OK \n",
            "Extracting  dataset/groundtruth05/unogt95.jpg                            \b\b\b\b  5%\b\b\b\b\b  OK \n",
            "Extracting  dataset/groundtruth05/unogt96.jpg                            \b\b\b\b  5%\b\b\b\b\b  OK \n",
            "Extracting  dataset/groundtruth05/unogt97.jpg                            \b\b\b\b  5%\b\b\b\b\b  OK \n",
            "Extracting  dataset/groundtruth05/unogt98.jpg                            \b\b\b\b  5%\b\b\b\b\b  OK \n",
            "Extracting  dataset/groundtruth05/unogt99.jpg                            \b\b\b\b  5%\b\b\b\b\b  OK \n",
            "Creating    dataset/groundtruth06                                     OK\n",
            "Extracting  dataset/groundtruth06/unogt100.jpg                           \b\b\b\b  5%\b\b\b\b\b  OK \n",
            "Extracting  dataset/groundtruth06/unogt140.jpg                           \b\b\b\b  5%\b\b\b\b\b  OK \n",
            "Extracting  dataset/groundtruth06/unogt141.jpg                           \b\b\b\b  5%\b\b\b\b\b  OK \n",
            "Extracting  dataset/groundtruth06/unogt142.jpg                           \b\b\b\b  5%\b\b\b\b\b  OK \n",
            "Extracting  dataset/groundtruth06/unogt143.jpg                           \b\b\b\b  5%\b\b\b\b\b  OK \n",
            "Extracting  dataset/groundtruth06/unogt144.jpg                           \b\b\b\b  5%\b\b\b\b\b  OK \n",
            "Extracting  dataset/groundtruth06/unogt145.jpg                           \b\b\b\b  5%\b\b\b\b\b  OK \n",
            "Extracting  dataset/groundtruth06/unogt146.jpg                           \b\b\b\b  5%\b\b\b\b\b  OK \n",
            "Extracting  dataset/groundtruth06/unogt147.jpg                           \b\b\b\b  5%\b\b\b\b\b  OK \n",
            "Extracting  dataset/groundtruth06/unogt148.jpg                           \b\b\b\b  5%\b\b\b\b\b  OK \n",
            "Extracting  dataset/groundtruth06/unogt149.jpg                           \b\b\b\b  5%\b\b\b\b\b  OK \n",
            "Extracting  dataset/groundtruth06/unogt150.jpg                           \b\b\b\b  5%\b\b\b\b\b  OK \n",
            "Extracting  dataset/groundtruth06/unogt160.jpg                           \b\b\b\b  5%\b\b\b\b\b  OK \n",
            "Extracting  dataset/groundtruth06/unogt161.jpg                           \b\b\b\b  5%\b\b\b\b\b  OK \n",
            "Extracting  dataset/groundtruth06/unogt162.jpg                           \b\b\b\b  5%\b\b\b\b\b  OK \n",
            "Extracting  dataset/groundtruth06/unogt163.jpg                           \b\b\b\b  5%\b\b\b\b\b  OK \n",
            "Extracting  dataset/groundtruth06/unogt164.jpg                           \b\b\b\b  5%\b\b\b\b\b  OK \n",
            "Extracting  dataset/groundtruth06/unogt165.jpg                           \b\b\b\b  5%\b\b\b\b\b  OK \n",
            "Extracting  dataset/groundtruth06/unogt166.jpg                           \b\b\b\b  5%\b\b\b\b\b  OK \n",
            "Extracting  dataset/groundtruth06/unogt167.jpg                           \b\b\b\b  5%\b\b\b\b\b  OK \n",
            "Extracting  dataset/groundtruth06/unogt168.jpg                           \b\b\b\b  5%\b\b\b\b\b  OK \n",
            "Extracting  dataset/groundtruth06/unogt169.jpg                           \b\b\b\b  5%\b\b\b\b\b  OK \n",
            "Extracting  dataset/groundtruth06/unogt170.jpg                           \b\b\b\b  5%\b\b\b\b\b  OK \n",
            "Extracting  dataset/groundtruth06/unogt190.jpg                           \b\b\b\b  5%\b\b\b\b\b  OK \n",
            "Extracting  dataset/groundtruth06/unogt191.jpg                           \b\b\b\b  5%\b\b\b\b\b  OK \n",
            "Extracting  dataset/groundtruth06/unogt192.jpg                           \b\b\b\b  5%\b\b\b\b\b  OK \n",
            "Extracting  dataset/groundtruth06/unogt193.jpg                           \b\b\b\b  5%\b\b\b\b\b  OK \n",
            "Extracting  dataset/groundtruth06/unogt194.jpg                           \b\b\b\b  5%\b\b\b\b\b  OK \n",
            "Extracting  dataset/groundtruth06/unogt195.jpg                           \b\b\b\b  5%\b\b\b\b\b  OK \n",
            "Extracting  dataset/groundtruth06/unogt196.jpg                           \b\b\b\b  5%\b\b\b\b\b  OK \n",
            "Extracting  dataset/groundtruth06/unogt197.jpg                           \b\b\b\b  5%\b\b\b\b\b  OK \n",
            "Extracting  dataset/groundtruth06/unogt198.jpg                           \b\b\b\b  5%\b\b\b\b\b  OK \n",
            "Extracting  dataset/groundtruth06/unogt199.jpg                           \b\b\b\b  5%\b\b\b\b\b  OK \n",
            "Extracting  dataset/groundtruth06/unogt200.jpg                           \b\b\b\b  5%\b\b\b\b\b  OK \n",
            "Extracting  dataset/groundtruth06/unogt220.jpg                           \b\b\b\b  5%\b\b\b\b\b  OK \n",
            "Extracting  dataset/groundtruth06/unogt221.jpg                           \b\b\b\b  5%\b\b\b\b\b  OK \n",
            "Extracting  dataset/groundtruth06/unogt222.jpg                           \b\b\b\b  5%\b\b\b\b\b  OK \n",
            "Extracting  dataset/groundtruth06/unogt223.jpg                           \b\b\b\b  5%\b\b\b\b\b  OK \n",
            "Extracting  dataset/groundtruth06/unogt224.jpg                           \b\b\b\b  5%\b\b\b\b\b  OK \n",
            "Extracting  dataset/groundtruth06/unogt225.jpg                           \b\b\b\b  6%\b\b\b\b\b  OK \n",
            "Extracting  dataset/groundtruth06/unogt226.jpg                           \b\b\b\b  6%\b\b\b\b\b  OK \n",
            "Extracting  dataset/groundtruth06/unogt227.jpg                           \b\b\b\b  6%\b\b\b\b\b  OK \n",
            "Extracting  dataset/groundtruth06/unogt228.jpg                           \b\b\b\b  6%\b\b\b\b\b  OK \n",
            "Extracting  dataset/groundtruth06/unogt229.jpg                           \b\b\b\b  6%\b\b\b\b\b  OK \n",
            "Extracting  dataset/groundtruth06/unogt230.jpg                           \b\b\b\b  6%\b\b\b\b\b  OK \n",
            "Extracting  dataset/groundtruth06/unogt90.jpg                            \b\b\b\b  6%\b\b\b\b\b  OK \n",
            "Extracting  dataset/groundtruth06/unogt91.jpg                            \b\b\b\b  6%\b\b\b\b\b  OK \n",
            "Extracting  dataset/groundtruth06/unogt92.jpg                            \b\b\b\b  6%\b\b\b\b\b  OK \n",
            "Extracting  dataset/groundtruth06/unogt93.jpg                            \b\b\b\b  6%\b\b\b\b\b  OK \n",
            "Extracting  dataset/groundtruth06/unogt94.jpg                            \b\b\b\b  6%\b\b\b\b\b  OK \n",
            "Extracting  dataset/groundtruth06/unogt95.jpg                            \b\b\b\b  6%\b\b\b\b\b  OK \n",
            "Extracting  dataset/groundtruth06/unogt96.jpg                            \b\b\b\b  6%\b\b\b\b\b  OK \n",
            "Extracting  dataset/groundtruth06/unogt97.jpg                            \b\b\b\b  6%\b\b\b\b\b  OK \n",
            "Extracting  dataset/groundtruth06/unogt98.jpg                            \b\b\b\b  6%\b\b\b\b\b  OK \n",
            "Extracting  dataset/groundtruth06/unogt99.jpg                            \b\b\b\b  6%\b\b\b\b\b  OK \n",
            "Creating    dataset/groundtruth07                                     OK\n",
            "Extracting  dataset/groundtruth07/unogt100.jpg                           \b\b\b\b  6%\b\b\b\b\b  OK \n",
            "Extracting  dataset/groundtruth07/unogt140.jpg                           \b\b\b\b  6%\b\b\b\b\b  OK \n",
            "Extracting  dataset/groundtruth07/unogt141.jpg                           \b\b\b\b  6%\b\b\b\b\b  OK \n",
            "Extracting  dataset/groundtruth07/unogt142.jpg                           \b\b\b\b  6%\b\b\b\b\b  OK \n",
            "Extracting  dataset/groundtruth07/unogt143.jpg                           \b\b\b\b  6%\b\b\b\b\b  OK \n",
            "Extracting  dataset/groundtruth07/unogt144.jpg                           \b\b\b\b  6%\b\b\b\b\b  OK \n",
            "Extracting  dataset/groundtruth07/unogt145.jpg                           \b\b\b\b  6%\b\b\b\b\b  OK \n",
            "Extracting  dataset/groundtruth07/unogt146.jpg                           \b\b\b\b  6%\b\b\b\b\b  OK \n",
            "Extracting  dataset/groundtruth07/unogt147.jpg                           \b\b\b\b  6%\b\b\b\b\b  OK \n",
            "Extracting  dataset/groundtruth07/unogt148.jpg                           \b\b\b\b  6%\b\b\b\b\b  OK \n",
            "Extracting  dataset/groundtruth07/unogt149.jpg                           \b\b\b\b  6%\b\b\b\b\b  OK \n",
            "Extracting  dataset/groundtruth07/unogt150.jpg                           \b\b\b\b  6%\b\b\b\b\b  OK \n",
            "Extracting  dataset/groundtruth07/unogt160.jpg                           \b\b\b\b  6%\b\b\b\b\b  OK \n",
            "Extracting  dataset/groundtruth07/unogt161.jpg                           \b\b\b\b  6%\b\b\b\b\b  OK \n",
            "Extracting  dataset/groundtruth07/unogt162.jpg                           \b\b\b\b  6%\b\b\b\b\b  OK \n",
            "Extracting  dataset/groundtruth07/unogt163.jpg                           \b\b\b\b  6%\b\b\b\b\b  OK \n",
            "Extracting  dataset/groundtruth07/unogt164.jpg                           \b\b\b\b  6%\b\b\b\b\b  OK \n",
            "Extracting  dataset/groundtruth07/unogt165.jpg                           \b\b\b\b  6%\b\b\b\b\b  OK \n",
            "Extracting  dataset/groundtruth07/unogt166.jpg                           \b\b\b\b  6%\b\b\b\b\b  OK \n",
            "Extracting  dataset/groundtruth07/unogt167.jpg                           \b\b\b\b  6%\b\b\b\b\b  OK \n",
            "Extracting  dataset/groundtruth07/unogt168.jpg                           \b\b\b\b  6%\b\b\b\b\b  OK \n",
            "Extracting  dataset/groundtruth07/unogt169.jpg                           \b\b\b\b  6%\b\b\b\b\b  OK \n",
            "Extracting  dataset/groundtruth07/unogt170.jpg                           \b\b\b\b  6%\b\b\b\b\b  OK \n",
            "Extracting  dataset/groundtruth07/unogt190.jpg                           \b\b\b\b  6%\b\b\b\b\b  OK \n",
            "Extracting  dataset/groundtruth07/unogt191.jpg                           \b\b\b\b  6%\b\b\b\b\b  OK \n",
            "Extracting  dataset/groundtruth07/unogt192.jpg                           \b\b\b\b  6%\b\b\b\b\b  OK \n",
            "Extracting  dataset/groundtruth07/unogt193.jpg                           \b\b\b\b  6%\b\b\b\b\b  OK \n",
            "Extracting  dataset/groundtruth07/unogt194.jpg                           \b\b\b\b  6%\b\b\b\b\b  OK \n",
            "Extracting  dataset/groundtruth07/unogt195.jpg                           \b\b\b\b  6%\b\b\b\b\b  OK \n",
            "Extracting  dataset/groundtruth07/unogt196.jpg                           \b\b\b\b  6%\b\b\b\b\b  OK \n",
            "Extracting  dataset/groundtruth07/unogt197.jpg                           \b\b\b\b  6%\b\b\b\b\b  OK \n",
            "Extracting  dataset/groundtruth07/unogt198.jpg                           \b\b\b\b  6%\b\b\b\b\b  OK \n",
            "Extracting  dataset/groundtruth07/unogt199.jpg                           \b\b\b\b  7%\b\b\b\b\b  OK \n",
            "Extracting  dataset/groundtruth07/unogt200.jpg                           \b\b\b\b  7%\b\b\b\b\b  OK \n",
            "Extracting  dataset/groundtruth07/unogt220.jpg                           \b\b\b\b  7%\b\b\b\b\b  OK \n",
            "Extracting  dataset/groundtruth07/unogt221.jpg                           \b\b\b\b  7%\b\b\b\b\b  OK \n",
            "Extracting  dataset/groundtruth07/unogt222.jpg                           \b\b\b\b  7%\b\b\b\b\b  OK \n",
            "Extracting  dataset/groundtruth07/unogt223.jpg                           \b\b\b\b  7%\b\b\b\b\b  OK \n",
            "Extracting  dataset/groundtruth07/unogt224.jpg                           \b\b\b\b  7%\b\b\b\b\b  OK \n",
            "Extracting  dataset/groundtruth07/unogt225.jpg                           \b\b\b\b  7%\b\b\b\b\b  OK \n",
            "Extracting  dataset/groundtruth07/unogt226.jpg                           \b\b\b\b  7%\b\b\b\b\b  OK \n",
            "Extracting  dataset/groundtruth07/unogt227.jpg                           \b\b\b\b  7%\b\b\b\b\b  OK \n",
            "Extracting  dataset/groundtruth07/unogt228.jpg                           \b\b\b\b  7%\b\b\b\b\b  OK \n",
            "Extracting  dataset/groundtruth07/unogt229.jpg                           \b\b\b\b  7%\b\b\b\b\b  OK \n",
            "Extracting  dataset/groundtruth07/unogt230.jpg                           \b\b\b\b  7%\b\b\b\b\b  OK \n",
            "Extracting  dataset/groundtruth07/unogt90.jpg                            \b\b\b\b  7%\b\b\b\b\b  OK \n",
            "Extracting  dataset/groundtruth07/unogt91.jpg                            \b\b\b\b  7%\b\b\b\b\b  OK \n",
            "Extracting  dataset/groundtruth07/unogt92.jpg                            \b\b\b\b  7%\b\b\b\b\b  OK \n",
            "Extracting  dataset/groundtruth07/unogt93.jpg                            \b\b\b\b  7%\b\b\b\b\b  OK \n",
            "Extracting  dataset/groundtruth07/unogt94.jpg                            \b\b\b\b  7%\b\b\b\b\b  OK \n",
            "Extracting  dataset/groundtruth07/unogt95.jpg                            \b\b\b\b  7%\b\b\b\b\b  OK \n",
            "Extracting  dataset/groundtruth07/unogt96.jpg                            \b\b\b\b  7%\b\b\b\b\b  OK \n",
            "Extracting  dataset/groundtruth07/unogt97.jpg                            \b\b\b\b  7%\b\b\b\b\b  OK \n",
            "Extracting  dataset/groundtruth07/unogt98.jpg                            \b\b\b\b  7%\b\b\b\b\b  OK \n",
            "Extracting  dataset/groundtruth07/unogt99.jpg                            \b\b\b\b  7%\b\b\b\b\b  OK \n",
            "Creating    dataset/groundtruth08                                     OK\n",
            "Extracting  dataset/groundtruth08/unogt100.jpg                           \b\b\b\b  7%\b\b\b\b\b  OK \n",
            "Extracting  dataset/groundtruth08/unogt140.jpg                           \b\b\b\b  7%\b\b\b\b\b  OK \n",
            "Extracting  dataset/groundtruth08/unogt141.jpg                           \b\b\b\b  7%\b\b\b\b\b  OK \n",
            "Extracting  dataset/groundtruth08/unogt142.jpg                           \b\b\b\b  7%\b\b\b\b\b  OK \n",
            "Extracting  dataset/groundtruth08/unogt143.jpg                           \b\b\b\b  7%\b\b\b\b\b  OK \n",
            "Extracting  dataset/groundtruth08/unogt144.jpg                           \b\b\b\b  7%\b\b\b\b\b  OK \n",
            "Extracting  dataset/groundtruth08/unogt145.jpg                           \b\b\b\b  7%\b\b\b\b\b  OK \n",
            "Extracting  dataset/groundtruth08/unogt146.jpg                           \b\b\b\b  7%\b\b\b\b\b  OK \n",
            "Extracting  dataset/groundtruth08/unogt147.jpg                           \b\b\b\b  7%\b\b\b\b\b  OK \n",
            "Extracting  dataset/groundtruth08/unogt148.jpg                           \b\b\b\b  7%\b\b\b\b\b  OK \n",
            "Extracting  dataset/groundtruth08/unogt149.jpg                           \b\b\b\b  7%\b\b\b\b\b  OK \n",
            "Extracting  dataset/groundtruth08/unogt150.jpg                           \b\b\b\b  7%\b\b\b\b\b  OK \n",
            "Extracting  dataset/groundtruth08/unogt160.jpg                           \b\b\b\b  7%\b\b\b\b\b  OK \n",
            "Extracting  dataset/groundtruth08/unogt161.jpg                           \b\b\b\b  7%\b\b\b\b\b  OK \n",
            "Extracting  dataset/groundtruth08/unogt162.jpg                           \b\b\b\b  7%\b\b\b\b\b  OK \n",
            "Extracting  dataset/groundtruth08/unogt163.jpg                           \b\b\b\b  7%\b\b\b\b\b  OK \n",
            "Extracting  dataset/groundtruth08/unogt164.jpg                           \b\b\b\b  7%\b\b\b\b\b  OK \n",
            "Extracting  dataset/groundtruth08/unogt165.jpg                           \b\b\b\b  7%\b\b\b\b\b  OK \n",
            "Extracting  dataset/groundtruth08/unogt166.jpg                           \b\b\b\b  7%\b\b\b\b\b  OK \n",
            "Extracting  dataset/groundtruth08/unogt167.jpg                           \b\b\b\b  7%\b\b\b\b\b  OK \n",
            "Extracting  dataset/groundtruth08/unogt168.jpg                           \b\b\b\b  7%\b\b\b\b\b  OK \n",
            "Extracting  dataset/groundtruth08/unogt169.jpg                           \b\b\b\b  7%\b\b\b\b\b  OK \n",
            "Extracting  dataset/groundtruth08/unogt170.jpg                           \b\b\b\b  7%\b\b\b\b\b  OK \n",
            "Extracting  dataset/groundtruth08/unogt190.jpg                           \b\b\b\b  7%\b\b\b\b\b  OK \n",
            "Extracting  dataset/groundtruth08/unogt191.jpg                           \b\b\b\b  7%\b\b\b\b\b  OK \n",
            "Extracting  dataset/groundtruth08/unogt192.jpg                           \b\b\b\b  7%\b\b\b\b\b  OK \n",
            "Extracting  dataset/groundtruth08/unogt193.jpg                           \b\b\b\b  7%\b\b\b\b\b  OK \n",
            "Extracting  dataset/groundtruth08/unogt194.jpg                           \b\b\b\b  7%\b\b\b\b\b  OK \n",
            "Extracting  dataset/groundtruth08/unogt195.jpg                           \b\b\b\b  7%\b\b\b\b\b  OK \n",
            "Extracting  dataset/groundtruth08/unogt196.jpg                           \b\b\b\b  7%\b\b\b\b\b  OK \n",
            "Extracting  dataset/groundtruth08/unogt197.jpg                           \b\b\b\b  7%\b\b\b\b\b  OK \n",
            "Extracting  dataset/groundtruth08/unogt198.jpg                           \b\b\b\b  7%\b\b\b\b\b  OK \n",
            "Extracting  dataset/groundtruth08/unogt199.jpg                           \b\b\b\b  7%\b\b\b\b\b  OK \n",
            "Extracting  dataset/groundtruth08/unogt200.jpg                           \b\b\b\b  7%\b\b\b\b\b  OK \n",
            "Extracting  dataset/groundtruth08/unogt220.jpg                           \b\b\b\b  7%\b\b\b\b\b  OK \n",
            "Extracting  dataset/groundtruth08/unogt221.jpg                           \b\b\b\b  7%\b\b\b\b\b  OK \n",
            "Extracting  dataset/groundtruth08/unogt222.jpg                           \b\b\b\b  7%\b\b\b\b\b  OK \n",
            "Extracting  dataset/groundtruth08/unogt223.jpg                           \b\b\b\b  7%\b\b\b\b\b  OK \n",
            "Extracting  dataset/groundtruth08/unogt224.jpg                           \b\b\b\b  7%\b\b\b\b\b  OK \n",
            "Extracting  dataset/groundtruth08/unogt225.jpg                           \b\b\b\b  7%\b\b\b\b\b  OK \n",
            "Extracting  dataset/groundtruth08/unogt226.jpg                           \b\b\b\b  7%\b\b\b\b\b  OK \n",
            "Extracting  dataset/groundtruth08/unogt227.jpg                           \b\b\b\b  7%\b\b\b\b\b  OK \n",
            "Extracting  dataset/groundtruth08/unogt228.jpg                           \b\b\b\b  7%\b\b\b\b\b  OK \n",
            "Extracting  dataset/groundtruth08/unogt229.jpg                           \b\b\b\b  7%\b\b\b\b\b  OK \n",
            "Extracting  dataset/groundtruth08/unogt230.jpg                           \b\b\b\b  8%\b\b\b\b\b  OK \n",
            "Extracting  dataset/groundtruth08/unogt90.jpg                            \b\b\b\b  8%\b\b\b\b\b  OK \n",
            "Extracting  dataset/groundtruth08/unogt91.jpg                            \b\b\b\b  8%\b\b\b\b\b  OK \n",
            "Extracting  dataset/groundtruth08/unogt92.jpg                            \b\b\b\b  8%\b\b\b\b\b  OK \n",
            "Extracting  dataset/groundtruth08/unogt93.jpg                            \b\b\b\b  8%\b\b\b\b\b  OK \n",
            "Extracting  dataset/groundtruth08/unogt94.jpg                            \b\b\b\b  8%\b\b\b\b\b  OK \n",
            "Extracting  dataset/groundtruth08/unogt95.jpg                            \b\b\b\b  8%\b\b\b\b\b  OK \n",
            "Extracting  dataset/groundtruth08/unogt96.jpg                            \b\b\b\b  8%\b\b\b\b\b  OK \n",
            "Extracting  dataset/groundtruth08/unogt97.jpg                            \b\b\b\b  8%\b\b\b\b\b  OK \n",
            "Extracting  dataset/groundtruth08/unogt98.jpg                            \b\b\b\b  8%\b\b\b\b\b  OK \n",
            "Extracting  dataset/groundtruth08/unogt99.jpg                            \b\b\b\b  8%\b\b\b\b\b  OK \n",
            "Creating    dataset/groundtruth09                                     OK\n",
            "Extracting  dataset/groundtruth09/unogt100.jpg                           \b\b\b\b  8%\b\b\b\b\b  OK \n",
            "Extracting  dataset/groundtruth09/unogt140.jpg                           \b\b\b\b  8%\b\b\b\b\b  OK \n",
            "Extracting  dataset/groundtruth09/unogt141.jpg                           \b\b\b\b  8%\b\b\b\b\b  OK \n",
            "Extracting  dataset/groundtruth09/unogt142.jpg                           \b\b\b\b  8%\b\b\b\b\b  OK \n",
            "Extracting  dataset/groundtruth09/unogt143.jpg                           \b\b\b\b  8%\b\b\b\b\b  OK \n",
            "Extracting  dataset/groundtruth09/unogt144.jpg                           \b\b\b\b  8%\b\b\b\b\b  OK \n",
            "Extracting  dataset/groundtruth09/unogt145.jpg                           \b\b\b\b  8%\b\b\b\b\b  OK \n",
            "Extracting  dataset/groundtruth09/unogt146.jpg                           \b\b\b\b  8%\b\b\b\b\b  OK \n",
            "Extracting  dataset/groundtruth09/unogt147.jpg                           \b\b\b\b  8%\b\b\b\b\b  OK \n",
            "Extracting  dataset/groundtruth09/unogt148.jpg                           \b\b\b\b  8%\b\b\b\b\b  OK \n",
            "Extracting  dataset/groundtruth09/unogt149.jpg                           \b\b\b\b  8%\b\b\b\b\b  OK \n",
            "Extracting  dataset/groundtruth09/unogt150.jpg                           \b\b\b\b  8%\b\b\b\b\b  OK \n",
            "Extracting  dataset/groundtruth09/unogt160.jpg                           \b\b\b\b  8%\b\b\b\b\b  OK \n",
            "Extracting  dataset/groundtruth09/unogt161.jpg                           \b\b\b\b  8%\b\b\b\b\b  OK \n",
            "Extracting  dataset/groundtruth09/unogt162.jpg                           \b\b\b\b  8%\b\b\b\b\b  OK \n",
            "Extracting  dataset/groundtruth09/unogt163.jpg                           \b\b\b\b  8%\b\b\b\b\b  OK \n",
            "Extracting  dataset/groundtruth09/unogt164.jpg                           \b\b\b\b  8%\b\b\b\b\b  OK \n",
            "Extracting  dataset/groundtruth09/unogt165.jpg                           \b\b\b\b  8%\b\b\b\b\b  OK \n",
            "Extracting  dataset/groundtruth09/unogt166.jpg                           \b\b\b\b  8%\b\b\b\b\b  OK \n",
            "Extracting  dataset/groundtruth09/unogt167.jpg                           \b\b\b\b  8%\b\b\b\b\b  OK \n",
            "Extracting  dataset/groundtruth09/unogt168.jpg                           \b\b\b\b  8%\b\b\b\b\b  OK \n",
            "Extracting  dataset/groundtruth09/unogt169.jpg                           \b\b\b\b  8%\b\b\b\b\b  OK \n",
            "Extracting  dataset/groundtruth09/unogt170.jpg                           \b\b\b\b  8%\b\b\b\b\b  OK \n",
            "Extracting  dataset/groundtruth09/unogt190.jpg                           \b\b\b\b  8%\b\b\b\b\b  OK \n",
            "Extracting  dataset/groundtruth09/unogt191.jpg                           \b\b\b\b  8%\b\b\b\b\b  OK \n",
            "Extracting  dataset/groundtruth09/unogt192.jpg                           \b\b\b\b  8%\b\b\b\b\b  OK \n",
            "Extracting  dataset/groundtruth09/unogt193.jpg                           \b\b\b\b  8%\b\b\b\b\b  OK \n",
            "Extracting  dataset/groundtruth09/unogt194.jpg                           \b\b\b\b  8%\b\b\b\b\b  OK \n",
            "Extracting  dataset/groundtruth09/unogt195.jpg                           \b\b\b\b  8%\b\b\b\b\b  OK \n",
            "Extracting  dataset/groundtruth09/unogt196.jpg                           \b\b\b\b  8%\b\b\b\b\b  OK \n",
            "Extracting  dataset/groundtruth09/unogt197.jpg                           \b\b\b\b  8%\b\b\b\b\b  OK \n",
            "Extracting  dataset/groundtruth09/unogt198.jpg                           \b\b\b\b  8%\b\b\b\b\b  OK \n",
            "Extracting  dataset/groundtruth09/unogt199.jpg                           \b\b\b\b  8%\b\b\b\b\b  OK \n",
            "Extracting  dataset/groundtruth09/unogt200.jpg                           \b\b\b\b  8%\b\b\b\b\b  OK \n",
            "Extracting  dataset/groundtruth09/unogt220.jpg                           \b\b\b\b  8%\b\b\b\b\b  OK \n",
            "Extracting  dataset/groundtruth09/unogt221.jpg                           \b\b\b\b  8%\b\b\b\b\b  OK \n",
            "Extracting  dataset/groundtruth09/unogt222.jpg                           \b\b\b\b  8%\b\b\b\b\b  OK \n",
            "Extracting  dataset/groundtruth09/unogt223.jpg                           \b\b\b\b  8%\b\b\b\b\b  OK \n",
            "Extracting  dataset/groundtruth09/unogt224.jpg                           \b\b\b\b  8%\b\b\b\b\b  OK \n",
            "Extracting  dataset/groundtruth09/unogt225.jpg                           \b\b\b\b  8%\b\b\b\b\b  OK \n",
            "Extracting  dataset/groundtruth09/unogt226.jpg                           \b\b\b\b  8%\b\b\b\b\b  OK \n",
            "Extracting  dataset/groundtruth09/unogt227.jpg                           \b\b\b\b  9%\b\b\b\b\b  OK \n",
            "Extracting  dataset/groundtruth09/unogt228.jpg                           \b\b\b\b  9%\b\b\b\b\b  OK \n",
            "Extracting  dataset/groundtruth09/unogt229.jpg                           \b\b\b\b  9%\b\b\b\b\b  OK \n",
            "Extracting  dataset/groundtruth09/unogt230.jpg                           \b\b\b\b  9%\b\b\b\b\b  OK \n",
            "Extracting  dataset/groundtruth09/unogt90.jpg                            \b\b\b\b  9%\b\b\b\b\b  OK \n",
            "Extracting  dataset/groundtruth09/unogt91.jpg                            \b\b\b\b  9%\b\b\b\b\b  OK \n",
            "Extracting  dataset/groundtruth09/unogt92.jpg                            \b\b\b\b  9%\b\b\b\b\b  OK \n",
            "Extracting  dataset/groundtruth09/unogt93.jpg                            \b\b\b\b  9%\b\b\b\b\b  OK \n",
            "Extracting  dataset/groundtruth09/unogt94.jpg                            \b\b\b\b  9%\b\b\b\b\b  OK \n",
            "Extracting  dataset/groundtruth09/unogt95.jpg                            \b\b\b\b  9%\b\b\b\b\b  OK \n",
            "Extracting  dataset/groundtruth09/unogt96.jpg                            \b\b\b\b  9%\b\b\b\b\b  OK \n",
            "Extracting  dataset/groundtruth09/unogt97.jpg                            \b\b\b\b  9%\b\b\b\b\b  OK \n",
            "Extracting  dataset/groundtruth09/unogt98.jpg                            \b\b\b\b  9%\b\b\b\b\b  OK \n",
            "Extracting  dataset/groundtruth09/unogt99.jpg                            \b\b\b\b  9%\b\b\b\b\b  OK \n",
            "Creating    dataset/groundtruth10                                     OK\n",
            "Extracting  dataset/groundtruth10/unogt100.jpg                           \b\b\b\b  9%\b\b\b\b\b  OK \n",
            "Extracting  dataset/groundtruth10/unogt140.jpg                           \b\b\b\b  9%\b\b\b\b\b  OK \n",
            "Extracting  dataset/groundtruth10/unogt141.jpg                           \b\b\b\b  9%\b\b\b\b\b  OK \n",
            "Extracting  dataset/groundtruth10/unogt142.jpg                           \b\b\b\b  9%\b\b\b\b\b  OK \n",
            "Extracting  dataset/groundtruth10/unogt143.jpg                           \b\b\b\b  9%\b\b\b\b\b  OK \n",
            "Extracting  dataset/groundtruth10/unogt144.jpg                           \b\b\b\b  9%\b\b\b\b\b  OK \n",
            "Extracting  dataset/groundtruth10/unogt145.jpg                           \b\b\b\b  9%\b\b\b\b\b  OK \n",
            "Extracting  dataset/groundtruth10/unogt146.jpg                           \b\b\b\b  9%\b\b\b\b\b  OK \n",
            "Extracting  dataset/groundtruth10/unogt147.jpg                           \b\b\b\b  9%\b\b\b\b\b  OK \n",
            "Extracting  dataset/groundtruth10/unogt148.jpg                           \b\b\b\b  9%\b\b\b\b\b  OK \n",
            "Extracting  dataset/groundtruth10/unogt149.jpg                           \b\b\b\b  9%\b\b\b\b\b  OK \n",
            "Extracting  dataset/groundtruth10/unogt150.jpg                           \b\b\b\b  9%\b\b\b\b\b  OK \n",
            "Extracting  dataset/groundtruth10/unogt160.jpg                           \b\b\b\b  9%\b\b\b\b\b  OK \n",
            "Extracting  dataset/groundtruth10/unogt161.jpg                           \b\b\b\b  9%\b\b\b\b\b  OK \n",
            "Extracting  dataset/groundtruth10/unogt162.jpg                           \b\b\b\b  9%\b\b\b\b\b  OK \n",
            "Extracting  dataset/groundtruth10/unogt163.jpg                           \b\b\b\b  9%\b\b\b\b\b  OK \n",
            "Extracting  dataset/groundtruth10/unogt164.jpg                           \b\b\b\b  9%\b\b\b\b\b  OK \n",
            "Extracting  dataset/groundtruth10/unogt165.jpg                           \b\b\b\b  9%\b\b\b\b\b  OK \n",
            "Extracting  dataset/groundtruth10/unogt166.jpg                           \b\b\b\b  9%\b\b\b\b\b  OK \n",
            "Extracting  dataset/groundtruth10/unogt167.jpg                           \b\b\b\b  9%\b\b\b\b\b  OK \n",
            "Extracting  dataset/groundtruth10/unogt168.jpg                           \b\b\b\b  9%\b\b\b\b\b  OK \n",
            "Extracting  dataset/groundtruth10/unogt169.jpg                           \b\b\b\b  9%\b\b\b\b\b  OK \n",
            "Extracting  dataset/groundtruth10/unogt170.jpg                           \b\b\b\b  9%\b\b\b\b\b  OK \n",
            "Extracting  dataset/groundtruth10/unogt190.jpg                           \b\b\b\b  9%\b\b\b\b\b  OK \n",
            "Extracting  dataset/groundtruth10/unogt191.jpg                           \b\b\b\b  9%\b\b\b\b\b  OK \n",
            "Extracting  dataset/groundtruth10/unogt192.jpg                           \b\b\b\b  9%\b\b\b\b\b  OK \n",
            "Extracting  dataset/groundtruth10/unogt193.jpg                           \b\b\b\b  9%\b\b\b\b\b  OK \n",
            "Extracting  dataset/groundtruth10/unogt194.jpg                           \b\b\b\b  9%\b\b\b\b\b  OK \n",
            "Extracting  dataset/groundtruth10/unogt195.jpg                           \b\b\b\b  9%\b\b\b\b\b  OK \n",
            "Extracting  dataset/groundtruth10/unogt196.jpg                           \b\b\b\b  9%\b\b\b\b\b  OK \n",
            "Extracting  dataset/groundtruth10/unogt197.jpg                           \b\b\b\b  9%\b\b\b\b\b  OK \n",
            "Extracting  dataset/groundtruth10/unogt198.jpg                           \b\b\b\b  9%\b\b\b\b\b  OK \n",
            "Extracting  dataset/groundtruth10/unogt199.jpg                           \b\b\b\b  9%\b\b\b\b\b  OK \n",
            "Extracting  dataset/groundtruth10/unogt200.jpg                           \b\b\b\b  9%\b\b\b\b\b  OK \n",
            "Extracting  dataset/groundtruth10/unogt220.jpg                           \b\b\b\b  9%\b\b\b\b\b  OK \n",
            "Extracting  dataset/groundtruth10/unogt221.jpg                           \b\b\b\b 10%\b\b\b\b\b  OK \n",
            "Extracting  dataset/groundtruth10/unogt222.jpg                           \b\b\b\b 10%\b\b\b\b\b  OK \n",
            "Extracting  dataset/groundtruth10/unogt223.jpg                           \b\b\b\b 10%\b\b\b\b\b  OK \n",
            "Extracting  dataset/groundtruth10/unogt224.jpg                           \b\b\b\b 10%\b\b\b\b\b  OK \n",
            "Extracting  dataset/groundtruth10/unogt225.jpg                           \b\b\b\b 10%\b\b\b\b\b  OK \n",
            "Extracting  dataset/groundtruth10/unogt226.jpg                           \b\b\b\b 10%\b\b\b\b\b  OK \n",
            "Extracting  dataset/groundtruth10/unogt227.jpg                           \b\b\b\b 10%\b\b\b\b\b  OK \n",
            "Extracting  dataset/groundtruth10/unogt228.jpg                           \b\b\b\b 10%\b\b\b\b\b  OK \n",
            "Extracting  dataset/groundtruth10/unogt229.jpg                           \b\b\b\b 10%\b\b\b\b\b  OK \n",
            "Extracting  dataset/groundtruth10/unogt230.jpg                           \b\b\b\b 10%\b\b\b\b\b  OK \n",
            "Extracting  dataset/groundtruth10/unogt90.jpg                            \b\b\b\b 10%\b\b\b\b\b  OK \n",
            "Extracting  dataset/groundtruth10/unogt91.jpg                            \b\b\b\b 10%\b\b\b\b\b  OK \n",
            "Extracting  dataset/groundtruth10/unogt92.jpg                            \b\b\b\b 10%\b\b\b\b\b  OK \n",
            "Extracting  dataset/groundtruth10/unogt93.jpg                            \b\b\b\b 10%\b\b\b\b\b  OK \n",
            "Extracting  dataset/groundtruth10/unogt94.jpg                            \b\b\b\b 10%\b\b\b\b\b  OK \n",
            "Extracting  dataset/groundtruth10/unogt95.jpg                            \b\b\b\b 10%\b\b\b\b\b  OK \n",
            "Extracting  dataset/groundtruth10/unogt96.jpg                            \b\b\b\b 10%\b\b\b\b\b  OK \n",
            "Extracting  dataset/groundtruth10/unogt97.jpg                            \b\b\b\b 10%\b\b\b\b\b  OK \n",
            "Extracting  dataset/groundtruth10/unogt98.jpg                            \b\b\b\b 10%\b\b\b\b\b  OK \n",
            "Extracting  dataset/groundtruth10/unogt99.jpg                            \b\b\b\b 10%\b\b\b\b\b  OK \n",
            "Creating    dataset/groundtruth11                                     OK\n",
            "Extracting  dataset/groundtruth11/unogt100.jpg                           \b\b\b\b 10%\b\b\b\b\b  OK \n",
            "Extracting  dataset/groundtruth11/unogt140.jpg                           \b\b\b\b 10%\b\b\b\b\b  OK \n",
            "Extracting  dataset/groundtruth11/unogt141.jpg                           \b\b\b\b 10%\b\b\b\b\b  OK \n",
            "Extracting  dataset/groundtruth11/unogt142.jpg                           \b\b\b\b 10%\b\b\b\b\b  OK \n",
            "Extracting  dataset/groundtruth11/unogt143.jpg                           \b\b\b\b 10%\b\b\b\b\b  OK \n",
            "Extracting  dataset/groundtruth11/unogt144.jpg                           \b\b\b\b 10%\b\b\b\b\b  OK \n",
            "Extracting  dataset/groundtruth11/unogt145.jpg                           \b\b\b\b 10%\b\b\b\b\b  OK \n",
            "Extracting  dataset/groundtruth11/unogt146.jpg                           \b\b\b\b 10%\b\b\b\b\b  OK \n",
            "Extracting  dataset/groundtruth11/unogt147.jpg                           \b\b\b\b 10%\b\b\b\b\b  OK \n",
            "Extracting  dataset/groundtruth11/unogt148.jpg                           \b\b\b\b 10%\b\b\b\b\b  OK \n",
            "Extracting  dataset/groundtruth11/unogt149.jpg                           \b\b\b\b 10%\b\b\b\b\b  OK \n",
            "Extracting  dataset/groundtruth11/unogt150.jpg                           \b\b\b\b 10%\b\b\b\b\b  OK \n",
            "Extracting  dataset/groundtruth11/unogt160.jpg                           \b\b\b\b 10%\b\b\b\b\b  OK \n",
            "Extracting  dataset/groundtruth11/unogt161.jpg                           \b\b\b\b 10%\b\b\b\b\b  OK \n",
            "Extracting  dataset/groundtruth11/unogt162.jpg                           \b\b\b\b 10%\b\b\b\b\b  OK \n",
            "Extracting  dataset/groundtruth11/unogt163.jpg                           \b\b\b\b 10%\b\b\b\b\b  OK \n",
            "Extracting  dataset/groundtruth11/unogt164.jpg                           \b\b\b\b 10%\b\b\b\b\b  OK \n",
            "Extracting  dataset/groundtruth11/unogt165.jpg                           \b\b\b\b 10%\b\b\b\b\b  OK \n",
            "Extracting  dataset/groundtruth11/unogt166.jpg                           \b\b\b\b 10%\b\b\b\b\b  OK \n",
            "Extracting  dataset/groundtruth11/unogt167.jpg                           \b\b\b\b 10%\b\b\b\b\b  OK \n",
            "Extracting  dataset/groundtruth11/unogt168.jpg                           \b\b\b\b 10%\b\b\b\b\b  OK \n",
            "Extracting  dataset/groundtruth11/unogt169.jpg                           \b\b\b\b 10%\b\b\b\b\b  OK \n",
            "Extracting  dataset/groundtruth11/unogt170.jpg                           \b\b\b\b 10%\b\b\b\b\b  OK \n",
            "Extracting  dataset/groundtruth11/unogt190.jpg                           \b\b\b\b 10%\b\b\b\b\b  OK \n",
            "Extracting  dataset/groundtruth11/unogt191.jpg                           \b\b\b\b 10%\b\b\b\b\b  OK \n",
            "Extracting  dataset/groundtruth11/unogt192.jpg                           \b\b\b\b 10%\b\b\b\b\b  OK \n",
            "Extracting  dataset/groundtruth11/unogt193.jpg                           \b\b\b\b 10%\b\b\b\b\b  OK \n",
            "Extracting  dataset/groundtruth11/unogt194.jpg                           \b\b\b\b 10%\b\b\b\b\b  OK \n",
            "Extracting  dataset/groundtruth11/unogt195.jpg                           \b\b\b\b 10%\b\b\b\b\b  OK \n",
            "Extracting  dataset/groundtruth11/unogt196.jpg                           \b\b\b\b 10%\b\b\b\b\b  OK \n",
            "Extracting  dataset/groundtruth11/unogt197.jpg                           \b\b\b\b 10%\b\b\b\b\b  OK \n",
            "Extracting  dataset/groundtruth11/unogt198.jpg                           \b\b\b\b 10%\b\b\b\b\b  OK \n",
            "Extracting  dataset/groundtruth11/unogt199.jpg                           \b\b\b\b 10%\b\b\b\b\b  OK \n",
            "Extracting  dataset/groundtruth11/unogt200.jpg                           \b\b\b\b 10%\b\b\b\b\b  OK \n",
            "Extracting  dataset/groundtruth11/unogt220.jpg                           \b\b\b\b 10%\b\b\b\b\b  OK \n",
            "Extracting  dataset/groundtruth11/unogt221.jpg                           \b\b\b\b 10%\b\b\b\b\b  OK \n",
            "Extracting  dataset/groundtruth11/unogt222.jpg                           \b\b\b\b 10%\b\b\b\b\b  OK \n",
            "Extracting  dataset/groundtruth11/unogt223.jpg                           \b\b\b\b 10%\b\b\b\b\b  OK \n",
            "Extracting  dataset/groundtruth11/unogt224.jpg                           \b\b\b\b 10%\b\b\b\b\b  OK \n",
            "Extracting  dataset/groundtruth11/unogt225.jpg                           \b\b\b\b 10%\b\b\b\b\b  OK \n",
            "Extracting  dataset/groundtruth11/unogt226.jpg                           \b\b\b\b 10%\b\b\b\b\b  OK \n",
            "Extracting  dataset/groundtruth11/unogt227.jpg                           \b\b\b\b 10%\b\b\b\b\b  OK \n",
            "Extracting  dataset/groundtruth11/unogt228.jpg                           \b\b\b\b 10%\b\b\b\b\b  OK \n",
            "Extracting  dataset/groundtruth11/unogt229.jpg                           \b\b\b\b 10%\b\b\b\b\b  OK \n",
            "Extracting  dataset/groundtruth11/unogt230.jpg                           \b\b\b\b 11%\b\b\b\b\b  OK \n",
            "Extracting  dataset/groundtruth11/unogt90.jpg                            \b\b\b\b 11%\b\b\b\b\b  OK \n",
            "Extracting  dataset/groundtruth11/unogt91.jpg                            \b\b\b\b 11%\b\b\b\b\b  OK \n",
            "Extracting  dataset/groundtruth11/unogt92.jpg                            \b\b\b\b 11%\b\b\b\b\b  OK \n",
            "Extracting  dataset/groundtruth11/unogt93.jpg                            \b\b\b\b 11%\b\b\b\b\b  OK \n",
            "Extracting  dataset/groundtruth11/unogt94.jpg                            \b\b\b\b 11%\b\b\b\b\b  OK \n",
            "Extracting  dataset/groundtruth11/unogt95.jpg                            \b\b\b\b 11%\b\b\b\b\b  OK \n",
            "Extracting  dataset/groundtruth11/unogt96.jpg                            \b\b\b\b 11%\b\b\b\b\b  OK \n",
            "Extracting  dataset/groundtruth11/unogt97.jpg                            \b\b\b\b 11%\b\b\b\b\b  OK \n",
            "Extracting  dataset/groundtruth11/unogt98.jpg                            \b\b\b\b 11%\b\b\b\b\b  OK \n",
            "Extracting  dataset/groundtruth11/unogt99.jpg                            \b\b\b\b 11%\b\b\b\b\b  OK \n",
            "Creating    dataset/groundtruth12                                     OK\n",
            "Extracting  dataset/groundtruth12/unogt100.jpg                           \b\b\b\b 11%\b\b\b\b\b  OK \n",
            "Extracting  dataset/groundtruth12/unogt140.jpg                           \b\b\b\b 11%\b\b\b\b\b  OK \n",
            "Extracting  dataset/groundtruth12/unogt141.jpg                           \b\b\b\b 11%\b\b\b\b\b  OK \n",
            "Extracting  dataset/groundtruth12/unogt142.jpg                           \b\b\b\b 11%\b\b\b\b\b  OK \n",
            "Extracting  dataset/groundtruth12/unogt143.jpg                           \b\b\b\b 11%\b\b\b\b\b  OK \n",
            "Extracting  dataset/groundtruth12/unogt144.jpg                           \b\b\b\b 11%\b\b\b\b\b  OK \n",
            "Extracting  dataset/groundtruth12/unogt145.jpg                           \b\b\b\b 11%\b\b\b\b\b  OK \n",
            "Extracting  dataset/groundtruth12/unogt146.jpg                           \b\b\b\b 11%\b\b\b\b\b  OK \n",
            "Extracting  dataset/groundtruth12/unogt147.jpg                           \b\b\b\b 11%\b\b\b\b\b  OK \n",
            "Extracting  dataset/groundtruth12/unogt148.jpg                           \b\b\b\b 11%\b\b\b\b\b  OK \n",
            "Extracting  dataset/groundtruth12/unogt149.jpg                           \b\b\b\b 11%\b\b\b\b\b  OK \n",
            "Extracting  dataset/groundtruth12/unogt150.jpg                           \b\b\b\b 11%\b\b\b\b\b  OK \n",
            "Extracting  dataset/groundtruth12/unogt160.jpg                           \b\b\b\b 11%\b\b\b\b\b  OK \n",
            "Extracting  dataset/groundtruth12/unogt161.jpg                           \b\b\b\b 11%\b\b\b\b\b  OK \n",
            "Extracting  dataset/groundtruth12/unogt162.jpg                           \b\b\b\b 11%\b\b\b\b\b  OK \n",
            "Extracting  dataset/groundtruth12/unogt163.jpg                           \b\b\b\b 11%\b\b\b\b\b  OK \n",
            "Extracting  dataset/groundtruth12/unogt164.jpg                           \b\b\b\b 11%\b\b\b\b\b  OK \n",
            "Extracting  dataset/groundtruth12/unogt165.jpg                           \b\b\b\b 11%\b\b\b\b\b  OK \n",
            "Extracting  dataset/groundtruth12/unogt166.jpg                           \b\b\b\b 11%\b\b\b\b\b  OK \n",
            "Extracting  dataset/groundtruth12/unogt167.jpg                           \b\b\b\b 11%\b\b\b\b\b  OK \n",
            "Extracting  dataset/groundtruth12/unogt168.jpg                           \b\b\b\b 11%\b\b\b\b\b  OK \n",
            "Extracting  dataset/groundtruth12/unogt169.jpg                           \b\b\b\b 11%\b\b\b\b\b  OK \n",
            "Extracting  dataset/groundtruth12/unogt170.jpg                           \b\b\b\b 11%\b\b\b\b\b  OK \n",
            "Extracting  dataset/groundtruth12/unogt190.jpg                           \b\b\b\b 11%\b\b\b\b\b  OK \n",
            "Extracting  dataset/groundtruth12/unogt191.jpg                           \b\b\b\b 11%\b\b\b\b\b  OK \n",
            "Extracting  dataset/groundtruth12/unogt192.jpg                           \b\b\b\b 11%\b\b\b\b\b  OK \n",
            "Extracting  dataset/groundtruth12/unogt193.jpg                           \b\b\b\b 11%\b\b\b\b\b  OK \n",
            "Extracting  dataset/groundtruth12/unogt194.jpg                           \b\b\b\b 11%\b\b\b\b\b  OK \n",
            "Extracting  dataset/groundtruth12/unogt195.jpg                           \b\b\b\b 11%\b\b\b\b\b  OK \n",
            "Extracting  dataset/groundtruth12/unogt196.jpg                           \b\b\b\b 11%\b\b\b\b\b  OK \n",
            "Extracting  dataset/groundtruth12/unogt197.jpg                           \b\b\b\b 11%\b\b\b\b\b  OK \n",
            "Extracting  dataset/groundtruth12/unogt198.jpg                           \b\b\b\b 11%\b\b\b\b\b  OK \n",
            "Extracting  dataset/groundtruth12/unogt199.jpg                           \b\b\b\b 11%\b\b\b\b\b  OK \n",
            "Extracting  dataset/groundtruth12/unogt200.jpg                           \b\b\b\b 11%\b\b\b\b\b  OK \n",
            "Extracting  dataset/groundtruth12/unogt220.jpg                           \b\b\b\b 11%\b\b\b\b\b  OK \n",
            "Extracting  dataset/groundtruth12/unogt221.jpg                           \b\b\b\b 11%\b\b\b\b\b  OK \n",
            "Extracting  dataset/groundtruth12/unogt222.jpg                           \b\b\b\b 11%\b\b\b\b\b  OK \n",
            "Extracting  dataset/groundtruth12/unogt223.jpg                           \b\b\b\b 11%\b\b\b\b\b  OK \n",
            "Extracting  dataset/groundtruth12/unogt224.jpg                           \b\b\b\b 11%\b\b\b\b\b  OK \n",
            "Extracting  dataset/groundtruth12/unogt225.jpg                           \b\b\b\b 11%\b\b\b\b\b  OK \n",
            "Extracting  dataset/groundtruth12/unogt226.jpg                           \b\b\b\b 11%\b\b\b\b\b  OK \n",
            "Extracting  dataset/groundtruth12/unogt227.jpg                           \b\b\b\b 11%\b\b\b\b\b  OK \n",
            "Extracting  dataset/groundtruth12/unogt228.jpg                           \b\b\b\b 11%\b\b\b\b\b  OK \n",
            "Extracting  dataset/groundtruth12/unogt229.jpg                           \b\b\b\b 11%\b\b\b\b\b  OK \n",
            "Extracting  dataset/groundtruth12/unogt230.jpg                           \b\b\b\b 11%\b\b\b\b\b  OK \n",
            "Extracting  dataset/groundtruth12/unogt90.jpg                            \b\b\b\b 11%\b\b\b\b\b  OK \n",
            "Extracting  dataset/groundtruth12/unogt91.jpg                            \b\b\b\b 11%\b\b\b\b\b  OK \n",
            "Extracting  dataset/groundtruth12/unogt92.jpg                            \b\b\b\b 11%\b\b\b\b\b  OK \n",
            "Extracting  dataset/groundtruth12/unogt93.jpg                            \b\b\b\b 11%\b\b\b\b\b  OK \n",
            "Extracting  dataset/groundtruth12/unogt94.jpg                            \b\b\b\b 12%\b\b\b\b\b  OK \n",
            "Extracting  dataset/groundtruth12/unogt95.jpg                            \b\b\b\b 12%\b\b\b\b\b  OK \n",
            "Extracting  dataset/groundtruth12/unogt96.jpg                            \b\b\b\b 12%\b\b\b\b\b  OK \n",
            "Extracting  dataset/groundtruth12/unogt97.jpg                            \b\b\b\b 12%\b\b\b\b\b  OK \n",
            "Extracting  dataset/groundtruth12/unogt98.jpg                            \b\b\b\b 12%\b\b\b\b\b  OK \n",
            "Extracting  dataset/groundtruth12/unogt99.jpg                            \b\b\b\b 12%\b\b\b\b\b  OK \n",
            "Creating    dataset/groundtruth13                                     OK\n",
            "Extracting  dataset/groundtruth13/unogt100.jpg                           \b\b\b\b 12%\b\b\b\b\b  OK \n",
            "Extracting  dataset/groundtruth13/unogt140.jpg                           \b\b\b\b 12%\b\b\b\b\b  OK \n",
            "Extracting  dataset/groundtruth13/unogt141.jpg                           \b\b\b\b 12%\b\b\b\b\b  OK \n",
            "Extracting  dataset/groundtruth13/unogt142.jpg                           \b\b\b\b 12%\b\b\b\b\b  OK \n",
            "Extracting  dataset/groundtruth13/unogt143.jpg                           \b\b\b\b 12%\b\b\b\b\b  OK \n",
            "Extracting  dataset/groundtruth13/unogt144.jpg                           \b\b\b\b 12%\b\b\b\b\b  OK \n",
            "Extracting  dataset/groundtruth13/unogt145.jpg                           \b\b\b\b 12%\b\b\b\b\b  OK \n",
            "Extracting  dataset/groundtruth13/unogt146.jpg                           \b\b\b\b 12%\b\b\b\b\b  OK \n",
            "Extracting  dataset/groundtruth13/unogt147.jpg                           \b\b\b\b 12%\b\b\b\b\b  OK \n",
            "Extracting  dataset/groundtruth13/unogt148.jpg                           \b\b\b\b 12%\b\b\b\b\b  OK \n",
            "Extracting  dataset/groundtruth13/unogt149.jpg                           \b\b\b\b 12%\b\b\b\b\b  OK \n",
            "Extracting  dataset/groundtruth13/unogt150.jpg                           \b\b\b\b 12%\b\b\b\b\b  OK \n",
            "Extracting  dataset/groundtruth13/unogt160.jpg                           \b\b\b\b 12%\b\b\b\b\b  OK \n",
            "Extracting  dataset/groundtruth13/unogt161.jpg                           \b\b\b\b 12%\b\b\b\b\b  OK \n",
            "Extracting  dataset/groundtruth13/unogt162.jpg                           \b\b\b\b 12%\b\b\b\b\b  OK \n",
            "Extracting  dataset/groundtruth13/unogt163.jpg                           \b\b\b\b 12%\b\b\b\b\b  OK \n",
            "Extracting  dataset/groundtruth13/unogt164.jpg                           \b\b\b\b 12%\b\b\b\b\b  OK \n",
            "Extracting  dataset/groundtruth13/unogt165.jpg                           \b\b\b\b 12%\b\b\b\b\b  OK \n",
            "Extracting  dataset/groundtruth13/unogt166.jpg                           \b\b\b\b 12%\b\b\b\b\b  OK \n",
            "Extracting  dataset/groundtruth13/unogt167.jpg                           \b\b\b\b 12%\b\b\b\b\b  OK \n",
            "Extracting  dataset/groundtruth13/unogt168.jpg                           \b\b\b\b 12%\b\b\b\b\b  OK \n",
            "Extracting  dataset/groundtruth13/unogt169.jpg                           \b\b\b\b 12%\b\b\b\b\b  OK \n",
            "Extracting  dataset/groundtruth13/unogt170.jpg                           \b\b\b\b 12%\b\b\b\b\b  OK \n",
            "Extracting  dataset/groundtruth13/unogt190.jpg                           \b\b\b\b 12%\b\b\b\b\b  OK \n",
            "Extracting  dataset/groundtruth13/unogt191.jpg                           \b\b\b\b 12%\b\b\b\b\b  OK \n",
            "Extracting  dataset/groundtruth13/unogt192.jpg                           \b\b\b\b 12%\b\b\b\b\b  OK \n",
            "Extracting  dataset/groundtruth13/unogt193.jpg                           \b\b\b\b 12%\b\b\b\b\b  OK \n",
            "Extracting  dataset/groundtruth13/unogt194.jpg                           \b\b\b\b 12%\b\b\b\b\b  OK \n",
            "Extracting  dataset/groundtruth13/unogt195.jpg                           \b\b\b\b 12%\b\b\b\b\b  OK \n",
            "Extracting  dataset/groundtruth13/unogt196.jpg                           \b\b\b\b 12%\b\b\b\b\b  OK \n",
            "Extracting  dataset/groundtruth13/unogt197.jpg                           \b\b\b\b 13%\b\b\b\b\b  OK \n",
            "Extracting  dataset/groundtruth13/unogt198.jpg                           \b\b\b\b 13%\b\b\b\b\b  OK \n",
            "Extracting  dataset/groundtruth13/unogt199.jpg                           \b\b\b\b 13%\b\b\b\b\b  OK \n",
            "Extracting  dataset/groundtruth13/unogt200.jpg                           \b\b\b\b 13%\b\b\b\b\b  OK \n",
            "Extracting  dataset/groundtruth13/unogt220.jpg                           \b\b\b\b 13%\b\b\b\b\b  OK \n",
            "Extracting  dataset/groundtruth13/unogt221.jpg                           \b\b\b\b 13%\b\b\b\b\b  OK \n",
            "Extracting  dataset/groundtruth13/unogt222.jpg                           \b\b\b\b 13%\b\b\b\b\b  OK \n",
            "Extracting  dataset/groundtruth13/unogt223.jpg                           \b\b\b\b 13%\b\b\b\b\b  OK \n",
            "Extracting  dataset/groundtruth13/unogt224.jpg                           \b\b\b\b 13%\b\b\b\b\b  OK \n",
            "Extracting  dataset/groundtruth13/unogt225.jpg                           \b\b\b\b 13%\b\b\b\b\b  OK \n",
            "Extracting  dataset/groundtruth13/unogt226.jpg                           \b\b\b\b 13%\b\b\b\b\b  OK \n",
            "Extracting  dataset/groundtruth13/unogt227.jpg                           \b\b\b\b 13%\b\b\b\b\b  OK \n",
            "Extracting  dataset/groundtruth13/unogt228.jpg                           \b\b\b\b 13%\b\b\b\b\b  OK \n",
            "Extracting  dataset/groundtruth13/unogt229.jpg                           \b\b\b\b 13%\b\b\b\b\b  OK \n",
            "Extracting  dataset/groundtruth13/unogt230.jpg                           \b\b\b\b 13%\b\b\b\b\b  OK \n",
            "Extracting  dataset/groundtruth13/unogt90.jpg                            \b\b\b\b 13%\b\b\b\b\b  OK \n",
            "Extracting  dataset/groundtruth13/unogt91.jpg                            \b\b\b\b 13%\b\b\b\b\b  OK \n",
            "Extracting  dataset/groundtruth13/unogt92.jpg                            \b\b\b\b 13%\b\b\b\b\b  OK \n",
            "Extracting  dataset/groundtruth13/unogt93.jpg                            \b\b\b\b 13%\b\b\b\b\b  OK \n",
            "Extracting  dataset/groundtruth13/unogt94.jpg                            \b\b\b\b 13%\b\b\b\b\b  OK \n",
            "Extracting  dataset/groundtruth13/unogt95.jpg                            \b\b\b\b 13%\b\b\b\b\b  OK \n",
            "Extracting  dataset/groundtruth13/unogt96.jpg                            \b\b\b\b 13%\b\b\b\b\b  OK \n",
            "Extracting  dataset/groundtruth13/unogt97.jpg                            \b\b\b\b 13%\b\b\b\b\b  OK \n",
            "Extracting  dataset/groundtruth13/unogt98.jpg                            \b\b\b\b 13%\b\b\b\b\b  OK \n",
            "Extracting  dataset/groundtruth13/unogt99.jpg                            \b\b\b\b 13%\b\b\b\b\b  OK \n",
            "Creating    dataset/groundtruth14                                     OK\n",
            "Extracting  dataset/groundtruth14/unogt100.jpg                           \b\b\b\b 13%\b\b\b\b\b  OK \n",
            "Extracting  dataset/groundtruth14/unogt140.jpg                           \b\b\b\b 13%\b\b\b\b\b  OK \n",
            "Extracting  dataset/groundtruth14/unogt141.jpg                           \b\b\b\b 13%\b\b\b\b\b  OK \n",
            "Extracting  dataset/groundtruth14/unogt142.jpg                           \b\b\b\b 13%\b\b\b\b\b  OK \n",
            "Extracting  dataset/groundtruth14/unogt143.jpg                           \b\b\b\b 13%\b\b\b\b\b  OK \n",
            "Extracting  dataset/groundtruth14/unogt144.jpg                           \b\b\b\b 13%\b\b\b\b\b  OK \n",
            "Extracting  dataset/groundtruth14/unogt145.jpg                           \b\b\b\b 13%\b\b\b\b\b  OK \n",
            "Extracting  dataset/groundtruth14/unogt146.jpg                           \b\b\b\b 14%\b\b\b\b\b  OK \n",
            "Extracting  dataset/groundtruth14/unogt147.jpg                           \b\b\b\b 14%\b\b\b\b\b  OK \n",
            "Extracting  dataset/groundtruth14/unogt148.jpg                           \b\b\b\b 14%\b\b\b\b\b  OK \n",
            "Extracting  dataset/groundtruth14/unogt149.jpg                           \b\b\b\b 14%\b\b\b\b\b  OK \n",
            "Extracting  dataset/groundtruth14/unogt150.jpg                           \b\b\b\b 14%\b\b\b\b\b  OK \n",
            "Extracting  dataset/groundtruth14/unogt160.jpg                           \b\b\b\b 14%\b\b\b\b\b  OK \n",
            "Extracting  dataset/groundtruth14/unogt161.jpg                           \b\b\b\b 14%\b\b\b\b\b  OK \n",
            "Extracting  dataset/groundtruth14/unogt162.jpg                           \b\b\b\b 14%\b\b\b\b\b  OK \n",
            "Extracting  dataset/groundtruth14/unogt163.jpg                           \b\b\b\b 14%\b\b\b\b\b  OK \n",
            "Extracting  dataset/groundtruth14/unogt164.jpg                           \b\b\b\b 14%\b\b\b\b\b  OK \n",
            "Extracting  dataset/groundtruth14/unogt165.jpg                           \b\b\b\b 14%\b\b\b\b\b  OK \n",
            "Extracting  dataset/groundtruth14/unogt166.jpg                           \b\b\b\b 14%\b\b\b\b\b  OK \n",
            "Extracting  dataset/groundtruth14/unogt167.jpg                           \b\b\b\b 14%\b\b\b\b\b  OK \n",
            "Extracting  dataset/groundtruth14/unogt168.jpg                           \b\b\b\b 14%\b\b\b\b\b  OK \n",
            "Extracting  dataset/groundtruth14/unogt169.jpg                           \b\b\b\b 14%\b\b\b\b\b  OK \n",
            "Extracting  dataset/groundtruth14/unogt170.jpg                           \b\b\b\b 14%\b\b\b\b\b  OK \n",
            "Extracting  dataset/groundtruth14/unogt190.jpg                           \b\b\b\b 14%\b\b\b\b\b  OK \n",
            "Extracting  dataset/groundtruth14/unogt191.jpg                           \b\b\b\b 14%\b\b\b\b\b  OK \n",
            "Extracting  dataset/groundtruth14/unogt192.jpg                           \b\b\b\b 14%\b\b\b\b\b  OK \n",
            "Extracting  dataset/groundtruth14/unogt193.jpg                           \b\b\b\b 14%\b\b\b\b\b  OK \n",
            "Extracting  dataset/groundtruth14/unogt194.jpg                           \b\b\b\b 14%\b\b\b\b\b  OK \n",
            "Extracting  dataset/groundtruth14/unogt195.jpg                           \b\b\b\b 14%\b\b\b\b\b  OK \n",
            "Extracting  dataset/groundtruth14/unogt196.jpg                           \b\b\b\b 14%\b\b\b\b\b  OK \n",
            "Extracting  dataset/groundtruth14/unogt197.jpg                           \b\b\b\b 14%\b\b\b\b\b  OK \n",
            "Extracting  dataset/groundtruth14/unogt198.jpg                           \b\b\b\b 14%\b\b\b\b\b  OK \n",
            "Extracting  dataset/groundtruth14/unogt199.jpg                           \b\b\b\b 14%\b\b\b\b\b  OK \n",
            "Extracting  dataset/groundtruth14/unogt200.jpg                           \b\b\b\b 14%\b\b\b\b\b  OK \n",
            "Extracting  dataset/groundtruth14/unogt220.jpg                           \b\b\b\b 14%\b\b\b\b\b  OK \n",
            "Extracting  dataset/groundtruth14/unogt221.jpg                           \b\b\b\b 14%\b\b\b\b\b  OK \n",
            "Extracting  dataset/groundtruth14/unogt222.jpg                           \b\b\b\b 15%\b\b\b\b\b  OK \n",
            "Extracting  dataset/groundtruth14/unogt223.jpg                           \b\b\b\b 15%\b\b\b\b\b  OK \n",
            "Extracting  dataset/groundtruth14/unogt224.jpg                           \b\b\b\b 15%\b\b\b\b\b  OK \n",
            "Extracting  dataset/groundtruth14/unogt225.jpg                           \b\b\b\b 15%\b\b\b\b\b  OK \n",
            "Extracting  dataset/groundtruth14/unogt226.jpg                           \b\b\b\b 15%\b\b\b\b\b  OK \n",
            "Extracting  dataset/groundtruth14/unogt227.jpg                           \b\b\b\b 15%\b\b\b\b\b  OK \n",
            "Extracting  dataset/groundtruth14/unogt228.jpg                           \b\b\b\b 15%\b\b\b\b\b  OK \n",
            "Extracting  dataset/groundtruth14/unogt229.jpg                           \b\b\b\b 15%\b\b\b\b\b  OK \n",
            "Extracting  dataset/groundtruth14/unogt230.jpg                           \b\b\b\b 15%\b\b\b\b\b  OK \n",
            "Extracting  dataset/groundtruth14/unogt90.jpg                            \b\b\b\b 15%\b\b\b\b\b  OK \n",
            "Extracting  dataset/groundtruth14/unogt91.jpg                            \b\b\b\b 15%\b\b\b\b\b  OK \n",
            "Extracting  dataset/groundtruth14/unogt92.jpg                            \b\b\b\b 15%\b\b\b\b\b  OK \n",
            "Extracting  dataset/groundtruth14/unogt93.jpg                            \b\b\b\b 15%\b\b\b\b\b  OK \n",
            "Extracting  dataset/groundtruth14/unogt94.jpg                            \b\b\b\b 15%\b\b\b\b\b  OK \n",
            "Extracting  dataset/groundtruth14/unogt95.jpg                            \b\b\b\b 15%\b\b\b\b\b  OK \n",
            "Extracting  dataset/groundtruth14/unogt96.jpg                            \b\b\b\b 15%\b\b\b\b\b  OK \n",
            "Extracting  dataset/groundtruth14/unogt97.jpg                            \b\b\b\b 15%\b\b\b\b\b  OK \n",
            "Extracting  dataset/groundtruth14/unogt98.jpg                            \b\b\b\b 15%\b\b\b\b\b  OK \n",
            "Extracting  dataset/groundtruth14/unogt99.jpg                            \b\b\b\b 15%\b\b\b\b\b  OK \n",
            "Creating    dataset/groundtruth15                                     OK\n",
            "Extracting  dataset/groundtruth15/unogt100.jpg                           \b\b\b\b 15%\b\b\b\b\b  OK \n",
            "Extracting  dataset/groundtruth15/unogt140.jpg                           \b\b\b\b 15%\b\b\b\b\b  OK \n",
            "Extracting  dataset/groundtruth15/unogt141.jpg                           \b\b\b\b 15%\b\b\b\b\b  OK \n",
            "Extracting  dataset/groundtruth15/unogt142.jpg                           \b\b\b\b 15%\b\b\b\b\b  OK \n",
            "Extracting  dataset/groundtruth15/unogt143.jpg                           \b\b\b\b 15%\b\b\b\b\b  OK \n",
            "Extracting  dataset/groundtruth15/unogt144.jpg                           \b\b\b\b 15%\b\b\b\b\b  OK \n",
            "Extracting  dataset/groundtruth15/unogt145.jpg                           \b\b\b\b 15%\b\b\b\b\b  OK \n",
            "Extracting  dataset/groundtruth15/unogt146.jpg                           \b\b\b\b 15%\b\b\b\b\b  OK \n",
            "Extracting  dataset/groundtruth15/unogt147.jpg                           \b\b\b\b 15%\b\b\b\b\b  OK \n",
            "Extracting  dataset/groundtruth15/unogt148.jpg                           \b\b\b\b 15%\b\b\b\b\b  OK \n",
            "Extracting  dataset/groundtruth15/unogt149.jpg                           \b\b\b\b 15%\b\b\b\b\b  OK \n",
            "Extracting  dataset/groundtruth15/unogt150.jpg                           \b\b\b\b 15%\b\b\b\b\b  OK \n",
            "Extracting  dataset/groundtruth15/unogt160.jpg                           \b\b\b\b 15%\b\b\b\b\b  OK \n",
            "Extracting  dataset/groundtruth15/unogt161.jpg                           \b\b\b\b 15%\b\b\b\b\b  OK \n",
            "Extracting  dataset/groundtruth15/unogt162.jpg                           \b\b\b\b 15%\b\b\b\b\b  OK \n",
            "Extracting  dataset/groundtruth15/unogt163.jpg                           \b\b\b\b 15%\b\b\b\b\b  OK \n",
            "Extracting  dataset/groundtruth15/unogt164.jpg                           \b\b\b\b 15%\b\b\b\b\b  OK \n",
            "Extracting  dataset/groundtruth15/unogt165.jpg                           \b\b\b\b 15%\b\b\b\b\b  OK \n",
            "Extracting  dataset/groundtruth15/unogt166.jpg                           \b\b\b\b 16%\b\b\b\b\b  OK \n",
            "Extracting  dataset/groundtruth15/unogt167.jpg                           \b\b\b\b 16%\b\b\b\b\b  OK \n",
            "Extracting  dataset/groundtruth15/unogt168.jpg                           \b\b\b\b 16%\b\b\b\b\b  OK \n",
            "Extracting  dataset/groundtruth15/unogt169.jpg                           \b\b\b\b 16%\b\b\b\b\b  OK \n",
            "Extracting  dataset/groundtruth15/unogt170.jpg                           \b\b\b\b 16%\b\b\b\b\b  OK \n",
            "Extracting  dataset/groundtruth15/unogt190.jpg                           \b\b\b\b 16%\b\b\b\b\b  OK \n",
            "Extracting  dataset/groundtruth15/unogt191.jpg                           \b\b\b\b 16%\b\b\b\b\b  OK \n",
            "Extracting  dataset/groundtruth15/unogt192.jpg                           \b\b\b\b 16%\b\b\b\b\b  OK \n",
            "Extracting  dataset/groundtruth15/unogt193.jpg                           \b\b\b\b 16%\b\b\b\b\b  OK \n",
            "Extracting  dataset/groundtruth15/unogt194.jpg                           \b\b\b\b 16%\b\b\b\b\b  OK \n",
            "Extracting  dataset/groundtruth15/unogt195.jpg                           \b\b\b\b 16%\b\b\b\b\b  OK \n",
            "Extracting  dataset/groundtruth15/unogt196.jpg                           \b\b\b\b 16%\b\b\b\b\b  OK \n",
            "Extracting  dataset/groundtruth15/unogt197.jpg                           \b\b\b\b 16%\b\b\b\b\b  OK \n",
            "Extracting  dataset/groundtruth15/unogt198.jpg                           \b\b\b\b 16%\b\b\b\b\b  OK \n",
            "Extracting  dataset/groundtruth15/unogt199.jpg                           \b\b\b\b 16%\b\b\b\b\b  OK \n",
            "Extracting  dataset/groundtruth15/unogt200.jpg                           \b\b\b\b 16%\b\b\b\b\b  OK \n",
            "Extracting  dataset/groundtruth15/unogt220.jpg                           \b\b\b\b 16%\b\b\b\b\b  OK \n",
            "Extracting  dataset/groundtruth15/unogt221.jpg                           \b\b\b\b 16%\b\b\b\b\b  OK \n",
            "Extracting  dataset/groundtruth15/unogt222.jpg                           \b\b\b\b 16%\b\b\b\b\b  OK \n",
            "Extracting  dataset/groundtruth15/unogt223.jpg                           \b\b\b\b 16%\b\b\b\b\b  OK \n",
            "Extracting  dataset/groundtruth15/unogt224.jpg                           \b\b\b\b 16%\b\b\b\b\b  OK \n",
            "Extracting  dataset/groundtruth15/unogt225.jpg                           \b\b\b\b 16%\b\b\b\b\b  OK \n",
            "Extracting  dataset/groundtruth15/unogt226.jpg                           \b\b\b\b 16%\b\b\b\b\b  OK \n",
            "Extracting  dataset/groundtruth15/unogt227.jpg                           \b\b\b\b 16%\b\b\b\b\b  OK \n",
            "Extracting  dataset/groundtruth15/unogt228.jpg                           \b\b\b\b 16%\b\b\b\b\b  OK \n",
            "Extracting  dataset/groundtruth15/unogt229.jpg                           \b\b\b\b 16%\b\b\b\b\b  OK \n",
            "Extracting  dataset/groundtruth15/unogt230.jpg                           \b\b\b\b 16%\b\b\b\b\b  OK \n",
            "Extracting  dataset/groundtruth15/unogt90.jpg                            \b\b\b\b 16%\b\b\b\b\b  OK \n",
            "Extracting  dataset/groundtruth15/unogt91.jpg                            \b\b\b\b 16%\b\b\b\b\b  OK \n",
            "Extracting  dataset/groundtruth15/unogt92.jpg                            \b\b\b\b 16%\b\b\b\b\b  OK \n",
            "Extracting  dataset/groundtruth15/unogt93.jpg                            \b\b\b\b 16%\b\b\b\b\b  OK \n",
            "Extracting  dataset/groundtruth15/unogt94.jpg                            \b\b\b\b 16%\b\b\b\b\b  OK \n",
            "Extracting  dataset/groundtruth15/unogt95.jpg                            \b\b\b\b 16%\b\b\b\b\b  OK \n",
            "Extracting  dataset/groundtruth15/unogt96.jpg                            \b\b\b\b 16%\b\b\b\b\b  OK \n",
            "Extracting  dataset/groundtruth15/unogt97.jpg                            \b\b\b\b 16%\b\b\b\b\b  OK \n",
            "Extracting  dataset/groundtruth15/unogt98.jpg                            \b\b\b\b 16%\b\b\b\b\b  OK \n",
            "Extracting  dataset/groundtruth15/unogt99.jpg                            \b\b\b\b 16%\b\b\b\b\b  OK \n",
            "Creating    dataset/groundtruth16                                     OK\n",
            "Extracting  dataset/groundtruth16/unogt100.jpg                           \b\b\b\b 16%\b\b\b\b\b  OK \n",
            "Extracting  dataset/groundtruth16/unogt140.jpg                           \b\b\b\b 16%\b\b\b\b\b  OK \n",
            "Extracting  dataset/groundtruth16/unogt141.jpg                           \b\b\b\b 17%\b\b\b\b\b  OK \n",
            "Extracting  dataset/groundtruth16/unogt142.jpg                           \b\b\b\b 17%\b\b\b\b\b  OK \n",
            "Extracting  dataset/groundtruth16/unogt143.jpg                           \b\b\b\b 17%\b\b\b\b\b  OK \n",
            "Extracting  dataset/groundtruth16/unogt144.jpg                           \b\b\b\b 17%\b\b\b\b\b  OK \n",
            "Extracting  dataset/groundtruth16/unogt145.jpg                           \b\b\b\b 17%\b\b\b\b\b  OK \n",
            "Extracting  dataset/groundtruth16/unogt146.jpg                           \b\b\b\b 17%\b\b\b\b\b  OK \n",
            "Extracting  dataset/groundtruth16/unogt147.jpg                           \b\b\b\b 17%\b\b\b\b\b  OK \n",
            "Extracting  dataset/groundtruth16/unogt148.jpg                           \b\b\b\b 17%\b\b\b\b\b  OK \n",
            "Extracting  dataset/groundtruth16/unogt149.jpg                           \b\b\b\b 17%\b\b\b\b\b  OK \n",
            "Extracting  dataset/groundtruth16/unogt150.jpg                           \b\b\b\b 17%\b\b\b\b\b  OK \n",
            "Extracting  dataset/groundtruth16/unogt160.jpg                           \b\b\b\b 17%\b\b\b\b\b  OK \n",
            "Extracting  dataset/groundtruth16/unogt161.jpg                           \b\b\b\b 17%\b\b\b\b\b  OK \n",
            "Extracting  dataset/groundtruth16/unogt162.jpg                           \b\b\b\b 17%\b\b\b\b\b  OK \n",
            "Extracting  dataset/groundtruth16/unogt163.jpg                           \b\b\b\b 17%\b\b\b\b\b  OK \n",
            "Extracting  dataset/groundtruth16/unogt164.jpg                           \b\b\b\b 17%\b\b\b\b\b  OK \n",
            "Extracting  dataset/groundtruth16/unogt165.jpg                           \b\b\b\b 17%\b\b\b\b\b  OK \n",
            "Extracting  dataset/groundtruth16/unogt166.jpg                           \b\b\b\b 17%\b\b\b\b\b  OK \n",
            "Extracting  dataset/groundtruth16/unogt167.jpg                           \b\b\b\b 17%\b\b\b\b\b  OK \n",
            "Extracting  dataset/groundtruth16/unogt168.jpg                           \b\b\b\b 17%\b\b\b\b\b  OK \n",
            "Extracting  dataset/groundtruth16/unogt169.jpg                           \b\b\b\b 17%\b\b\b\b\b  OK \n",
            "Extracting  dataset/groundtruth16/unogt170.jpg                           \b\b\b\b 17%\b\b\b\b\b  OK \n",
            "Extracting  dataset/groundtruth16/unogt190.jpg                           \b\b\b\b 17%\b\b\b\b\b  OK \n",
            "Extracting  dataset/groundtruth16/unogt191.jpg                           \b\b\b\b 17%\b\b\b\b\b  OK \n",
            "Extracting  dataset/groundtruth16/unogt192.jpg                           \b\b\b\b 17%\b\b\b\b\b  OK \n",
            "Extracting  dataset/groundtruth16/unogt193.jpg                           \b\b\b\b 17%\b\b\b\b\b  OK \n",
            "Extracting  dataset/groundtruth16/unogt194.jpg                           \b\b\b\b 17%\b\b\b\b\b  OK \n",
            "Extracting  dataset/groundtruth16/unogt195.jpg                           \b\b\b\b 17%\b\b\b\b\b  OK \n",
            "Extracting  dataset/groundtruth16/unogt196.jpg                           \b\b\b\b 17%\b\b\b\b\b  OK \n",
            "Extracting  dataset/groundtruth16/unogt197.jpg                           \b\b\b\b 17%\b\b\b\b\b  OK \n",
            "Extracting  dataset/groundtruth16/unogt198.jpg                           \b\b\b\b 17%\b\b\b\b\b  OK \n",
            "Extracting  dataset/groundtruth16/unogt199.jpg                           \b\b\b\b 17%\b\b\b\b\b  OK \n",
            "Extracting  dataset/groundtruth16/unogt200.jpg                           \b\b\b\b 17%\b\b\b\b\b  OK \n",
            "Extracting  dataset/groundtruth16/unogt220.jpg                           \b\b\b\b 17%\b\b\b\b\b  OK \n",
            "Extracting  dataset/groundtruth16/unogt221.jpg                           \b\b\b\b 17%\b\b\b\b\b  OK \n",
            "Extracting  dataset/groundtruth16/unogt222.jpg                           \b\b\b\b 17%\b\b\b\b\b  OK \n",
            "Extracting  dataset/groundtruth16/unogt223.jpg                           \b\b\b\b 17%\b\b\b\b\b  OK \n",
            "Extracting  dataset/groundtruth16/unogt224.jpg                           \b\b\b\b 17%\b\b\b\b\b  OK \n",
            "Extracting  dataset/groundtruth16/unogt225.jpg                           \b\b\b\b 18%\b\b\b\b\b  OK \n",
            "Extracting  dataset/groundtruth16/unogt226.jpg                           \b\b\b\b 18%\b\b\b\b\b  OK \n",
            "Extracting  dataset/groundtruth16/unogt227.jpg                           \b\b\b\b 18%\b\b\b\b\b  OK \n",
            "Extracting  dataset/groundtruth16/unogt228.jpg                           \b\b\b\b 18%\b\b\b\b\b  OK \n",
            "Extracting  dataset/groundtruth16/unogt229.jpg                           \b\b\b\b 18%\b\b\b\b\b  OK \n",
            "Extracting  dataset/groundtruth16/unogt230.jpg                           \b\b\b\b 18%\b\b\b\b\b  OK \n",
            "Extracting  dataset/groundtruth16/unogt90.jpg                            \b\b\b\b 18%\b\b\b\b\b  OK \n",
            "Extracting  dataset/groundtruth16/unogt91.jpg                            \b\b\b\b 18%\b\b\b\b\b  OK \n",
            "Extracting  dataset/groundtruth16/unogt92.jpg                            \b\b\b\b 18%\b\b\b\b\b  OK \n",
            "Extracting  dataset/groundtruth16/unogt93.jpg                            \b\b\b\b 18%\b\b\b\b\b  OK \n",
            "Extracting  dataset/groundtruth16/unogt94.jpg                            \b\b\b\b 18%\b\b\b\b\b  OK \n",
            "Extracting  dataset/groundtruth16/unogt95.jpg                            \b\b\b\b 18%\b\b\b\b\b  OK \n",
            "Extracting  dataset/groundtruth16/unogt96.jpg                            \b\b\b\b 18%\b\b\b\b\b  OK \n",
            "Extracting  dataset/groundtruth16/unogt97.jpg                            \b\b\b\b 18%\b\b\b\b\b  OK \n",
            "Extracting  dataset/groundtruth16/unogt98.jpg                            \b\b\b\b 18%\b\b\b\b\b  OK \n",
            "Extracting  dataset/groundtruth16/unogt99.jpg                            \b\b\b\b 18%\b\b\b\b\b  OK \n",
            "Creating    dataset/originali01                                       OK\n",
            "Extracting  dataset/originali01/uno100.jpg                               \b\b\b\b 18%\b\b\b\b\b  OK \n",
            "Extracting  dataset/originali01/uno140.jpg                               \b\b\b\b 18%\b\b\b\b\b  OK \n",
            "Extracting  dataset/originali01/uno141.jpg                               \b\b\b\b 18%\b\b\b\b\b  OK \n",
            "Extracting  dataset/originali01/uno142.jpg                               \b\b\b\b 18%\b\b\b\b\b  OK \n",
            "Extracting  dataset/originali01/uno143.jpg                               \b\b\b\b 18%\b\b\b\b\b  OK \n",
            "Extracting  dataset/originali01/uno144.jpg                               \b\b\b\b 18%\b\b\b\b\b  OK \n",
            "Extracting  dataset/originali01/uno145.jpg                               \b\b\b\b 19%\b\b\b\b\b  OK \n",
            "Extracting  dataset/originali01/uno146.jpg                               \b\b\b\b 19%\b\b\b\b\b  OK \n",
            "Extracting  dataset/originali01/uno147.jpg                               \b\b\b\b 19%\b\b\b\b\b  OK \n",
            "Extracting  dataset/originali01/uno148.jpg                               \b\b\b\b 19%\b\b\b\b\b  OK \n",
            "Extracting  dataset/originali01/uno149.jpg                               \b\b\b\b 19%\b\b\b\b\b  OK \n",
            "Extracting  dataset/originali01/uno150.jpg                               \b\b\b\b 19%\b\b\b\b\b  OK \n",
            "Extracting  dataset/originali01/uno160.jpg                               \b\b\b\b 19%\b\b\b\b\b  OK \n",
            "Extracting  dataset/originali01/uno161.jpg                               \b\b\b\b 19%\b\b\b\b\b  OK \n",
            "Extracting  dataset/originali01/uno162.jpg                               \b\b\b\b 19%\b\b\b\b\b  OK \n",
            "Extracting  dataset/originali01/uno163.jpg                               \b\b\b\b 19%\b\b\b\b\b  OK \n",
            "Extracting  dataset/originali01/uno164.jpg                               \b\b\b\b 20%\b\b\b\b\b  OK \n",
            "Extracting  dataset/originali01/uno165.jpg                               \b\b\b\b 20%\b\b\b\b\b  OK \n",
            "Extracting  dataset/originali01/uno166.jpg                               \b\b\b\b 20%\b\b\b\b\b  OK \n",
            "Extracting  dataset/originali01/uno167.jpg                               \b\b\b\b 20%\b\b\b\b\b  OK \n",
            "Extracting  dataset/originali01/uno168.jpg                               \b\b\b\b 20%\b\b\b\b\b  OK \n",
            "Extracting  dataset/originali01/uno169.jpg                               \b\b\b\b 20%\b\b\b\b\b  OK \n",
            "Extracting  dataset/originali01/uno170.jpg                               \b\b\b\b 20%\b\b\b\b\b  OK \n",
            "Extracting  dataset/originali01/uno190.jpg                               \b\b\b\b 20%\b\b\b\b\b  OK \n",
            "Extracting  dataset/originali01/uno191.jpg                               \b\b\b\b 20%\b\b\b\b\b  OK \n",
            "Extracting  dataset/originali01/uno192.jpg                               \b\b\b\b 20%\b\b\b\b\b  OK \n",
            "Extracting  dataset/originali01/uno193.jpg                               \b\b\b\b 21%\b\b\b\b\b  OK \n",
            "Extracting  dataset/originali01/uno194.jpg                               \b\b\b\b 21%\b\b\b\b\b  OK \n",
            "Extracting  dataset/originali01/uno195.jpg                               \b\b\b\b 21%\b\b\b\b\b  OK \n",
            "Extracting  dataset/originali01/uno196.jpg                               \b\b\b\b 21%\b\b\b\b\b  OK \n",
            "Extracting  dataset/originali01/uno197.jpg                               \b\b\b\b 21%\b\b\b\b\b  OK \n",
            "Extracting  dataset/originali01/uno198.jpg                               \b\b\b\b 21%\b\b\b\b\b  OK \n",
            "Extracting  dataset/originali01/uno199.jpg                               \b\b\b\b 21%\b\b\b\b\b  OK \n",
            "Extracting  dataset/originali01/uno200.jpg                               \b\b\b\b 21%\b\b\b\b\b  OK \n",
            "Extracting  dataset/originali01/uno220.jpg                               \b\b\b\b 21%\b\b\b\b\b  OK \n",
            "Extracting  dataset/originali01/uno221.jpg                               \b\b\b\b 22%\b\b\b\b\b  OK \n",
            "Extracting  dataset/originali01/uno222.jpg                               \b\b\b\b 22%\b\b\b\b\b  OK \n",
            "Extracting  dataset/originali01/uno223.jpg                               \b\b\b\b 22%\b\b\b\b\b  OK \n",
            "Extracting  dataset/originali01/uno224.jpg                               \b\b\b\b 22%\b\b\b\b\b  OK \n",
            "Extracting  dataset/originali01/uno225.jpg                               \b\b\b\b 22%\b\b\b\b\b  OK \n",
            "Extracting  dataset/originali01/uno226.jpg                               \b\b\b\b 22%\b\b\b\b\b  OK \n",
            "Extracting  dataset/originali01/uno227.jpg                               \b\b\b\b 22%\b\b\b\b\b  OK \n",
            "Extracting  dataset/originali01/uno228.jpg                               \b\b\b\b 22%\b\b\b\b\b  OK \n",
            "Extracting  dataset/originali01/uno229.jpg                               \b\b\b\b 22%\b\b\b\b\b  OK \n",
            "Extracting  dataset/originali01/uno230.jpg                               \b\b\b\b 22%\b\b\b\b\b  OK \n",
            "Extracting  dataset/originali01/uno90.jpg                                \b\b\b\b 23%\b\b\b\b\b  OK \n",
            "Extracting  dataset/originali01/uno91.jpg                                \b\b\b\b 23%\b\b\b\b\b  OK \n",
            "Extracting  dataset/originali01/uno92.jpg                                \b\b\b\b 23%\b\b\b\b\b  OK \n",
            "Extracting  dataset/originali01/uno93.jpg                                \b\b\b\b 23%\b\b\b\b\b  OK \n",
            "Extracting  dataset/originali01/uno94.jpg                                \b\b\b\b 23%\b\b\b\b\b  OK \n",
            "Extracting  dataset/originali01/uno95.jpg                                \b\b\b\b 23%\b\b\b\b\b  OK \n",
            "Extracting  dataset/originali01/uno96.jpg                                \b\b\b\b 23%\b\b\b\b\b  OK \n",
            "Extracting  dataset/originali01/uno97.jpg                                \b\b\b\b 23%\b\b\b\b\b  OK \n",
            "Extracting  dataset/originali01/uno98.jpg                                \b\b\b\b 23%\b\b\b\b\b  OK \n",
            "Extracting  dataset/originali01/uno99.jpg                                \b\b\b\b 23%\b\b\b\b\b  OK \n",
            "Creating    dataset/originali02                                       OK\n",
            "Extracting  dataset/originali02/uno100.jpg                               \b\b\b\b 24%\b\b\b\b\b  OK \n",
            "Extracting  dataset/originali02/uno140.jpg                               \b\b\b\b 24%\b\b\b\b\b  OK \n",
            "Extracting  dataset/originali02/uno141.jpg                               \b\b\b\b 24%\b\b\b\b\b  OK \n",
            "Extracting  dataset/originali02/uno142.jpg                               \b\b\b\b 24%\b\b\b\b\b  OK \n",
            "Extracting  dataset/originali02/uno143.jpg                               \b\b\b\b 24%\b\b\b\b\b  OK \n",
            "Extracting  dataset/originali02/uno144.jpg                               \b\b\b\b 24%\b\b\b\b\b  OK \n",
            "Extracting  dataset/originali02/uno145.jpg                               \b\b\b\b 24%\b\b\b\b\b  OK \n",
            "Extracting  dataset/originali02/uno146.jpg                               \b\b\b\b 24%\b\b\b\b\b  OK \n",
            "Extracting  dataset/originali02/uno147.jpg                               \b\b\b\b 24%\b\b\b\b\b  OK \n",
            "Extracting  dataset/originali02/uno148.jpg                               \b\b\b\b 24%\b\b\b\b\b  OK \n",
            "Extracting  dataset/originali02/uno149.jpg                               \b\b\b\b 24%\b\b\b\b\b  OK \n",
            "Extracting  dataset/originali02/uno150.jpg                               \b\b\b\b 24%\b\b\b\b\b  OK \n",
            "Extracting  dataset/originali02/uno160.jpg                               \b\b\b\b 24%\b\b\b\b\b  OK \n",
            "Extracting  dataset/originali02/uno161.jpg                               \b\b\b\b 25%\b\b\b\b\b  OK \n",
            "Extracting  dataset/originali02/uno162.jpg                               \b\b\b\b 25%\b\b\b\b\b  OK \n",
            "Extracting  dataset/originali02/uno163.jpg                               \b\b\b\b 25%\b\b\b\b\b  OK \n",
            "Extracting  dataset/originali02/uno164.jpg                               \b\b\b\b 25%\b\b\b\b\b  OK \n",
            "Extracting  dataset/originali02/uno165.jpg                               \b\b\b\b 25%\b\b\b\b\b  OK \n",
            "Extracting  dataset/originali02/uno166.jpg                               \b\b\b\b 25%\b\b\b\b\b  OK \n",
            "Extracting  dataset/originali02/uno167.jpg                               \b\b\b\b 25%\b\b\b\b\b  OK \n",
            "Extracting  dataset/originali02/uno168.jpg                               \b\b\b\b 25%\b\b\b\b\b  OK \n",
            "Extracting  dataset/originali02/uno169.jpg                               \b\b\b\b 25%\b\b\b\b\b  OK \n",
            "Extracting  dataset/originali02/uno170.jpg                               \b\b\b\b 25%\b\b\b\b\b  OK \n",
            "Extracting  dataset/originali02/uno190.jpg                               \b\b\b\b 25%\b\b\b\b\b  OK \n",
            "Extracting  dataset/originali02/uno191.jpg                               \b\b\b\b 25%\b\b\b\b\b  OK \n",
            "Extracting  dataset/originali02/uno192.jpg                               \b\b\b\b 25%\b\b\b\b\b  OK \n",
            "Extracting  dataset/originali02/uno193.jpg                               \b\b\b\b 26%\b\b\b\b\b  OK \n",
            "Extracting  dataset/originali02/uno194.jpg                               \b\b\b\b 26%\b\b\b\b\b  OK \n",
            "Extracting  dataset/originali02/uno195.jpg                               \b\b\b\b 26%\b\b\b\b\b  OK \n",
            "Extracting  dataset/originali02/uno196.jpg                               \b\b\b\b 26%\b\b\b\b\b  OK \n",
            "Extracting  dataset/originali02/uno197.jpg                               \b\b\b\b 26%\b\b\b\b\b  OK \n",
            "Extracting  dataset/originali02/uno198.jpg                               \b\b\b\b 26%\b\b\b\b\b  OK \n",
            "Extracting  dataset/originali02/uno199.jpg                               \b\b\b\b 26%\b\b\b\b\b  OK \n",
            "Extracting  dataset/originali02/uno200.jpg                               \b\b\b\b 26%\b\b\b\b\b  OK \n",
            "Extracting  dataset/originali02/uno220.jpg                               \b\b\b\b 26%\b\b\b\b\b  OK \n",
            "Extracting  dataset/originali02/uno221.jpg                               \b\b\b\b 26%\b\b\b\b\b  OK \n",
            "Extracting  dataset/originali02/uno222.jpg                               \b\b\b\b 26%\b\b\b\b\b  OK \n",
            "Extracting  dataset/originali02/uno223.jpg                               \b\b\b\b 26%\b\b\b\b\b  OK \n",
            "Extracting  dataset/originali02/uno224.jpg                               \b\b\b\b 26%\b\b\b\b\b  OK \n",
            "Extracting  dataset/originali02/uno225.jpg                               \b\b\b\b 27%\b\b\b\b\b  OK \n",
            "Extracting  dataset/originali02/uno226.jpg                               \b\b\b\b 27%\b\b\b\b\b  OK \n",
            "Extracting  dataset/originali02/uno227.jpg                               \b\b\b\b 27%\b\b\b\b\b  OK \n",
            "Extracting  dataset/originali02/uno228.jpg                               \b\b\b\b 27%\b\b\b\b\b  OK \n",
            "Extracting  dataset/originali02/uno229.jpg                               \b\b\b\b 27%\b\b\b\b\b  OK \n",
            "Extracting  dataset/originali02/uno230.jpg                               \b\b\b\b 27%\b\b\b\b\b  OK \n",
            "Extracting  dataset/originali02/uno90.jpg                                \b\b\b\b 27%\b\b\b\b\b  OK \n",
            "Extracting  dataset/originali02/uno91.jpg                                \b\b\b\b 27%\b\b\b\b\b  OK \n",
            "Extracting  dataset/originali02/uno92.jpg                                \b\b\b\b 27%\b\b\b\b\b  OK \n",
            "Extracting  dataset/originali02/uno93.jpg                                \b\b\b\b 27%\b\b\b\b\b  OK \n",
            "Extracting  dataset/originali02/uno94.jpg                                \b\b\b\b 27%\b\b\b\b\b  OK \n",
            "Extracting  dataset/originali02/uno95.jpg                                \b\b\b\b 27%\b\b\b\b\b  OK \n",
            "Extracting  dataset/originali02/uno96.jpg                                \b\b\b\b 27%\b\b\b\b\b  OK \n",
            "Extracting  dataset/originali02/uno97.jpg                                \b\b\b\b 28%\b\b\b\b\b  OK \n",
            "Extracting  dataset/originali02/uno98.jpg                                \b\b\b\b 28%\b\b\b\b\b  OK \n",
            "Extracting  dataset/originali02/uno99.jpg                                \b\b\b\b 28%\b\b\b\b\b  OK \n",
            "Creating    dataset/originali03                                       OK\n",
            "Extracting  dataset/originali03/uno100.jpg                               \b\b\b\b 28%\b\b\b\b\b  OK \n",
            "Extracting  dataset/originali03/uno140.jpg                               \b\b\b\b 28%\b\b\b\b\b  OK \n",
            "Extracting  dataset/originali03/uno141.jpg                               \b\b\b\b 28%\b\b\b\b\b  OK \n",
            "Extracting  dataset/originali03/uno142.jpg                               \b\b\b\b 28%\b\b\b\b\b  OK \n",
            "Extracting  dataset/originali03/uno143.jpg                               \b\b\b\b 28%\b\b\b\b\b  OK \n",
            "Extracting  dataset/originali03/uno144.jpg                               \b\b\b\b 28%\b\b\b\b\b  OK \n",
            "Extracting  dataset/originali03/uno145.jpg                               \b\b\b\b 28%\b\b\b\b\b  OK \n",
            "Extracting  dataset/originali03/uno146.jpg                               \b\b\b\b 28%\b\b\b\b\b  OK \n",
            "Extracting  dataset/originali03/uno147.jpg                               \b\b\b\b 29%\b\b\b\b\b  OK \n",
            "Extracting  dataset/originali03/uno148.jpg                               \b\b\b\b 29%\b\b\b\b\b  OK \n",
            "Extracting  dataset/originali03/uno149.jpg                               \b\b\b\b 29%\b\b\b\b\b  OK \n",
            "Extracting  dataset/originali03/uno150.jpg                               \b\b\b\b 29%\b\b\b\b\b  OK \n",
            "Extracting  dataset/originali03/uno160.jpg                               \b\b\b\b 29%\b\b\b\b\b  OK \n",
            "Extracting  dataset/originali03/uno161.jpg                               \b\b\b\b 29%\b\b\b\b\b  OK \n",
            "Extracting  dataset/originali03/uno162.jpg                               \b\b\b\b 29%\b\b\b\b\b  OK \n",
            "Extracting  dataset/originali03/uno163.jpg                               \b\b\b\b 29%\b\b\b\b\b  OK \n",
            "Extracting  dataset/originali03/uno164.jpg                               \b\b\b\b 29%\b\b\b\b\b  OK \n",
            "Extracting  dataset/originali03/uno165.jpg                               \b\b\b\b 29%\b\b\b\b\b  OK \n",
            "Extracting  dataset/originali03/uno166.jpg                               \b\b\b\b 30%\b\b\b\b\b  OK \n",
            "Extracting  dataset/originali03/uno167.jpg                               \b\b\b\b 30%\b\b\b\b\b  OK \n",
            "Extracting  dataset/originali03/uno168.jpg                               \b\b\b\b 30%\b\b\b\b\b  OK \n",
            "Extracting  dataset/originali03/uno169.jpg                               \b\b\b\b 30%\b\b\b\b\b  OK \n",
            "Extracting  dataset/originali03/uno170.jpg                               \b\b\b\b 30%\b\b\b\b\b  OK \n",
            "Extracting  dataset/originali03/uno190.jpg                               \b\b\b\b 30%\b\b\b\b\b  OK \n",
            "Extracting  dataset/originali03/uno191.jpg                               \b\b\b\b 30%\b\b\b\b\b  OK \n",
            "Extracting  dataset/originali03/uno192.jpg                               \b\b\b\b 30%\b\b\b\b\b  OK \n",
            "Extracting  dataset/originali03/uno193.jpg                               \b\b\b\b 30%\b\b\b\b\b  OK \n",
            "Extracting  dataset/originali03/uno194.jpg                               \b\b\b\b 30%\b\b\b\b\b  OK \n",
            "Extracting  dataset/originali03/uno195.jpg                               \b\b\b\b 31%\b\b\b\b\b  OK \n",
            "Extracting  dataset/originali03/uno196.jpg                               \b\b\b\b 31%\b\b\b\b\b  OK \n",
            "Extracting  dataset/originali03/uno197.jpg                               \b\b\b\b 31%\b\b\b\b\b  OK \n",
            "Extracting  dataset/originali03/uno198.jpg                               \b\b\b\b 31%\b\b\b\b\b  OK \n",
            "Extracting  dataset/originali03/uno199.jpg                               \b\b\b\b 31%\b\b\b\b\b  OK \n",
            "Extracting  dataset/originali03/uno200.jpg                               \b\b\b\b 31%\b\b\b\b\b  OK \n",
            "Extracting  dataset/originali03/uno220.jpg                               \b\b\b\b 31%\b\b\b\b\b  OK \n",
            "Extracting  dataset/originali03/uno221.jpg                               \b\b\b\b 31%\b\b\b\b\b  OK \n",
            "Extracting  dataset/originali03/uno222.jpg                               \b\b\b\b 31%\b\b\b\b\b  OK \n",
            "Extracting  dataset/originali03/uno223.jpg                               \b\b\b\b 31%\b\b\b\b\b  OK \n",
            "Extracting  dataset/originali03/uno224.jpg                               \b\b\b\b 31%\b\b\b\b\b  OK \n",
            "Extracting  dataset/originali03/uno225.jpg                               \b\b\b\b 32%\b\b\b\b\b  OK \n",
            "Extracting  dataset/originali03/uno226.jpg                               \b\b\b\b 32%\b\b\b\b\b  OK \n",
            "Extracting  dataset/originali03/uno227.jpg                               \b\b\b\b 32%\b\b\b\b\b  OK \n",
            "Extracting  dataset/originali03/uno228.jpg                               \b\b\b\b 32%\b\b\b\b\b  OK \n",
            "Extracting  dataset/originali03/uno229.jpg                               \b\b\b\b 32%\b\b\b\b\b  OK \n",
            "Extracting  dataset/originali03/uno230.jpg                               \b\b\b\b 32%\b\b\b\b\b  OK \n",
            "Extracting  dataset/originali03/uno90.jpg                                \b\b\b\b 32%\b\b\b\b\b  OK \n",
            "Extracting  dataset/originali03/uno91.jpg                                \b\b\b\b 32%\b\b\b\b\b  OK \n",
            "Extracting  dataset/originali03/uno92.jpg                                \b\b\b\b 32%\b\b\b\b\b  OK \n",
            "Extracting  dataset/originali03/uno93.jpg                                \b\b\b\b 32%\b\b\b\b\b  OK \n",
            "Extracting  dataset/originali03/uno94.jpg                                \b\b\b\b 32%\b\b\b\b\b  OK \n",
            "Extracting  dataset/originali03/uno95.jpg                                \b\b\b\b 33%\b\b\b\b\b  OK \n",
            "Extracting  dataset/originali03/uno96.jpg                                \b\b\b\b 33%\b\b\b\b\b  OK \n",
            "Extracting  dataset/originali03/uno97.jpg                                \b\b\b\b 33%\b\b\b\b\b  OK \n",
            "Extracting  dataset/originali03/uno98.jpg                                \b\b\b\b 33%\b\b\b\b\b  OK \n",
            "Extracting  dataset/originali03/uno99.jpg                                \b\b\b\b 33%\b\b\b\b\b  OK \n",
            "Creating    dataset/originali04                                       OK\n",
            "Extracting  dataset/originali04/uno100.jpg                               \b\b\b\b 33%\b\b\b\b\b  OK \n",
            "Extracting  dataset/originali04/uno140.jpg                               \b\b\b\b 33%\b\b\b\b\b  OK \n",
            "Extracting  dataset/originali04/uno141.jpg                               \b\b\b\b 33%\b\b\b\b\b  OK \n",
            "Extracting  dataset/originali04/uno142.jpg                               \b\b\b\b 33%\b\b\b\b\b  OK \n",
            "Extracting  dataset/originali04/uno143.jpg                               \b\b\b\b 33%\b\b\b\b\b  OK \n",
            "Extracting  dataset/originali04/uno144.jpg                               \b\b\b\b 33%\b\b\b\b\b  OK \n",
            "Extracting  dataset/originali04/uno145.jpg                               \b\b\b\b 33%\b\b\b\b\b  OK \n",
            "Extracting  dataset/originali04/uno146.jpg                               \b\b\b\b 34%\b\b\b\b\b  OK \n",
            "Extracting  dataset/originali04/uno147.jpg                               \b\b\b\b 34%\b\b\b\b\b  OK \n",
            "Extracting  dataset/originali04/uno148.jpg                               \b\b\b\b 34%\b\b\b\b\b  OK \n",
            "Extracting  dataset/originali04/uno149.jpg                               \b\b\b\b 34%\b\b\b\b\b  OK \n",
            "Extracting  dataset/originali04/uno150.jpg                               \b\b\b\b 34%\b\b\b\b\b  OK \n",
            "Extracting  dataset/originali04/uno160.jpg                               \b\b\b\b 34%\b\b\b\b\b  OK \n",
            "Extracting  dataset/originali04/uno161.jpg                               \b\b\b\b 34%\b\b\b\b\b  OK \n",
            "Extracting  dataset/originali04/uno162.jpg                               \b\b\b\b 34%\b\b\b\b\b  OK \n",
            "Extracting  dataset/originali04/uno163.jpg                               \b\b\b\b 34%\b\b\b\b\b  OK \n",
            "Extracting  dataset/originali04/uno164.jpg                               \b\b\b\b 34%\b\b\b\b\b  OK \n",
            "Extracting  dataset/originali04/uno165.jpg                               \b\b\b\b 34%\b\b\b\b\b  OK \n",
            "Extracting  dataset/originali04/uno166.jpg                               \b\b\b\b 34%\b\b\b\b\b  OK \n",
            "Extracting  dataset/originali04/uno167.jpg                               \b\b\b\b 35%\b\b\b\b\b  OK \n",
            "Extracting  dataset/originali04/uno168.jpg                               \b\b\b\b 35%\b\b\b\b\b  OK \n",
            "Extracting  dataset/originali04/uno169.jpg                               \b\b\b\b 35%\b\b\b\b\b  OK \n",
            "Extracting  dataset/originali04/uno170.jpg                               \b\b\b\b 35%\b\b\b\b\b  OK \n",
            "Extracting  dataset/originali04/uno190.jpg                               \b\b\b\b 35%\b\b\b\b\b  OK \n",
            "Extracting  dataset/originali04/uno191.jpg                               \b\b\b\b 35%\b\b\b\b\b  OK \n",
            "Extracting  dataset/originali04/uno192.jpg                               \b\b\b\b 35%\b\b\b\b\b  OK \n",
            "Extracting  dataset/originali04/uno193.jpg                               \b\b\b\b 35%\b\b\b\b\b  OK \n",
            "Extracting  dataset/originali04/uno194.jpg                               \b\b\b\b 35%\b\b\b\b\b  OK \n",
            "Extracting  dataset/originali04/uno195.jpg                               \b\b\b\b 35%\b\b\b\b\b  OK \n",
            "Extracting  dataset/originali04/uno196.jpg                               \b\b\b\b 35%\b\b\b\b\b  OK \n",
            "Extracting  dataset/originali04/uno197.jpg                               \b\b\b\b 36%\b\b\b\b\b  OK \n",
            "Extracting  dataset/originali04/uno198.jpg                               \b\b\b\b 36%\b\b\b\b\b  OK \n",
            "Extracting  dataset/originali04/uno199.jpg                               \b\b\b\b 36%\b\b\b\b\b  OK \n",
            "Extracting  dataset/originali04/uno200.jpg                               \b\b\b\b 36%\b\b\b\b\b  OK \n",
            "Extracting  dataset/originali04/uno220.jpg                               \b\b\b\b 36%\b\b\b\b\b  OK \n",
            "Extracting  dataset/originali04/uno221.jpg                               \b\b\b\b 36%\b\b\b\b\b  OK \n",
            "Extracting  dataset/originali04/uno222.jpg                               \b\b\b\b 36%\b\b\b\b\b  OK \n",
            "Extracting  dataset/originali04/uno223.jpg                               \b\b\b\b 36%\b\b\b\b\b  OK \n",
            "Extracting  dataset/originali04/uno224.jpg                               \b\b\b\b 36%\b\b\b\b\b  OK \n",
            "Extracting  dataset/originali04/uno225.jpg                               \b\b\b\b 36%\b\b\b\b\b  OK \n",
            "Extracting  dataset/originali04/uno226.jpg                               \b\b\b\b 36%\b\b\b\b\b  OK \n",
            "Extracting  dataset/originali04/uno227.jpg                               \b\b\b\b 36%\b\b\b\b\b  OK \n",
            "Extracting  dataset/originali04/uno228.jpg                               \b\b\b\b 37%\b\b\b\b\b  OK \n",
            "Extracting  dataset/originali04/uno229.jpg                               \b\b\b\b 37%\b\b\b\b\b  OK \n",
            "Extracting  dataset/originali04/uno230.jpg                               \b\b\b\b 37%\b\b\b\b\b  OK \n",
            "Extracting  dataset/originali04/uno90.jpg                                \b\b\b\b 37%\b\b\b\b\b  OK \n",
            "Extracting  dataset/originali04/uno91.jpg                                \b\b\b\b 37%\b\b\b\b\b  OK \n",
            "Extracting  dataset/originali04/uno92.jpg                                \b\b\b\b 37%\b\b\b\b\b  OK \n",
            "Extracting  dataset/originali04/uno93.jpg                                \b\b\b\b 37%\b\b\b\b\b  OK \n",
            "Extracting  dataset/originali04/uno94.jpg                                \b\b\b\b 37%\b\b\b\b\b  OK \n",
            "Extracting  dataset/originali04/uno95.jpg                                \b\b\b\b 37%\b\b\b\b\b  OK \n",
            "Extracting  dataset/originali04/uno96.jpg                                \b\b\b\b 37%\b\b\b\b\b  OK \n",
            "Extracting  dataset/originali04/uno97.jpg                                \b\b\b\b 37%\b\b\b\b\b  OK \n",
            "Extracting  dataset/originali04/uno98.jpg                                \b\b\b\b 37%\b\b\b\b\b  OK \n",
            "Extracting  dataset/originali04/uno99.jpg                                \b\b\b\b 37%\b\b\b\b\b  OK \n",
            "Creating    dataset/originali05                                       OK\n",
            "Extracting  dataset/originali05/uno100.jpg                               \b\b\b\b 38%\b\b\b\b\b  OK \n",
            "Extracting  dataset/originali05/uno140.jpg                               \b\b\b\b 38%\b\b\b\b\b  OK \n",
            "Extracting  dataset/originali05/uno141.jpg                               \b\b\b\b 38%\b\b\b\b\b  OK \n",
            "Extracting  dataset/originali05/uno142.jpg                               \b\b\b\b 38%\b\b\b\b\b  OK \n",
            "Extracting  dataset/originali05/uno143.jpg                               \b\b\b\b 38%\b\b\b\b\b  OK \n",
            "Extracting  dataset/originali05/uno144.jpg                               \b\b\b\b 38%\b\b\b\b\b  OK \n",
            "Extracting  dataset/originali05/uno145.jpg                               \b\b\b\b 38%\b\b\b\b\b  OK \n",
            "Extracting  dataset/originali05/uno146.jpg                               \b\b\b\b 38%\b\b\b\b\b  OK \n",
            "Extracting  dataset/originali05/uno147.jpg                               \b\b\b\b 38%\b\b\b\b\b  OK \n",
            "Extracting  dataset/originali05/uno148.jpg                               \b\b\b\b 39%\b\b\b\b\b  OK \n",
            "Extracting  dataset/originali05/uno149.jpg                               \b\b\b\b 39%\b\b\b\b\b  OK \n",
            "Extracting  dataset/originali05/uno150.jpg                               \b\b\b\b 39%\b\b\b\b\b  OK \n",
            "Extracting  dataset/originali05/uno160.jpg                               \b\b\b\b 39%\b\b\b\b\b  OK \n",
            "Extracting  dataset/originali05/uno161.jpg                               \b\b\b\b 39%\b\b\b\b\b  OK \n",
            "Extracting  dataset/originali05/uno162.jpg                               \b\b\b\b 39%\b\b\b\b\b  OK \n",
            "Extracting  dataset/originali05/uno163.jpg                               \b\b\b\b 39%\b\b\b\b\b  OK \n",
            "Extracting  dataset/originali05/uno164.jpg                               \b\b\b\b 39%\b\b\b\b\b  OK \n",
            "Extracting  dataset/originali05/uno165.jpg                               \b\b\b\b 39%\b\b\b\b\b  OK \n",
            "Extracting  dataset/originali05/uno166.jpg                               \b\b\b\b 40%\b\b\b\b\b  OK \n",
            "Extracting  dataset/originali05/uno167.jpg                               \b\b\b\b 40%\b\b\b\b\b  OK \n",
            "Extracting  dataset/originali05/uno168.jpg                               \b\b\b\b 40%\b\b\b\b\b  OK \n",
            "Extracting  dataset/originali05/uno169.jpg                               \b\b\b\b 40%\b\b\b\b\b  OK \n",
            "Extracting  dataset/originali05/uno170.jpg                               \b\b\b\b 40%\b\b\b\b\b  OK \n",
            "Extracting  dataset/originali05/uno190.jpg                               \b\b\b\b 40%\b\b\b\b\b  OK \n",
            "Extracting  dataset/originali05/uno191.jpg                               \b\b\b\b 40%\b\b\b\b\b  OK \n",
            "Extracting  dataset/originali05/uno192.jpg                               \b\b\b\b 40%\b\b\b\b\b  OK \n",
            "Extracting  dataset/originali05/uno193.jpg                               \b\b\b\b 40%\b\b\b\b\b  OK \n",
            "Extracting  dataset/originali05/uno194.jpg                               \b\b\b\b 40%\b\b\b\b\b  OK \n",
            "Extracting  dataset/originali05/uno195.jpg                               \b\b\b\b 41%\b\b\b\b\b  OK \n",
            "Extracting  dataset/originali05/uno196.jpg                               \b\b\b\b 41%\b\b\b\b\b  OK \n",
            "Extracting  dataset/originali05/uno197.jpg                               \b\b\b\b 41%\b\b\b\b\b  OK \n",
            "Extracting  dataset/originali05/uno198.jpg                               \b\b\b\b 41%\b\b\b\b\b  OK \n",
            "Extracting  dataset/originali05/uno199.jpg                               \b\b\b\b 41%\b\b\b\b\b  OK \n",
            "Extracting  dataset/originali05/uno200.jpg                               \b\b\b\b 41%\b\b\b\b\b  OK \n",
            "Extracting  dataset/originali05/uno220.jpg                               \b\b\b\b 41%\b\b\b\b\b  OK \n",
            "Extracting  dataset/originali05/uno221.jpg                               \b\b\b\b 41%\b\b\b\b\b  OK \n",
            "Extracting  dataset/originali05/uno222.jpg                               \b\b\b\b 41%\b\b\b\b\b  OK \n",
            "Extracting  dataset/originali05/uno223.jpg                               \b\b\b\b 42%\b\b\b\b\b  OK \n",
            "Extracting  dataset/originali05/uno224.jpg                               \b\b\b\b 42%\b\b\b\b\b  OK \n",
            "Extracting  dataset/originali05/uno225.jpg                               \b\b\b\b 42%\b\b\b\b\b  OK \n",
            "Extracting  dataset/originali05/uno226.jpg                               \b\b\b\b 42%\b\b\b\b\b  OK \n",
            "Extracting  dataset/originali05/uno227.jpg                               \b\b\b\b 42%\b\b\b\b\b  OK \n",
            "Extracting  dataset/originali05/uno228.jpg                               \b\b\b\b 42%\b\b\b\b\b  OK \n",
            "Extracting  dataset/originali05/uno229.jpg                               \b\b\b\b 42%\b\b\b\b\b  OK \n",
            "Extracting  dataset/originali05/uno230.jpg                               \b\b\b\b 42%\b\b\b\b\b  OK \n",
            "Extracting  dataset/originali05/uno90.jpg                                \b\b\b\b 42%\b\b\b\b\b  OK \n",
            "Extracting  dataset/originali05/uno91.jpg                                \b\b\b\b 43%\b\b\b\b\b  OK \n",
            "Extracting  dataset/originali05/uno92.jpg                                \b\b\b\b 43%\b\b\b\b\b  OK \n",
            "Extracting  dataset/originali05/uno93.jpg                                \b\b\b\b 43%\b\b\b\b\b  OK \n",
            "Extracting  dataset/originali05/uno94.jpg                                \b\b\b\b 43%\b\b\b\b\b  OK \n",
            "Extracting  dataset/originali05/uno95.jpg                                \b\b\b\b 43%\b\b\b\b\b  OK \n",
            "Extracting  dataset/originali05/uno96.jpg                                \b\b\b\b 43%\b\b\b\b\b  OK \n",
            "Extracting  dataset/originali05/uno97.jpg                                \b\b\b\b 43%\b\b\b\b\b  OK \n",
            "Extracting  dataset/originali05/uno98.jpg                                \b\b\b\b 43%\b\b\b\b\b  OK \n",
            "Extracting  dataset/originali05/uno99.jpg                                \b\b\b\b 44%\b\b\b\b\b  OK \n",
            "Creating    dataset/originali06                                       OK\n",
            "Extracting  dataset/originali06/uno100.jpg                               \b\b\b\b 44%\b\b\b\b\b  OK \n",
            "Extracting  dataset/originali06/uno140.jpg                               \b\b\b\b 44%\b\b\b\b\b  OK \n",
            "Extracting  dataset/originali06/uno141.jpg                               \b\b\b\b 44%\b\b\b\b\b  OK \n",
            "Extracting  dataset/originali06/uno142.jpg                               \b\b\b\b 44%\b\b\b\b\b  OK \n",
            "Extracting  dataset/originali06/uno143.jpg                               \b\b\b\b 44%\b\b\b\b\b  OK \n",
            "Extracting  dataset/originali06/uno144.jpg                               \b\b\b\b 44%\b\b\b\b\b  OK \n",
            "Extracting  dataset/originali06/uno145.jpg                               \b\b\b\b 44%\b\b\b\b\b  OK \n",
            "Extracting  dataset/originali06/uno146.jpg                               \b\b\b\b 44%\b\b\b\b\b  OK \n",
            "Extracting  dataset/originali06/uno147.jpg                               \b\b\b\b 44%\b\b\b\b\b  OK \n",
            "Extracting  dataset/originali06/uno148.jpg                               \b\b\b\b 44%\b\b\b\b\b  OK \n",
            "Extracting  dataset/originali06/uno149.jpg                               \b\b\b\b 44%\b\b\b\b\b  OK \n",
            "Extracting  dataset/originali06/uno150.jpg                               \b\b\b\b 45%\b\b\b\b\b  OK \n",
            "Extracting  dataset/originali06/uno160.jpg                               \b\b\b\b 45%\b\b\b\b\b  OK \n",
            "Extracting  dataset/originali06/uno161.jpg                               \b\b\b\b 45%\b\b\b\b\b  OK \n",
            "Extracting  dataset/originali06/uno162.jpg                               \b\b\b\b 45%\b\b\b\b\b  OK \n",
            "Extracting  dataset/originali06/uno163.jpg                               \b\b\b\b 45%\b\b\b\b\b  OK \n",
            "Extracting  dataset/originali06/uno164.jpg                               \b\b\b\b 45%\b\b\b\b\b  OK \n",
            "Extracting  dataset/originali06/uno165.jpg                               \b\b\b\b 45%\b\b\b\b\b  OK \n",
            "Extracting  dataset/originali06/uno166.jpg                               \b\b\b\b 45%\b\b\b\b\b  OK \n",
            "Extracting  dataset/originali06/uno167.jpg                               \b\b\b\b 45%\b\b\b\b\b  OK \n",
            "Extracting  dataset/originali06/uno168.jpg                               \b\b\b\b 45%\b\b\b\b\b  OK \n",
            "Extracting  dataset/originali06/uno169.jpg                               \b\b\b\b 45%\b\b\b\b\b  OK \n",
            "Extracting  dataset/originali06/uno170.jpg                               \b\b\b\b 46%\b\b\b\b\b  OK \n",
            "Extracting  dataset/originali06/uno190.jpg                               \b\b\b\b 46%\b\b\b\b\b  OK \n",
            "Extracting  dataset/originali06/uno191.jpg                               \b\b\b\b 46%\b\b\b\b\b  OK \n",
            "Extracting  dataset/originali06/uno192.jpg                               \b\b\b\b 46%\b\b\b\b\b  OK \n",
            "Extracting  dataset/originali06/uno193.jpg                               \b\b\b\b 46%\b\b\b\b\b  OK \n",
            "Extracting  dataset/originali06/uno194.jpg                               \b\b\b\b 46%\b\b\b\b\b  OK \n",
            "Extracting  dataset/originali06/uno195.jpg                               \b\b\b\b 46%\b\b\b\b\b  OK \n",
            "Extracting  dataset/originali06/uno196.jpg                               \b\b\b\b 46%\b\b\b\b\b  OK \n",
            "Extracting  dataset/originali06/uno197.jpg                               \b\b\b\b 46%\b\b\b\b\b  OK \n",
            "Extracting  dataset/originali06/uno198.jpg                               \b\b\b\b 46%\b\b\b\b\b  OK \n",
            "Extracting  dataset/originali06/uno199.jpg                               \b\b\b\b 46%\b\b\b\b\b  OK \n",
            "Extracting  dataset/originali06/uno200.jpg                               \b\b\b\b 46%\b\b\b\b\b  OK \n",
            "Extracting  dataset/originali06/uno220.jpg                               \b\b\b\b 46%\b\b\b\b\b  OK \n",
            "Extracting  dataset/originali06/uno221.jpg                               \b\b\b\b 47%\b\b\b\b\b  OK \n",
            "Extracting  dataset/originali06/uno222.jpg                               \b\b\b\b 47%\b\b\b\b\b  OK \n",
            "Extracting  dataset/originali06/uno223.jpg                               \b\b\b\b 47%\b\b\b\b\b  OK \n",
            "Extracting  dataset/originali06/uno224.jpg                               \b\b\b\b 47%\b\b\b\b\b  OK \n",
            "Extracting  dataset/originali06/uno225.jpg                               \b\b\b\b 47%\b\b\b\b\b  OK \n",
            "Extracting  dataset/originali06/uno226.jpg                               \b\b\b\b 47%\b\b\b\b\b  OK \n",
            "Extracting  dataset/originali06/uno227.jpg                               \b\b\b\b 47%\b\b\b\b\b  OK \n",
            "Extracting  dataset/originali06/uno228.jpg                               \b\b\b\b 47%\b\b\b\b\b  OK \n",
            "Extracting  dataset/originali06/uno229.jpg                               \b\b\b\b 47%\b\b\b\b\b  OK \n",
            "Extracting  dataset/originali06/uno230.jpg                               \b\b\b\b 47%\b\b\b\b\b  OK \n",
            "Extracting  dataset/originali06/uno90.jpg                                \b\b\b\b 47%\b\b\b\b\b  OK \n",
            "Extracting  dataset/originali06/uno91.jpg                                \b\b\b\b 47%\b\b\b\b\b  OK \n",
            "Extracting  dataset/originali06/uno92.jpg                                \b\b\b\b 47%\b\b\b\b\b  OK \n",
            "Extracting  dataset/originali06/uno93.jpg                                \b\b\b\b 47%\b\b\b\b\b  OK \n",
            "Extracting  dataset/originali06/uno94.jpg                                \b\b\b\b 48%\b\b\b\b\b  OK \n",
            "Extracting  dataset/originali06/uno95.jpg                                \b\b\b\b 48%\b\b\b\b\b  OK \n",
            "Extracting  dataset/originali06/uno96.jpg                                \b\b\b\b 48%\b\b\b\b\b  OK \n",
            "Extracting  dataset/originali06/uno97.jpg                                \b\b\b\b 48%\b\b\b\b\b  OK \n",
            "Extracting  dataset/originali06/uno98.jpg                                \b\b\b\b 48%\b\b\b\b\b  OK \n",
            "Extracting  dataset/originali06/uno99.jpg                                \b\b\b\b 48%\b\b\b\b\b  OK \n",
            "Creating    dataset/originali07                                       OK\n",
            "Extracting  dataset/originali07/uno100.jpg                               \b\b\b\b 48%\b\b\b\b\b  OK \n",
            "Extracting  dataset/originali07/uno140.jpg                               \b\b\b\b 48%\b\b\b\b\b  OK \n",
            "Extracting  dataset/originali07/uno141.jpg                               \b\b\b\b 48%\b\b\b\b\b  OK \n",
            "Extracting  dataset/originali07/uno142.jpg                               \b\b\b\b 48%\b\b\b\b\b  OK \n",
            "Extracting  dataset/originali07/uno143.jpg                               \b\b\b\b 48%\b\b\b\b\b  OK \n",
            "Extracting  dataset/originali07/uno144.jpg                               \b\b\b\b 48%\b\b\b\b\b  OK \n",
            "Extracting  dataset/originali07/uno145.jpg                               \b\b\b\b 48%\b\b\b\b\b  OK \n",
            "Extracting  dataset/originali07/uno146.jpg                               \b\b\b\b 49%\b\b\b\b\b  OK \n",
            "Extracting  dataset/originali07/uno147.jpg                               \b\b\b\b 49%\b\b\b\b\b  OK \n",
            "Extracting  dataset/originali07/uno148.jpg                               \b\b\b\b 49%\b\b\b\b\b  OK \n",
            "Extracting  dataset/originali07/uno149.jpg                               \b\b\b\b 49%\b\b\b\b\b  OK \n",
            "Extracting  dataset/originali07/uno150.jpg                               \b\b\b\b 49%\b\b\b\b\b  OK \n",
            "Extracting  dataset/originali07/uno160.jpg                               \b\b\b\b 49%\b\b\b\b\b  OK \n",
            "Extracting  dataset/originali07/uno161.jpg                               \b\b\b\b 49%\b\b\b\b\b  OK \n",
            "Extracting  dataset/originali07/uno162.jpg                               \b\b\b\b 49%\b\b\b\b\b  OK \n",
            "Extracting  dataset/originali07/uno163.jpg                               \b\b\b\b 49%\b\b\b\b\b  OK \n",
            "Extracting  dataset/originali07/uno164.jpg                               \b\b\b\b 49%\b\b\b\b\b  OK \n",
            "Extracting  dataset/originali07/uno165.jpg                               \b\b\b\b 50%\b\b\b\b\b  OK \n",
            "Extracting  dataset/originali07/uno166.jpg                               \b\b\b\b 50%\b\b\b\b\b  OK \n",
            "Extracting  dataset/originali07/uno167.jpg                               \b\b\b\b 50%\b\b\b\b\b  OK \n",
            "Extracting  dataset/originali07/uno168.jpg                               \b\b\b\b 50%\b\b\b\b\b  OK \n",
            "Extracting  dataset/originali07/uno169.jpg                               \b\b\b\b 50%\b\b\b\b\b  OK \n",
            "Extracting  dataset/originali07/uno170.jpg                               \b\b\b\b 50%\b\b\b\b\b  OK \n",
            "Extracting  dataset/originali07/uno190.jpg                               \b\b\b\b 50%\b\b\b\b\b  OK \n",
            "Extracting  dataset/originali07/uno191.jpg                               \b\b\b\b 50%\b\b\b\b\b  OK \n",
            "Extracting  dataset/originali07/uno192.jpg                               \b\b\b\b 50%\b\b\b\b\b  OK \n",
            "Extracting  dataset/originali07/uno193.jpg                               \b\b\b\b 50%\b\b\b\b\b  OK \n",
            "Extracting  dataset/originali07/uno194.jpg                               \b\b\b\b 51%\b\b\b\b\b  OK \n",
            "Extracting  dataset/originali07/uno195.jpg                               \b\b\b\b 51%\b\b\b\b\b  OK \n",
            "Extracting  dataset/originali07/uno196.jpg                               \b\b\b\b 51%\b\b\b\b\b  OK \n",
            "Extracting  dataset/originali07/uno197.jpg                               \b\b\b\b 51%\b\b\b\b\b  OK \n",
            "Extracting  dataset/originali07/uno198.jpg                               \b\b\b\b 51%\b\b\b\b\b  OK \n",
            "Extracting  dataset/originali07/uno199.jpg                               \b\b\b\b 51%\b\b\b\b\b  OK \n",
            "Extracting  dataset/originali07/uno200.jpg                               \b\b\b\b 51%\b\b\b\b\b  OK \n",
            "Extracting  dataset/originali07/uno220.jpg                               \b\b\b\b 51%\b\b\b\b\b  OK \n",
            "Extracting  dataset/originali07/uno221.jpg                               \b\b\b\b 51%\b\b\b\b\b  OK \n",
            "Extracting  dataset/originali07/uno222.jpg                               \b\b\b\b 52%\b\b\b\b\b  OK \n",
            "Extracting  dataset/originali07/uno223.jpg                               \b\b\b\b 52%\b\b\b\b\b  OK \n",
            "Extracting  dataset/originali07/uno224.jpg                               \b\b\b\b 52%\b\b\b\b\b  OK \n",
            "Extracting  dataset/originali07/uno225.jpg                               \b\b\b\b 52%\b\b\b\b\b  OK \n",
            "Extracting  dataset/originali07/uno226.jpg                               \b\b\b\b 52%\b\b\b\b\b  OK \n",
            "Extracting  dataset/originali07/uno227.jpg                               \b\b\b\b 52%\b\b\b\b\b  OK \n",
            "Extracting  dataset/originali07/uno228.jpg                               \b\b\b\b 52%\b\b\b\b\b  OK \n",
            "Extracting  dataset/originali07/uno229.jpg                               \b\b\b\b 52%\b\b\b\b\b  OK \n",
            "Extracting  dataset/originali07/uno230.jpg                               \b\b\b\b 52%\b\b\b\b\b  OK \n",
            "Extracting  dataset/originali07/uno90.jpg                                \b\b\b\b 52%\b\b\b\b\b  OK \n",
            "Extracting  dataset/originali07/uno91.jpg                                \b\b\b\b 52%\b\b\b\b\b  OK \n",
            "Extracting  dataset/originali07/uno92.jpg                                \b\b\b\b 53%\b\b\b\b\b  OK \n",
            "Extracting  dataset/originali07/uno93.jpg                                \b\b\b\b 53%\b\b\b\b\b  OK \n",
            "Extracting  dataset/originali07/uno94.jpg                                \b\b\b\b 53%\b\b\b\b\b  OK \n",
            "Extracting  dataset/originali07/uno95.jpg                                \b\b\b\b 53%\b\b\b\b\b  OK \n",
            "Extracting  dataset/originali07/uno96.jpg                                \b\b\b\b 53%\b\b\b\b\b  OK \n",
            "Extracting  dataset/originali07/uno97.jpg                                \b\b\b\b 53%\b\b\b\b\b  OK \n",
            "Extracting  dataset/originali07/uno98.jpg                                \b\b\b\b 53%\b\b\b\b\b  OK \n",
            "Extracting  dataset/originali07/uno99.jpg                                \b\b\b\b 53%\b\b\b\b\b  OK \n",
            "Creating    dataset/originali08                                       OK\n",
            "Extracting  dataset/originali08/uno100.jpg                               \b\b\b\b 53%\b\b\b\b\b  OK \n",
            "Extracting  dataset/originali08/uno140.jpg                               \b\b\b\b 53%\b\b\b\b\b  OK \n",
            "Extracting  dataset/originali08/uno141.jpg                               \b\b\b\b 53%\b\b\b\b\b  OK \n",
            "Extracting  dataset/originali08/uno142.jpg                               \b\b\b\b 53%\b\b\b\b\b  OK \n",
            "Extracting  dataset/originali08/uno143.jpg                               \b\b\b\b 53%\b\b\b\b\b  OK \n",
            "Extracting  dataset/originali08/uno144.jpg                               \b\b\b\b 53%\b\b\b\b\b  OK \n",
            "Extracting  dataset/originali08/uno145.jpg                               \b\b\b\b 54%\b\b\b\b\b  OK \n",
            "Extracting  dataset/originali08/uno146.jpg                               \b\b\b\b 54%\b\b\b\b\b  OK \n",
            "Extracting  dataset/originali08/uno147.jpg                               \b\b\b\b 54%\b\b\b\b\b  OK \n",
            "Extracting  dataset/originali08/uno148.jpg                               \b\b\b\b 54%\b\b\b\b\b  OK \n",
            "Extracting  dataset/originali08/uno149.jpg                               \b\b\b\b 54%\b\b\b\b\b  OK \n",
            "Extracting  dataset/originali08/uno150.jpg                               \b\b\b\b 54%\b\b\b\b\b  OK \n",
            "Extracting  dataset/originali08/uno160.jpg                               \b\b\b\b 54%\b\b\b\b\b  OK \n",
            "Extracting  dataset/originali08/uno161.jpg                               \b\b\b\b 54%\b\b\b\b\b  OK \n",
            "Extracting  dataset/originali08/uno162.jpg                               \b\b\b\b 54%\b\b\b\b\b  OK \n",
            "Extracting  dataset/originali08/uno163.jpg                               \b\b\b\b 54%\b\b\b\b\b  OK \n",
            "Extracting  dataset/originali08/uno164.jpg                               \b\b\b\b 54%\b\b\b\b\b  OK \n",
            "Extracting  dataset/originali08/uno165.jpg                               \b\b\b\b 54%\b\b\b\b\b  OK \n",
            "Extracting  dataset/originali08/uno166.jpg                               \b\b\b\b 54%\b\b\b\b\b  OK \n",
            "Extracting  dataset/originali08/uno167.jpg                               \b\b\b\b 54%\b\b\b\b\b  OK \n",
            "Extracting  dataset/originali08/uno168.jpg                               \b\b\b\b 54%\b\b\b\b\b  OK \n",
            "Extracting  dataset/originali08/uno169.jpg                               \b\b\b\b 54%\b\b\b\b\b  OK \n",
            "Extracting  dataset/originali08/uno170.jpg                               \b\b\b\b 54%\b\b\b\b\b  OK \n",
            "Extracting  dataset/originali08/uno190.jpg                               \b\b\b\b 55%\b\b\b\b\b  OK \n",
            "Extracting  dataset/originali08/uno191.jpg                               \b\b\b\b 55%\b\b\b\b\b  OK \n",
            "Extracting  dataset/originali08/uno192.jpg                               \b\b\b\b 55%\b\b\b\b\b  OK \n",
            "Extracting  dataset/originali08/uno193.jpg                               \b\b\b\b 55%\b\b\b\b\b  OK \n",
            "Extracting  dataset/originali08/uno194.jpg                               \b\b\b\b 55%\b\b\b\b\b  OK \n",
            "Extracting  dataset/originali08/uno195.jpg                               \b\b\b\b 55%\b\b\b\b\b  OK \n",
            "Extracting  dataset/originali08/uno196.jpg                               \b\b\b\b 55%\b\b\b\b\b  OK \n",
            "Extracting  dataset/originali08/uno197.jpg                               \b\b\b\b 55%\b\b\b\b\b  OK \n",
            "Extracting  dataset/originali08/uno198.jpg                               \b\b\b\b 55%\b\b\b\b\b  OK \n",
            "Extracting  dataset/originali08/uno199.jpg                               \b\b\b\b 55%\b\b\b\b\b  OK \n",
            "Extracting  dataset/originali08/uno200.jpg                               \b\b\b\b 55%\b\b\b\b\b  OK \n",
            "Extracting  dataset/originali08/uno220.jpg                               \b\b\b\b 55%\b\b\b\b\b  OK \n",
            "Extracting  dataset/originali08/uno221.jpg                               \b\b\b\b 55%\b\b\b\b\b  OK \n",
            "Extracting  dataset/originali08/uno222.jpg                               \b\b\b\b 55%\b\b\b\b\b  OK \n",
            "Extracting  dataset/originali08/uno223.jpg                               \b\b\b\b 55%\b\b\b\b\b  OK \n",
            "Extracting  dataset/originali08/uno224.jpg                               \b\b\b\b 55%\b\b\b\b\b  OK \n",
            "Extracting  dataset/originali08/uno225.jpg                               \b\b\b\b 56%\b\b\b\b\b  OK \n",
            "Extracting  dataset/originali08/uno226.jpg                               \b\b\b\b 56%\b\b\b\b\b  OK \n",
            "Extracting  dataset/originali08/uno227.jpg                               \b\b\b\b 56%\b\b\b\b\b  OK \n",
            "Extracting  dataset/originali08/uno228.jpg                               \b\b\b\b 56%\b\b\b\b\b  OK \n",
            "Extracting  dataset/originali08/uno229.jpg                               \b\b\b\b 56%\b\b\b\b\b  OK \n",
            "Extracting  dataset/originali08/uno230.jpg                               \b\b\b\b 56%\b\b\b\b\b  OK \n",
            "Extracting  dataset/originali08/uno90.jpg                                \b\b\b\b 56%\b\b\b\b\b  OK \n",
            "Extracting  dataset/originali08/uno91.jpg                                \b\b\b\b 56%\b\b\b\b\b  OK \n",
            "Extracting  dataset/originali08/uno92.jpg                                \b\b\b\b 56%\b\b\b\b\b  OK \n",
            "Extracting  dataset/originali08/uno93.jpg                                \b\b\b\b 56%\b\b\b\b\b  OK \n",
            "Extracting  dataset/originali08/uno94.jpg                                \b\b\b\b 56%\b\b\b\b\b  OK \n",
            "Extracting  dataset/originali08/uno95.jpg                                \b\b\b\b 56%\b\b\b\b\b  OK \n",
            "Extracting  dataset/originali08/uno96.jpg                                \b\b\b\b 56%\b\b\b\b\b  OK \n",
            "Extracting  dataset/originali08/uno97.jpg                                \b\b\b\b 56%\b\b\b\b\b  OK \n",
            "Extracting  dataset/originali08/uno98.jpg                                \b\b\b\b 56%\b\b\b\b\b  OK \n",
            "Extracting  dataset/originali08/uno99.jpg                                \b\b\b\b 56%\b\b\b\b\b  OK \n",
            "Creating    dataset/originali09                                       OK\n",
            "Extracting  dataset/originali09/uno100.jpg                               \b\b\b\b 56%\b\b\b\b\b  OK \n",
            "Extracting  dataset/originali09/uno140.jpg                               \b\b\b\b 57%\b\b\b\b\b  OK \n",
            "Extracting  dataset/originali09/uno141.jpg                               \b\b\b\b 57%\b\b\b\b\b  OK \n",
            "Extracting  dataset/originali09/uno142.jpg                               \b\b\b\b 57%\b\b\b\b\b  OK \n",
            "Extracting  dataset/originali09/uno143.jpg                               \b\b\b\b 57%\b\b\b\b\b  OK \n",
            "Extracting  dataset/originali09/uno144.jpg                               \b\b\b\b 57%\b\b\b\b\b  OK \n",
            "Extracting  dataset/originali09/uno145.jpg                               \b\b\b\b 57%\b\b\b\b\b  OK \n",
            "Extracting  dataset/originali09/uno146.jpg                               \b\b\b\b 57%\b\b\b\b\b  OK \n",
            "Extracting  dataset/originali09/uno147.jpg                               \b\b\b\b 57%\b\b\b\b\b  OK \n",
            "Extracting  dataset/originali09/uno148.jpg                               \b\b\b\b 57%\b\b\b\b\b  OK \n",
            "Extracting  dataset/originali09/uno149.jpg                               \b\b\b\b 57%\b\b\b\b\b  OK \n",
            "Extracting  dataset/originali09/uno150.jpg                               \b\b\b\b 58%\b\b\b\b\b  OK \n",
            "Extracting  dataset/originali09/uno160.jpg                               \b\b\b\b 58%\b\b\b\b\b  OK \n",
            "Extracting  dataset/originali09/uno161.jpg                               \b\b\b\b 58%\b\b\b\b\b  OK \n",
            "Extracting  dataset/originali09/uno162.jpg                               \b\b\b\b 58%\b\b\b\b\b  OK \n",
            "Extracting  dataset/originali09/uno163.jpg                               \b\b\b\b 58%\b\b\b\b\b  OK \n",
            "Extracting  dataset/originali09/uno164.jpg                               \b\b\b\b 58%\b\b\b\b\b  OK \n",
            "Extracting  dataset/originali09/uno165.jpg                               \b\b\b\b 58%\b\b\b\b\b  OK \n",
            "Extracting  dataset/originali09/uno166.jpg                               \b\b\b\b 58%\b\b\b\b\b  OK \n",
            "Extracting  dataset/originali09/uno167.jpg                               \b\b\b\b 58%\b\b\b\b\b  OK \n",
            "Extracting  dataset/originali09/uno168.jpg                               \b\b\b\b 58%\b\b\b\b\b  OK \n",
            "Extracting  dataset/originali09/uno169.jpg                               \b\b\b\b 59%\b\b\b\b\b  OK \n",
            "Extracting  dataset/originali09/uno170.jpg                               \b\b\b\b 59%\b\b\b\b\b  OK \n",
            "Extracting  dataset/originali09/uno190.jpg                               \b\b\b\b 59%\b\b\b\b\b  OK \n",
            "Extracting  dataset/originali09/uno191.jpg                               \b\b\b\b 59%\b\b\b\b\b  OK \n",
            "Extracting  dataset/originali09/uno192.jpg                               \b\b\b\b 59%\b\b\b\b\b  OK \n",
            "Extracting  dataset/originali09/uno193.jpg                               \b\b\b\b 59%\b\b\b\b\b  OK \n",
            "Extracting  dataset/originali09/uno194.jpg                               \b\b\b\b 59%\b\b\b\b\b  OK \n",
            "Extracting  dataset/originali09/uno195.jpg                               \b\b\b\b 59%\b\b\b\b\b  OK \n",
            "Extracting  dataset/originali09/uno196.jpg                               \b\b\b\b 59%\b\b\b\b\b  OK \n",
            "Extracting  dataset/originali09/uno197.jpg                               \b\b\b\b 59%\b\b\b\b\b  OK \n",
            "Extracting  dataset/originali09/uno198.jpg                               \b\b\b\b 59%\b\b\b\b\b  OK \n",
            "Extracting  dataset/originali09/uno199.jpg                               \b\b\b\b 60%\b\b\b\b\b  OK \n",
            "Extracting  dataset/originali09/uno200.jpg                               \b\b\b\b 60%\b\b\b\b\b  OK \n",
            "Extracting  dataset/originali09/uno220.jpg                               \b\b\b\b 60%\b\b\b\b\b  OK \n",
            "Extracting  dataset/originali09/uno221.jpg                               \b\b\b\b 60%\b\b\b\b\b  OK \n",
            "Extracting  dataset/originali09/uno222.jpg                               \b\b\b\b 60%\b\b\b\b\b  OK \n",
            "Extracting  dataset/originali09/uno223.jpg                               \b\b\b\b 60%\b\b\b\b\b  OK \n",
            "Extracting  dataset/originali09/uno224.jpg                               \b\b\b\b 60%\b\b\b\b\b  OK \n",
            "Extracting  dataset/originali09/uno225.jpg                               \b\b\b\b 60%\b\b\b\b\b  OK \n",
            "Extracting  dataset/originali09/uno226.jpg                               \b\b\b\b 60%\b\b\b\b\b  OK \n",
            "Extracting  dataset/originali09/uno227.jpg                               \b\b\b\b 60%\b\b\b\b\b  OK \n",
            "Extracting  dataset/originali09/uno228.jpg                               \b\b\b\b 61%\b\b\b\b\b  OK \n",
            "Extracting  dataset/originali09/uno229.jpg                               \b\b\b\b 61%\b\b\b\b\b  OK \n",
            "Extracting  dataset/originali09/uno230.jpg                               \b\b\b\b 61%\b\b\b\b\b  OK \n",
            "Extracting  dataset/originali09/uno90.jpg                                \b\b\b\b 61%\b\b\b\b\b  OK \n",
            "Extracting  dataset/originali09/uno91.jpg                                \b\b\b\b 61%\b\b\b\b\b  OK \n",
            "Extracting  dataset/originali09/uno92.jpg                                \b\b\b\b 61%\b\b\b\b\b  OK \n",
            "Extracting  dataset/originali09/uno93.jpg                                \b\b\b\b 61%\b\b\b\b\b  OK \n",
            "Extracting  dataset/originali09/uno94.jpg                                \b\b\b\b 61%\b\b\b\b\b  OK \n",
            "Extracting  dataset/originali09/uno95.jpg                                \b\b\b\b 61%\b\b\b\b\b  OK \n",
            "Extracting  dataset/originali09/uno96.jpg                                \b\b\b\b 61%\b\b\b\b\b  OK \n",
            "Extracting  dataset/originali09/uno97.jpg                                \b\b\b\b 62%\b\b\b\b\b  OK \n",
            "Extracting  dataset/originali09/uno98.jpg                                \b\b\b\b 62%\b\b\b\b\b  OK \n",
            "Extracting  dataset/originali09/uno99.jpg                                \b\b\b\b 62%\b\b\b\b\b  OK \n",
            "Creating    dataset/originali10                                       OK\n",
            "Extracting  dataset/originali10/uno100.jpg                               \b\b\b\b 62%\b\b\b\b\b  OK \n",
            "Extracting  dataset/originali10/uno140.jpg                               \b\b\b\b 62%\b\b\b\b\b  OK \n",
            "Extracting  dataset/originali10/uno141.jpg                               \b\b\b\b 62%\b\b\b\b\b  OK \n",
            "Extracting  dataset/originali10/uno142.jpg                               \b\b\b\b 62%\b\b\b\b\b  OK \n",
            "Extracting  dataset/originali10/uno143.jpg                               \b\b\b\b 62%\b\b\b\b\b  OK \n",
            "Extracting  dataset/originali10/uno144.jpg                               \b\b\b\b 62%\b\b\b\b\b  OK \n",
            "Extracting  dataset/originali10/uno145.jpg                               \b\b\b\b 62%\b\b\b\b\b  OK \n",
            "Extracting  dataset/originali10/uno146.jpg                               \b\b\b\b 62%\b\b\b\b\b  OK \n",
            "Extracting  dataset/originali10/uno147.jpg                               \b\b\b\b 62%\b\b\b\b\b  OK \n",
            "Extracting  dataset/originali10/uno148.jpg                               \b\b\b\b 63%\b\b\b\b\b  OK \n",
            "Extracting  dataset/originali10/uno149.jpg                               \b\b\b\b 63%\b\b\b\b\b  OK \n",
            "Extracting  dataset/originali10/uno150.jpg                               \b\b\b\b 63%\b\b\b\b\b  OK \n",
            "Extracting  dataset/originali10/uno160.jpg                               \b\b\b\b 63%\b\b\b\b\b  OK \n",
            "Extracting  dataset/originali10/uno161.jpg                               \b\b\b\b 63%\b\b\b\b\b  OK \n",
            "Extracting  dataset/originali10/uno162.jpg                               \b\b\b\b 63%\b\b\b\b\b  OK \n",
            "Extracting  dataset/originali10/uno163.jpg                               \b\b\b\b 63%\b\b\b\b\b  OK \n",
            "Extracting  dataset/originali10/uno164.jpg                               \b\b\b\b 63%\b\b\b\b\b  OK \n",
            "Extracting  dataset/originali10/uno165.jpg                               \b\b\b\b 63%\b\b\b\b\b  OK \n",
            "Extracting  dataset/originali10/uno166.jpg                               \b\b\b\b 63%\b\b\b\b\b  OK \n",
            "Extracting  dataset/originali10/uno167.jpg                               \b\b\b\b 63%\b\b\b\b\b  OK \n",
            "Extracting  dataset/originali10/uno168.jpg                               \b\b\b\b 64%\b\b\b\b\b  OK \n",
            "Extracting  dataset/originali10/uno169.jpg                               \b\b\b\b 64%\b\b\b\b\b  OK \n",
            "Extracting  dataset/originali10/uno170.jpg                               \b\b\b\b 64%\b\b\b\b\b  OK \n",
            "Extracting  dataset/originali10/uno190.jpg                               \b\b\b\b 64%\b\b\b\b\b  OK \n",
            "Extracting  dataset/originali10/uno191.jpg                               \b\b\b\b 64%\b\b\b\b\b  OK \n",
            "Extracting  dataset/originali10/uno192.jpg                               \b\b\b\b 64%\b\b\b\b\b  OK \n",
            "Extracting  dataset/originali10/uno193.jpg                               \b\b\b\b 64%\b\b\b\b\b  OK \n",
            "Extracting  dataset/originali10/uno194.jpg                               \b\b\b\b 64%\b\b\b\b\b  OK \n",
            "Extracting  dataset/originali10/uno195.jpg                               \b\b\b\b 64%\b\b\b\b\b  OK \n",
            "Extracting  dataset/originali10/uno196.jpg                               \b\b\b\b 64%\b\b\b\b\b  OK \n",
            "Extracting  dataset/originali10/uno197.jpg                               \b\b\b\b 64%\b\b\b\b\b  OK \n",
            "Extracting  dataset/originali10/uno198.jpg                               \b\b\b\b 65%\b\b\b\b\b  OK \n",
            "Extracting  dataset/originali10/uno199.jpg                               \b\b\b\b 65%\b\b\b\b\b  OK \n",
            "Extracting  dataset/originali10/uno200.jpg                               \b\b\b\b 65%\b\b\b\b\b  OK \n",
            "Extracting  dataset/originali10/uno220.jpg                               \b\b\b\b 65%\b\b\b\b\b  OK \n",
            "Extracting  dataset/originali10/uno221.jpg                               \b\b\b\b 65%\b\b\b\b\b  OK \n",
            "Extracting  dataset/originali10/uno222.jpg                               \b\b\b\b 65%\b\b\b\b\b  OK \n",
            "Extracting  dataset/originali10/uno223.jpg                               \b\b\b\b 65%\b\b\b\b\b  OK \n",
            "Extracting  dataset/originali10/uno224.jpg                               \b\b\b\b 65%\b\b\b\b\b  OK \n",
            "Extracting  dataset/originali10/uno225.jpg                               \b\b\b\b 65%\b\b\b\b\b  OK \n",
            "Extracting  dataset/originali10/uno226.jpg                               \b\b\b\b 65%\b\b\b\b\b  OK \n",
            "Extracting  dataset/originali10/uno227.jpg                               \b\b\b\b 65%\b\b\b\b\b  OK \n",
            "Extracting  dataset/originali10/uno228.jpg                               \b\b\b\b 66%\b\b\b\b\b  OK \n",
            "Extracting  dataset/originali10/uno229.jpg                               \b\b\b\b 66%\b\b\b\b\b  OK \n",
            "Extracting  dataset/originali10/uno230.jpg                               \b\b\b\b 66%\b\b\b\b\b  OK \n",
            "Extracting  dataset/originali10/uno90.jpg                                \b\b\b\b 66%\b\b\b\b\b  OK \n",
            "Extracting  dataset/originali10/uno91.jpg                                \b\b\b\b 66%\b\b\b\b\b  OK \n",
            "Extracting  dataset/originali10/uno92.jpg                                \b\b\b\b 66%\b\b\b\b\b  OK \n",
            "Extracting  dataset/originali10/uno93.jpg                                \b\b\b\b 66%\b\b\b\b\b  OK \n",
            "Extracting  dataset/originali10/uno94.jpg                                \b\b\b\b 66%\b\b\b\b\b  OK \n",
            "Extracting  dataset/originali10/uno95.jpg                                \b\b\b\b 66%\b\b\b\b\b  OK \n",
            "Extracting  dataset/originali10/uno96.jpg                                \b\b\b\b 66%\b\b\b\b\b  OK \n",
            "Extracting  dataset/originali10/uno97.jpg                                \b\b\b\b 66%\b\b\b\b\b  OK \n",
            "Extracting  dataset/originali10/uno98.jpg                                \b\b\b\b 66%\b\b\b\b\b  OK \n",
            "Extracting  dataset/originali10/uno99.jpg                                \b\b\b\b 66%\b\b\b\b\b  OK \n",
            "Creating    dataset/originali11                                       OK\n",
            "Extracting  dataset/originali11/uno100.jpg                               \b\b\b\b 66%\b\b\b\b\b  OK \n",
            "Extracting  dataset/originali11/uno140.jpg                               \b\b\b\b 66%\b\b\b\b\b  OK \n",
            "Extracting  dataset/originali11/uno141.jpg                               \b\b\b\b 67%\b\b\b\b\b  OK \n",
            "Extracting  dataset/originali11/uno142.jpg                               \b\b\b\b 67%\b\b\b\b\b  OK \n",
            "Extracting  dataset/originali11/uno143.jpg                               \b\b\b\b 67%\b\b\b\b\b  OK \n",
            "Extracting  dataset/originali11/uno144.jpg                               \b\b\b\b 67%\b\b\b\b\b  OK \n",
            "Extracting  dataset/originali11/uno145.jpg                               \b\b\b\b 67%\b\b\b\b\b  OK \n",
            "Extracting  dataset/originali11/uno146.jpg                               \b\b\b\b 67%\b\b\b\b\b  OK \n",
            "Extracting  dataset/originali11/uno147.jpg                               \b\b\b\b 67%\b\b\b\b\b  OK \n",
            "Extracting  dataset/originali11/uno148.jpg                               \b\b\b\b 67%\b\b\b\b\b  OK \n",
            "Extracting  dataset/originali11/uno149.jpg                               \b\b\b\b 67%\b\b\b\b\b  OK \n",
            "Extracting  dataset/originali11/uno150.jpg                               \b\b\b\b 68%\b\b\b\b\b  OK \n",
            "Extracting  dataset/originali11/uno160.jpg                               \b\b\b\b 68%\b\b\b\b\b  OK \n",
            "Extracting  dataset/originali11/uno161.jpg                               \b\b\b\b 68%\b\b\b\b\b  OK \n",
            "Extracting  dataset/originali11/uno162.jpg                               \b\b\b\b 68%\b\b\b\b\b  OK \n",
            "Extracting  dataset/originali11/uno163.jpg                               \b\b\b\b 68%\b\b\b\b\b  OK \n",
            "Extracting  dataset/originali11/uno164.jpg                               \b\b\b\b 68%\b\b\b\b\b  OK \n",
            "Extracting  dataset/originali11/uno165.jpg                               \b\b\b\b 68%\b\b\b\b\b  OK \n",
            "Extracting  dataset/originali11/uno166.jpg                               \b\b\b\b 68%\b\b\b\b\b  OK \n",
            "Extracting  dataset/originali11/uno167.jpg                               \b\b\b\b 69%\b\b\b\b\b  OK \n",
            "Extracting  dataset/originali11/uno168.jpg                               \b\b\b\b 69%\b\b\b\b\b  OK \n",
            "Extracting  dataset/originali11/uno169.jpg                               \b\b\b\b 69%\b\b\b\b\b  OK \n",
            "Extracting  dataset/originali11/uno170.jpg                               \b\b\b\b 69%\b\b\b\b\b  OK \n",
            "Extracting  dataset/originali11/uno190.jpg                               \b\b\b\b 69%\b\b\b\b\b  OK \n",
            "Extracting  dataset/originali11/uno191.jpg                               \b\b\b\b 69%\b\b\b\b\b  OK \n",
            "Extracting  dataset/originali11/uno192.jpg                               \b\b\b\b 69%\b\b\b\b\b  OK \n",
            "Extracting  dataset/originali11/uno193.jpg                               \b\b\b\b 69%\b\b\b\b\b  OK \n",
            "Extracting  dataset/originali11/uno194.jpg                               \b\b\b\b 69%\b\b\b\b\b  OK \n",
            "Extracting  dataset/originali11/uno195.jpg                               \b\b\b\b 70%\b\b\b\b\b  OK \n",
            "Extracting  dataset/originali11/uno196.jpg                               \b\b\b\b 70%\b\b\b\b\b  OK \n",
            "Extracting  dataset/originali11/uno197.jpg                               \b\b\b\b 70%\b\b\b\b\b  OK \n",
            "Extracting  dataset/originali11/uno198.jpg                               \b\b\b\b 70%\b\b\b\b\b  OK \n",
            "Extracting  dataset/originali11/uno199.jpg                               \b\b\b\b 70%\b\b\b\b\b  OK \n",
            "Extracting  dataset/originali11/uno200.jpg                               \b\b\b\b 70%\b\b\b\b\b  OK \n",
            "Extracting  dataset/originali11/uno220.jpg                               \b\b\b\b 70%\b\b\b\b\b  OK \n",
            "Extracting  dataset/originali11/uno221.jpg                               \b\b\b\b 70%\b\b\b\b\b  OK \n",
            "Extracting  dataset/originali11/uno222.jpg                               \b\b\b\b 71%\b\b\b\b\b  OK \n",
            "Extracting  dataset/originali11/uno223.jpg                               \b\b\b\b 71%\b\b\b\b\b  OK \n",
            "Extracting  dataset/originali11/uno224.jpg                               \b\b\b\b 71%\b\b\b\b\b  OK \n",
            "Extracting  dataset/originali11/uno225.jpg                               \b\b\b\b 71%\b\b\b\b\b  OK \n",
            "Extracting  dataset/originali11/uno226.jpg                               \b\b\b\b 71%\b\b\b\b\b  OK \n",
            "Extracting  dataset/originali11/uno227.jpg                               \b\b\b\b 71%\b\b\b\b\b  OK \n",
            "Extracting  dataset/originali11/uno228.jpg                               \b\b\b\b 71%\b\b\b\b\b  OK \n",
            "Extracting  dataset/originali11/uno229.jpg                               \b\b\b\b 71%\b\b\b\b\b  OK \n",
            "Extracting  dataset/originali11/uno230.jpg                               \b\b\b\b 72%\b\b\b\b\b  OK \n",
            "Extracting  dataset/originali11/uno90.jpg                                \b\b\b\b 72%\b\b\b\b\b  OK \n",
            "Extracting  dataset/originali11/uno91.jpg                                \b\b\b\b 72%\b\b\b\b\b  OK \n",
            "Extracting  dataset/originali11/uno92.jpg                                \b\b\b\b 72%\b\b\b\b\b  OK \n",
            "Extracting  dataset/originali11/uno93.jpg                                \b\b\b\b 72%\b\b\b\b\b  OK \n",
            "Extracting  dataset/originali11/uno94.jpg                                \b\b\b\b 72%\b\b\b\b\b  OK \n",
            "Extracting  dataset/originali11/uno95.jpg                                \b\b\b\b 72%\b\b\b\b\b  OK \n",
            "Extracting  dataset/originali11/uno96.jpg                                \b\b\b\b 72%\b\b\b\b\b  OK \n",
            "Extracting  dataset/originali11/uno97.jpg                                \b\b\b\b 72%\b\b\b\b\b  OK \n",
            "Extracting  dataset/originali11/uno98.jpg                                \b\b\b\b 72%\b\b\b\b\b  OK \n",
            "Extracting  dataset/originali11/uno99.jpg                                \b\b\b\b 72%\b\b\b\b\b  OK \n",
            "Creating    dataset/originali12                                       OK\n",
            "Extracting  dataset/originali12/uno100.jpg                               \b\b\b\b 72%\b\b\b\b\b  OK \n",
            "Extracting  dataset/originali12/uno140.jpg                               \b\b\b\b 72%\b\b\b\b\b  OK \n",
            "Extracting  dataset/originali12/uno141.jpg                               \b\b\b\b 73%\b\b\b\b\b  OK \n",
            "Extracting  dataset/originali12/uno142.jpg                               \b\b\b\b 73%\b\b\b\b\b  OK \n",
            "Extracting  dataset/originali12/uno143.jpg                               \b\b\b\b 73%\b\b\b\b\b  OK \n",
            "Extracting  dataset/originali12/uno144.jpg                               \b\b\b\b 73%\b\b\b\b\b  OK \n",
            "Extracting  dataset/originali12/uno145.jpg                               \b\b\b\b 73%\b\b\b\b\b  OK \n",
            "Extracting  dataset/originali12/uno146.jpg                               \b\b\b\b 73%\b\b\b\b\b  OK \n",
            "Extracting  dataset/originali12/uno147.jpg                               \b\b\b\b 73%\b\b\b\b\b  OK \n",
            "Extracting  dataset/originali12/uno148.jpg                               \b\b\b\b 73%\b\b\b\b\b  OK \n",
            "Extracting  dataset/originali12/uno149.jpg                               \b\b\b\b 73%\b\b\b\b\b  OK \n",
            "Extracting  dataset/originali12/uno150.jpg                               \b\b\b\b 73%\b\b\b\b\b  OK \n",
            "Extracting  dataset/originali12/uno160.jpg                               \b\b\b\b 74%\b\b\b\b\b  OK \n",
            "Extracting  dataset/originali12/uno161.jpg                               \b\b\b\b 74%\b\b\b\b\b  OK \n",
            "Extracting  dataset/originali12/uno162.jpg                               \b\b\b\b 74%\b\b\b\b\b  OK \n",
            "Extracting  dataset/originali12/uno163.jpg                               \b\b\b\b 74%\b\b\b\b\b  OK \n",
            "Extracting  dataset/originali12/uno164.jpg                               \b\b\b\b 74%\b\b\b\b\b  OK \n",
            "Extracting  dataset/originali12/uno165.jpg                               \b\b\b\b 74%\b\b\b\b\b  OK \n",
            "Extracting  dataset/originali12/uno166.jpg                               \b\b\b\b 74%\b\b\b\b\b  OK \n",
            "Extracting  dataset/originali12/uno167.jpg                               \b\b\b\b 74%\b\b\b\b\b  OK \n",
            "Extracting  dataset/originali12/uno168.jpg                               \b\b\b\b 74%\b\b\b\b\b  OK \n",
            "Extracting  dataset/originali12/uno169.jpg                               \b\b\b\b 74%\b\b\b\b\b  OK \n",
            "Extracting  dataset/originali12/uno170.jpg                               \b\b\b\b 75%\b\b\b\b\b  OK \n",
            "Extracting  dataset/originali12/uno190.jpg                               \b\b\b\b 75%\b\b\b\b\b  OK \n",
            "Extracting  dataset/originali12/uno191.jpg                               \b\b\b\b 75%\b\b\b\b\b  OK \n",
            "Extracting  dataset/originali12/uno192.jpg                               \b\b\b\b 75%\b\b\b\b\b  OK \n",
            "Extracting  dataset/originali12/uno193.jpg                               \b\b\b\b 75%\b\b\b\b\b  OK \n",
            "Extracting  dataset/originali12/uno194.jpg                               \b\b\b\b 75%\b\b\b\b\b  OK \n",
            "Extracting  dataset/originali12/uno195.jpg                               \b\b\b\b 75%\b\b\b\b\b  OK \n",
            "Extracting  dataset/originali12/uno196.jpg                               \b\b\b\b 75%\b\b\b\b\b  OK \n",
            "Extracting  dataset/originali12/uno197.jpg                               \b\b\b\b 75%\b\b\b\b\b  OK \n",
            "Extracting  dataset/originali12/uno198.jpg                               \b\b\b\b 75%\b\b\b\b\b  OK \n",
            "Extracting  dataset/originali12/uno199.jpg                               \b\b\b\b 75%\b\b\b\b\b  OK \n",
            "Extracting  dataset/originali12/uno200.jpg                               \b\b\b\b 76%\b\b\b\b\b  OK \n",
            "Extracting  dataset/originali12/uno220.jpg                               \b\b\b\b 76%\b\b\b\b\b  OK \n",
            "Extracting  dataset/originali12/uno221.jpg                               \b\b\b\b 76%\b\b\b\b\b  OK \n",
            "Extracting  dataset/originali12/uno222.jpg                               \b\b\b\b 76%\b\b\b\b\b  OK \n",
            "Extracting  dataset/originali12/uno223.jpg                               \b\b\b\b 76%\b\b\b\b\b  OK \n",
            "Extracting  dataset/originali12/uno224.jpg                               \b\b\b\b 76%\b\b\b\b\b  OK \n",
            "Extracting  dataset/originali12/uno225.jpg                               \b\b\b\b 76%\b\b\b\b\b  OK \n",
            "Extracting  dataset/originali12/uno226.jpg                               \b\b\b\b 76%\b\b\b\b\b  OK \n",
            "Extracting  dataset/originali12/uno227.jpg                               \b\b\b\b 76%\b\b\b\b\b  OK \n",
            "Extracting  dataset/originali12/uno228.jpg                               \b\b\b\b 76%\b\b\b\b\b  OK \n",
            "Extracting  dataset/originali12/uno229.jpg                               \b\b\b\b 77%\b\b\b\b\b  OK \n",
            "Extracting  dataset/originali12/uno230.jpg                               \b\b\b\b 77%\b\b\b\b\b  OK \n",
            "Extracting  dataset/originali12/uno90.jpg                                \b\b\b\b 77%\b\b\b\b\b  OK \n",
            "Extracting  dataset/originali12/uno91.jpg                                \b\b\b\b 77%\b\b\b\b\b  OK \n",
            "Extracting  dataset/originali12/uno92.jpg                                \b\b\b\b 77%\b\b\b\b\b  OK \n",
            "Extracting  dataset/originali12/uno93.jpg                                \b\b\b\b 77%\b\b\b\b\b  OK \n",
            "Extracting  dataset/originali12/uno94.jpg                                \b\b\b\b 77%\b\b\b\b\b  OK \n",
            "Extracting  dataset/originali12/uno95.jpg                                \b\b\b\b 77%\b\b\b\b\b  OK \n",
            "Extracting  dataset/originali12/uno96.jpg                                \b\b\b\b 77%\b\b\b\b\b  OK \n",
            "Extracting  dataset/originali12/uno97.jpg                                \b\b\b\b 77%\b\b\b\b\b  OK \n",
            "Extracting  dataset/originali12/uno98.jpg                                \b\b\b\b 77%\b\b\b\b\b  OK \n",
            "Extracting  dataset/originali12/uno99.jpg                                \b\b\b\b 77%\b\b\b\b\b  OK \n",
            "Creating    dataset/originali13                                       OK\n",
            "Extracting  dataset/originali13/uno100.jpg                               \b\b\b\b 78%\b\b\b\b\b  OK \n",
            "Extracting  dataset/originali13/uno140.jpg                               \b\b\b\b 78%\b\b\b\b\b  OK \n",
            "Extracting  dataset/originali13/uno141.jpg                               \b\b\b\b 78%\b\b\b\b\b  OK \n",
            "Extracting  dataset/originali13/uno142.jpg                               \b\b\b\b 78%\b\b\b\b\b  OK \n",
            "Extracting  dataset/originali13/uno143.jpg                               \b\b\b\b 78%\b\b\b\b\b  OK \n",
            "Extracting  dataset/originali13/uno144.jpg                               \b\b\b\b 78%\b\b\b\b\b  OK \n",
            "Extracting  dataset/originali13/uno145.jpg                               \b\b\b\b 78%\b\b\b\b\b  OK \n",
            "Extracting  dataset/originali13/uno146.jpg                               \b\b\b\b 78%\b\b\b\b\b  OK \n",
            "Extracting  dataset/originali13/uno147.jpg                               \b\b\b\b 78%\b\b\b\b\b  OK \n",
            "Extracting  dataset/originali13/uno148.jpg                               \b\b\b\b 79%\b\b\b\b\b  OK \n",
            "Extracting  dataset/originali13/uno149.jpg                               \b\b\b\b 79%\b\b\b\b\b  OK \n",
            "Extracting  dataset/originali13/uno150.jpg                               \b\b\b\b 79%\b\b\b\b\b  OK \n",
            "Extracting  dataset/originali13/uno160.jpg                               \b\b\b\b 79%\b\b\b\b\b  OK \n",
            "Extracting  dataset/originali13/uno161.jpg                               \b\b\b\b 79%\b\b\b\b\b  OK \n",
            "Extracting  dataset/originali13/uno162.jpg                               \b\b\b\b 79%\b\b\b\b\b  OK \n",
            "Extracting  dataset/originali13/uno163.jpg                               \b\b\b\b 79%\b\b\b\b\b  OK \n",
            "Extracting  dataset/originali13/uno164.jpg                               \b\b\b\b 79%\b\b\b\b\b  OK \n",
            "Extracting  dataset/originali13/uno165.jpg                               \b\b\b\b 80%\b\b\b\b\b  OK \n",
            "Extracting  dataset/originali13/uno166.jpg                               \b\b\b\b 80%\b\b\b\b\b  OK \n",
            "Extracting  dataset/originali13/uno167.jpg                               \b\b\b\b 80%\b\b\b\b\b  OK \n",
            "Extracting  dataset/originali13/uno168.jpg                               \b\b\b\b 80%\b\b\b\b\b  OK \n",
            "Extracting  dataset/originali13/uno169.jpg                               \b\b\b\b 80%\b\b\b\b\b  OK \n",
            "Extracting  dataset/originali13/uno170.jpg                               \b\b\b\b 80%\b\b\b\b\b  OK \n",
            "Extracting  dataset/originali13/uno190.jpg                               \b\b\b\b 80%\b\b\b\b\b  OK \n",
            "Extracting  dataset/originali13/uno191.jpg                               \b\b\b\b 80%\b\b\b\b\b  OK \n",
            "Extracting  dataset/originali13/uno192.jpg                               \b\b\b\b 80%\b\b\b\b\b  OK \n",
            "Extracting  dataset/originali13/uno193.jpg                               \b\b\b\b 81%\b\b\b\b\b  OK \n",
            "Extracting  dataset/originali13/uno194.jpg                               \b\b\b\b 81%\b\b\b\b\b  OK \n",
            "Extracting  dataset/originali13/uno195.jpg                               \b\b\b\b 81%\b\b\b\b\b  OK \n",
            "Extracting  dataset/originali13/uno196.jpg                               \b\b\b\b 81%\b\b\b\b\b  OK \n",
            "Extracting  dataset/originali13/uno197.jpg                               \b\b\b\b 81%\b\b\b\b\b  OK \n",
            "Extracting  dataset/originali13/uno198.jpg                               \b\b\b\b 81%\b\b\b\b\b  OK \n",
            "Extracting  dataset/originali13/uno199.jpg                               \b\b\b\b 81%\b\b\b\b\b  OK \n",
            "Extracting  dataset/originali13/uno200.jpg                               \b\b\b\b 81%\b\b\b\b\b  OK \n",
            "Extracting  dataset/originali13/uno220.jpg                               \b\b\b\b 82%\b\b\b\b\b  OK \n",
            "Extracting  dataset/originali13/uno221.jpg                               \b\b\b\b 82%\b\b\b\b\b  OK \n",
            "Extracting  dataset/originali13/uno222.jpg                               \b\b\b\b 82%\b\b\b\b\b  OK \n",
            "Extracting  dataset/originali13/uno223.jpg                               \b\b\b\b 82%\b\b\b\b\b  OK \n",
            "Extracting  dataset/originali13/uno224.jpg                               \b\b\b\b 82%\b\b\b\b\b  OK \n",
            "Extracting  dataset/originali13/uno225.jpg                               \b\b\b\b 82%\b\b\b\b\b  OK \n",
            "Extracting  dataset/originali13/uno226.jpg                               \b\b\b\b 82%\b\b\b\b\b  OK \n",
            "Extracting  dataset/originali13/uno227.jpg                               \b\b\b\b 82%\b\b\b\b\b  OK \n",
            "Extracting  dataset/originali13/uno228.jpg                               \b\b\b\b 83%\b\b\b\b\b  OK \n",
            "Extracting  dataset/originali13/uno229.jpg                               \b\b\b\b 83%\b\b\b\b\b  OK \n",
            "Extracting  dataset/originali13/uno230.jpg                               \b\b\b\b 83%\b\b\b\b\b  OK \n",
            "Extracting  dataset/originali13/uno90.jpg                                \b\b\b\b 83%\b\b\b\b\b  OK \n",
            "Extracting  dataset/originali13/uno91.jpg                                \b\b\b\b 83%\b\b\b\b\b  OK \n",
            "Extracting  dataset/originali13/uno92.jpg                                \b\b\b\b 83%\b\b\b\b\b  OK \n",
            "Extracting  dataset/originali13/uno93.jpg                                \b\b\b\b 83%\b\b\b\b\b  OK \n",
            "Extracting  dataset/originali13/uno94.jpg                                \b\b\b\b 83%\b\b\b\b\b  OK \n",
            "Extracting  dataset/originali13/uno95.jpg                                \b\b\b\b 83%\b\b\b\b\b  OK \n",
            "Extracting  dataset/originali13/uno96.jpg                                \b\b\b\b 84%\b\b\b\b\b  OK \n",
            "Extracting  dataset/originali13/uno97.jpg                                \b\b\b\b 84%\b\b\b\b\b  OK \n",
            "Extracting  dataset/originali13/uno98.jpg                                \b\b\b\b 84%\b\b\b\b\b  OK \n",
            "Extracting  dataset/originali13/uno99.jpg                                \b\b\b\b 84%\b\b\b\b\b  OK \n",
            "Creating    dataset/originali14                                       OK\n",
            "Extracting  dataset/originali14/uno100.jpg                               \b\b\b\b 84%\b\b\b\b\b  OK \n",
            "Extracting  dataset/originali14/uno140.jpg                               \b\b\b\b 84%\b\b\b\b\b  OK \n",
            "Extracting  dataset/originali14/uno141.jpg                               \b\b\b\b 84%\b\b\b\b\b  OK \n",
            "Extracting  dataset/originali14/uno142.jpg                               \b\b\b\b 84%\b\b\b\b\b  OK \n",
            "Extracting  dataset/originali14/uno143.jpg                               \b\b\b\b 84%\b\b\b\b\b  OK \n",
            "Extracting  dataset/originali14/uno144.jpg                               \b\b\b\b 84%\b\b\b\b\b  OK \n",
            "Extracting  dataset/originali14/uno145.jpg                               \b\b\b\b 85%\b\b\b\b\b  OK \n",
            "Extracting  dataset/originali14/uno146.jpg                               \b\b\b\b 85%\b\b\b\b\b  OK \n",
            "Extracting  dataset/originali14/uno147.jpg                               \b\b\b\b 85%\b\b\b\b\b  OK \n",
            "Extracting  dataset/originali14/uno148.jpg                               \b\b\b\b 85%\b\b\b\b\b  OK \n",
            "Extracting  dataset/originali14/uno149.jpg                               \b\b\b\b 85%\b\b\b\b\b  OK \n",
            "Extracting  dataset/originali14/uno150.jpg                               \b\b\b\b 85%\b\b\b\b\b  OK \n",
            "Extracting  dataset/originali14/uno160.jpg                               \b\b\b\b 85%\b\b\b\b\b  OK \n",
            "Extracting  dataset/originali14/uno161.jpg                               \b\b\b\b 85%\b\b\b\b\b  OK \n",
            "Extracting  dataset/originali14/uno162.jpg                               \b\b\b\b 85%\b\b\b\b\b  OK \n",
            "Extracting  dataset/originali14/uno163.jpg                               \b\b\b\b 85%\b\b\b\b\b  OK \n",
            "Extracting  dataset/originali14/uno164.jpg                               \b\b\b\b 86%\b\b\b\b\b  OK \n",
            "Extracting  dataset/originali14/uno165.jpg                               \b\b\b\b 86%\b\b\b\b\b  OK \n",
            "Extracting  dataset/originali14/uno166.jpg                               \b\b\b\b 86%\b\b\b\b\b  OK \n",
            "Extracting  dataset/originali14/uno167.jpg                               \b\b\b\b 86%\b\b\b\b\b  OK \n",
            "Extracting  dataset/originali14/uno168.jpg                               \b\b\b\b 86%\b\b\b\b\b  OK \n",
            "Extracting  dataset/originali14/uno169.jpg                               \b\b\b\b 86%\b\b\b\b\b  OK \n",
            "Extracting  dataset/originali14/uno170.jpg                               \b\b\b\b 86%\b\b\b\b\b  OK \n",
            "Extracting  dataset/originali14/uno190.jpg                               \b\b\b\b 86%\b\b\b\b\b  OK \n",
            "Extracting  dataset/originali14/uno191.jpg                               \b\b\b\b 86%\b\b\b\b\b  OK \n",
            "Extracting  dataset/originali14/uno192.jpg                               \b\b\b\b 86%\b\b\b\b\b  OK \n",
            "Extracting  dataset/originali14/uno193.jpg                               \b\b\b\b 86%\b\b\b\b\b  OK \n",
            "Extracting  dataset/originali14/uno194.jpg                               \b\b\b\b 87%\b\b\b\b\b  OK \n",
            "Extracting  dataset/originali14/uno195.jpg                               \b\b\b\b 87%\b\b\b\b\b  OK \n",
            "Extracting  dataset/originali14/uno196.jpg                               \b\b\b\b 87%\b\b\b\b\b  OK \n",
            "Extracting  dataset/originali14/uno197.jpg                               \b\b\b\b 87%\b\b\b\b\b  OK \n",
            "Extracting  dataset/originali14/uno198.jpg                               \b\b\b\b 87%\b\b\b\b\b  OK \n",
            "Extracting  dataset/originali14/uno199.jpg                               \b\b\b\b 87%\b\b\b\b\b  OK \n",
            "Extracting  dataset/originali14/uno200.jpg                               \b\b\b\b 87%\b\b\b\b\b  OK \n",
            "Extracting  dataset/originali14/uno220.jpg                               \b\b\b\b 87%\b\b\b\b\b  OK \n",
            "Extracting  dataset/originali14/uno221.jpg                               \b\b\b\b 87%\b\b\b\b\b  OK \n",
            "Extracting  dataset/originali14/uno222.jpg                               \b\b\b\b 87%\b\b\b\b\b  OK \n",
            "Extracting  dataset/originali14/uno223.jpg                               \b\b\b\b 87%\b\b\b\b\b  OK \n",
            "Extracting  dataset/originali14/uno224.jpg                               \b\b\b\b 88%\b\b\b\b\b  OK \n",
            "Extracting  dataset/originali14/uno225.jpg                               \b\b\b\b 88%\b\b\b\b\b  OK \n",
            "Extracting  dataset/originali14/uno226.jpg                               \b\b\b\b 88%\b\b\b\b\b  OK \n",
            "Extracting  dataset/originali14/uno227.jpg                               \b\b\b\b 88%\b\b\b\b\b  OK \n",
            "Extracting  dataset/originali14/uno228.jpg                               \b\b\b\b 88%\b\b\b\b\b  OK \n",
            "Extracting  dataset/originali14/uno229.jpg                               \b\b\b\b 88%\b\b\b\b\b  OK \n",
            "Extracting  dataset/originali14/uno230.jpg                               \b\b\b\b 88%\b\b\b\b\b  OK \n",
            "Extracting  dataset/originali14/uno90.jpg                                \b\b\b\b 88%\b\b\b\b\b  OK \n",
            "Extracting  dataset/originali14/uno91.jpg                                \b\b\b\b 88%\b\b\b\b\b  OK \n",
            "Extracting  dataset/originali14/uno92.jpg                                \b\b\b\b 88%\b\b\b\b\b  OK \n",
            "Extracting  dataset/originali14/uno93.jpg                                \b\b\b\b 88%\b\b\b\b\b  OK \n",
            "Extracting  dataset/originali14/uno94.jpg                                \b\b\b\b 89%\b\b\b\b\b  OK \n",
            "Extracting  dataset/originali14/uno95.jpg                                \b\b\b\b 89%\b\b\b\b\b  OK \n",
            "Extracting  dataset/originali14/uno96.jpg                                \b\b\b\b 89%\b\b\b\b\b  OK \n",
            "Extracting  dataset/originali14/uno97.jpg                                \b\b\b\b 89%\b\b\b\b\b  OK \n",
            "Extracting  dataset/originali14/uno98.jpg                                \b\b\b\b 89%\b\b\b\b\b  OK \n",
            "Extracting  dataset/originali14/uno99.jpg                                \b\b\b\b 89%\b\b\b\b\b  OK \n",
            "Creating    dataset/originali15                                       OK\n",
            "Extracting  dataset/originali15/uno100.jpg                               \b\b\b\b 89%\b\b\b\b\b  OK \n",
            "Extracting  dataset/originali15/uno140.jpg                               \b\b\b\b 89%\b\b\b\b\b  OK \n",
            "Extracting  dataset/originali15/uno141.jpg                               \b\b\b\b 89%\b\b\b\b\b  OK \n",
            "Extracting  dataset/originali15/uno142.jpg                               \b\b\b\b 89%\b\b\b\b\b  OK \n",
            "Extracting  dataset/originali15/uno143.jpg                               \b\b\b\b 89%\b\b\b\b\b  OK \n",
            "Extracting  dataset/originali15/uno144.jpg                               \b\b\b\b 90%\b\b\b\b\b  OK \n",
            "Extracting  dataset/originali15/uno145.jpg                               \b\b\b\b 90%\b\b\b\b\b  OK \n",
            "Extracting  dataset/originali15/uno146.jpg                               \b\b\b\b 90%\b\b\b\b\b  OK \n",
            "Extracting  dataset/originali15/uno147.jpg                               \b\b\b\b 90%\b\b\b\b\b  OK \n",
            "Extracting  dataset/originali15/uno148.jpg                               \b\b\b\b 90%\b\b\b\b\b  OK \n",
            "Extracting  dataset/originali15/uno149.jpg                               \b\b\b\b 90%\b\b\b\b\b  OK \n",
            "Extracting  dataset/originali15/uno150.jpg                               \b\b\b\b 90%\b\b\b\b\b  OK \n",
            "Extracting  dataset/originali15/uno160.jpg                               \b\b\b\b 90%\b\b\b\b\b  OK \n",
            "Extracting  dataset/originali15/uno161.jpg                               \b\b\b\b 90%\b\b\b\b\b  OK \n",
            "Extracting  dataset/originali15/uno162.jpg                               \b\b\b\b 90%\b\b\b\b\b  OK \n",
            "Extracting  dataset/originali15/uno163.jpg                               \b\b\b\b 90%\b\b\b\b\b  OK \n",
            "Extracting  dataset/originali15/uno164.jpg                               \b\b\b\b 91%\b\b\b\b\b  OK \n",
            "Extracting  dataset/originali15/uno165.jpg                               \b\b\b\b 91%\b\b\b\b\b  OK \n",
            "Extracting  dataset/originali15/uno166.jpg                               \b\b\b\b 91%\b\b\b\b\b  OK \n",
            "Extracting  dataset/originali15/uno167.jpg                               \b\b\b\b 91%\b\b\b\b\b  OK \n",
            "Extracting  dataset/originali15/uno168.jpg                               \b\b\b\b 91%\b\b\b\b\b  OK \n",
            "Extracting  dataset/originali15/uno169.jpg                               \b\b\b\b 91%\b\b\b\b\b  OK \n",
            "Extracting  dataset/originali15/uno170.jpg                               \b\b\b\b 91%\b\b\b\b\b  OK \n",
            "Extracting  dataset/originali15/uno190.jpg                               \b\b\b\b 91%\b\b\b\b\b  OK \n",
            "Extracting  dataset/originali15/uno191.jpg                               \b\b\b\b 91%\b\b\b\b\b  OK \n",
            "Extracting  dataset/originali15/uno192.jpg                               \b\b\b\b 91%\b\b\b\b\b  OK \n",
            "Extracting  dataset/originali15/uno193.jpg                               \b\b\b\b 91%\b\b\b\b\b  OK \n",
            "Extracting  dataset/originali15/uno194.jpg                               \b\b\b\b 92%\b\b\b\b\b  OK \n",
            "Extracting  dataset/originali15/uno195.jpg                               \b\b\b\b 92%\b\b\b\b\b  OK \n",
            "Extracting  dataset/originali15/uno196.jpg                               \b\b\b\b 92%\b\b\b\b\b  OK \n",
            "Extracting  dataset/originali15/uno197.jpg                               \b\b\b\b 92%\b\b\b\b\b  OK \n",
            "Extracting  dataset/originali15/uno198.jpg                               \b\b\b\b 92%\b\b\b\b\b  OK \n",
            "Extracting  dataset/originali15/uno199.jpg                               \b\b\b\b 92%\b\b\b\b\b  OK \n",
            "Extracting  dataset/originali15/uno200.jpg                               \b\b\b\b 92%\b\b\b\b\b  OK \n",
            "Extracting  dataset/originali15/uno220.jpg                               \b\b\b\b 92%\b\b\b\b\b  OK \n",
            "Extracting  dataset/originali15/uno221.jpg                               \b\b\b\b 92%\b\b\b\b\b  OK \n",
            "Extracting  dataset/originali15/uno222.jpg                               \b\b\b\b 92%\b\b\b\b\b  OK \n",
            "Extracting  dataset/originali15/uno223.jpg                               \b\b\b\b 92%\b\b\b\b\b  OK \n",
            "Extracting  dataset/originali15/uno224.jpg                               \b\b\b\b 93%\b\b\b\b\b  OK \n",
            "Extracting  dataset/originali15/uno225.jpg                               \b\b\b\b 93%\b\b\b\b\b  OK \n",
            "Extracting  dataset/originali15/uno226.jpg                               \b\b\b\b 93%\b\b\b\b\b  OK \n",
            "Extracting  dataset/originali15/uno227.jpg                               \b\b\b\b 93%\b\b\b\b\b  OK \n",
            "Extracting  dataset/originali15/uno228.jpg                               \b\b\b\b 93%\b\b\b\b\b  OK \n",
            "Extracting  dataset/originali15/uno229.jpg                               \b\b\b\b 93%\b\b\b\b\b  OK \n",
            "Extracting  dataset/originali15/uno230.jpg                               \b\b\b\b 93%\b\b\b\b\b  OK \n",
            "Extracting  dataset/originali15/uno90.jpg                                \b\b\b\b 93%\b\b\b\b\b  OK \n",
            "Extracting  dataset/originali15/uno91.jpg                                \b\b\b\b 93%\b\b\b\b\b  OK \n",
            "Extracting  dataset/originali15/uno92.jpg                                \b\b\b\b 93%\b\b\b\b\b  OK \n",
            "Extracting  dataset/originali15/uno93.jpg                                \b\b\b\b 93%\b\b\b\b\b  OK \n",
            "Extracting  dataset/originali15/uno94.jpg                                \b\b\b\b 93%\b\b\b\b\b  OK \n",
            "Extracting  dataset/originali15/uno95.jpg                                \b\b\b\b 94%\b\b\b\b\b  OK \n",
            "Extracting  dataset/originali15/uno96.jpg                                \b\b\b\b 94%\b\b\b\b\b  OK \n",
            "Extracting  dataset/originali15/uno97.jpg                                \b\b\b\b 94%\b\b\b\b\b  OK \n",
            "Extracting  dataset/originali15/uno98.jpg                                \b\b\b\b 94%\b\b\b\b\b  OK \n",
            "Extracting  dataset/originali15/uno99.jpg                                \b\b\b\b 94%\b\b\b\b\b  OK \n",
            "Creating    dataset/originali16                                       OK\n",
            "Extracting  dataset/originali16/uno100.jpg                               \b\b\b\b 94%\b\b\b\b\b  OK \n",
            "Extracting  dataset/originali16/uno140.jpg                               \b\b\b\b 94%\b\b\b\b\b  OK \n",
            "Extracting  dataset/originali16/uno141.jpg                               \b\b\b\b 94%\b\b\b\b\b  OK \n",
            "Extracting  dataset/originali16/uno142.jpg                               \b\b\b\b 94%\b\b\b\b\b  OK \n",
            "Extracting  dataset/originali16/uno143.jpg                               \b\b\b\b 94%\b\b\b\b\b  OK \n",
            "Extracting  dataset/originali16/uno144.jpg                               \b\b\b\b 94%\b\b\b\b\b  OK \n",
            "Extracting  dataset/originali16/uno145.jpg                               \b\b\b\b 95%\b\b\b\b\b  OK \n",
            "Extracting  dataset/originali16/uno146.jpg                               \b\b\b\b 95%\b\b\b\b\b  OK \n",
            "Extracting  dataset/originali16/uno147.jpg                               \b\b\b\b 95%\b\b\b\b\b  OK \n",
            "Extracting  dataset/originali16/uno148.jpg                               \b\b\b\b 95%\b\b\b\b\b  OK \n",
            "Extracting  dataset/originali16/uno149.jpg                               \b\b\b\b 95%\b\b\b\b\b  OK \n",
            "Extracting  dataset/originali16/uno150.jpg                               \b\b\b\b 95%\b\b\b\b\b  OK \n",
            "Extracting  dataset/originali16/uno160.jpg                               \b\b\b\b 95%\b\b\b\b\b  OK \n",
            "Extracting  dataset/originali16/uno161.jpg                               \b\b\b\b 95%\b\b\b\b\b  OK \n",
            "Extracting  dataset/originali16/uno162.jpg                               \b\b\b\b 95%\b\b\b\b\b  OK \n",
            "Extracting  dataset/originali16/uno163.jpg                               \b\b\b\b 95%\b\b\b\b\b  OK \n",
            "Extracting  dataset/originali16/uno164.jpg                               \b\b\b\b 96%\b\b\b\b\b  OK \n",
            "Extracting  dataset/originali16/uno165.jpg                               \b\b\b\b 96%\b\b\b\b\b  OK \n",
            "Extracting  dataset/originali16/uno166.jpg                               \b\b\b\b 96%\b\b\b\b\b  OK \n",
            "Extracting  dataset/originali16/uno167.jpg                               \b\b\b\b 96%\b\b\b\b\b  OK \n",
            "Extracting  dataset/originali16/uno168.jpg                               \b\b\b\b 96%\b\b\b\b\b  OK \n",
            "Extracting  dataset/originali16/uno169.jpg                               \b\b\b\b 96%\b\b\b\b\b  OK \n",
            "Extracting  dataset/originali16/uno170.jpg                               \b\b\b\b 96%\b\b\b\b\b  OK \n",
            "Extracting  dataset/originali16/uno190.jpg                               \b\b\b\b 96%\b\b\b\b\b  OK \n",
            "Extracting  dataset/originali16/uno191.jpg                               \b\b\b\b 96%\b\b\b\b\b  OK \n",
            "Extracting  dataset/originali16/uno192.jpg                               \b\b\b\b 97%\b\b\b\b\b  OK \n",
            "Extracting  dataset/originali16/uno193.jpg                               \b\b\b\b 97%\b\b\b\b\b  OK \n",
            "Extracting  dataset/originali16/uno194.jpg                               \b\b\b\b 97%\b\b\b\b\b  OK \n",
            "Extracting  dataset/originali16/uno195.jpg                               \b\b\b\b 97%\b\b\b\b\b  OK \n",
            "Extracting  dataset/originali16/uno196.jpg                               \b\b\b\b 97%\b\b\b\b\b  OK \n",
            "Extracting  dataset/originali16/uno197.jpg                               \b\b\b\b 97%\b\b\b\b\b  OK \n",
            "Extracting  dataset/originali16/uno198.jpg                               \b\b\b\b 97%\b\b\b\b\b  OK \n",
            "Extracting  dataset/originali16/uno199.jpg                               \b\b\b\b 97%\b\b\b\b\b  OK \n",
            "Extracting  dataset/originali16/uno200.jpg                               \b\b\b\b 97%\b\b\b\b\b  OK \n",
            "Extracting  dataset/originali16/uno220.jpg                               \b\b\b\b 97%\b\b\b\b\b  OK \n",
            "Extracting  dataset/originali16/uno221.jpg                               \b\b\b\b 98%\b\b\b\b\b  OK \n",
            "Extracting  dataset/originali16/uno222.jpg                               \b\b\b\b 98%\b\b\b\b\b  OK \n",
            "Extracting  dataset/originali16/uno223.jpg                               \b\b\b\b 98%\b\b\b\b\b  OK \n",
            "Extracting  dataset/originali16/uno224.jpg                               \b\b\b\b 98%\b\b\b\b\b  OK \n",
            "Extracting  dataset/originali16/uno225.jpg                               \b\b\b\b 98%\b\b\b\b\b  OK \n",
            "Extracting  dataset/originali16/uno226.jpg                               \b\b\b\b 98%\b\b\b\b\b  OK \n",
            "Extracting  dataset/originali16/uno227.jpg                               \b\b\b\b 98%\b\b\b\b\b  OK \n",
            "Extracting  dataset/originali16/uno228.jpg                               \b\b\b\b 98%\b\b\b\b\b  OK \n",
            "Extracting  dataset/originali16/uno229.jpg                               \b\b\b\b 98%\b\b\b\b\b  OK \n",
            "Extracting  dataset/originali16/uno230.jpg                               \b\b\b\b 99%\b\b\b\b\b  OK \n",
            "Extracting  dataset/originali16/uno90.jpg                                \b\b\b\b 99%\b\b\b\b\b  OK \n",
            "Extracting  dataset/originali16/uno91.jpg                                \b\b\b\b 99%\b\b\b\b\b  OK \n",
            "Extracting  dataset/originali16/uno92.jpg                                \b\b\b\b 99%\b\b\b\b\b  OK \n",
            "Extracting  dataset/originali16/uno93.jpg                                \b\b\b\b 99%\b\b\b\b\b  OK \n",
            "Extracting  dataset/originali16/uno94.jpg                                \b\b\b\b 99%\b\b\b\b\b  OK \n",
            "Extracting  dataset/originali16/uno95.jpg                                \b\b\b\b 99%\b\b\b\b\b  OK \n",
            "Extracting  dataset/originali16/uno96.jpg                                \b\b\b\b 99%\b\b\b\b\b  OK \n",
            "Extracting  dataset/originali16/uno97.jpg                                \b\b\b\b 99%\b\b\b\b\b  OK \n",
            "Extracting  dataset/originali16/uno98.jpg                                \b\b\b\b 99%\b\b\b\b\b  OK \n",
            "Extracting  dataset/originali16/uno99.jpg                                \b\b\b\b 99%\b\b\b\b\b  OK \n",
            "All OK\n"
          ]
        }
      ],
      "source": [
        "'''\n",
        "il simbolo ! in google colab permette di eseguire comandi di shell direttamente da un notebook.\n",
        "Esegui il comando shell unrar per estrarre (x) tutti i file e le directory,\n",
        "mantenendo la loro struttura originale, dall'archivio dataset.rar e salvali nella cartella dataset\n",
        "(creandola se non esiste) nella directory di lavoro corrente.\n",
        "'''\n",
        "!unrar x dataset.rar dataset"
      ]
    },
    {
      "cell_type": "code",
      "execution_count": 13,
      "metadata": {
        "colab": {
          "base_uri": "https://localhost:8080/"
        },
        "id": "JipeegrW3Ysy",
        "outputId": "74137f4e-1e28-4ef5-b2a4-a8dc967fb885"
      },
      "outputs": [
        {
          "name": "stdout",
          "output_type": "stream",
          "text": [
            "Requirement already satisfied: opencv-python-headless in /usr/local/lib/python3.11/dist-packages (4.11.0.86)\n",
            "Requirement already satisfied: numpy in /usr/local/lib/python3.11/dist-packages (2.0.2)\n",
            "Requirement already satisfied: scikit-learn in /usr/local/lib/python3.11/dist-packages (1.6.1)\n",
            "Requirement already satisfied: pyyaml in /usr/local/lib/python3.11/dist-packages (6.0.2)\n",
            "Collecting ultralytics\n",
            "  Downloading ultralytics-8.3.129-py3-none-any.whl.metadata (37 kB)\n",
            "Requirement already satisfied: scipy>=1.6.0 in /usr/local/lib/python3.11/dist-packages (from scikit-learn) (1.15.2)\n",
            "Requirement already satisfied: joblib>=1.2.0 in /usr/local/lib/python3.11/dist-packages (from scikit-learn) (1.4.2)\n",
            "Requirement already satisfied: threadpoolctl>=3.1.0 in /usr/local/lib/python3.11/dist-packages (from scikit-learn) (3.6.0)\n",
            "Requirement already satisfied: matplotlib>=3.3.0 in /usr/local/lib/python3.11/dist-packages (from ultralytics) (3.10.0)\n",
            "Requirement already satisfied: opencv-python>=4.6.0 in /usr/local/lib/python3.11/dist-packages (from ultralytics) (4.11.0.86)\n",
            "Requirement already satisfied: pillow>=7.1.2 in /usr/local/lib/python3.11/dist-packages (from ultralytics) (11.2.1)\n",
            "Requirement already satisfied: requests>=2.23.0 in /usr/local/lib/python3.11/dist-packages (from ultralytics) (2.32.3)\n",
            "Requirement already satisfied: torch>=1.8.0 in /usr/local/lib/python3.11/dist-packages (from ultralytics) (2.6.0+cu124)\n",
            "Requirement already satisfied: torchvision>=0.9.0 in /usr/local/lib/python3.11/dist-packages (from ultralytics) (0.21.0+cu124)\n",
            "Requirement already satisfied: tqdm>=4.64.0 in /usr/local/lib/python3.11/dist-packages (from ultralytics) (4.67.1)\n",
            "Requirement already satisfied: psutil in /usr/local/lib/python3.11/dist-packages (from ultralytics) (5.9.5)\n",
            "Requirement already satisfied: py-cpuinfo in /usr/local/lib/python3.11/dist-packages (from ultralytics) (9.0.0)\n",
            "Requirement already satisfied: pandas>=1.1.4 in /usr/local/lib/python3.11/dist-packages (from ultralytics) (2.2.2)\n",
            "Requirement already satisfied: seaborn>=0.11.0 in /usr/local/lib/python3.11/dist-packages (from ultralytics) (0.13.2)\n",
            "Collecting ultralytics-thop>=2.0.0 (from ultralytics)\n",
            "  Downloading ultralytics_thop-2.0.14-py3-none-any.whl.metadata (9.4 kB)\n",
            "Requirement already satisfied: contourpy>=1.0.1 in /usr/local/lib/python3.11/dist-packages (from matplotlib>=3.3.0->ultralytics) (1.3.2)\n",
            "Requirement already satisfied: cycler>=0.10 in /usr/local/lib/python3.11/dist-packages (from matplotlib>=3.3.0->ultralytics) (0.12.1)\n",
            "Requirement already satisfied: fonttools>=4.22.0 in /usr/local/lib/python3.11/dist-packages (from matplotlib>=3.3.0->ultralytics) (4.57.0)\n",
            "Requirement already satisfied: kiwisolver>=1.3.1 in /usr/local/lib/python3.11/dist-packages (from matplotlib>=3.3.0->ultralytics) (1.4.8)\n",
            "Requirement already satisfied: packaging>=20.0 in /usr/local/lib/python3.11/dist-packages (from matplotlib>=3.3.0->ultralytics) (24.2)\n",
            "Requirement already satisfied: pyparsing>=2.3.1 in /usr/local/lib/python3.11/dist-packages (from matplotlib>=3.3.0->ultralytics) (3.2.3)\n",
            "Requirement already satisfied: python-dateutil>=2.7 in /usr/local/lib/python3.11/dist-packages (from matplotlib>=3.3.0->ultralytics) (2.9.0.post0)\n",
            "Requirement already satisfied: pytz>=2020.1 in /usr/local/lib/python3.11/dist-packages (from pandas>=1.1.4->ultralytics) (2025.2)\n",
            "Requirement already satisfied: tzdata>=2022.7 in /usr/local/lib/python3.11/dist-packages (from pandas>=1.1.4->ultralytics) (2025.2)\n",
            "Requirement already satisfied: charset-normalizer<4,>=2 in /usr/local/lib/python3.11/dist-packages (from requests>=2.23.0->ultralytics) (3.4.1)\n",
            "Requirement already satisfied: idna<4,>=2.5 in /usr/local/lib/python3.11/dist-packages (from requests>=2.23.0->ultralytics) (3.10)\n",
            "Requirement already satisfied: urllib3<3,>=1.21.1 in /usr/local/lib/python3.11/dist-packages (from requests>=2.23.0->ultralytics) (2.4.0)\n",
            "Requirement already satisfied: certifi>=2017.4.17 in /usr/local/lib/python3.11/dist-packages (from requests>=2.23.0->ultralytics) (2025.4.26)\n",
            "Requirement already satisfied: filelock in /usr/local/lib/python3.11/dist-packages (from torch>=1.8.0->ultralytics) (3.18.0)\n",
            "Requirement already satisfied: typing-extensions>=4.10.0 in /usr/local/lib/python3.11/dist-packages (from torch>=1.8.0->ultralytics) (4.13.2)\n",
            "Requirement already satisfied: networkx in /usr/local/lib/python3.11/dist-packages (from torch>=1.8.0->ultralytics) (3.4.2)\n",
            "Requirement already satisfied: jinja2 in /usr/local/lib/python3.11/dist-packages (from torch>=1.8.0->ultralytics) (3.1.6)\n",
            "Requirement already satisfied: fsspec in /usr/local/lib/python3.11/dist-packages (from torch>=1.8.0->ultralytics) (2025.3.2)\n",
            "Collecting nvidia-cuda-nvrtc-cu12==12.4.127 (from torch>=1.8.0->ultralytics)\n",
            "  Downloading nvidia_cuda_nvrtc_cu12-12.4.127-py3-none-manylinux2014_x86_64.whl.metadata (1.5 kB)\n",
            "Collecting nvidia-cuda-runtime-cu12==12.4.127 (from torch>=1.8.0->ultralytics)\n",
            "  Downloading nvidia_cuda_runtime_cu12-12.4.127-py3-none-manylinux2014_x86_64.whl.metadata (1.5 kB)\n",
            "Collecting nvidia-cuda-cupti-cu12==12.4.127 (from torch>=1.8.0->ultralytics)\n",
            "  Downloading nvidia_cuda_cupti_cu12-12.4.127-py3-none-manylinux2014_x86_64.whl.metadata (1.6 kB)\n",
            "Collecting nvidia-cudnn-cu12==9.1.0.70 (from torch>=1.8.0->ultralytics)\n",
            "  Downloading nvidia_cudnn_cu12-9.1.0.70-py3-none-manylinux2014_x86_64.whl.metadata (1.6 kB)\n",
            "Collecting nvidia-cublas-cu12==12.4.5.8 (from torch>=1.8.0->ultralytics)\n",
            "  Downloading nvidia_cublas_cu12-12.4.5.8-py3-none-manylinux2014_x86_64.whl.metadata (1.5 kB)\n",
            "Collecting nvidia-cufft-cu12==11.2.1.3 (from torch>=1.8.0->ultralytics)\n",
            "  Downloading nvidia_cufft_cu12-11.2.1.3-py3-none-manylinux2014_x86_64.whl.metadata (1.5 kB)\n",
            "Collecting nvidia-curand-cu12==10.3.5.147 (from torch>=1.8.0->ultralytics)\n",
            "  Downloading nvidia_curand_cu12-10.3.5.147-py3-none-manylinux2014_x86_64.whl.metadata (1.5 kB)\n",
            "Collecting nvidia-cusolver-cu12==11.6.1.9 (from torch>=1.8.0->ultralytics)\n",
            "  Downloading nvidia_cusolver_cu12-11.6.1.9-py3-none-manylinux2014_x86_64.whl.metadata (1.6 kB)\n",
            "Collecting nvidia-cusparse-cu12==12.3.1.170 (from torch>=1.8.0->ultralytics)\n",
            "  Downloading nvidia_cusparse_cu12-12.3.1.170-py3-none-manylinux2014_x86_64.whl.metadata (1.6 kB)\n",
            "Requirement already satisfied: nvidia-cusparselt-cu12==0.6.2 in /usr/local/lib/python3.11/dist-packages (from torch>=1.8.0->ultralytics) (0.6.2)\n",
            "Requirement already satisfied: nvidia-nccl-cu12==2.21.5 in /usr/local/lib/python3.11/dist-packages (from torch>=1.8.0->ultralytics) (2.21.5)\n",
            "Requirement already satisfied: nvidia-nvtx-cu12==12.4.127 in /usr/local/lib/python3.11/dist-packages (from torch>=1.8.0->ultralytics) (12.4.127)\n",
            "Collecting nvidia-nvjitlink-cu12==12.4.127 (from torch>=1.8.0->ultralytics)\n",
            "  Downloading nvidia_nvjitlink_cu12-12.4.127-py3-none-manylinux2014_x86_64.whl.metadata (1.5 kB)\n",
            "Requirement already satisfied: triton==3.2.0 in /usr/local/lib/python3.11/dist-packages (from torch>=1.8.0->ultralytics) (3.2.0)\n",
            "Requirement already satisfied: sympy==1.13.1 in /usr/local/lib/python3.11/dist-packages (from torch>=1.8.0->ultralytics) (1.13.1)\n",
            "Requirement already satisfied: mpmath<1.4,>=1.1.0 in /usr/local/lib/python3.11/dist-packages (from sympy==1.13.1->torch>=1.8.0->ultralytics) (1.3.0)\n",
            "Requirement already satisfied: six>=1.5 in /usr/local/lib/python3.11/dist-packages (from python-dateutil>=2.7->matplotlib>=3.3.0->ultralytics) (1.17.0)\n",
            "Requirement already satisfied: MarkupSafe>=2.0 in /usr/local/lib/python3.11/dist-packages (from jinja2->torch>=1.8.0->ultralytics) (3.0.2)\n",
            "Downloading ultralytics-8.3.129-py3-none-any.whl (1.0 MB)\n",
            "\u001b[2K   \u001b[90m━━━━━━━━━━━━━━━━━━━━━━━━━━━━━━━━━━━━━━━━\u001b[0m \u001b[32m1.0/1.0 MB\u001b[0m \u001b[31m24.0 MB/s\u001b[0m eta \u001b[36m0:00:00\u001b[0m\n",
            "\u001b[?25hDownloading nvidia_cublas_cu12-12.4.5.8-py3-none-manylinux2014_x86_64.whl (363.4 MB)\n",
            "\u001b[2K   \u001b[90m━━━━━━━━━━━━━━━━━━━━━━━━━━━━━━━━━━━━━━━━\u001b[0m \u001b[32m363.4/363.4 MB\u001b[0m \u001b[31m3.8 MB/s\u001b[0m eta \u001b[36m0:00:00\u001b[0m\n",
            "\u001b[?25hDownloading nvidia_cuda_cupti_cu12-12.4.127-py3-none-manylinux2014_x86_64.whl (13.8 MB)\n",
            "\u001b[2K   \u001b[90m━━━━━━━━━━━━━━━━━━━━━━━━━━━━━━━━━━━━━━━━\u001b[0m \u001b[32m13.8/13.8 MB\u001b[0m \u001b[31m129.5 MB/s\u001b[0m eta \u001b[36m0:00:00\u001b[0m\n",
            "\u001b[?25hDownloading nvidia_cuda_nvrtc_cu12-12.4.127-py3-none-manylinux2014_x86_64.whl (24.6 MB)\n",
            "\u001b[2K   \u001b[90m━━━━━━━━━━━━━━━━━━━━━━━━━━━━━━━━━━━━━━━━\u001b[0m \u001b[32m24.6/24.6 MB\u001b[0m \u001b[31m97.4 MB/s\u001b[0m eta \u001b[36m0:00:00\u001b[0m\n",
            "\u001b[?25hDownloading nvidia_cuda_runtime_cu12-12.4.127-py3-none-manylinux2014_x86_64.whl (883 kB)\n",
            "\u001b[2K   \u001b[90m━━━━━━━━━━━━━━━━━━━━━━━━━━━━━━━━━━━━━━━━\u001b[0m \u001b[32m883.7/883.7 kB\u001b[0m \u001b[31m62.1 MB/s\u001b[0m eta \u001b[36m0:00:00\u001b[0m\n",
            "\u001b[?25hDownloading nvidia_cudnn_cu12-9.1.0.70-py3-none-manylinux2014_x86_64.whl (664.8 MB)\n",
            "\u001b[2K   \u001b[90m━━━━━━━━━━━━━━━━━━━━━━━━━━━━━━━━━━━━━━━\u001b[0m \u001b[32m664.8/664.8 MB\u001b[0m \u001b[31m883.3 kB/s\u001b[0m eta \u001b[36m0:00:00\u001b[0m\n",
            "\u001b[?25hDownloading nvidia_cufft_cu12-11.2.1.3-py3-none-manylinux2014_x86_64.whl (211.5 MB)\n",
            "\u001b[2K   \u001b[90m━━━━━━━━━━━━━━━━━━━━━━━━━━━━━━━━━━━━━━━━\u001b[0m \u001b[32m211.5/211.5 MB\u001b[0m \u001b[31m5.3 MB/s\u001b[0m eta \u001b[36m0:00:00\u001b[0m\n",
            "\u001b[?25hDownloading nvidia_curand_cu12-10.3.5.147-py3-none-manylinux2014_x86_64.whl (56.3 MB)\n",
            "\u001b[2K   \u001b[90m━━━━━━━━━━━━━━━━━━━━━━━━━━━━━━━━━━━━━━━━\u001b[0m \u001b[32m56.3/56.3 MB\u001b[0m \u001b[31m17.2 MB/s\u001b[0m eta \u001b[36m0:00:00\u001b[0m\n",
            "\u001b[?25hDownloading nvidia_cusolver_cu12-11.6.1.9-py3-none-manylinux2014_x86_64.whl (127.9 MB)\n",
            "\u001b[2K   \u001b[90m━━━━━━━━━━━━━━━━━━━━━━━━━━━━━━━━━━━━━━━━\u001b[0m \u001b[32m127.9/127.9 MB\u001b[0m \u001b[31m7.0 MB/s\u001b[0m eta \u001b[36m0:00:00\u001b[0m\n",
            "\u001b[?25hDownloading nvidia_cusparse_cu12-12.3.1.170-py3-none-manylinux2014_x86_64.whl (207.5 MB)\n",
            "\u001b[2K   \u001b[90m━━━━━━━━━━━━━━━━━━━━━━━━━━━━━━━━━━━━━━━━\u001b[0m \u001b[32m207.5/207.5 MB\u001b[0m \u001b[31m5.6 MB/s\u001b[0m eta \u001b[36m0:00:00\u001b[0m\n",
            "\u001b[?25hDownloading nvidia_nvjitlink_cu12-12.4.127-py3-none-manylinux2014_x86_64.whl (21.1 MB)\n",
            "\u001b[2K   \u001b[90m━━━━━━━━━━━━━━━━━━━━━━━━━━━━━━━━━━━━━━━━\u001b[0m \u001b[32m21.1/21.1 MB\u001b[0m \u001b[31m106.5 MB/s\u001b[0m eta \u001b[36m0:00:00\u001b[0m\n",
            "\u001b[?25hDownloading ultralytics_thop-2.0.14-py3-none-any.whl (26 kB)\n",
            "Installing collected packages: nvidia-nvjitlink-cu12, nvidia-curand-cu12, nvidia-cufft-cu12, nvidia-cuda-runtime-cu12, nvidia-cuda-nvrtc-cu12, nvidia-cuda-cupti-cu12, nvidia-cublas-cu12, nvidia-cusparse-cu12, nvidia-cudnn-cu12, nvidia-cusolver-cu12, ultralytics-thop, ultralytics\n",
            "  Attempting uninstall: nvidia-nvjitlink-cu12\n",
            "    Found existing installation: nvidia-nvjitlink-cu12 12.5.82\n",
            "    Uninstalling nvidia-nvjitlink-cu12-12.5.82:\n",
            "      Successfully uninstalled nvidia-nvjitlink-cu12-12.5.82\n",
            "  Attempting uninstall: nvidia-curand-cu12\n",
            "    Found existing installation: nvidia-curand-cu12 10.3.6.82\n",
            "    Uninstalling nvidia-curand-cu12-10.3.6.82:\n",
            "      Successfully uninstalled nvidia-curand-cu12-10.3.6.82\n",
            "  Attempting uninstall: nvidia-cufft-cu12\n",
            "    Found existing installation: nvidia-cufft-cu12 11.2.3.61\n",
            "    Uninstalling nvidia-cufft-cu12-11.2.3.61:\n",
            "      Successfully uninstalled nvidia-cufft-cu12-11.2.3.61\n",
            "  Attempting uninstall: nvidia-cuda-runtime-cu12\n",
            "    Found existing installation: nvidia-cuda-runtime-cu12 12.5.82\n",
            "    Uninstalling nvidia-cuda-runtime-cu12-12.5.82:\n",
            "      Successfully uninstalled nvidia-cuda-runtime-cu12-12.5.82\n",
            "  Attempting uninstall: nvidia-cuda-nvrtc-cu12\n",
            "    Found existing installation: nvidia-cuda-nvrtc-cu12 12.5.82\n",
            "    Uninstalling nvidia-cuda-nvrtc-cu12-12.5.82:\n",
            "      Successfully uninstalled nvidia-cuda-nvrtc-cu12-12.5.82\n",
            "  Attempting uninstall: nvidia-cuda-cupti-cu12\n",
            "    Found existing installation: nvidia-cuda-cupti-cu12 12.5.82\n",
            "    Uninstalling nvidia-cuda-cupti-cu12-12.5.82:\n",
            "      Successfully uninstalled nvidia-cuda-cupti-cu12-12.5.82\n",
            "  Attempting uninstall: nvidia-cublas-cu12\n",
            "    Found existing installation: nvidia-cublas-cu12 12.5.3.2\n",
            "    Uninstalling nvidia-cublas-cu12-12.5.3.2:\n",
            "      Successfully uninstalled nvidia-cublas-cu12-12.5.3.2\n",
            "  Attempting uninstall: nvidia-cusparse-cu12\n",
            "    Found existing installation: nvidia-cusparse-cu12 12.5.1.3\n",
            "    Uninstalling nvidia-cusparse-cu12-12.5.1.3:\n",
            "      Successfully uninstalled nvidia-cusparse-cu12-12.5.1.3\n",
            "  Attempting uninstall: nvidia-cudnn-cu12\n",
            "    Found existing installation: nvidia-cudnn-cu12 9.3.0.75\n",
            "    Uninstalling nvidia-cudnn-cu12-9.3.0.75:\n",
            "      Successfully uninstalled nvidia-cudnn-cu12-9.3.0.75\n",
            "  Attempting uninstall: nvidia-cusolver-cu12\n",
            "    Found existing installation: nvidia-cusolver-cu12 11.6.3.83\n",
            "    Uninstalling nvidia-cusolver-cu12-11.6.3.83:\n",
            "      Successfully uninstalled nvidia-cusolver-cu12-11.6.3.83\n",
            "Successfully installed nvidia-cublas-cu12-12.4.5.8 nvidia-cuda-cupti-cu12-12.4.127 nvidia-cuda-nvrtc-cu12-12.4.127 nvidia-cuda-runtime-cu12-12.4.127 nvidia-cudnn-cu12-9.1.0.70 nvidia-cufft-cu12-11.2.1.3 nvidia-curand-cu12-10.3.5.147 nvidia-cusolver-cu12-11.6.1.9 nvidia-cusparse-cu12-12.3.1.170 nvidia-nvjitlink-cu12-12.4.127 ultralytics-8.3.129 ultralytics-thop-2.0.14\n"
          ]
        }
      ],
      "source": [
        "'''\n",
        "Utilizzando il gestore di pacchetti Python pip, scarica e installa nell'ambiente Python\n",
        "corrente le seguenti librerie: opencv-python-headless (per la computer vision senza GUI),\n",
        "numpy (per il calcolo numerico), scikit-learn (per il machine learning), pyyaml\n",
        "(per la gestione di file YAML) e ultralytics (per i modelli YOLO e altre utility di deep learning).\n",
        "'''\n",
        "!pip install opencv-python-headless numpy scikit-learn pyyaml ultralytics"
      ]
    },
    {
      "cell_type": "code",
      "execution_count": null,
      "metadata": {
        "colab": {
          "base_uri": "https://localhost:8080/"
        },
        "id": "BpBrG-5w3bpS",
        "outputId": "74d645e0-4445-40c4-ee40-83d94bf94fdc"
      },
      "outputs": [
        {
          "name": "stdout",
          "output_type": "stream",
          "text": [
            "Cartella dataset originale: /content/dataset\n",
            "Cartella dataset YOLO di output: /content/yolo_thyroid_dataset\n",
            "Struttura cartelle YOLO creata.\n",
            "Trovate 880 immagini originali.\n",
            "Trovate 880 coppie immagine-maschera valide.\n",
            "Suddivisione: 704 training, 176 validation.\n",
            "\n",
            "Inizio processamento per lo split: train\n",
            "  Processate 50/704 immagini per lo split train...\n",
            "  Processate 100/704 immagini per lo split train...\n",
            "  Processate 150/704 immagini per lo split train...\n",
            "  Processate 200/704 immagini per lo split train...\n",
            "  Processate 250/704 immagini per lo split train...\n",
            "  Processate 300/704 immagini per lo split train...\n",
            "  Processate 350/704 immagini per lo split train...\n",
            "  Processate 400/704 immagini per lo split train...\n",
            "  Processate 450/704 immagini per lo split train...\n",
            "  Processate 500/704 immagini per lo split train...\n",
            "  Processate 550/704 immagini per lo split train...\n",
            "  Processate 600/704 immagini per lo split train...\n",
            "Info: Trovati contorni in dataset/groundtruth02/unogt99.jpg, ma nessuno era valido (>=3 punti e area > 5). File uno99_02.txt creato vuoto.\n",
            "  Processate 650/704 immagini per lo split train...\n",
            "  Processate 700/704 immagini per lo split train...\n",
            "Fine processamento per lo split: train. Immagini processate correttamente: 704.\n",
            "\n",
            "Inizio processamento per lo split: val\n",
            "Info: Trovati contorni in dataset/groundtruth11/unogt145.jpg, ma nessuno era valido (>=3 punti e area > 5). File uno145_11.txt creato vuoto.\n",
            "  Processate 50/176 immagini per lo split val...\n",
            "  Processate 100/176 immagini per lo split val...\n",
            "Info: Trovati contorni in dataset/groundtruth06/unogt141.jpg, ma nessuno era valido (>=3 punti e area > 5). File uno141_06.txt creato vuoto.\n",
            "  Processate 150/176 immagini per lo split val...\n",
            "Fine processamento per lo split: val. Immagini processate correttamente: 176.\n",
            "\n",
            "File data.yaml creato in: yolo_thyroid_dataset/data.yaml\n",
            "Contenuto del data.yaml:\n",
            "train: /content/yolo_thyroid_dataset/images/train\n",
            "val: /content/yolo_thyroid_dataset/images/val\n",
            "nc: 1\n",
            "names:\n",
            "- thyroid\n",
            "\n",
            "\n",
            "Preprocessing completato! La cartella 'yolo_thyroid_dataset' contiene le immagini e le etichette rinominate ed è pronta per l'addestramento YOLO.\n"
          ]
        }
      ],
      "source": [
        "# il comando import importa moduli e pacchetti in Python.\n",
        "'''\n",
        "questo script serve a preprocessare i dati per l'addestramento di un modello YOLO (You Only Look Once)\n",
        "per la rilevazione di oggetti, in questo caso per la tiroide.\n",
        "'''\n",
        "#Importa la libreria OpenCV (cv2), utilizzata per l'elaborazione di immagini e video.\n",
        "import cv2\n",
        "#Importa la libreria NumPy e le assegna l'alias 'np'. NumPy è fondamentale per il calcolo numerico e la manipolazione di array.\n",
        "import numpy as np\n",
        "#Importa il modulo 'os', che fornisce funzioni per interagire con il sistema operativo, come la gestione di percorsi e directory.\n",
        "import os\n",
        "#Importa il modulo 'glob', utilizzato per trovare tutti i nomi di percorso che corrispondono a un pattern specificato.\n",
        "import glob\n",
        "#Dalla libreria Scikit-learn (sklearn), importa la funzione 'train_test_split', utile per suddividere i dati in set di addestramento e validazione.\n",
        "from sklearn.model_selection import train_test_split\n",
        "#Importa la libreria 'yaml', utilizzata per leggere e scrivere file in formato YAML (YAML Ain't Markup Language), spesso usato per file di configurazione.\n",
        "import yaml\n",
        "#Importa il modulo 'shutil', che offre operazioni su file e collezioni di file di alto livello, come la copia e la rimozione di alberi di directory. Il commento originale indica già il suo uso per copiare i file.\n",
        "import shutil\n",
        "#Importa il modulo 're', che fornisce supporto per le espressioni regolari, utili per la ricerca e la manipolazione di stringhe basate su pattern.\n",
        "import re\n",
        "\n",
        "# --- CONFIGURAZIONE ---\n",
        "base_dataset_folder = 'dataset' # La cartella che contiene 'originali01', 'groundtruth01' etc.\n",
        "yolo_dataset_folder = 'yolo_thyroid_dataset' # Cartella di output con file postprocess per training di YOLO\n",
        "\n",
        "# Definisci la regola per trovare la maschera dall'immagine originale\n",
        "# Esempio: se l'immagine è 'dataset/originali01/uno100.jpg', la maschera è 'dataset/groundtruth01/unogt100.jpg'\n",
        "def get_mask_path(image_path):\n",
        "    '''\n",
        "   Firma della funzione: get_mask_path(image_path)\n",
        "   - def: Parola chiave che definisce una funzione.\n",
        "   - get_mask_path: Nome della funzione.\n",
        "   - image_path: Parametro in input. È una stringa che rappresenta il percorso completo di un file immagine originale.\n",
        "   Scopo: Questa funzione costruisce e restituisce il percorso presunto del file maschera corrispondente all'immagine fornita.\n",
        "          Si basa su una convenzione specifica di denominazione e struttura delle cartelle:\n",
        "          1. Estrae il numero identificativo dalla cartella dell'immagine originale (es. '01' da 'originali01').\n",
        "          2. Usa questo numero per formare il nome della cartella delle maschere (es. 'groundtruth01').\n",
        "          3. Modifica il nome del file immagine (es. sostituendo 'uno' con 'unogt') per ottenere il nome del file maschera.\n",
        "   Ritorna: Una stringa con il percorso completo al file maschera se la logica ha successo, altrimenti None se non è possibile determinare il percorso (es. se il numero della cartella non viene trovato).\n",
        "    '''\n",
        "    #Divide il percorso dell'immagine ('image_path') in una lista di componenti, utilizzando il separatore di directory specifico del sistema operativo (os.sep, es. '/' o '\\').\n",
        "    parts = image_path.split(os.sep)\n",
        "    #Estrae l'ultimo elemento della lista 'parts', che corrisponde al nome del file con estensione (es. 'uno100.jpg').\n",
        "    filename = parts[-1]\n",
        "    # Estrai il numero dalla cartella originale (es. '01' da 'originali01')\n",
        "    folder_name = parts[-2]\n",
        "    #Utilizza un'espressione regolare (re.search) per trovare una sequenza di una o più cifre ('\\d+') alla fine ('$') del nome della cartella ('folder_name').\n",
        "    folder_num_match = re.search(r'\\d+$', folder_name)\n",
        "    #Controlla se l'espressione regolare ha trovato una corrispondenza (cioè, se è stato trovato un numero alla fine del nome della cartella).\n",
        "    if folder_num_match:\n",
        "        #Se una corrispondenza è stata trovata, 'folder_num_match.group()' restituisce la stringa corrispondente (es. '01').\n",
        "        folder_num = folder_num_match.group()\n",
        "        #Costruisce il nome della cartella delle maschere anteponendo 'groundtruth' al numero estratto (es. 'groundtruth01').\n",
        "        mask_folder = f'groundtruth{folder_num}'\n",
        "        #Crea il nome del file maschera sostituendo 'uno' con 'unogt' nel nome del file originale.\n",
        "        mask_filename = filename.replace('uno', 'unogt')\n",
        "        #Combina il percorso base del dataset, la cartella della maschera calcolata e il nome del file maschera calcolato per formare il percorso completo del file maschera, e lo restituisce.\n",
        "        return os.path.join(base_dataset_folder, mask_folder, mask_filename)\n",
        "    else:\n",
        "        #Se l'espressione regolare non ha trovato un numero alla fine del nome della cartella.\n",
        "        print(f\"Attenzione: Impossibile determinare la cartella groundtruth per {image_path}\")\n",
        "        #Restituisce None per segnalare che il percorso della maschera non è stato trovato.\n",
        "        return None #\n",
        "\n",
        "# Classe target (solo una: tiroide)\n",
        "class_index = 0\n",
        "class_name = 'thyroid'\n",
        "# --- FINE CONFIGURAZIONE ---\n",
        "\n",
        "print(f\"Cartella dataset originale: {os.path.abspath(base_dataset_folder)}\")\n",
        "print(f\"Cartella dataset YOLO di output: {os.path.abspath(yolo_dataset_folder)}\")\n",
        "\n",
        "# Pulisci la cartella di output se esiste già (opzionale, ma utile in Colab)\n",
        "if os.path.exists(yolo_dataset_folder):\n",
        "    print(f\"Rimuovo la cartella YOLO esistente: {yolo_dataset_folder}\")\n",
        "    shutil.rmtree(yolo_dataset_folder)\n",
        "'''\n",
        "Crea le cartelle necessarie per il training di YOLO\n",
        "le cartelle sono:\n",
        "- images/train: per le immagini di addestramento\n",
        "- images/val: per le immagini di validazione\n",
        "- labels/train: per le etichette di addestramento\n",
        "- labels/val: per le etichette di validazione\n",
        "'''\n",
        "os.makedirs(os.path.join(yolo_dataset_folder, 'images', 'train'), exist_ok=True)\n",
        "os.makedirs(os.path.join(yolo_dataset_folder, 'images', 'val'), exist_ok=True)\n",
        "os.makedirs(os.path.join(yolo_dataset_folder, 'labels', 'train'), exist_ok=True)\n",
        "os.makedirs(os.path.join(yolo_dataset_folder, 'labels', 'val'), exist_ok=True)\n",
        "\n",
        "print(\"Struttura cartelle YOLO creata.\")\n",
        "\n",
        "#Inizializza una lista vuota chiamata 'all_image_paths' che conterrà i percorsi di tutte le immagini originali trovate.\n",
        "all_image_paths = []\n",
        "# Trova tutte le immagini JPG nelle cartelle 'originali*'\n",
        "#Itera su tutte le cartelle all'interno di 'base_dataset_folder' il cui nome inizia con 'originali' (es. 'originali01', 'originali02').\n",
        "for original_folder in glob.glob(os.path.join(base_dataset_folder, 'originali*')):\n",
        "    #Per ogni cartella 'original_folder' trovata, cerca tutti i file con estensione '.jpg' e aggiunge i loro percorsi alla lista 'all_image_paths'.\n",
        "    all_image_paths.extend(glob.glob(os.path.join(original_folder, '*.jpg')))\n",
        "\n",
        "print(f\"Trovate {len(all_image_paths)} immagini originali.\")\n",
        "\n",
        "#Inizializza una lista vuota chiamata 'image_mask_pairs' per memorizzare le coppie di percorsi (immagine originale, maschera corrispondente).\n",
        "image_mask_pairs = []\n",
        "#Itera su ciascun percorso di immagine trovato e memorizzato in 'all_image_paths'.\n",
        "for img_path in all_image_paths:\n",
        "    #Chiama la funzione 'get_mask_path' per ottenere il percorso della maschera corrispondente all'immagine corrente.\n",
        "    mask_path = get_mask_path(img_path)\n",
        "    # Aggiungi solo se get_mask_path ha restituito un percorso valido e se esiste\n",
        "    #Controlla due condizioni: 1) 'mask_path' non è None (cioè la funzione ha restituito un percorso) E 2) il file specificato da 'mask_path' esiste effettivamente.\n",
        "    if mask_path and os.path.exists(mask_path):\n",
        "        #Se entrambe le condizioni sono vere, aggiunge una tupla (coppia) contenente il percorso dell'immagine e il percorso della maschera alla lista 'image_mask_pairs'.\n",
        "        image_mask_pairs.append((img_path, mask_path))\n",
        "    elif mask_path:\n",
        "        #Se 'mask_path' è stato restituito (non è None) ma il file non esiste (la condizione 'os.path.exists(mask_path)' era falsa).\n",
        "        print(f\"Attenzione: Maschera non trovata per {img_path} al percorso calcolato {mask_path}\")\n",
        "\n",
        "print(f\"Trovate {len(image_mask_pairs)} coppie immagine-maschera valide.\")\n",
        "\n",
        "#Controlla se la lista 'image_mask_pairs' è vuota (cioè, non sono state trovate coppie valide).\n",
        "if not image_mask_pairs:\n",
        "    print(\"Nessuna coppia immagine-maschera trovata. Controlla i percorsi e la funzione get_mask_path.\")\n",
        "#Se almeno una coppia immagine-maschera è stata trovata.\n",
        "else:\n",
        "    #Suddivide la lista 'image_mask_pairs' in due sotto-liste: 'train_pairs' (80% dei dati) e 'val_pairs' (20% dei dati).\n",
        "    #'test_size=0.20' specifica la proporzione del dataset da allocare al set di validazione.\n",
        "    #'random_state=42' assicura che la suddivisione sia riproducibile; usando lo stesso stato casuale si otterrà sempre la stessa suddivisione.\n",
        "    train_pairs, val_pairs = train_test_split(image_mask_pairs, test_size=0.20, random_state=42)\n",
        "    print(f\"Suddivisione: {len(train_pairs)} training, {len(val_pairs)} validation.\")\n",
        "\n",
        "def process_dataset_split(pairs, split_name):\n",
        "    '''\n",
        "   Firma della funzione: process_dataset_split(pairs, split_name)\n",
        "   - process_dataset_split: Nome della funzione.\n",
        "   - pairs: Parametro in input. È una lista di tuple, dove ogni tupla contiene due stringhe: (percorso_immagine_originale, percorso_maschera_corrispondente).\n",
        "   - split_name: Parametro in input. È una stringa che indica il nome del set di dati che si sta processando (es. \"train\" o \"val\").\n",
        "   Scopo: Questa funzione elabora un insieme di coppie immagine-maschera per un determinato split (addestramento o validazione).\n",
        "          Per ogni coppia:\n",
        "          1. Costruisce nuovi nomi per l'immagine e il file di etichetta, includendo un numero derivato dalla sottocartella originale per garantire unicità.\n",
        "          2. Copia l'immagine originale nella sottocartella 'images/<split_name>' della directory YOLO con il nuovo nome.\n",
        "          3. Legge l'immagine della maschera, la binarizza e trova i contorni della regione di interesse (es. la tiroide).\n",
        "          4. Normalizza le coordinate dei punti del contorno rispetto alle dimensioni dell'immagine (valori tra 0 e 1).\n",
        "          5. Salva i contorni normalizzati in un file di testo (formato etichetta YOLO) nella sottocartella 'labels/<split_name>' con il nuovo nome.\n",
        "   Ritorna: Nulla (la funzione modifica il filesystem creando file e cartelle).\n",
        "   '''\n",
        "    print(f\"\\nInizio processamento per lo split: {split_name}\")\n",
        "    #Inizializza un contatore per le immagini processate con successo.\n",
        "    processed_count = 0\n",
        "    #Inizializza un contatore per i file saltati a causa dell'impossibilità di estrarre il numero della sottocartella.\n",
        "    skipped_no_folder_num = 0\n",
        "\n",
        "    #Itera su ogni tupla (percorso immagine, percorso maschera) nella lista 'pairs'.\n",
        "    for img_path, mask_path in pairs:\n",
        "        #Inizia un blocco try-except per gestire potenziali errori durante l'elaborazione di una singola coppia immagine-maschera.\n",
        "        try:\n",
        "            # --- Estrai informazioni per il nuovo nome ---\n",
        "            #Estrae il nome base del file originale dell'immagine (es. \"uno100.jpg\") dal suo percorso completo.\n",
        "            original_base_filename = os.path.basename(img_path)\n",
        "            #Separa il nome base del file nella sua parte nominale (es. \"uno100\") e la sua estensione (es. \".jpg\").\n",
        "            name_part, extension = os.path.splitext(original_base_filename)\n",
        "\n",
        "            # Divide il percorso completo dell'immagine originale nei suoi componenti.\n",
        "            parts = img_path.split(os.sep)\n",
        "            #Estrae il nome della cartella che contiene l'immagine (es. 'originali01').\n",
        "            folder_name = parts[-2]\n",
        "            #Utilizza un'espressione regolare per trovare una sequenza di cifre alla fine del nome della cartella.\n",
        "            folder_num_match = re.search(r'\\d+$', folder_name)\n",
        "\n",
        "            #Se l'espressione regolare non trova un numero alla fine del nome della cartella.\n",
        "            if not folder_num_match:\n",
        "                print(f\"Attenzione: Impossibile estrarre il numero dalla cartella '{folder_name}' per l'immagine {img_path}. Salto questo file.\")\n",
        "                #Incrementa il contatore dei file saltati per questo motivo.\n",
        "                skipped_no_folder_num += 1\n",
        "                #Interrompe l'iterazione corrente del ciclo e passa alla prossima coppia immagine-maschera.\n",
        "                continue\n",
        "\n",
        "            #Estrae la stringa numerica trovata (es. '01').\n",
        "            subfolder_num_str = folder_num_match.group()\n",
        "\n",
        "            # Costruisci i nuovi nomi dei file\n",
        "            new_base_filename = f\"{name_part}_{subfolder_num_str}{extension}\" # Es: uno140_01.jpg\n",
        "            #Costruisce il nuovo nome del file etichetta, usando la stessa base del nuovo nome immagine ma con estensione \".txt\" (es. \"uno140_01.txt\").\n",
        "            new_label_filename = f\"{name_part}_{subfolder_num_str}.txt\"\n",
        "\n",
        "            # --- Processa Immagine ---\n",
        "            # Legge l'immagine originale dal percorso 'img_path' utilizzando OpenCV. 'img' sarà un array NumPy.\n",
        "            img = cv2.imread(img_path)\n",
        "            #Controlla se il caricamento dell'immagine è fallito (imread restituisce None in caso di errore).\n",
        "            if img is None:\n",
        "                print(f\"Errore nel leggere l'immagine: {img_path}\")\n",
        "                #Salta all'iterazione successiva del ciclo.\n",
        "                continue\n",
        "            #Estrae altezza ('img_height') e larghezza ('img_width') dell'immagine dalle dimensioni dell'array NumPy ('img.shape').\n",
        "            img_height, img_width = img.shape[:2]\n",
        "\n",
        "            # Definisci il percorso di destinazione con il NUOVO nome\n",
        "            yolo_img_path = os.path.join(yolo_dataset_folder, 'images', split_name, new_base_filename)\n",
        "            #Copia il file immagine originale ('img_path') nella nuova posizione ('yolo_img_path'). 'copy2' tenta di preservare anche i metadati del file.\n",
        "            shutil.copy2(img_path, yolo_img_path)\n",
        "\n",
        "            # --- Processa Maschera e Crea Etichetta .txt ---\n",
        "            #Legge l'immagine della maschera dal percorso 'mask_path' in scala di grigi (cv2.IMREAD_GRAYSCALE).\n",
        "            mask = cv2.imread(mask_path, cv2.IMREAD_GRAYSCALE)\n",
        "            #Controlla se il caricamento della maschera è fallito.\n",
        "            if mask is None:\n",
        "                print(f\"Errore nel leggere la maschera: {mask_path} (associata a {img_path})\")\n",
        "                #Se l'immagine era già stata copiata ma la sua maschera non è leggibile, rimuove l'immagine copiata per mantenere la coerenza.\n",
        "                if os.path.exists(yolo_img_path): os.remove(yolo_img_path)\n",
        "                #Salta all'iterazione successiva.\n",
        "                continue\n",
        "\n",
        "            #Applica una binarizzazione alla maschera. I pixel con valore > 127 diventano 255 (bianco), gli altri 0 (nero). Il primo valore restituito ('_') è la soglia usata, non ci serve quindi usiamo il simbolo '_' per ignorarlo.\n",
        "            _, mask_binary = cv2.threshold(mask, 127, 255, cv2.THRESH_BINARY)\n",
        "\n",
        "            #Trova i contorni nell'immagine della maschera binarizzata.\n",
        "            # - 'mask_binary': Immagine sorgente (binaria).\n",
        "            # - 'cv2.RETR_EXTERNAL': Modalità di recupero dei contorni; recupera solo i contorni esterni.\n",
        "            # - 'cv2.CHAIN_APPROX_SIMPLE': Metodo di approssimazione dei contorni; comprime segmenti orizzontali, verticali e diagonali lasciando solo i loro punti finali.\n",
        "            # 'contours' è una lista di tutti i contorni trovati, ognuno è un array NumPy di coordinate (x,y) dei punti del contorno.\n",
        "            # 'hierarchy' contiene informazioni sulla topologia dei contorni (non usata attivamente in questo script).\n",
        "            contours, hierarchy = cv2.findContours(mask_binary, cv2.RETR_EXTERNAL, cv2.CHAIN_APPROX_SIMPLE)\n",
        "\n",
        "            #Costruisce il percorso completo per il file di etichetta .txt nella struttura YOLO, usando il nuovo nome file.\n",
        "            yolo_label_path = os.path.join(yolo_dataset_folder, 'labels', split_name, new_label_filename)\n",
        "\n",
        "            #Apre il file di etichetta in modalità scrittura ('w'). Il costrutto 'with' assicura che il file venga chiuso automaticamente. 'f' è l'oggetto file.\n",
        "            with open(yolo_label_path, 'w') as f:\n",
        "                #Inizializza un contatore per i contorni validi (quelli che soddisfano i criteri di dimensione/area) trovati in questa maschera.\n",
        "                valid_contours_found = 0\n",
        "                #Itera su ciascun contorno trovato nell'immagine della maschera.\n",
        "                for contour in contours:\n",
        "                    #Applica filtro su punti E area (opzionale ma consigliato)\n",
        "                    #Definisce un'area minima (in pixel) affinché un contorno sia considerato valido.\n",
        "                    min_contour_area = 5 # Ignora contorni con area < 5 pixel\n",
        "                    #Controlla se il contorno è valido:\n",
        "                    # 1. 'contour.size >= 6': Verifica che il contorno abbia almeno 3 punti (poiché ogni punto ha 2 coordinate (x,y), quindi 3*2=6 valori). Questo è necessario per definire una forma poligonale.\n",
        "                    # 2. 'cv2.contourArea(contour) > min_contour_area': Verifica che l'area del contorno sia maggiore della soglia minima definita.\n",
        "                    if contour.size >= 6 and cv2.contourArea(contour) > min_contour_area:\n",
        "                        #'contour.flatten()' converte l'array del contorno (che potrebbe essere [[x1,y1],[x2,y2],...]) in un array monodimensionale [x1,y1,x2,y2,...].\n",
        "                        normalized_contour = contour.flatten().astype(float)\n",
        "                        #Normalizza le coordinate x (elementi a indice pari: 0, 2, 4, ...) dividendo per la larghezza dell'immagine. Il risultato è tra 0 e 1.\n",
        "                        normalized_contour[0::2] /= img_width\n",
        "                        #normalizza le coordinate y (elementi a indice dispari: 1, 3, 5, ...) dividendo per l'altezza dell'immagine. Il risultato è tra 0 e 1.\n",
        "                        normalized_contour[1::2] /= img_height\n",
        "                        #Assicura che tutte le coordinate normalizzate siano strettamente comprese tra 0 e 1 (es. 0.00001 e 0.99999). Evita valori esattamente uguali a 0.0 o 1.0 che potrebbero causare problemi con alcune implementazioni YOLO.\n",
        "                        normalized_contour = np.clip(normalized_contour, 0.00001, 0.99999)\n",
        "                        #Converte ogni coordinata normalizzata in una stringa formattata con 6 cifre decimali (es. \"0.123456\") e poi unisce tutte queste stringhe con uno spazio come separatore.\n",
        "                        contour_str = ' '.join(map(lambda x: f\"{x:.6f}\", normalized_contour))\n",
        "                        #Scrive una riga nel file di etichetta. La riga contiene: l'indice della classe ('class_index'), seguito da uno spazio, seguito dalle coordinate normalizzate del contorno, e termina con un carattere di nuova riga ('\\n').\n",
        "                        f.write(f\"{class_index} {contour_str}\\n\")\n",
        "                        #Incrementa il contatore dei contorni validi scritti su file per questa immagine.\n",
        "                        valid_contours_found += 1\n",
        "                #Se sono stati trovati dei contorni ('contours' non è vuoto) ma nessuno di essi è risultato valido ('valid_contours_found' è 0).\n",
        "                if contours and valid_contours_found == 0:\n",
        "                     print(f\"Info: Trovati contorni in {mask_path}, ma nessuno era valido (>=3 punti e area > {min_contour_area}). File {new_label_filename} creato vuoto.\")\n",
        "                #Se non è stato trovato alcun contorno nell'immagine della maschera.\n",
        "                elif not contours:\n",
        "                     print(f\"Info: Nessun contorno trovato in {mask_path}. File {new_label_filename} creato vuoto.\")\n",
        "                     #Non fa nulla; il file di etichetta rimarrà vuoto, che è il comportamento corretto se non ci sono oggetti.\n",
        "                     pass\n",
        "\n",
        "            #Incrementa il contatore delle immagini processate con successo in questo split.\n",
        "            processed_count += 1\n",
        "            #Controlla se il numero di immagini processate è un multiplo di 50.\n",
        "            if processed_count % 50 == 0: # Stampa ogni 50 immagini\n",
        "                print(f\"  Processate {processed_count}/{len(pairs)} immagini per lo split {split_name}...\")\n",
        "\n",
        "        #Se si verifica un qualsiasi altro errore non gestito specificamente nel blocco 'try'. 'e' contiene l'oggetto eccezione.\n",
        "        except Exception as e:\n",
        "            print(f\"Errore grave durante il processamento di {img_path} o {mask_path}: {e}\")\n",
        "\n",
        "    print(f\"Fine processamento per lo split: {split_name}. Immagini processate correttamente: {processed_count}.\")\n",
        "    #Se alcuni file sono stati saltati a causa del problema con il numero della sottocartella.\n",
        "    if skipped_no_folder_num > 0:\n",
        "        print(f\"Attenzione: {skipped_no_folder_num} file sono stati saltati perché non è stato possibile estrarre il numero della sottocartella.\")\n",
        "\n",
        "\n",
        "#Controlla se la variabile 'train_pairs' esiste nello scope locale (locals()) e se non è vuota. Questo evita errori se 'image_mask_pairs' era vuoto e quindi 'train_pairs' non è stato definito.\n",
        "if 'train_pairs' in locals() and train_pairs:\n",
        "    #Chiama la funzione 'process_dataset_split' per elaborare le coppie del set di addestramento.\n",
        "    process_dataset_split(train_pairs, 'train')\n",
        "#stesso procedimento per il set di validazione\n",
        "if 'val_pairs' in locals() and val_pairs:\n",
        "    process_dataset_split(val_pairs, 'val')\n",
        "\n",
        "\n",
        "# Crea il dizionario per il file YAML\n",
        "# I percorsi nel YAML puntano alle cartelle\n",
        "# Il file YAML è necessario per YOLOv5 e YOLOv8\n",
        "\n",
        "#Inizia la definizione di un dizionario Python chiamato 'yaml_data'.\n",
        "yaml_data = {\n",
        "    ##prende i percorsi assoluti delle cartelle di addestramento e validazione\n",
        "    'train': os.path.abspath(os.path.join(yolo_dataset_folder, 'images', 'train')),\n",
        "    'val': os.path.abspath(os.path.join(yolo_dataset_folder, 'images', 'val')),\n",
        "    'nc': 1, # Numero di classi\n",
        "    'names': [class_name] # Lista dei nomi delle classi\n",
        "}\n",
        "\n",
        "#Costruisce il percorso completo per il file 'data.yaml' all'interno della cartella del dataset YOLO.\n",
        "yaml_path = os.path.join(yolo_dataset_folder, 'data.yaml')\n",
        "#Apre il file 'data.yaml' in modalità scrittura ('w').\n",
        "with open(yaml_path, 'w') as f:\n",
        "    #Scrive il contenuto del dizionario 'yaml_data' nel file 'f' (data.yaml) in formato YAML.\n",
        "    # 'default_flow_style=False': produce un output YAML più leggibile (stile a blocchi invece che inline).\n",
        "    # 'sort_keys=False': mantiene l'ordine delle chiavi come nel dizionario originale.\n",
        "    yaml.dump(yaml_data, f, default_flow_style=False, sort_keys=False)\n",
        "\n",
        "print(f\"\\nFile data.yaml creato in: {yaml_path}\")\n",
        "print(\"Contenuto del data.yaml:\")\n",
        "with open(yaml_path, 'r') as f:\n",
        "  print(f.read())\n",
        "\n",
        "print(f\"\\nPreprocessing completato! La cartella '{yolo_dataset_folder}' contiene le immagini e le etichette rinominate ed è pronta per l'addestramento YOLO.\")"
      ]
    },
    {
      "cell_type": "code",
      "execution_count": null,
      "metadata": {
        "id": "nzNokEm08ADC"
      },
      "outputs": [],
      "source": [
        "#Utilizzando il gestore di pacchetti Python pip, installa la libreria ultralytics e, durante l'operazione,\n",
        "# riduci al minimo i messaggi di output stampati sulla console (modalità silenziosa/quiet) utilizzando -q\n",
        "\n",
        "!pip install ultralytics -q"
      ]
    },
    {
      "cell_type": "code",
      "execution_count": null,
      "metadata": {
        "colab": {
          "base_uri": "https://localhost:8080/"
        },
        "id": "QRp0LthD8C5f",
        "outputId": "246c19c5-6c9e-4ea5-d911-d1d2d659c8ae"
      },
      "outputs": [
        {
          "name": "stdout",
          "output_type": "stream",
          "text": [
            "GPU disponibile: True\n",
            "Nome GPU: Tesla T4\n",
            "File data.yaml trovato in: /content/yolo_thyroid_dataset/data.yaml\n",
            "Contenuto di data.yaml:\n",
            " train: /content/yolo_thyroid_dataset/images/train\n",
            "val: /content/yolo_thyroid_dataset/images/val\n",
            "nc: 1\n",
            "names:\n",
            "- thyroid\n",
            "\n",
            "Downloading https://github.com/ultralytics/assets/releases/download/v8.3.0/yolov8s-seg.pt to 'yolov8s-seg.pt'...\n"
          ]
        },
        {
          "name": "stderr",
          "output_type": "stream",
          "text": [
            "100%|██████████| 22.8M/22.8M [00:00<00:00, 121MB/s] \n"
          ]
        },
        {
          "name": "stdout",
          "output_type": "stream",
          "text": [
            "\n",
            "--- Inizio Addestramento ---\n",
            "Ultralytics 8.3.127 🚀 Python-3.11.12 torch-2.6.0+cu124 CUDA:0 (Tesla T4, 15095MiB)\n",
            "\u001b[34m\u001b[1mengine/trainer: \u001b[0magnostic_nms=False, amp=True, augment=False, auto_augment=randaugment, batch=8, bgr=0.0, box=7.5, cache=False, cfg=None, classes=None, close_mosaic=10, cls=0.5, conf=None, copy_paste=0.0, copy_paste_mode=flip, cos_lr=False, cutmix=0.0, data=/content/yolo_thyroid_dataset/data.yaml, degrees=0.0, deterministic=True, device=cuda:0, dfl=1.5, dnn=False, dropout=0.0, dynamic=False, embed=None, epochs=100, erasing=0.4, exist_ok=False, fliplr=0.5, flipud=0.0, format=torchscript, fraction=1.0, freeze=None, half=False, hsv_h=0.015, hsv_s=0.7, hsv_v=0.4, imgsz=640, int8=False, iou=0.7, keras=False, kobj=1.0, line_width=None, lr0=0.01, lrf=0.01, mask_ratio=4, max_det=300, mixup=0.0, mode=train, model=yolov8s-seg.pt, momentum=0.937, mosaic=1.0, multi_scale=False, name=thyroid_seg_finetune, nbs=64, nms=False, opset=None, optimize=False, optimizer=auto, overlap_mask=True, patience=100, perspective=0.0, plots=True, pose=12.0, pretrained=True, profile=False, project=YOLOv8_Thyroid_Runs, rect=False, resume=False, retina_masks=False, save=True, save_conf=False, save_crop=False, save_dir=YOLOv8_Thyroid_Runs/thyroid_seg_finetune, save_frames=False, save_json=False, save_period=-1, save_txt=False, scale=0.5, seed=0, shear=0.0, show=False, show_boxes=True, show_conf=True, show_labels=True, simplify=True, single_cls=False, source=None, split=val, stream_buffer=False, task=segment, time=None, tracker=botsort.yaml, translate=0.1, val=True, verbose=True, vid_stride=1, visualize=False, warmup_bias_lr=0.1, warmup_epochs=3.0, warmup_momentum=0.8, weight_decay=0.0005, workers=8, workspace=None\n",
            "Downloading https://ultralytics.com/assets/Arial.ttf to '/root/.config/Ultralytics/Arial.ttf'...\n"
          ]
        },
        {
          "name": "stderr",
          "output_type": "stream",
          "text": [
            "100%|██████████| 755k/755k [00:00<00:00, 24.9MB/s]"
          ]
        },
        {
          "name": "stdout",
          "output_type": "stream",
          "text": [
            "Overriding model.yaml nc=80 with nc=1\n",
            "\n",
            "                   from  n    params  module                                       arguments                     \n",
            "  0                  -1  1       928  ultralytics.nn.modules.conv.Conv             [3, 32, 3, 2]                 \n",
            "  1                  -1  1     18560  ultralytics.nn.modules.conv.Conv             [32, 64, 3, 2]                \n",
            "  2                  -1  1     29056  ultralytics.nn.modules.block.C2f             [64, 64, 1, True]             \n",
            "  3                  -1  1     73984  ultralytics.nn.modules.conv.Conv             [64, 128, 3, 2]               \n",
            "  4                  -1  2    197632  ultralytics.nn.modules.block.C2f             [128, 128, 2, True]           \n",
            "  5                  -1  1    295424  ultralytics.nn.modules.conv.Conv             [128, 256, 3, 2]              \n",
            "  6                  -1  2    788480  ultralytics.nn.modules.block.C2f             [256, 256, 2, True]           \n",
            "  7                  -1  1   1180672  ultralytics.nn.modules.conv.Conv             [256, 512, 3, 2]              \n",
            "  8                  -1  1   1838080  ultralytics.nn.modules.block.C2f             [512, 512, 1, True]           \n",
            "  9                  -1  1    656896  ultralytics.nn.modules.block.SPPF            [512, 512, 5]                 \n",
            " 10                  -1  1         0  torch.nn.modules.upsampling.Upsample         [None, 2, 'nearest']          \n",
            " 11             [-1, 6]  1         0  ultralytics.nn.modules.conv.Concat           [1]                           \n",
            " 12                  -1  1    591360  ultralytics.nn.modules.block.C2f             [768, 256, 1]                 \n",
            " 13                  -1  1         0  torch.nn.modules.upsampling.Upsample         [None, 2, 'nearest']          \n",
            " 14             [-1, 4]  1         0  ultralytics.nn.modules.conv.Concat           [1]                           \n",
            " 15                  -1  1    148224  ultralytics.nn.modules.block.C2f             [384, 128, 1]                 \n",
            " 16                  -1  1    147712  ultralytics.nn.modules.conv.Conv             [128, 128, 3, 2]              \n",
            " 17            [-1, 12]  1         0  ultralytics.nn.modules.conv.Concat           [1]                           \n",
            " 18                  -1  1    493056  ultralytics.nn.modules.block.C2f             [384, 256, 1]                 \n",
            " 19                  -1  1    590336  ultralytics.nn.modules.conv.Conv             [256, 256, 3, 2]              \n",
            " 20             [-1, 9]  1         0  ultralytics.nn.modules.conv.Concat           [1]                           \n",
            " 21                  -1  1   1969152  ultralytics.nn.modules.block.C2f             [768, 512, 1]                 \n"
          ]
        },
        {
          "name": "stderr",
          "output_type": "stream",
          "text": [
            "\n"
          ]
        },
        {
          "name": "stdout",
          "output_type": "stream",
          "text": [
            " 22        [15, 18, 21]  1   2770931  ultralytics.nn.modules.head.Segment          [1, 32, 128, [128, 256, 512]] \n",
            "YOLOv8s-seg summary: 151 layers, 11,790,483 parameters, 11,790,467 gradients, 42.7 GFLOPs\n",
            "\n",
            "Transferred 411/417 items from pretrained weights\n",
            "Freezing layer 'model.22.dfl.conv.weight'\n",
            "\u001b[34m\u001b[1mAMP: \u001b[0mrunning Automatic Mixed Precision (AMP) checks...\n",
            "Downloading https://github.com/ultralytics/assets/releases/download/v8.3.0/yolo11n.pt to 'yolo11n.pt'...\n"
          ]
        },
        {
          "name": "stderr",
          "output_type": "stream",
          "text": [
            "100%|██████████| 5.35M/5.35M [00:00<00:00, 97.6MB/s]\n"
          ]
        },
        {
          "name": "stdout",
          "output_type": "stream",
          "text": [
            "\u001b[34m\u001b[1mAMP: \u001b[0mchecks passed ✅\n",
            "\u001b[34m\u001b[1mtrain: \u001b[0mFast image access ✅ (ping: 0.0±0.0 ms, read: 293.4±102.3 MB/s, size: 8.6 KB)\n"
          ]
        },
        {
          "name": "stderr",
          "output_type": "stream",
          "text": [
            "\u001b[34m\u001b[1mtrain: \u001b[0mScanning /content/yolo_thyroid_dataset/labels/train... 704 images, 122 backgrounds, 0 corrupt: 100%|██████████| 704/704 [00:00<00:00, 1309.27it/s]"
          ]
        },
        {
          "name": "stdout",
          "output_type": "stream",
          "text": [
            "\u001b[34m\u001b[1mtrain: \u001b[0mNew cache created: /content/yolo_thyroid_dataset/labels/train.cache\n"
          ]
        },
        {
          "name": "stderr",
          "output_type": "stream",
          "text": [
            "\n"
          ]
        },
        {
          "name": "stdout",
          "output_type": "stream",
          "text": [
            "\u001b[34m\u001b[1malbumentations: \u001b[0mBlur(p=0.01, blur_limit=(3, 7)), MedianBlur(p=0.01, blur_limit=(3, 7)), ToGray(p=0.01, method='weighted_average', num_output_channels=3), CLAHE(p=0.01, clip_limit=(1.0, 4.0), tile_grid_size=(8, 8))\n",
            "\u001b[34m\u001b[1mval: \u001b[0mFast image access ✅ (ping: 0.0±0.0 ms, read: 160.6±107.9 MB/s, size: 8.2 KB)\n"
          ]
        },
        {
          "name": "stderr",
          "output_type": "stream",
          "text": [
            "\u001b[34m\u001b[1mval: \u001b[0mScanning /content/yolo_thyroid_dataset/labels/val... 176 images, 32 backgrounds, 0 corrupt: 100%|██████████| 176/176 [00:00<00:00, 987.69it/s] "
          ]
        },
        {
          "name": "stdout",
          "output_type": "stream",
          "text": [
            "\u001b[34m\u001b[1mval: \u001b[0mNew cache created: /content/yolo_thyroid_dataset/labels/val.cache\n"
          ]
        },
        {
          "name": "stderr",
          "output_type": "stream",
          "text": [
            "\n"
          ]
        },
        {
          "name": "stdout",
          "output_type": "stream",
          "text": [
            "Plotting labels to YOLOv8_Thyroid_Runs/thyroid_seg_finetune/labels.jpg... \n",
            "\u001b[34m\u001b[1moptimizer:\u001b[0m 'optimizer=auto' found, ignoring 'lr0=0.01' and 'momentum=0.937' and determining best 'optimizer', 'lr0' and 'momentum' automatically... \n",
            "\u001b[34m\u001b[1moptimizer:\u001b[0m AdamW(lr=0.002, momentum=0.9) with parameter groups 66 weight(decay=0.0), 77 weight(decay=0.0005), 76 bias(decay=0.0)\n",
            "Image sizes 640 train, 640 val\n",
            "Using 2 dataloader workers\n",
            "Logging results to \u001b[1mYOLOv8_Thyroid_Runs/thyroid_seg_finetune\u001b[0m\n",
            "Starting training for 100 epochs...\n",
            "\n",
            "      Epoch    GPU_mem   box_loss   seg_loss   cls_loss   dfl_loss  Instances       Size\n"
          ]
        },
        {
          "name": "stderr",
          "output_type": "stream",
          "text": [
            "      1/100      2.34G      1.516      2.486      2.771      1.458          7        640: 100%|██████████| 88/88 [00:22<00:00,  3.85it/s]\n",
            "                 Class     Images  Instances      Box(P          R      mAP50  mAP50-95)     Mask(P          R      mAP50  mAP50-95): 100%|██████████| 11/11 [00:02<00:00,  4.11it/s]"
          ]
        },
        {
          "name": "stdout",
          "output_type": "stream",
          "text": [
            "                   all        176        146     0.0319     0.0205      0.004    0.00132     0.0398     0.0205    0.00643    0.00234\n"
          ]
        },
        {
          "name": "stderr",
          "output_type": "stream",
          "text": [
            "\n"
          ]
        },
        {
          "name": "stdout",
          "output_type": "stream",
          "text": [
            "\n",
            "      Epoch    GPU_mem   box_loss   seg_loss   cls_loss   dfl_loss  Instances       Size\n"
          ]
        },
        {
          "name": "stderr",
          "output_type": "stream",
          "text": [
            "      2/100      3.84G      1.411      1.804      1.428      1.366         16        640: 100%|██████████| 88/88 [00:18<00:00,  4.67it/s]\n",
            "                 Class     Images  Instances      Box(P          R      mAP50  mAP50-95)     Mask(P          R      mAP50  mAP50-95): 100%|██████████| 11/11 [00:02<00:00,  3.90it/s]"
          ]
        },
        {
          "name": "stdout",
          "output_type": "stream",
          "text": [
            "                   all        176        146      0.391       0.63      0.405      0.187       0.45      0.726      0.534      0.251\n"
          ]
        },
        {
          "name": "stderr",
          "output_type": "stream",
          "text": [
            "\n"
          ]
        },
        {
          "name": "stdout",
          "output_type": "stream",
          "text": [
            "\n",
            "      Epoch    GPU_mem   box_loss   seg_loss   cls_loss   dfl_loss  Instances       Size\n"
          ]
        },
        {
          "name": "stderr",
          "output_type": "stream",
          "text": [
            "      3/100      3.87G      1.453      1.781      1.232      1.362         12        640: 100%|██████████| 88/88 [00:18<00:00,  4.77it/s]\n",
            "                 Class     Images  Instances      Box(P          R      mAP50  mAP50-95)     Mask(P          R      mAP50  mAP50-95): 100%|██████████| 11/11 [00:02<00:00,  5.36it/s]\n"
          ]
        },
        {
          "name": "stdout",
          "output_type": "stream",
          "text": [
            "                   all        176        146       0.67      0.555      0.645      0.308      0.667      0.568      0.635      0.269\n",
            "\n",
            "      Epoch    GPU_mem   box_loss   seg_loss   cls_loss   dfl_loss  Instances       Size\n"
          ]
        },
        {
          "name": "stderr",
          "output_type": "stream",
          "text": [
            "      4/100      3.91G      1.439       1.88      1.267      1.319         15        640: 100%|██████████| 88/88 [00:19<00:00,  4.55it/s]\n",
            "                 Class     Images  Instances      Box(P          R      mAP50  mAP50-95)     Mask(P          R      mAP50  mAP50-95): 100%|██████████| 11/11 [00:02<00:00,  5.33it/s]"
          ]
        },
        {
          "name": "stdout",
          "output_type": "stream",
          "text": [
            "                   all        176        146      0.914      0.849      0.909      0.488      0.909      0.893      0.942      0.576\n"
          ]
        },
        {
          "name": "stderr",
          "output_type": "stream",
          "text": [
            "\n"
          ]
        },
        {
          "name": "stdout",
          "output_type": "stream",
          "text": [
            "\n",
            "      Epoch    GPU_mem   box_loss   seg_loss   cls_loss   dfl_loss  Instances       Size\n"
          ]
        },
        {
          "name": "stderr",
          "output_type": "stream",
          "text": [
            "      5/100      3.95G      1.328      1.644      1.078      1.294         16        640: 100%|██████████| 88/88 [00:18<00:00,  4.78it/s]\n",
            "                 Class     Images  Instances      Box(P          R      mAP50  mAP50-95)     Mask(P          R      mAP50  mAP50-95): 100%|██████████| 11/11 [00:02<00:00,  4.01it/s]\n"
          ]
        },
        {
          "name": "stdout",
          "output_type": "stream",
          "text": [
            "                   all        176        146       0.88        0.9      0.908        0.5      0.971      0.906      0.964      0.484\n",
            "\n",
            "      Epoch    GPU_mem   box_loss   seg_loss   cls_loss   dfl_loss  Instances       Size\n"
          ]
        },
        {
          "name": "stderr",
          "output_type": "stream",
          "text": [
            "      6/100      3.99G      1.316      1.754       1.07      1.282         13        640: 100%|██████████| 88/88 [00:18<00:00,  4.76it/s]\n",
            "                 Class     Images  Instances      Box(P          R      mAP50  mAP50-95)     Mask(P          R      mAP50  mAP50-95): 100%|██████████| 11/11 [00:01<00:00,  5.55it/s]"
          ]
        },
        {
          "name": "stdout",
          "output_type": "stream",
          "text": [
            "                   all        176        146      0.643      0.685      0.711      0.422      0.665      0.664      0.721      0.421\n"
          ]
        },
        {
          "name": "stderr",
          "output_type": "stream",
          "text": [
            "\n"
          ]
        },
        {
          "name": "stdout",
          "output_type": "stream",
          "text": [
            "\n",
            "      Epoch    GPU_mem   box_loss   seg_loss   cls_loss   dfl_loss  Instances       Size\n"
          ]
        },
        {
          "name": "stderr",
          "output_type": "stream",
          "text": [
            "      7/100      4.03G      1.206      1.595     0.9424      1.215         13        640: 100%|██████████| 88/88 [00:19<00:00,  4.54it/s]\n",
            "                 Class     Images  Instances      Box(P          R      mAP50  mAP50-95)     Mask(P          R      mAP50  mAP50-95): 100%|██████████| 11/11 [00:02<00:00,  5.49it/s]\n"
          ]
        },
        {
          "name": "stdout",
          "output_type": "stream",
          "text": [
            "                   all        176        146      0.948      0.932       0.97      0.666      0.948      0.932      0.971      0.657\n",
            "\n",
            "      Epoch    GPU_mem   box_loss   seg_loss   cls_loss   dfl_loss  Instances       Size\n"
          ]
        },
        {
          "name": "stderr",
          "output_type": "stream",
          "text": [
            "      8/100      4.07G      1.188      1.587     0.8898      1.204         13        640: 100%|██████████| 88/88 [00:18<00:00,  4.73it/s]\n",
            "                 Class     Images  Instances      Box(P          R      mAP50  mAP50-95)     Mask(P          R      mAP50  mAP50-95): 100%|██████████| 11/11 [00:02<00:00,  4.10it/s]"
          ]
        },
        {
          "name": "stdout",
          "output_type": "stream",
          "text": [
            "                   all        176        146       0.92      0.788      0.883      0.569      0.928      0.789      0.847      0.546\n"
          ]
        },
        {
          "name": "stderr",
          "output_type": "stream",
          "text": [
            "\n"
          ]
        },
        {
          "name": "stdout",
          "output_type": "stream",
          "text": [
            "\n",
            "      Epoch    GPU_mem   box_loss   seg_loss   cls_loss   dfl_loss  Instances       Size\n"
          ]
        },
        {
          "name": "stderr",
          "output_type": "stream",
          "text": [
            "      9/100      4.11G      1.145      1.519     0.8321      1.169         17        640: 100%|██████████| 88/88 [00:18<00:00,  4.78it/s]\n",
            "                 Class     Images  Instances      Box(P          R      mAP50  mAP50-95)     Mask(P          R      mAP50  mAP50-95): 100%|██████████| 11/11 [00:02<00:00,  5.49it/s]"
          ]
        },
        {
          "name": "stdout",
          "output_type": "stream",
          "text": [
            "                   all        176        146      0.872      0.842      0.918      0.667      0.922      0.889      0.961      0.666\n"
          ]
        },
        {
          "name": "stderr",
          "output_type": "stream",
          "text": [
            "\n"
          ]
        },
        {
          "name": "stdout",
          "output_type": "stream",
          "text": [
            "\n",
            "      Epoch    GPU_mem   box_loss   seg_loss   cls_loss   dfl_loss  Instances       Size\n"
          ]
        },
        {
          "name": "stderr",
          "output_type": "stream",
          "text": [
            "     10/100      4.15G       1.16      1.526     0.8362      1.178         15        640: 100%|██████████| 88/88 [00:19<00:00,  4.52it/s]\n",
            "                 Class     Images  Instances      Box(P          R      mAP50  mAP50-95)     Mask(P          R      mAP50  mAP50-95): 100%|██████████| 11/11 [00:01<00:00,  5.57it/s]"
          ]
        },
        {
          "name": "stdout",
          "output_type": "stream",
          "text": [
            "                   all        176        146      0.935      0.932      0.967      0.695      0.963      0.959      0.975      0.661\n"
          ]
        },
        {
          "name": "stderr",
          "output_type": "stream",
          "text": [
            "\n"
          ]
        },
        {
          "name": "stdout",
          "output_type": "stream",
          "text": [
            "\n",
            "      Epoch    GPU_mem   box_loss   seg_loss   cls_loss   dfl_loss  Instances       Size\n"
          ]
        },
        {
          "name": "stderr",
          "output_type": "stream",
          "text": [
            "     11/100      4.19G      1.157      1.481     0.8056      1.181         20        640: 100%|██████████| 88/88 [00:18<00:00,  4.75it/s]\n",
            "                 Class     Images  Instances      Box(P          R      mAP50  mAP50-95)     Mask(P          R      mAP50  mAP50-95): 100%|██████████| 11/11 [00:02<00:00,  4.03it/s]"
          ]
        },
        {
          "name": "stdout",
          "output_type": "stream",
          "text": [
            "                   all        176        146      0.933      0.979      0.986      0.751      0.933      0.979      0.986      0.696\n"
          ]
        },
        {
          "name": "stderr",
          "output_type": "stream",
          "text": [
            "\n"
          ]
        },
        {
          "name": "stdout",
          "output_type": "stream",
          "text": [
            "\n",
            "      Epoch    GPU_mem   box_loss   seg_loss   cls_loss   dfl_loss  Instances       Size\n"
          ]
        },
        {
          "name": "stderr",
          "output_type": "stream",
          "text": [
            "     12/100      4.23G      1.038      1.391     0.7346      1.125         12        640: 100%|██████████| 88/88 [00:18<00:00,  4.75it/s]\n",
            "                 Class     Images  Instances      Box(P          R      mAP50  mAP50-95)     Mask(P          R      mAP50  mAP50-95): 100%|██████████| 11/11 [00:02<00:00,  5.49it/s]"
          ]
        },
        {
          "name": "stdout",
          "output_type": "stream",
          "text": [
            "                   all        176        146      0.913       0.93      0.962      0.677      0.926      0.944      0.974      0.659\n"
          ]
        },
        {
          "name": "stderr",
          "output_type": "stream",
          "text": [
            "\n"
          ]
        },
        {
          "name": "stdout",
          "output_type": "stream",
          "text": [
            "\n",
            "      Epoch    GPU_mem   box_loss   seg_loss   cls_loss   dfl_loss  Instances       Size\n"
          ]
        },
        {
          "name": "stderr",
          "output_type": "stream",
          "text": [
            "     13/100      4.27G      1.084      1.414     0.7659      1.147         14        640: 100%|██████████| 88/88 [00:19<00:00,  4.51it/s]\n",
            "                 Class     Images  Instances      Box(P          R      mAP50  mAP50-95)     Mask(P          R      mAP50  mAP50-95): 100%|██████████| 11/11 [00:01<00:00,  5.53it/s]\n"
          ]
        },
        {
          "name": "stdout",
          "output_type": "stream",
          "text": [
            "                   all        176        146       0.94       0.96      0.975       0.76      0.979      0.945      0.979       0.71\n",
            "\n",
            "      Epoch    GPU_mem   box_loss   seg_loss   cls_loss   dfl_loss  Instances       Size\n"
          ]
        },
        {
          "name": "stderr",
          "output_type": "stream",
          "text": [
            "     14/100      4.31G       1.02      1.367     0.7501      1.107         14        640: 100%|██████████| 88/88 [00:18<00:00,  4.69it/s]\n",
            "                 Class     Images  Instances      Box(P          R      mAP50  mAP50-95)     Mask(P          R      mAP50  mAP50-95): 100%|██████████| 11/11 [00:02<00:00,  4.21it/s]"
          ]
        },
        {
          "name": "stdout",
          "output_type": "stream",
          "text": [
            "                   all        176        146      0.915      0.959      0.976      0.761      0.964      0.925      0.978      0.734\n"
          ]
        },
        {
          "name": "stderr",
          "output_type": "stream",
          "text": [
            "\n"
          ]
        },
        {
          "name": "stdout",
          "output_type": "stream",
          "text": [
            "\n",
            "      Epoch    GPU_mem   box_loss   seg_loss   cls_loss   dfl_loss  Instances       Size\n"
          ]
        },
        {
          "name": "stderr",
          "output_type": "stream",
          "text": [
            "     15/100      4.35G       1.02      1.356     0.7296       1.12         13        640: 100%|██████████| 88/88 [00:18<00:00,  4.75it/s]\n",
            "                 Class     Images  Instances      Box(P          R      mAP50  mAP50-95)     Mask(P          R      mAP50  mAP50-95): 100%|██████████| 11/11 [00:01<00:00,  5.59it/s]"
          ]
        },
        {
          "name": "stdout",
          "output_type": "stream",
          "text": [
            "                   all        176        146      0.984      0.979      0.986      0.758      0.984      0.979      0.986      0.717\n"
          ]
        },
        {
          "name": "stderr",
          "output_type": "stream",
          "text": [
            "\n"
          ]
        },
        {
          "name": "stdout",
          "output_type": "stream",
          "text": [
            "\n",
            "      Epoch    GPU_mem   box_loss   seg_loss   cls_loss   dfl_loss  Instances       Size\n"
          ]
        },
        {
          "name": "stderr",
          "output_type": "stream",
          "text": [
            "     16/100      4.39G      0.997      1.361       0.74      1.098          9        640: 100%|██████████| 88/88 [00:19<00:00,  4.52it/s]\n",
            "                 Class     Images  Instances      Box(P          R      mAP50  mAP50-95)     Mask(P          R      mAP50  mAP50-95): 100%|██████████| 11/11 [00:01<00:00,  5.60it/s]"
          ]
        },
        {
          "name": "stdout",
          "output_type": "stream",
          "text": [
            "                   all        176        146      0.986      0.963      0.975      0.739      0.986      0.963      0.975      0.713\n"
          ]
        },
        {
          "name": "stderr",
          "output_type": "stream",
          "text": [
            "\n"
          ]
        },
        {
          "name": "stdout",
          "output_type": "stream",
          "text": [
            "\n",
            "      Epoch    GPU_mem   box_loss   seg_loss   cls_loss   dfl_loss  Instances       Size\n"
          ]
        },
        {
          "name": "stderr",
          "output_type": "stream",
          "text": [
            "     17/100      4.43G     0.9656      1.304     0.6644      1.083         14        640: 100%|██████████| 88/88 [00:18<00:00,  4.65it/s]\n",
            "                 Class     Images  Instances      Box(P          R      mAP50  mAP50-95)     Mask(P          R      mAP50  mAP50-95): 100%|██████████| 11/11 [00:02<00:00,  4.55it/s]"
          ]
        },
        {
          "name": "stdout",
          "output_type": "stream",
          "text": [
            "                   all        176        146      0.986      0.911      0.969      0.765      0.977      0.932      0.972      0.719\n"
          ]
        },
        {
          "name": "stderr",
          "output_type": "stream",
          "text": [
            "\n"
          ]
        },
        {
          "name": "stdout",
          "output_type": "stream",
          "text": [
            "\n",
            "      Epoch    GPU_mem   box_loss   seg_loss   cls_loss   dfl_loss  Instances       Size\n"
          ]
        },
        {
          "name": "stderr",
          "output_type": "stream",
          "text": [
            "     18/100      4.47G     0.9545      1.282     0.6669      1.088         14        640: 100%|██████████| 88/88 [00:18<00:00,  4.75it/s]\n",
            "                 Class     Images  Instances      Box(P          R      mAP50  mAP50-95)     Mask(P          R      mAP50  mAP50-95): 100%|██████████| 11/11 [00:01<00:00,  5.57it/s]"
          ]
        },
        {
          "name": "stdout",
          "output_type": "stream",
          "text": [
            "                   all        176        146      0.959      0.961      0.987      0.754      0.966      0.968      0.991      0.717\n"
          ]
        },
        {
          "name": "stderr",
          "output_type": "stream",
          "text": [
            "\n"
          ]
        },
        {
          "name": "stdout",
          "output_type": "stream",
          "text": [
            "\n",
            "      Epoch    GPU_mem   box_loss   seg_loss   cls_loss   dfl_loss  Instances       Size\n"
          ]
        },
        {
          "name": "stderr",
          "output_type": "stream",
          "text": [
            "     19/100      4.51G      1.002      1.318     0.6851        1.1         19        640: 100%|██████████| 88/88 [00:19<00:00,  4.50it/s]\n",
            "                 Class     Images  Instances      Box(P          R      mAP50  mAP50-95)     Mask(P          R      mAP50  mAP50-95): 100%|██████████| 11/11 [00:01<00:00,  5.51it/s]\n"
          ]
        },
        {
          "name": "stdout",
          "output_type": "stream",
          "text": [
            "                   all        176        146      0.966      0.979      0.983      0.778      0.972      0.979      0.977      0.737\n",
            "\n",
            "      Epoch    GPU_mem   box_loss   seg_loss   cls_loss   dfl_loss  Instances       Size\n"
          ]
        },
        {
          "name": "stderr",
          "output_type": "stream",
          "text": [
            "     20/100      4.55G     0.9226      1.272     0.6233      1.063         16        640: 100%|██████████| 88/88 [00:19<00:00,  4.51it/s]\n",
            "                 Class     Images  Instances      Box(P          R      mAP50  mAP50-95)     Mask(P          R      mAP50  mAP50-95): 100%|██████████| 11/11 [00:01<00:00,  5.51it/s]"
          ]
        },
        {
          "name": "stdout",
          "output_type": "stream",
          "text": [
            "                   all        176        146      0.991      0.973      0.988      0.782      0.991      0.973      0.989      0.743\n"
          ]
        },
        {
          "name": "stderr",
          "output_type": "stream",
          "text": [
            "\n"
          ]
        },
        {
          "name": "stdout",
          "output_type": "stream",
          "text": [
            "\n",
            "      Epoch    GPU_mem   box_loss   seg_loss   cls_loss   dfl_loss  Instances       Size\n"
          ]
        },
        {
          "name": "stderr",
          "output_type": "stream",
          "text": [
            "     21/100      4.59G     0.9412      1.295     0.6477      1.076         16        640: 100%|██████████| 88/88 [00:18<00:00,  4.75it/s]\n",
            "                 Class     Images  Instances      Box(P          R      mAP50  mAP50-95)     Mask(P          R      mAP50  mAP50-95): 100%|██████████| 11/11 [00:02<00:00,  5.40it/s]"
          ]
        },
        {
          "name": "stdout",
          "output_type": "stream",
          "text": [
            "                   all        176        146       0.97      0.973       0.99      0.787      0.972      0.973       0.99      0.752\n"
          ]
        },
        {
          "name": "stderr",
          "output_type": "stream",
          "text": [
            "\n"
          ]
        },
        {
          "name": "stdout",
          "output_type": "stream",
          "text": [
            "\n",
            "      Epoch    GPU_mem   box_loss   seg_loss   cls_loss   dfl_loss  Instances       Size\n"
          ]
        },
        {
          "name": "stderr",
          "output_type": "stream",
          "text": [
            "     22/100      4.63G     0.9083      1.248      0.616      1.051         12        640: 100%|██████████| 88/88 [00:19<00:00,  4.59it/s]\n",
            "                 Class     Images  Instances      Box(P          R      mAP50  mAP50-95)     Mask(P          R      mAP50  mAP50-95): 100%|██████████| 11/11 [00:01<00:00,  5.57it/s]"
          ]
        },
        {
          "name": "stdout",
          "output_type": "stream",
          "text": [
            "                   all        176        146      0.972      0.968      0.988      0.799      0.972      0.968      0.988       0.76\n"
          ]
        },
        {
          "name": "stderr",
          "output_type": "stream",
          "text": [
            "\n"
          ]
        },
        {
          "name": "stdout",
          "output_type": "stream",
          "text": [
            "\n",
            "      Epoch    GPU_mem   box_loss   seg_loss   cls_loss   dfl_loss  Instances       Size\n"
          ]
        },
        {
          "name": "stderr",
          "output_type": "stream",
          "text": [
            "     23/100      4.67G     0.8721      1.225     0.6128      1.032         13        640: 100%|██████████| 88/88 [00:19<00:00,  4.48it/s]\n",
            "                 Class     Images  Instances      Box(P          R      mAP50  mAP50-95)     Mask(P          R      mAP50  mAP50-95): 100%|██████████| 11/11 [00:01<00:00,  5.58it/s]"
          ]
        },
        {
          "name": "stdout",
          "output_type": "stream",
          "text": [
            "                   all        176        146      0.996      0.979      0.994        0.8      0.996      0.979      0.994      0.754\n"
          ]
        },
        {
          "name": "stderr",
          "output_type": "stream",
          "text": [
            "\n"
          ]
        },
        {
          "name": "stdout",
          "output_type": "stream",
          "text": [
            "\n",
            "      Epoch    GPU_mem   box_loss   seg_loss   cls_loss   dfl_loss  Instances       Size\n"
          ]
        },
        {
          "name": "stderr",
          "output_type": "stream",
          "text": [
            "     24/100      4.71G     0.8896      1.238     0.6132       1.05         14        640: 100%|██████████| 88/88 [00:18<00:00,  4.72it/s]\n",
            "                 Class     Images  Instances      Box(P          R      mAP50  mAP50-95)     Mask(P          R      mAP50  mAP50-95): 100%|██████████| 11/11 [00:02<00:00,  4.89it/s]"
          ]
        },
        {
          "name": "stdout",
          "output_type": "stream",
          "text": [
            "                   all        176        146      0.993      0.955       0.98      0.801      0.991      0.973      0.989      0.752\n"
          ]
        },
        {
          "name": "stderr",
          "output_type": "stream",
          "text": [
            "\n"
          ]
        },
        {
          "name": "stdout",
          "output_type": "stream",
          "text": [
            "\n",
            "      Epoch    GPU_mem   box_loss   seg_loss   cls_loss   dfl_loss  Instances       Size\n"
          ]
        },
        {
          "name": "stderr",
          "output_type": "stream",
          "text": [
            "     25/100      4.75G     0.8737      1.248      0.617      1.035         13        640: 100%|██████████| 88/88 [00:19<00:00,  4.61it/s]\n",
            "                 Class     Images  Instances      Box(P          R      mAP50  mAP50-95)     Mask(P          R      mAP50  mAP50-95): 100%|██████████| 11/11 [00:01<00:00,  5.58it/s]"
          ]
        },
        {
          "name": "stdout",
          "output_type": "stream",
          "text": [
            "                   all        176        146      0.993      0.979      0.991      0.812      0.993      0.979      0.991      0.779\n"
          ]
        },
        {
          "name": "stderr",
          "output_type": "stream",
          "text": [
            "\n"
          ]
        },
        {
          "name": "stdout",
          "output_type": "stream",
          "text": [
            "\n",
            "      Epoch    GPU_mem   box_loss   seg_loss   cls_loss   dfl_loss  Instances       Size\n"
          ]
        },
        {
          "name": "stderr",
          "output_type": "stream",
          "text": [
            "     26/100      4.79G     0.8443      1.161     0.5689       1.02         16        640: 100%|██████████| 88/88 [00:19<00:00,  4.51it/s]\n",
            "                 Class     Images  Instances      Box(P          R      mAP50  mAP50-95)     Mask(P          R      mAP50  mAP50-95): 100%|██████████| 11/11 [00:01<00:00,  5.53it/s]"
          ]
        },
        {
          "name": "stdout",
          "output_type": "stream",
          "text": [
            "                   all        176        146          1      0.986      0.994       0.82      0.993      0.979      0.984      0.759\n"
          ]
        },
        {
          "name": "stderr",
          "output_type": "stream",
          "text": [
            "\n"
          ]
        },
        {
          "name": "stdout",
          "output_type": "stream",
          "text": [
            "\n",
            "      Epoch    GPU_mem   box_loss   seg_loss   cls_loss   dfl_loss  Instances       Size\n"
          ]
        },
        {
          "name": "stderr",
          "output_type": "stream",
          "text": [
            "     27/100      4.83G     0.8652      1.208     0.5883       1.04         12        640: 100%|██████████| 88/88 [00:18<00:00,  4.70it/s]\n",
            "                 Class     Images  Instances      Box(P          R      mAP50  mAP50-95)     Mask(P          R      mAP50  mAP50-95): 100%|██████████| 11/11 [00:02<00:00,  4.28it/s]"
          ]
        },
        {
          "name": "stdout",
          "output_type": "stream",
          "text": [
            "                   all        176        146      0.999      0.973      0.987      0.809      0.999      0.973      0.992       0.76\n"
          ]
        },
        {
          "name": "stderr",
          "output_type": "stream",
          "text": [
            "\n"
          ]
        },
        {
          "name": "stdout",
          "output_type": "stream",
          "text": [
            "\n",
            "      Epoch    GPU_mem   box_loss   seg_loss   cls_loss   dfl_loss  Instances       Size\n"
          ]
        },
        {
          "name": "stderr",
          "output_type": "stream",
          "text": [
            "     28/100      4.87G     0.8228      1.191     0.5694      1.015         12        640: 100%|██████████| 88/88 [00:18<00:00,  4.72it/s]\n",
            "                 Class     Images  Instances      Box(P          R      mAP50  mAP50-95)     Mask(P          R      mAP50  mAP50-95): 100%|██████████| 11/11 [00:01<00:00,  5.54it/s]"
          ]
        },
        {
          "name": "stdout",
          "output_type": "stream",
          "text": [
            "                   all        176        146      0.991      0.986      0.991      0.826      0.991      0.986      0.991      0.788\n"
          ]
        },
        {
          "name": "stderr",
          "output_type": "stream",
          "text": [
            "\n"
          ]
        },
        {
          "name": "stdout",
          "output_type": "stream",
          "text": [
            "\n",
            "      Epoch    GPU_mem   box_loss   seg_loss   cls_loss   dfl_loss  Instances       Size\n"
          ]
        },
        {
          "name": "stderr",
          "output_type": "stream",
          "text": [
            "     29/100      4.91G     0.8207      1.143     0.5508       1.01         10        640: 100%|██████████| 88/88 [00:19<00:00,  4.50it/s]\n",
            "                 Class     Images  Instances      Box(P          R      mAP50  mAP50-95)     Mask(P          R      mAP50  mAP50-95): 100%|██████████| 11/11 [00:01<00:00,  5.62it/s]\n"
          ]
        },
        {
          "name": "stdout",
          "output_type": "stream",
          "text": [
            "                   all        176        146      0.987      0.979      0.994      0.843      0.987      0.979      0.994      0.791\n",
            "\n",
            "      Epoch    GPU_mem   box_loss   seg_loss   cls_loss   dfl_loss  Instances       Size\n"
          ]
        },
        {
          "name": "stderr",
          "output_type": "stream",
          "text": [
            "     30/100      4.95G     0.7831       1.13     0.5423     0.9931         18        640: 100%|██████████| 88/88 [00:18<00:00,  4.68it/s]\n",
            "                 Class     Images  Instances      Box(P          R      mAP50  mAP50-95)     Mask(P          R      mAP50  mAP50-95): 100%|██████████| 11/11 [00:02<00:00,  4.03it/s]"
          ]
        },
        {
          "name": "stdout",
          "output_type": "stream",
          "text": [
            "                   all        176        146      0.965      0.979      0.983      0.832      0.999      0.966      0.994      0.794\n"
          ]
        },
        {
          "name": "stderr",
          "output_type": "stream",
          "text": [
            "\n"
          ]
        },
        {
          "name": "stdout",
          "output_type": "stream",
          "text": [
            "\n",
            "      Epoch    GPU_mem   box_loss   seg_loss   cls_loss   dfl_loss  Instances       Size\n"
          ]
        },
        {
          "name": "stderr",
          "output_type": "stream",
          "text": [
            "     31/100      4.99G     0.7392      1.038     0.5031     0.9669         19        640: 100%|██████████| 88/88 [00:18<00:00,  4.75it/s]\n",
            "                 Class     Images  Instances      Box(P          R      mAP50  mAP50-95)     Mask(P          R      mAP50  mAP50-95): 100%|██████████| 11/11 [00:01<00:00,  5.65it/s]"
          ]
        },
        {
          "name": "stdout",
          "output_type": "stream",
          "text": [
            "                   all        176        146      0.977      0.979      0.985      0.843      0.984      0.986      0.994      0.795\n"
          ]
        },
        {
          "name": "stderr",
          "output_type": "stream",
          "text": [
            "\n"
          ]
        },
        {
          "name": "stdout",
          "output_type": "stream",
          "text": [
            "\n",
            "      Epoch    GPU_mem   box_loss   seg_loss   cls_loss   dfl_loss  Instances       Size\n"
          ]
        },
        {
          "name": "stderr",
          "output_type": "stream",
          "text": [
            "     32/100      5.03G     0.8239       1.19     0.5511      1.019         12        640: 100%|██████████| 88/88 [00:19<00:00,  4.50it/s]\n",
            "                 Class     Images  Instances      Box(P          R      mAP50  mAP50-95)     Mask(P          R      mAP50  mAP50-95): 100%|██████████| 11/11 [00:02<00:00,  5.47it/s]"
          ]
        },
        {
          "name": "stdout",
          "output_type": "stream",
          "text": [
            "                   all        176        146      0.995      0.986      0.992      0.864      0.995      0.986      0.992      0.804\n"
          ]
        },
        {
          "name": "stderr",
          "output_type": "stream",
          "text": [
            "\n"
          ]
        },
        {
          "name": "stdout",
          "output_type": "stream",
          "text": [
            "\n",
            "      Epoch    GPU_mem   box_loss   seg_loss   cls_loss   dfl_loss  Instances       Size\n"
          ]
        },
        {
          "name": "stderr",
          "output_type": "stream",
          "text": [
            "     33/100      5.07G     0.7555      1.142     0.5359     0.9818          7        640: 100%|██████████| 88/88 [00:19<00:00,  4.58it/s]\n",
            "                 Class     Images  Instances      Box(P          R      mAP50  mAP50-95)     Mask(P          R      mAP50  mAP50-95): 100%|██████████| 11/11 [00:02<00:00,  4.40it/s]"
          ]
        },
        {
          "name": "stdout",
          "output_type": "stream",
          "text": [
            "                   all        176        146      0.985      0.979      0.985      0.856      0.992      0.986      0.995      0.802\n"
          ]
        },
        {
          "name": "stderr",
          "output_type": "stream",
          "text": [
            "\n"
          ]
        },
        {
          "name": "stdout",
          "output_type": "stream",
          "text": [
            "\n",
            "      Epoch    GPU_mem   box_loss   seg_loss   cls_loss   dfl_loss  Instances       Size\n"
          ]
        },
        {
          "name": "stderr",
          "output_type": "stream",
          "text": [
            "     34/100      5.11G     0.7578      1.085     0.5007     0.9899         13        640: 100%|██████████| 88/88 [00:18<00:00,  4.72it/s]\n",
            "                 Class     Images  Instances      Box(P          R      mAP50  mAP50-95)     Mask(P          R      mAP50  mAP50-95): 100%|██████████| 11/11 [00:01<00:00,  5.67it/s]"
          ]
        },
        {
          "name": "stdout",
          "output_type": "stream",
          "text": [
            "                   all        176        146      0.986      0.984      0.994      0.845      0.986      0.984      0.994      0.825\n"
          ]
        },
        {
          "name": "stderr",
          "output_type": "stream",
          "text": [
            "\n"
          ]
        },
        {
          "name": "stdout",
          "output_type": "stream",
          "text": [
            "\n",
            "      Epoch    GPU_mem   box_loss   seg_loss   cls_loss   dfl_loss  Instances       Size\n"
          ]
        },
        {
          "name": "stderr",
          "output_type": "stream",
          "text": [
            "     35/100      5.15G     0.7597      1.064     0.5077     0.9734         12        640: 100%|██████████| 88/88 [00:19<00:00,  4.50it/s]\n",
            "                 Class     Images  Instances      Box(P          R      mAP50  mAP50-95)     Mask(P          R      mAP50  mAP50-95): 100%|██████████| 11/11 [00:01<00:00,  5.67it/s]"
          ]
        },
        {
          "name": "stdout",
          "output_type": "stream",
          "text": [
            "                   all        176        146      0.993      0.986      0.995      0.847      0.993      0.986      0.995      0.815\n"
          ]
        },
        {
          "name": "stderr",
          "output_type": "stream",
          "text": [
            "\n"
          ]
        },
        {
          "name": "stdout",
          "output_type": "stream",
          "text": [
            "\n",
            "      Epoch    GPU_mem   box_loss   seg_loss   cls_loss   dfl_loss  Instances       Size\n"
          ]
        },
        {
          "name": "stderr",
          "output_type": "stream",
          "text": [
            "     36/100      5.19G      0.729      1.037     0.4919     0.9778         18        640: 100%|██████████| 88/88 [00:19<00:00,  4.61it/s]\n",
            "                 Class     Images  Instances      Box(P          R      mAP50  mAP50-95)     Mask(P          R      mAP50  mAP50-95): 100%|██████████| 11/11 [00:02<00:00,  4.77it/s]"
          ]
        },
        {
          "name": "stdout",
          "output_type": "stream",
          "text": [
            "                   all        176        146          1      0.992      0.995      0.869          1      0.992      0.995      0.819\n"
          ]
        },
        {
          "name": "stderr",
          "output_type": "stream",
          "text": [
            "\n"
          ]
        },
        {
          "name": "stdout",
          "output_type": "stream",
          "text": [
            "\n",
            "      Epoch    GPU_mem   box_loss   seg_loss   cls_loss   dfl_loss  Instances       Size\n"
          ]
        },
        {
          "name": "stderr",
          "output_type": "stream",
          "text": [
            "     37/100      5.23G     0.7129      1.015     0.4738     0.9642         12        640: 100%|██████████| 88/88 [00:18<00:00,  4.69it/s]\n",
            "                 Class     Images  Instances      Box(P          R      mAP50  mAP50-95)     Mask(P          R      mAP50  mAP50-95): 100%|██████████| 11/11 [00:01<00:00,  5.56it/s]"
          ]
        },
        {
          "name": "stdout",
          "output_type": "stream",
          "text": [
            "                   all        176        146      0.984      0.979      0.993      0.865      0.984      0.979      0.993      0.819\n"
          ]
        },
        {
          "name": "stderr",
          "output_type": "stream",
          "text": [
            "\n"
          ]
        },
        {
          "name": "stdout",
          "output_type": "stream",
          "text": [
            "\n",
            "      Epoch    GPU_mem   box_loss   seg_loss   cls_loss   dfl_loss  Instances       Size\n"
          ]
        },
        {
          "name": "stderr",
          "output_type": "stream",
          "text": [
            "     38/100      5.27G     0.7258      1.023     0.4889     0.9678         19        640: 100%|██████████| 88/88 [00:19<00:00,  4.51it/s]\n",
            "                 Class     Images  Instances      Box(P          R      mAP50  mAP50-95)     Mask(P          R      mAP50  mAP50-95): 100%|██████████| 11/11 [00:01<00:00,  5.63it/s]"
          ]
        },
        {
          "name": "stdout",
          "output_type": "stream",
          "text": [
            "                   all        176        146      0.998      0.979      0.994      0.866      0.998      0.979      0.994      0.832\n"
          ]
        },
        {
          "name": "stderr",
          "output_type": "stream",
          "text": [
            "\n"
          ]
        },
        {
          "name": "stdout",
          "output_type": "stream",
          "text": [
            "\n",
            "      Epoch    GPU_mem   box_loss   seg_loss   cls_loss   dfl_loss  Instances       Size\n"
          ]
        },
        {
          "name": "stderr",
          "output_type": "stream",
          "text": [
            "     39/100      5.31G     0.7172       1.03     0.4864     0.9623         18        640: 100%|██████████| 88/88 [00:19<00:00,  4.51it/s]\n",
            "                 Class     Images  Instances      Box(P          R      mAP50  mAP50-95)     Mask(P          R      mAP50  mAP50-95): 100%|██████████| 11/11 [00:01<00:00,  5.51it/s]"
          ]
        },
        {
          "name": "stdout",
          "output_type": "stream",
          "text": [
            "                   all        176        146          1      0.993      0.995      0.871          1      0.993      0.995      0.834\n"
          ]
        },
        {
          "name": "stderr",
          "output_type": "stream",
          "text": [
            "\n"
          ]
        },
        {
          "name": "stdout",
          "output_type": "stream",
          "text": [
            "\n",
            "      Epoch    GPU_mem   box_loss   seg_loss   cls_loss   dfl_loss  Instances       Size\n"
          ]
        },
        {
          "name": "stderr",
          "output_type": "stream",
          "text": [
            "     40/100      5.35G     0.6932     0.9604     0.4532     0.9531         13        640: 100%|██████████| 88/88 [00:18<00:00,  4.71it/s]\n",
            "                 Class     Images  Instances      Box(P          R      mAP50  mAP50-95)     Mask(P          R      mAP50  mAP50-95): 100%|██████████| 11/11 [00:02<00:00,  5.36it/s]"
          ]
        },
        {
          "name": "stdout",
          "output_type": "stream",
          "text": [
            "                   all        176        146      0.986       0.98      0.994       0.86      0.986       0.98      0.994      0.821\n"
          ]
        },
        {
          "name": "stderr",
          "output_type": "stream",
          "text": [
            "\n"
          ]
        },
        {
          "name": "stdout",
          "output_type": "stream",
          "text": [
            "\n",
            "      Epoch    GPU_mem   box_loss   seg_loss   cls_loss   dfl_loss  Instances       Size\n"
          ]
        },
        {
          "name": "stderr",
          "output_type": "stream",
          "text": [
            "     41/100      5.39G     0.7207      1.014      0.481     0.9592         11        640: 100%|██████████| 88/88 [00:19<00:00,  4.59it/s]\n",
            "                 Class     Images  Instances      Box(P          R      mAP50  mAP50-95)     Mask(P          R      mAP50  mAP50-95): 100%|██████████| 11/11 [00:01<00:00,  5.58it/s]"
          ]
        },
        {
          "name": "stdout",
          "output_type": "stream",
          "text": [
            "                   all        176        146          1      0.986      0.995      0.877          1      0.986      0.995      0.837\n"
          ]
        },
        {
          "name": "stderr",
          "output_type": "stream",
          "text": [
            "\n"
          ]
        },
        {
          "name": "stdout",
          "output_type": "stream",
          "text": [
            "\n",
            "      Epoch    GPU_mem   box_loss   seg_loss   cls_loss   dfl_loss  Instances       Size\n"
          ]
        },
        {
          "name": "stderr",
          "output_type": "stream",
          "text": [
            "     42/100      5.43G     0.6765     0.9804     0.4661     0.9466         11        640: 100%|██████████| 88/88 [00:19<00:00,  4.49it/s]\n",
            "                 Class     Images  Instances      Box(P          R      mAP50  mAP50-95)     Mask(P          R      mAP50  mAP50-95): 100%|██████████| 11/11 [00:01<00:00,  5.56it/s]"
          ]
        },
        {
          "name": "stdout",
          "output_type": "stream",
          "text": [
            "                   all        176        146      0.996      0.986      0.994      0.882      0.996      0.986      0.994      0.839\n"
          ]
        },
        {
          "name": "stderr",
          "output_type": "stream",
          "text": [
            "\n"
          ]
        },
        {
          "name": "stdout",
          "output_type": "stream",
          "text": [
            "\n",
            "      Epoch    GPU_mem   box_loss   seg_loss   cls_loss   dfl_loss  Instances       Size\n"
          ]
        },
        {
          "name": "stderr",
          "output_type": "stream",
          "text": [
            "     43/100      5.47G     0.7004     0.9823      0.462     0.9612         20        640: 100%|██████████| 88/88 [00:18<00:00,  4.73it/s]\n",
            "                 Class     Images  Instances      Box(P          R      mAP50  mAP50-95)     Mask(P          R      mAP50  mAP50-95): 100%|██████████| 11/11 [00:02<00:00,  4.81it/s]"
          ]
        },
        {
          "name": "stdout",
          "output_type": "stream",
          "text": [
            "                   all        176        146      0.992      0.993      0.994       0.87      0.992      0.993      0.994      0.835\n"
          ]
        },
        {
          "name": "stderr",
          "output_type": "stream",
          "text": [
            "\n"
          ]
        },
        {
          "name": "stdout",
          "output_type": "stream",
          "text": [
            "\n",
            "      Epoch    GPU_mem   box_loss   seg_loss   cls_loss   dfl_loss  Instances       Size\n"
          ]
        },
        {
          "name": "stderr",
          "output_type": "stream",
          "text": [
            "     44/100      5.51G     0.6874     0.9905     0.4674     0.9545         16        640: 100%|██████████| 88/88 [00:18<00:00,  4.67it/s]\n",
            "                 Class     Images  Instances      Box(P          R      mAP50  mAP50-95)     Mask(P          R      mAP50  mAP50-95): 100%|██████████| 11/11 [00:01<00:00,  5.54it/s]"
          ]
        },
        {
          "name": "stdout",
          "output_type": "stream",
          "text": [
            "                   all        176        146      0.999      0.986      0.995      0.869      0.999      0.986      0.995      0.831\n"
          ]
        },
        {
          "name": "stderr",
          "output_type": "stream",
          "text": [
            "\n"
          ]
        },
        {
          "name": "stdout",
          "output_type": "stream",
          "text": [
            "\n",
            "      Epoch    GPU_mem   box_loss   seg_loss   cls_loss   dfl_loss  Instances       Size\n"
          ]
        },
        {
          "name": "stderr",
          "output_type": "stream",
          "text": [
            "     45/100      5.55G     0.6732       1.01     0.4487     0.9455         10        640: 100%|██████████| 88/88 [00:19<00:00,  4.52it/s]\n",
            "                 Class     Images  Instances      Box(P          R      mAP50  mAP50-95)     Mask(P          R      mAP50  mAP50-95): 100%|██████████| 11/11 [00:01<00:00,  5.60it/s]"
          ]
        },
        {
          "name": "stdout",
          "output_type": "stream",
          "text": [
            "                   all        176        146      0.993      0.993      0.995       0.86      0.993      0.993      0.995      0.825\n"
          ]
        },
        {
          "name": "stderr",
          "output_type": "stream",
          "text": [
            "\n"
          ]
        },
        {
          "name": "stdout",
          "output_type": "stream",
          "text": [
            "\n",
            "      Epoch    GPU_mem   box_loss   seg_loss   cls_loss   dfl_loss  Instances       Size\n"
          ]
        },
        {
          "name": "stderr",
          "output_type": "stream",
          "text": [
            "     46/100      5.59G      0.674      0.968       0.45     0.9489         15        640: 100%|██████████| 88/88 [00:18<00:00,  4.68it/s]\n",
            "                 Class     Images  Instances      Box(P          R      mAP50  mAP50-95)     Mask(P          R      mAP50  mAP50-95): 100%|██████████| 11/11 [00:02<00:00,  4.22it/s]"
          ]
        },
        {
          "name": "stdout",
          "output_type": "stream",
          "text": [
            "                   all        176        146      0.993      0.986      0.995      0.879      0.993      0.986      0.995      0.847\n"
          ]
        },
        {
          "name": "stderr",
          "output_type": "stream",
          "text": [
            "\n"
          ]
        },
        {
          "name": "stdout",
          "output_type": "stream",
          "text": [
            "\n",
            "      Epoch    GPU_mem   box_loss   seg_loss   cls_loss   dfl_loss  Instances       Size\n"
          ]
        },
        {
          "name": "stderr",
          "output_type": "stream",
          "text": [
            "     47/100      5.63G     0.6651     0.9352     0.4427     0.9545         13        640: 100%|██████████| 88/88 [00:18<00:00,  4.65it/s]\n",
            "                 Class     Images  Instances      Box(P          R      mAP50  mAP50-95)     Mask(P          R      mAP50  mAP50-95): 100%|██████████| 11/11 [00:01<00:00,  5.55it/s]"
          ]
        },
        {
          "name": "stdout",
          "output_type": "stream",
          "text": [
            "                   all        176        146      0.992      0.986      0.995      0.883      0.992      0.986      0.995      0.835\n"
          ]
        },
        {
          "name": "stderr",
          "output_type": "stream",
          "text": [
            "\n"
          ]
        },
        {
          "name": "stdout",
          "output_type": "stream",
          "text": [
            "\n",
            "      Epoch    GPU_mem   box_loss   seg_loss   cls_loss   dfl_loss  Instances       Size\n"
          ]
        },
        {
          "name": "stderr",
          "output_type": "stream",
          "text": [
            "     48/100      5.67G     0.6602     0.9554     0.4467     0.9498         18        640: 100%|██████████| 88/88 [00:19<00:00,  4.46it/s]\n",
            "                 Class     Images  Instances      Box(P          R      mAP50  mAP50-95)     Mask(P          R      mAP50  mAP50-95): 100%|██████████| 11/11 [00:01<00:00,  5.52it/s]"
          ]
        },
        {
          "name": "stdout",
          "output_type": "stream",
          "text": [
            "                   all        176        146      0.993      0.978      0.993      0.885          1      0.985      0.995      0.829\n"
          ]
        },
        {
          "name": "stderr",
          "output_type": "stream",
          "text": [
            "\n"
          ]
        },
        {
          "name": "stdout",
          "output_type": "stream",
          "text": [
            "\n",
            "      Epoch    GPU_mem   box_loss   seg_loss   cls_loss   dfl_loss  Instances       Size\n"
          ]
        },
        {
          "name": "stderr",
          "output_type": "stream",
          "text": [
            "     49/100      5.71G     0.6696      0.938     0.4421     0.9531         15        640: 100%|██████████| 88/88 [00:19<00:00,  4.60it/s]\n",
            "                 Class     Images  Instances      Box(P          R      mAP50  mAP50-95)     Mask(P          R      mAP50  mAP50-95): 100%|██████████| 11/11 [00:02<00:00,  4.29it/s]"
          ]
        },
        {
          "name": "stdout",
          "output_type": "stream",
          "text": [
            "                   all        176        146      0.998      0.986      0.995      0.888      0.998      0.986      0.995      0.845\n"
          ]
        },
        {
          "name": "stderr",
          "output_type": "stream",
          "text": [
            "\n"
          ]
        },
        {
          "name": "stdout",
          "output_type": "stream",
          "text": [
            "\n",
            "      Epoch    GPU_mem   box_loss   seg_loss   cls_loss   dfl_loss  Instances       Size\n"
          ]
        },
        {
          "name": "stderr",
          "output_type": "stream",
          "text": [
            "     50/100      5.75G     0.6402     0.9242     0.4252     0.9413         14        640: 100%|██████████| 88/88 [00:18<00:00,  4.65it/s]\n",
            "                 Class     Images  Instances      Box(P          R      mAP50  mAP50-95)     Mask(P          R      mAP50  mAP50-95): 100%|██████████| 11/11 [00:01<00:00,  5.58it/s]"
          ]
        },
        {
          "name": "stdout",
          "output_type": "stream",
          "text": [
            "                   all        176        146      0.993      0.993      0.995      0.913      0.993      0.993      0.995      0.856\n"
          ]
        },
        {
          "name": "stderr",
          "output_type": "stream",
          "text": [
            "\n"
          ]
        },
        {
          "name": "stdout",
          "output_type": "stream",
          "text": [
            "\n",
            "      Epoch    GPU_mem   box_loss   seg_loss   cls_loss   dfl_loss  Instances       Size\n"
          ]
        },
        {
          "name": "stderr",
          "output_type": "stream",
          "text": [
            "     51/100      5.79G     0.6335     0.9211     0.4196     0.9335         11        640: 100%|██████████| 88/88 [00:20<00:00,  4.35it/s]\n",
            "                 Class     Images  Instances      Box(P          R      mAP50  mAP50-95)     Mask(P          R      mAP50  mAP50-95): 100%|██████████| 11/11 [00:02<00:00,  5.46it/s]"
          ]
        },
        {
          "name": "stdout",
          "output_type": "stream",
          "text": [
            "                   all        176        146      0.992      0.993      0.995      0.899      0.992      0.993      0.995       0.85\n"
          ]
        },
        {
          "name": "stderr",
          "output_type": "stream",
          "text": [
            "\n"
          ]
        },
        {
          "name": "stdout",
          "output_type": "stream",
          "text": [
            "\n",
            "      Epoch    GPU_mem   box_loss   seg_loss   cls_loss   dfl_loss  Instances       Size\n"
          ]
        },
        {
          "name": "stderr",
          "output_type": "stream",
          "text": [
            "     52/100      5.83G     0.6246     0.9341     0.4155     0.9233         10        640: 100%|██████████| 88/88 [00:19<00:00,  4.44it/s]\n",
            "                 Class     Images  Instances      Box(P          R      mAP50  mAP50-95)     Mask(P          R      mAP50  mAP50-95): 100%|██████████| 11/11 [00:02<00:00,  5.45it/s]\n"
          ]
        },
        {
          "name": "stdout",
          "output_type": "stream",
          "text": [
            "                   all        176        146      0.992      0.993      0.995      0.895      0.992      0.993      0.995      0.852\n",
            "\n",
            "      Epoch    GPU_mem   box_loss   seg_loss   cls_loss   dfl_loss  Instances       Size\n"
          ]
        },
        {
          "name": "stderr",
          "output_type": "stream",
          "text": [
            "     53/100      5.87G      0.619     0.9071      0.417     0.9306         15        640: 100%|██████████| 88/88 [00:19<00:00,  4.62it/s]\n",
            "                 Class     Images  Instances      Box(P          R      mAP50  mAP50-95)     Mask(P          R      mAP50  mAP50-95): 100%|██████████| 11/11 [00:02<00:00,  4.60it/s]"
          ]
        },
        {
          "name": "stdout",
          "output_type": "stream",
          "text": [
            "                   all        176        146      0.993      0.992      0.995      0.905      0.993      0.992      0.995      0.863\n"
          ]
        },
        {
          "name": "stderr",
          "output_type": "stream",
          "text": [
            "\n"
          ]
        },
        {
          "name": "stdout",
          "output_type": "stream",
          "text": [
            "\n",
            "      Epoch    GPU_mem   box_loss   seg_loss   cls_loss   dfl_loss  Instances       Size\n"
          ]
        },
        {
          "name": "stderr",
          "output_type": "stream",
          "text": [
            "     54/100      6.02G     0.5965     0.8923     0.4044     0.9157         15        640: 100%|██████████| 88/88 [00:19<00:00,  4.58it/s]\n",
            "                 Class     Images  Instances      Box(P          R      mAP50  mAP50-95)     Mask(P          R      mAP50  mAP50-95): 100%|██████████| 11/11 [00:02<00:00,  5.48it/s]"
          ]
        },
        {
          "name": "stdout",
          "output_type": "stream",
          "text": [
            "                   all        176        146      0.986      0.991      0.995      0.912      0.986      0.991      0.995      0.869\n"
          ]
        },
        {
          "name": "stderr",
          "output_type": "stream",
          "text": [
            "\n"
          ]
        },
        {
          "name": "stdout",
          "output_type": "stream",
          "text": [
            "\n",
            "      Epoch    GPU_mem   box_loss   seg_loss   cls_loss   dfl_loss  Instances       Size\n"
          ]
        },
        {
          "name": "stderr",
          "output_type": "stream",
          "text": [
            "     55/100      6.06G     0.6161     0.8847     0.4117     0.9297         13        640: 100%|██████████| 88/88 [00:19<00:00,  4.45it/s]\n",
            "                 Class     Images  Instances      Box(P          R      mAP50  mAP50-95)     Mask(P          R      mAP50  mAP50-95): 100%|██████████| 11/11 [00:02<00:00,  5.49it/s]"
          ]
        },
        {
          "name": "stdout",
          "output_type": "stream",
          "text": [
            "                   all        176        146      0.991      0.993      0.995      0.898      0.991      0.993      0.995      0.853\n"
          ]
        },
        {
          "name": "stderr",
          "output_type": "stream",
          "text": [
            "\n"
          ]
        },
        {
          "name": "stdout",
          "output_type": "stream",
          "text": [
            "\n",
            "      Epoch    GPU_mem   box_loss   seg_loss   cls_loss   dfl_loss  Instances       Size\n"
          ]
        },
        {
          "name": "stderr",
          "output_type": "stream",
          "text": [
            "     56/100       6.1G     0.5918     0.8516     0.4074     0.9305         18        640: 100%|██████████| 88/88 [00:18<00:00,  4.64it/s]\n",
            "                 Class     Images  Instances      Box(P          R      mAP50  mAP50-95)     Mask(P          R      mAP50  mAP50-95): 100%|██████████| 11/11 [00:02<00:00,  4.08it/s]\n"
          ]
        },
        {
          "name": "stdout",
          "output_type": "stream",
          "text": [
            "                   all        176        146          1      0.986      0.995      0.892          1      0.986      0.995      0.847\n",
            "\n",
            "      Epoch    GPU_mem   box_loss   seg_loss   cls_loss   dfl_loss  Instances       Size\n"
          ]
        },
        {
          "name": "stderr",
          "output_type": "stream",
          "text": [
            "     57/100      6.14G      0.613     0.8452     0.4133     0.9318         12        640: 100%|██████████| 88/88 [00:18<00:00,  4.64it/s]\n",
            "                 Class     Images  Instances      Box(P          R      mAP50  mAP50-95)     Mask(P          R      mAP50  mAP50-95): 100%|██████████| 11/11 [00:02<00:00,  5.38it/s]"
          ]
        },
        {
          "name": "stdout",
          "output_type": "stream",
          "text": [
            "                   all        176        146      0.993      0.992      0.995      0.904      0.993      0.992      0.995       0.86\n"
          ]
        },
        {
          "name": "stderr",
          "output_type": "stream",
          "text": [
            "\n"
          ]
        },
        {
          "name": "stdout",
          "output_type": "stream",
          "text": [
            "\n",
            "      Epoch    GPU_mem   box_loss   seg_loss   cls_loss   dfl_loss  Instances       Size\n"
          ]
        },
        {
          "name": "stderr",
          "output_type": "stream",
          "text": [
            "     58/100      6.18G     0.5906     0.8619     0.3937     0.9179         14        640: 100%|██████████| 88/88 [00:19<00:00,  4.41it/s]\n",
            "                 Class     Images  Instances      Box(P          R      mAP50  mAP50-95)     Mask(P          R      mAP50  mAP50-95): 100%|██████████| 11/11 [00:02<00:00,  5.43it/s]"
          ]
        },
        {
          "name": "stdout",
          "output_type": "stream",
          "text": [
            "                   all        176        146      0.999      0.993      0.995      0.912      0.999      0.993      0.995      0.863\n"
          ]
        },
        {
          "name": "stderr",
          "output_type": "stream",
          "text": [
            "\n"
          ]
        },
        {
          "name": "stdout",
          "output_type": "stream",
          "text": [
            "\n",
            "      Epoch    GPU_mem   box_loss   seg_loss   cls_loss   dfl_loss  Instances       Size\n"
          ]
        },
        {
          "name": "stderr",
          "output_type": "stream",
          "text": [
            "     59/100      6.22G      0.578       0.87     0.3842     0.9244          9        640: 100%|██████████| 88/88 [00:19<00:00,  4.47it/s]\n",
            "                 Class     Images  Instances      Box(P          R      mAP50  mAP50-95)     Mask(P          R      mAP50  mAP50-95): 100%|██████████| 11/11 [00:02<00:00,  4.97it/s]"
          ]
        },
        {
          "name": "stdout",
          "output_type": "stream",
          "text": [
            "                   all        176        146          1      0.992      0.995      0.916          1      0.992      0.995      0.862\n"
          ]
        },
        {
          "name": "stderr",
          "output_type": "stream",
          "text": [
            "\n"
          ]
        },
        {
          "name": "stdout",
          "output_type": "stream",
          "text": [
            "\n",
            "      Epoch    GPU_mem   box_loss   seg_loss   cls_loss   dfl_loss  Instances       Size\n"
          ]
        },
        {
          "name": "stderr",
          "output_type": "stream",
          "text": [
            "     60/100      6.88G     0.5731     0.8385     0.3726      0.916         14        640: 100%|██████████| 88/88 [00:18<00:00,  4.68it/s]\n",
            "                 Class     Images  Instances      Box(P          R      mAP50  mAP50-95)     Mask(P          R      mAP50  mAP50-95): 100%|██████████| 11/11 [00:01<00:00,  5.72it/s]"
          ]
        },
        {
          "name": "stdout",
          "output_type": "stream",
          "text": [
            "                   all        176        146      0.998      0.986      0.995      0.918      0.998      0.986      0.995      0.873\n"
          ]
        },
        {
          "name": "stderr",
          "output_type": "stream",
          "text": [
            "\n"
          ]
        },
        {
          "name": "stdout",
          "output_type": "stream",
          "text": [
            "\n",
            "      Epoch    GPU_mem   box_loss   seg_loss   cls_loss   dfl_loss  Instances       Size\n"
          ]
        },
        {
          "name": "stderr",
          "output_type": "stream",
          "text": [
            "     61/100      6.92G     0.5949     0.8635     0.3976     0.9271         13        640: 100%|██████████| 88/88 [00:19<00:00,  4.44it/s]\n",
            "                 Class     Images  Instances      Box(P          R      mAP50  mAP50-95)     Mask(P          R      mAP50  mAP50-95): 100%|██████████| 11/11 [00:02<00:00,  5.43it/s]\n"
          ]
        },
        {
          "name": "stdout",
          "output_type": "stream",
          "text": [
            "                   all        176        146      0.999      0.986      0.995      0.916      0.999      0.986      0.995      0.859\n",
            "\n",
            "      Epoch    GPU_mem   box_loss   seg_loss   cls_loss   dfl_loss  Instances       Size\n"
          ]
        },
        {
          "name": "stderr",
          "output_type": "stream",
          "text": [
            "     62/100      6.96G      0.553     0.8065     0.3619     0.9023         14        640: 100%|██████████| 88/88 [00:19<00:00,  4.47it/s]\n",
            "                 Class     Images  Instances      Box(P          R      mAP50  mAP50-95)     Mask(P          R      mAP50  mAP50-95): 100%|██████████| 11/11 [00:01<00:00,  5.59it/s]"
          ]
        },
        {
          "name": "stdout",
          "output_type": "stream",
          "text": [
            "                   all        176        146      0.999      0.986      0.995      0.919      0.999      0.986      0.995      0.866\n"
          ]
        },
        {
          "name": "stderr",
          "output_type": "stream",
          "text": [
            "\n"
          ]
        },
        {
          "name": "stdout",
          "output_type": "stream",
          "text": [
            "\n",
            "      Epoch    GPU_mem   box_loss   seg_loss   cls_loss   dfl_loss  Instances       Size\n"
          ]
        },
        {
          "name": "stderr",
          "output_type": "stream",
          "text": [
            "     63/100         7G      0.553     0.8002     0.3691      0.912         13        640: 100%|██████████| 88/88 [00:18<00:00,  4.64it/s]\n",
            "                 Class     Images  Instances      Box(P          R      mAP50  mAP50-95)     Mask(P          R      mAP50  mAP50-95): 100%|██████████| 11/11 [00:02<00:00,  5.04it/s]"
          ]
        },
        {
          "name": "stdout",
          "output_type": "stream",
          "text": [
            "                   all        176        146          1      0.986      0.994      0.917          1      0.986      0.994      0.865\n"
          ]
        },
        {
          "name": "stderr",
          "output_type": "stream",
          "text": [
            "\n"
          ]
        },
        {
          "name": "stdout",
          "output_type": "stream",
          "text": [
            "\n",
            "      Epoch    GPU_mem   box_loss   seg_loss   cls_loss   dfl_loss  Instances       Size\n"
          ]
        },
        {
          "name": "stderr",
          "output_type": "stream",
          "text": [
            "     64/100      7.04G     0.5533     0.7858     0.3632     0.9081         12        640: 100%|██████████| 88/88 [00:19<00:00,  4.54it/s]\n",
            "                 Class     Images  Instances      Box(P          R      mAP50  mAP50-95)     Mask(P          R      mAP50  mAP50-95): 100%|██████████| 11/11 [00:01<00:00,  5.57it/s]"
          ]
        },
        {
          "name": "stdout",
          "output_type": "stream",
          "text": [
            "                   all        176        146          1      0.993      0.995       0.92          1      0.993      0.995      0.869\n"
          ]
        },
        {
          "name": "stderr",
          "output_type": "stream",
          "text": [
            "\n"
          ]
        },
        {
          "name": "stdout",
          "output_type": "stream",
          "text": [
            "\n",
            "      Epoch    GPU_mem   box_loss   seg_loss   cls_loss   dfl_loss  Instances       Size\n"
          ]
        },
        {
          "name": "stderr",
          "output_type": "stream",
          "text": [
            "     65/100      7.08G     0.5309     0.7701     0.3634     0.8973         16        640: 100%|██████████| 88/88 [00:20<00:00,  4.40it/s]\n",
            "                 Class     Images  Instances      Box(P          R      mAP50  mAP50-95)     Mask(P          R      mAP50  mAP50-95): 100%|██████████| 11/11 [00:01<00:00,  5.55it/s]"
          ]
        },
        {
          "name": "stdout",
          "output_type": "stream",
          "text": [
            "                   all        176        146          1      0.992      0.995      0.925          1      0.992      0.995      0.873\n"
          ]
        },
        {
          "name": "stderr",
          "output_type": "stream",
          "text": [
            "\n"
          ]
        },
        {
          "name": "stdout",
          "output_type": "stream",
          "text": [
            "\n",
            "      Epoch    GPU_mem   box_loss   seg_loss   cls_loss   dfl_loss  Instances       Size\n"
          ]
        },
        {
          "name": "stderr",
          "output_type": "stream",
          "text": [
            "     66/100      7.12G     0.5664     0.7991     0.3779     0.9127         11        640: 100%|██████████| 88/88 [00:18<00:00,  4.65it/s]\n",
            "                 Class     Images  Instances      Box(P          R      mAP50  mAP50-95)     Mask(P          R      mAP50  mAP50-95): 100%|██████████| 11/11 [00:02<00:00,  4.14it/s]"
          ]
        },
        {
          "name": "stdout",
          "output_type": "stream",
          "text": [
            "                   all        176        146      0.999      0.986      0.995      0.918      0.999      0.986      0.995      0.871\n"
          ]
        },
        {
          "name": "stderr",
          "output_type": "stream",
          "text": [
            "\n"
          ]
        },
        {
          "name": "stdout",
          "output_type": "stream",
          "text": [
            "\n",
            "      Epoch    GPU_mem   box_loss   seg_loss   cls_loss   dfl_loss  Instances       Size\n"
          ]
        },
        {
          "name": "stderr",
          "output_type": "stream",
          "text": [
            "     67/100      7.16G     0.5279     0.7626     0.3515     0.8979          8        640: 100%|██████████| 88/88 [00:18<00:00,  4.64it/s]\n",
            "                 Class     Images  Instances      Box(P          R      mAP50  mAP50-95)     Mask(P          R      mAP50  mAP50-95): 100%|██████████| 11/11 [00:01<00:00,  5.65it/s]"
          ]
        },
        {
          "name": "stdout",
          "output_type": "stream",
          "text": [
            "                   all        176        146      0.993      0.993      0.995       0.93      0.993      0.993      0.995      0.876\n"
          ]
        },
        {
          "name": "stderr",
          "output_type": "stream",
          "text": [
            "\n"
          ]
        },
        {
          "name": "stdout",
          "output_type": "stream",
          "text": [
            "\n",
            "      Epoch    GPU_mem   box_loss   seg_loss   cls_loss   dfl_loss  Instances       Size\n"
          ]
        },
        {
          "name": "stderr",
          "output_type": "stream",
          "text": [
            "     68/100       7.2G     0.5238      0.734     0.3551     0.9026         15        640: 100%|██████████| 88/88 [00:19<00:00,  4.45it/s]\n",
            "                 Class     Images  Instances      Box(P          R      mAP50  mAP50-95)     Mask(P          R      mAP50  mAP50-95): 100%|██████████| 11/11 [00:01<00:00,  5.56it/s]"
          ]
        },
        {
          "name": "stdout",
          "output_type": "stream",
          "text": [
            "                   all        176        146      0.999      0.986      0.995      0.925      0.999      0.986      0.995      0.877\n"
          ]
        },
        {
          "name": "stderr",
          "output_type": "stream",
          "text": [
            "\n"
          ]
        },
        {
          "name": "stdout",
          "output_type": "stream",
          "text": [
            "\n",
            "      Epoch    GPU_mem   box_loss   seg_loss   cls_loss   dfl_loss  Instances       Size\n"
          ]
        },
        {
          "name": "stderr",
          "output_type": "stream",
          "text": [
            "     69/100      7.24G     0.5304     0.7752       0.36     0.9046         11        640: 100%|██████████| 88/88 [00:18<00:00,  4.63it/s]\n",
            "                 Class     Images  Instances      Box(P          R      mAP50  mAP50-95)     Mask(P          R      mAP50  mAP50-95): 100%|██████████| 11/11 [00:02<00:00,  4.39it/s]"
          ]
        },
        {
          "name": "stdout",
          "output_type": "stream",
          "text": [
            "                   all        176        146          1      0.993      0.995      0.925          1      0.993      0.995      0.869\n"
          ]
        },
        {
          "name": "stderr",
          "output_type": "stream",
          "text": [
            "\n"
          ]
        },
        {
          "name": "stdout",
          "output_type": "stream",
          "text": [
            "\n",
            "      Epoch    GPU_mem   box_loss   seg_loss   cls_loss   dfl_loss  Instances       Size\n"
          ]
        },
        {
          "name": "stderr",
          "output_type": "stream",
          "text": [
            "     70/100      7.28G     0.5216     0.7457     0.3562     0.8898         14        640: 100%|██████████| 88/88 [00:18<00:00,  4.65it/s]\n",
            "                 Class     Images  Instances      Box(P          R      mAP50  mAP50-95)     Mask(P          R      mAP50  mAP50-95): 100%|██████████| 11/11 [00:02<00:00,  5.40it/s]"
          ]
        },
        {
          "name": "stdout",
          "output_type": "stream",
          "text": [
            "                   all        176        146          1      0.993      0.995      0.939          1      0.993      0.995      0.879\n"
          ]
        },
        {
          "name": "stderr",
          "output_type": "stream",
          "text": [
            "\n"
          ]
        },
        {
          "name": "stdout",
          "output_type": "stream",
          "text": [
            "\n",
            "      Epoch    GPU_mem   box_loss   seg_loss   cls_loss   dfl_loss  Instances       Size\n"
          ]
        },
        {
          "name": "stderr",
          "output_type": "stream",
          "text": [
            "     71/100      7.32G     0.5302     0.7598     0.3628     0.8907         18        640: 100%|██████████| 88/88 [00:19<00:00,  4.45it/s]\n",
            "                 Class     Images  Instances      Box(P          R      mAP50  mAP50-95)     Mask(P          R      mAP50  mAP50-95): 100%|██████████| 11/11 [00:01<00:00,  5.60it/s]"
          ]
        },
        {
          "name": "stdout",
          "output_type": "stream",
          "text": [
            "                   all        176        146          1      0.993      0.995      0.947          1      0.993      0.995      0.884\n"
          ]
        },
        {
          "name": "stderr",
          "output_type": "stream",
          "text": [
            "\n"
          ]
        },
        {
          "name": "stdout",
          "output_type": "stream",
          "text": [
            "\n",
            "      Epoch    GPU_mem   box_loss   seg_loss   cls_loss   dfl_loss  Instances       Size\n"
          ]
        },
        {
          "name": "stderr",
          "output_type": "stream",
          "text": [
            "     72/100      7.36G     0.5097     0.7855     0.3425     0.8828         13        640: 100%|██████████| 88/88 [00:19<00:00,  4.46it/s]\n",
            "                 Class     Images  Instances      Box(P          R      mAP50  mAP50-95)     Mask(P          R      mAP50  mAP50-95): 100%|██████████| 11/11 [00:02<00:00,  5.38it/s]"
          ]
        },
        {
          "name": "stdout",
          "output_type": "stream",
          "text": [
            "                   all        176        146      0.999      0.993      0.995      0.937      0.999      0.993      0.995      0.881\n"
          ]
        },
        {
          "name": "stderr",
          "output_type": "stream",
          "text": [
            "\n"
          ]
        },
        {
          "name": "stdout",
          "output_type": "stream",
          "text": [
            "\n",
            "      Epoch    GPU_mem   box_loss   seg_loss   cls_loss   dfl_loss  Instances       Size\n"
          ]
        },
        {
          "name": "stderr",
          "output_type": "stream",
          "text": [
            "     73/100       7.4G     0.5189     0.7752     0.3488     0.8993          8        640: 100%|██████████| 88/88 [00:18<00:00,  4.67it/s]\n",
            "                 Class     Images  Instances      Box(P          R      mAP50  mAP50-95)     Mask(P          R      mAP50  mAP50-95): 100%|██████████| 11/11 [00:02<00:00,  5.20it/s]"
          ]
        },
        {
          "name": "stdout",
          "output_type": "stream",
          "text": [
            "                   all        176        146          1      0.993      0.995      0.948          1      0.993      0.995      0.882\n"
          ]
        },
        {
          "name": "stderr",
          "output_type": "stream",
          "text": [
            "\n"
          ]
        },
        {
          "name": "stdout",
          "output_type": "stream",
          "text": [
            "\n",
            "      Epoch    GPU_mem   box_loss   seg_loss   cls_loss   dfl_loss  Instances       Size\n"
          ]
        },
        {
          "name": "stderr",
          "output_type": "stream",
          "text": [
            "     74/100      3.22G     0.5028     0.7215     0.3396      0.898          9        640: 100%|██████████| 88/88 [00:18<00:00,  4.65it/s]\n",
            "                 Class     Images  Instances      Box(P          R      mAP50  mAP50-95)     Mask(P          R      mAP50  mAP50-95): 100%|██████████| 11/11 [00:01<00:00,  5.50it/s]"
          ]
        },
        {
          "name": "stdout",
          "output_type": "stream",
          "text": [
            "                   all        176        146          1      0.993      0.995      0.926          1      0.993      0.995      0.875\n"
          ]
        },
        {
          "name": "stderr",
          "output_type": "stream",
          "text": [
            "\n"
          ]
        },
        {
          "name": "stdout",
          "output_type": "stream",
          "text": [
            "\n",
            "      Epoch    GPU_mem   box_loss   seg_loss   cls_loss   dfl_loss  Instances       Size\n"
          ]
        },
        {
          "name": "stderr",
          "output_type": "stream",
          "text": [
            "     75/100      3.44G     0.5069     0.7221      0.344      0.893         13        640: 100%|██████████| 88/88 [00:20<00:00,  4.39it/s]\n",
            "                 Class     Images  Instances      Box(P          R      mAP50  mAP50-95)     Mask(P          R      mAP50  mAP50-95): 100%|██████████| 11/11 [00:01<00:00,  5.56it/s]"
          ]
        },
        {
          "name": "stdout",
          "output_type": "stream",
          "text": [
            "                   all        176        146          1      0.993      0.995      0.932          1      0.993      0.995      0.874\n"
          ]
        },
        {
          "name": "stderr",
          "output_type": "stream",
          "text": [
            "\n"
          ]
        },
        {
          "name": "stdout",
          "output_type": "stream",
          "text": [
            "\n",
            "      Epoch    GPU_mem   box_loss   seg_loss   cls_loss   dfl_loss  Instances       Size\n"
          ]
        },
        {
          "name": "stderr",
          "output_type": "stream",
          "text": [
            "     76/100      3.44G     0.5032     0.7212     0.3361     0.8995          8        640: 100%|██████████| 88/88 [00:19<00:00,  4.52it/s]\n",
            "                 Class     Images  Instances      Box(P          R      mAP50  mAP50-95)     Mask(P          R      mAP50  mAP50-95): 100%|██████████| 11/11 [00:02<00:00,  4.76it/s]"
          ]
        },
        {
          "name": "stdout",
          "output_type": "stream",
          "text": [
            "                   all        176        146      0.999      0.986      0.995      0.941      0.999      0.986      0.995      0.881\n"
          ]
        },
        {
          "name": "stderr",
          "output_type": "stream",
          "text": [
            "\n"
          ]
        },
        {
          "name": "stdout",
          "output_type": "stream",
          "text": [
            "\n",
            "      Epoch    GPU_mem   box_loss   seg_loss   cls_loss   dfl_loss  Instances       Size\n"
          ]
        },
        {
          "name": "stderr",
          "output_type": "stream",
          "text": [
            "     77/100      3.44G     0.5048     0.7113     0.3439     0.8957         12        640: 100%|██████████| 88/88 [00:19<00:00,  4.61it/s]\n",
            "                 Class     Images  Instances      Box(P          R      mAP50  mAP50-95)     Mask(P          R      mAP50  mAP50-95): 100%|██████████| 11/11 [00:01<00:00,  5.53it/s]"
          ]
        },
        {
          "name": "stdout",
          "output_type": "stream",
          "text": [
            "                   all        176        146      0.999      0.986      0.995      0.935      0.999      0.986      0.995      0.882\n"
          ]
        },
        {
          "name": "stderr",
          "output_type": "stream",
          "text": [
            "\n"
          ]
        },
        {
          "name": "stdout",
          "output_type": "stream",
          "text": [
            "\n",
            "      Epoch    GPU_mem   box_loss   seg_loss   cls_loss   dfl_loss  Instances       Size\n"
          ]
        },
        {
          "name": "stderr",
          "output_type": "stream",
          "text": [
            "     78/100      3.44G     0.4863     0.6978     0.3259     0.8822         11        640: 100%|██████████| 88/88 [00:19<00:00,  4.48it/s]\n",
            "                 Class     Images  Instances      Box(P          R      mAP50  mAP50-95)     Mask(P          R      mAP50  mAP50-95): 100%|██████████| 11/11 [00:01<00:00,  5.55it/s]"
          ]
        },
        {
          "name": "stdout",
          "output_type": "stream",
          "text": [
            "                   all        176        146          1      0.993      0.995      0.941          1      0.993      0.995      0.886\n"
          ]
        },
        {
          "name": "stderr",
          "output_type": "stream",
          "text": [
            "\n"
          ]
        },
        {
          "name": "stdout",
          "output_type": "stream",
          "text": [
            "\n",
            "      Epoch    GPU_mem   box_loss   seg_loss   cls_loss   dfl_loss  Instances       Size\n"
          ]
        },
        {
          "name": "stderr",
          "output_type": "stream",
          "text": [
            "     79/100      3.44G     0.4726     0.7069     0.3278     0.8785         12        640: 100%|██████████| 88/88 [00:19<00:00,  4.45it/s]\n",
            "                 Class     Images  Instances      Box(P          R      mAP50  mAP50-95)     Mask(P          R      mAP50  mAP50-95): 100%|██████████| 11/11 [00:01<00:00,  5.59it/s]"
          ]
        },
        {
          "name": "stdout",
          "output_type": "stream",
          "text": [
            "                   all        176        146          1      0.992      0.995       0.94          1      0.992      0.995      0.893\n"
          ]
        },
        {
          "name": "stderr",
          "output_type": "stream",
          "text": [
            "\n"
          ]
        },
        {
          "name": "stdout",
          "output_type": "stream",
          "text": [
            "\n",
            "      Epoch    GPU_mem   box_loss   seg_loss   cls_loss   dfl_loss  Instances       Size\n"
          ]
        },
        {
          "name": "stderr",
          "output_type": "stream",
          "text": [
            "     80/100      3.44G     0.4686     0.6777      0.322     0.8763         15        640: 100%|██████████| 88/88 [00:18<00:00,  4.64it/s]\n",
            "                 Class     Images  Instances      Box(P          R      mAP50  mAP50-95)     Mask(P          R      mAP50  mAP50-95): 100%|██████████| 11/11 [00:02<00:00,  5.08it/s]"
          ]
        },
        {
          "name": "stdout",
          "output_type": "stream",
          "text": [
            "                   all        176        146      0.999      0.993      0.995      0.937      0.999      0.993      0.995      0.889\n"
          ]
        },
        {
          "name": "stderr",
          "output_type": "stream",
          "text": [
            "\n"
          ]
        },
        {
          "name": "stdout",
          "output_type": "stream",
          "text": [
            "\n",
            "      Epoch    GPU_mem   box_loss   seg_loss   cls_loss   dfl_loss  Instances       Size\n"
          ]
        },
        {
          "name": "stderr",
          "output_type": "stream",
          "text": [
            "     81/100      3.44G     0.4701     0.6777     0.3279     0.8773         15        640: 100%|██████████| 88/88 [00:19<00:00,  4.59it/s]\n",
            "                 Class     Images  Instances      Box(P          R      mAP50  mAP50-95)     Mask(P          R      mAP50  mAP50-95): 100%|██████████| 11/11 [00:01<00:00,  5.62it/s]"
          ]
        },
        {
          "name": "stdout",
          "output_type": "stream",
          "text": [
            "                   all        176        146          1      0.992      0.995      0.942          1      0.992      0.995      0.897\n"
          ]
        },
        {
          "name": "stderr",
          "output_type": "stream",
          "text": [
            "\n"
          ]
        },
        {
          "name": "stdout",
          "output_type": "stream",
          "text": [
            "\n",
            "      Epoch    GPU_mem   box_loss   seg_loss   cls_loss   dfl_loss  Instances       Size\n"
          ]
        },
        {
          "name": "stderr",
          "output_type": "stream",
          "text": [
            "     82/100      3.44G     0.4712     0.6948     0.3192     0.8798         16        640: 100%|██████████| 88/88 [00:19<00:00,  4.43it/s]\n",
            "                 Class     Images  Instances      Box(P          R      mAP50  mAP50-95)     Mask(P          R      mAP50  mAP50-95): 100%|██████████| 11/11 [00:02<00:00,  5.40it/s]"
          ]
        },
        {
          "name": "stdout",
          "output_type": "stream",
          "text": [
            "                   all        176        146          1      0.993      0.995       0.94          1      0.993      0.995      0.893\n"
          ]
        },
        {
          "name": "stderr",
          "output_type": "stream",
          "text": [
            "\n"
          ]
        },
        {
          "name": "stdout",
          "output_type": "stream",
          "text": [
            "\n",
            "      Epoch    GPU_mem   box_loss   seg_loss   cls_loss   dfl_loss  Instances       Size\n"
          ]
        },
        {
          "name": "stderr",
          "output_type": "stream",
          "text": [
            "     83/100      3.44G     0.4831      0.684     0.3191     0.8788         14        640: 100%|██████████| 88/88 [00:18<00:00,  4.66it/s]\n",
            "                 Class     Images  Instances      Box(P          R      mAP50  mAP50-95)     Mask(P          R      mAP50  mAP50-95): 100%|██████████| 11/11 [00:02<00:00,  3.95it/s]"
          ]
        },
        {
          "name": "stdout",
          "output_type": "stream",
          "text": [
            "                   all        176        146          1      0.993      0.995      0.954          1      0.993      0.995      0.892\n"
          ]
        },
        {
          "name": "stderr",
          "output_type": "stream",
          "text": [
            "\n"
          ]
        },
        {
          "name": "stdout",
          "output_type": "stream",
          "text": [
            "\n",
            "      Epoch    GPU_mem   box_loss   seg_loss   cls_loss   dfl_loss  Instances       Size\n"
          ]
        },
        {
          "name": "stderr",
          "output_type": "stream",
          "text": [
            "     84/100      3.44G     0.4547     0.6589     0.3103     0.8716         18        640: 100%|██████████| 88/88 [00:18<00:00,  4.63it/s]\n",
            "                 Class     Images  Instances      Box(P          R      mAP50  mAP50-95)     Mask(P          R      mAP50  mAP50-95): 100%|██████████| 11/11 [00:01<00:00,  5.51it/s]"
          ]
        },
        {
          "name": "stdout",
          "output_type": "stream",
          "text": [
            "                   all        176        146          1      0.993      0.995      0.941          1      0.993      0.995      0.895\n"
          ]
        },
        {
          "name": "stderr",
          "output_type": "stream",
          "text": [
            "\n"
          ]
        },
        {
          "name": "stdout",
          "output_type": "stream",
          "text": [
            "\n",
            "      Epoch    GPU_mem   box_loss   seg_loss   cls_loss   dfl_loss  Instances       Size\n"
          ]
        },
        {
          "name": "stderr",
          "output_type": "stream",
          "text": [
            "     85/100      3.44G     0.4399     0.6489     0.2991     0.8761         12        640: 100%|██████████| 88/88 [00:20<00:00,  4.39it/s]\n",
            "                 Class     Images  Instances      Box(P          R      mAP50  mAP50-95)     Mask(P          R      mAP50  mAP50-95): 100%|██████████| 11/11 [00:01<00:00,  5.51it/s]"
          ]
        },
        {
          "name": "stdout",
          "output_type": "stream",
          "text": [
            "                   all        176        146          1      0.993      0.995      0.944          1      0.993      0.995      0.899\n"
          ]
        },
        {
          "name": "stderr",
          "output_type": "stream",
          "text": [
            "\n"
          ]
        },
        {
          "name": "stdout",
          "output_type": "stream",
          "text": [
            "\n",
            "      Epoch    GPU_mem   box_loss   seg_loss   cls_loss   dfl_loss  Instances       Size\n"
          ]
        },
        {
          "name": "stderr",
          "output_type": "stream",
          "text": [
            "     86/100      3.44G      0.452     0.6666      0.311     0.8676         14        640: 100%|██████████| 88/88 [00:20<00:00,  4.39it/s]\n",
            "                 Class     Images  Instances      Box(P          R      mAP50  mAP50-95)     Mask(P          R      mAP50  mAP50-95): 100%|██████████| 11/11 [00:02<00:00,  4.89it/s]"
          ]
        },
        {
          "name": "stdout",
          "output_type": "stream",
          "text": [
            "                   all        176        146          1      0.993      0.995       0.95          1      0.993      0.995        0.9\n"
          ]
        },
        {
          "name": "stderr",
          "output_type": "stream",
          "text": [
            "\n"
          ]
        },
        {
          "name": "stdout",
          "output_type": "stream",
          "text": [
            "\n",
            "      Epoch    GPU_mem   box_loss   seg_loss   cls_loss   dfl_loss  Instances       Size\n"
          ]
        },
        {
          "name": "stderr",
          "output_type": "stream",
          "text": [
            "     87/100      3.44G     0.4468     0.6531     0.3031     0.8791         11        640: 100%|██████████| 88/88 [00:18<00:00,  4.65it/s]\n",
            "                 Class     Images  Instances      Box(P          R      mAP50  mAP50-95)     Mask(P          R      mAP50  mAP50-95): 100%|██████████| 11/11 [00:02<00:00,  5.34it/s]"
          ]
        },
        {
          "name": "stdout",
          "output_type": "stream",
          "text": [
            "                   all        176        146          1      0.992      0.995      0.949          1      0.992      0.995      0.896\n"
          ]
        },
        {
          "name": "stderr",
          "output_type": "stream",
          "text": [
            "\n"
          ]
        },
        {
          "name": "stdout",
          "output_type": "stream",
          "text": [
            "\n",
            "      Epoch    GPU_mem   box_loss   seg_loss   cls_loss   dfl_loss  Instances       Size\n"
          ]
        },
        {
          "name": "stderr",
          "output_type": "stream",
          "text": [
            "     88/100      3.65G     0.4337     0.6286     0.2943     0.8611         24        640: 100%|██████████| 88/88 [00:19<00:00,  4.48it/s]\n",
            "                 Class     Images  Instances      Box(P          R      mAP50  mAP50-95)     Mask(P          R      mAP50  mAP50-95): 100%|██████████| 11/11 [00:01<00:00,  5.58it/s]"
          ]
        },
        {
          "name": "stdout",
          "output_type": "stream",
          "text": [
            "                   all        176        146      0.999      0.993      0.995       0.95      0.999      0.993      0.995      0.896\n"
          ]
        },
        {
          "name": "stderr",
          "output_type": "stream",
          "text": [
            "\n"
          ]
        },
        {
          "name": "stdout",
          "output_type": "stream",
          "text": [
            "\n",
            "      Epoch    GPU_mem   box_loss   seg_loss   cls_loss   dfl_loss  Instances       Size\n"
          ]
        },
        {
          "name": "stderr",
          "output_type": "stream",
          "text": [
            "     89/100      3.65G     0.4404     0.6554     0.2991     0.8706         18        640: 100%|██████████| 88/88 [00:19<00:00,  4.42it/s]\n",
            "                 Class     Images  Instances      Box(P          R      mAP50  mAP50-95)     Mask(P          R      mAP50  mAP50-95): 100%|██████████| 11/11 [00:02<00:00,  5.46it/s]"
          ]
        },
        {
          "name": "stdout",
          "output_type": "stream",
          "text": [
            "                   all        176        146      0.999      0.993      0.995      0.946      0.999      0.993      0.995        0.9\n"
          ]
        },
        {
          "name": "stderr",
          "output_type": "stream",
          "text": [
            "\n"
          ]
        },
        {
          "name": "stdout",
          "output_type": "stream",
          "text": [
            "\n",
            "      Epoch    GPU_mem   box_loss   seg_loss   cls_loss   dfl_loss  Instances       Size\n"
          ]
        },
        {
          "name": "stderr",
          "output_type": "stream",
          "text": [
            "     90/100      3.65G     0.4259      0.621     0.2923     0.8682         14        640: 100%|██████████| 88/88 [00:19<00:00,  4.60it/s]\n",
            "                 Class     Images  Instances      Box(P          R      mAP50  mAP50-95)     Mask(P          R      mAP50  mAP50-95): 100%|██████████| 11/11 [00:02<00:00,  4.23it/s]"
          ]
        },
        {
          "name": "stdout",
          "output_type": "stream",
          "text": [
            "                   all        176        146      0.999      0.993      0.995      0.955      0.999      0.993      0.995      0.901\n"
          ]
        },
        {
          "name": "stderr",
          "output_type": "stream",
          "text": [
            "\n"
          ]
        },
        {
          "name": "stdout",
          "output_type": "stream",
          "text": [
            "Closing dataloader mosaic\n",
            "\u001b[34m\u001b[1malbumentations: \u001b[0mBlur(p=0.01, blur_limit=(3, 7)), MedianBlur(p=0.01, blur_limit=(3, 7)), ToGray(p=0.01, method='weighted_average', num_output_channels=3), CLAHE(p=0.01, clip_limit=(1.0, 4.0), tile_grid_size=(8, 8))\n",
            "\n",
            "      Epoch    GPU_mem   box_loss   seg_loss   cls_loss   dfl_loss  Instances       Size\n"
          ]
        },
        {
          "name": "stderr",
          "output_type": "stream",
          "text": [
            "     91/100      3.65G     0.3139     0.5054     0.2265     0.8215          7        640: 100%|██████████| 88/88 [00:19<00:00,  4.49it/s]\n",
            "                 Class     Images  Instances      Box(P          R      mAP50  mAP50-95)     Mask(P          R      mAP50  mAP50-95): 100%|██████████| 11/11 [00:02<00:00,  5.48it/s]"
          ]
        },
        {
          "name": "stdout",
          "output_type": "stream",
          "text": [
            "                   all        176        146          1      0.993      0.995      0.962          1      0.993      0.995      0.901\n"
          ]
        },
        {
          "name": "stderr",
          "output_type": "stream",
          "text": [
            "\n"
          ]
        },
        {
          "name": "stdout",
          "output_type": "stream",
          "text": [
            "\n",
            "      Epoch    GPU_mem   box_loss   seg_loss   cls_loss   dfl_loss  Instances       Size\n"
          ]
        },
        {
          "name": "stderr",
          "output_type": "stream",
          "text": [
            "     92/100      3.65G     0.3007     0.4744     0.2181     0.8031          3        640: 100%|██████████| 88/88 [00:19<00:00,  4.50it/s]\n",
            "                 Class     Images  Instances      Box(P          R      mAP50  mAP50-95)     Mask(P          R      mAP50  mAP50-95): 100%|██████████| 11/11 [00:02<00:00,  5.48it/s]"
          ]
        },
        {
          "name": "stdout",
          "output_type": "stream",
          "text": [
            "                   all        176        146      0.999      0.993      0.995      0.953      0.999      0.993      0.995      0.906\n"
          ]
        },
        {
          "name": "stderr",
          "output_type": "stream",
          "text": [
            "\n"
          ]
        },
        {
          "name": "stdout",
          "output_type": "stream",
          "text": [
            "\n",
            "      Epoch    GPU_mem   box_loss   seg_loss   cls_loss   dfl_loss  Instances       Size\n"
          ]
        },
        {
          "name": "stderr",
          "output_type": "stream",
          "text": [
            "     93/100      3.65G     0.2894     0.4594     0.2168     0.8099          6        640: 100%|██████████| 88/88 [00:18<00:00,  4.64it/s]\n",
            "                 Class     Images  Instances      Box(P          R      mAP50  mAP50-95)     Mask(P          R      mAP50  mAP50-95): 100%|██████████| 11/11 [00:02<00:00,  4.70it/s]"
          ]
        },
        {
          "name": "stdout",
          "output_type": "stream",
          "text": [
            "                   all        176        146      0.999      0.993      0.995      0.962      0.999      0.993      0.995      0.919\n"
          ]
        },
        {
          "name": "stderr",
          "output_type": "stream",
          "text": [
            "\n"
          ]
        },
        {
          "name": "stdout",
          "output_type": "stream",
          "text": [
            "\n",
            "      Epoch    GPU_mem   box_loss   seg_loss   cls_loss   dfl_loss  Instances       Size\n"
          ]
        },
        {
          "name": "stderr",
          "output_type": "stream",
          "text": [
            "     94/100      3.65G     0.2948     0.4507     0.2177      0.811          4        640: 100%|██████████| 88/88 [00:18<00:00,  4.76it/s]\n",
            "                 Class     Images  Instances      Box(P          R      mAP50  mAP50-95)     Mask(P          R      mAP50  mAP50-95): 100%|██████████| 11/11 [00:02<00:00,  5.49it/s]"
          ]
        },
        {
          "name": "stdout",
          "output_type": "stream",
          "text": [
            "                   all        176        146          1      0.993      0.995      0.963          1      0.993      0.995      0.916\n"
          ]
        },
        {
          "name": "stderr",
          "output_type": "stream",
          "text": [
            "\n"
          ]
        },
        {
          "name": "stdout",
          "output_type": "stream",
          "text": [
            "\n",
            "      Epoch    GPU_mem   box_loss   seg_loss   cls_loss   dfl_loss  Instances       Size\n"
          ]
        },
        {
          "name": "stderr",
          "output_type": "stream",
          "text": [
            "     95/100      3.78G     0.2858     0.4439     0.2124     0.8134          8        640: 100%|██████████| 88/88 [00:19<00:00,  4.56it/s]\n",
            "                 Class     Images  Instances      Box(P          R      mAP50  mAP50-95)     Mask(P          R      mAP50  mAP50-95): 100%|██████████| 11/11 [00:01<00:00,  5.53it/s]"
          ]
        },
        {
          "name": "stdout",
          "output_type": "stream",
          "text": [
            "                   all        176        146      0.999      0.993      0.995      0.963      0.999      0.993      0.995      0.917\n"
          ]
        },
        {
          "name": "stderr",
          "output_type": "stream",
          "text": [
            "\n"
          ]
        },
        {
          "name": "stdout",
          "output_type": "stream",
          "text": [
            "\n",
            "      Epoch    GPU_mem   box_loss   seg_loss   cls_loss   dfl_loss  Instances       Size\n"
          ]
        },
        {
          "name": "stderr",
          "output_type": "stream",
          "text": [
            "     96/100      3.82G     0.2707     0.4431     0.2054     0.8103          5        640: 100%|██████████| 88/88 [00:18<00:00,  4.68it/s]\n",
            "                 Class     Images  Instances      Box(P          R      mAP50  mAP50-95)     Mask(P          R      mAP50  mAP50-95): 100%|██████████| 11/11 [00:02<00:00,  4.44it/s]"
          ]
        },
        {
          "name": "stdout",
          "output_type": "stream",
          "text": [
            "                   all        176        146          1      0.993      0.995      0.968          1      0.993      0.995      0.914\n"
          ]
        },
        {
          "name": "stderr",
          "output_type": "stream",
          "text": [
            "\n"
          ]
        },
        {
          "name": "stdout",
          "output_type": "stream",
          "text": [
            "\n",
            "      Epoch    GPU_mem   box_loss   seg_loss   cls_loss   dfl_loss  Instances       Size\n"
          ]
        },
        {
          "name": "stderr",
          "output_type": "stream",
          "text": [
            "     97/100      3.86G     0.2704     0.4342     0.2047     0.8007          7        640: 100%|██████████| 88/88 [00:18<00:00,  4.75it/s]\n",
            "                 Class     Images  Instances      Box(P          R      mAP50  mAP50-95)     Mask(P          R      mAP50  mAP50-95): 100%|██████████| 11/11 [00:01<00:00,  5.53it/s]"
          ]
        },
        {
          "name": "stdout",
          "output_type": "stream",
          "text": [
            "                   all        176        146      0.999      0.993      0.995      0.963      0.999      0.993      0.995      0.922\n"
          ]
        },
        {
          "name": "stderr",
          "output_type": "stream",
          "text": [
            "\n"
          ]
        },
        {
          "name": "stdout",
          "output_type": "stream",
          "text": [
            "\n",
            "      Epoch    GPU_mem   box_loss   seg_loss   cls_loss   dfl_loss  Instances       Size\n"
          ]
        },
        {
          "name": "stderr",
          "output_type": "stream",
          "text": [
            "     98/100       3.9G     0.2613       0.43     0.1988     0.7936          7        640: 100%|██████████| 88/88 [00:19<00:00,  4.56it/s]\n",
            "                 Class     Images  Instances      Box(P          R      mAP50  mAP50-95)     Mask(P          R      mAP50  mAP50-95): 100%|██████████| 11/11 [00:01<00:00,  5.69it/s]"
          ]
        },
        {
          "name": "stdout",
          "output_type": "stream",
          "text": [
            "                   all        176        146          1      0.993      0.995      0.972          1      0.993      0.995      0.921\n"
          ]
        },
        {
          "name": "stderr",
          "output_type": "stream",
          "text": [
            "\n"
          ]
        },
        {
          "name": "stdout",
          "output_type": "stream",
          "text": [
            "\n",
            "      Epoch    GPU_mem   box_loss   seg_loss   cls_loss   dfl_loss  Instances       Size\n"
          ]
        },
        {
          "name": "stderr",
          "output_type": "stream",
          "text": [
            "     99/100      3.94G     0.2589     0.4262     0.1985     0.7996          7        640: 100%|██████████| 88/88 [00:18<00:00,  4.65it/s]\n",
            "                 Class     Images  Instances      Box(P          R      mAP50  mAP50-95)     Mask(P          R      mAP50  mAP50-95): 100%|██████████| 11/11 [00:02<00:00,  4.60it/s]"
          ]
        },
        {
          "name": "stdout",
          "output_type": "stream",
          "text": [
            "                   all        176        146          1      0.993      0.995      0.966          1      0.993      0.995      0.929\n"
          ]
        },
        {
          "name": "stderr",
          "output_type": "stream",
          "text": [
            "\n"
          ]
        },
        {
          "name": "stdout",
          "output_type": "stream",
          "text": [
            "\n",
            "      Epoch    GPU_mem   box_loss   seg_loss   cls_loss   dfl_loss  Instances       Size\n"
          ]
        },
        {
          "name": "stderr",
          "output_type": "stream",
          "text": [
            "    100/100      3.98G     0.2622     0.4239     0.1942     0.7984          7        640: 100%|██████████| 88/88 [00:18<00:00,  4.78it/s]\n",
            "                 Class     Images  Instances      Box(P          R      mAP50  mAP50-95)     Mask(P          R      mAP50  mAP50-95): 100%|██████████| 11/11 [00:02<00:00,  5.30it/s]"
          ]
        },
        {
          "name": "stdout",
          "output_type": "stream",
          "text": [
            "                   all        176        146      0.999      0.993      0.995      0.966      0.999      0.993      0.995      0.922\n"
          ]
        },
        {
          "name": "stderr",
          "output_type": "stream",
          "text": [
            "\n"
          ]
        },
        {
          "name": "stdout",
          "output_type": "stream",
          "text": [
            "\n",
            "100 epochs completed in 0.608 hours.\n",
            "Optimizer stripped from YOLOv8_Thyroid_Runs/thyroid_seg_finetune/weights/last.pt, 23.9MB\n",
            "Optimizer stripped from YOLOv8_Thyroid_Runs/thyroid_seg_finetune/weights/best.pt, 23.9MB\n",
            "\n",
            "Validating YOLOv8_Thyroid_Runs/thyroid_seg_finetune/weights/best.pt...\n",
            "Ultralytics 8.3.127 🚀 Python-3.11.12 torch-2.6.0+cu124 CUDA:0 (Tesla T4, 15095MiB)\n",
            "YOLOv8s-seg summary (fused): 85 layers, 11,779,987 parameters, 0 gradients, 42.4 GFLOPs\n"
          ]
        },
        {
          "name": "stderr",
          "output_type": "stream",
          "text": [
            "                 Class     Images  Instances      Box(P          R      mAP50  mAP50-95)     Mask(P          R      mAP50  mAP50-95): 100%|██████████| 11/11 [00:04<00:00,  2.52it/s]\n"
          ]
        },
        {
          "name": "stdout",
          "output_type": "stream",
          "text": [
            "                   all        176        146          1      0.993      0.995      0.966          1      0.993      0.995       0.93\n",
            "Speed: 0.2ms preprocess, 6.3ms inference, 0.0ms loss, 3.6ms postprocess per image\n",
            "Results saved to \u001b[1mYOLOv8_Thyroid_Runs/thyroid_seg_finetune\u001b[0m\n",
            "--- Addestramento Completato ---\n"
          ]
        }
      ],
      "source": [
        "#Importa la classe YOLO dalla libreria 'ultralytics', che è la classe principale per utilizzare i modelli YOLOv8.\n",
        "from ultralytics import YOLO\n",
        "#Importa il modulo 'os', che fornisce funzioni per interagire con il sistema operativo, come la gestione dei percorsi dei file.\n",
        "import os\n",
        "#Importa la libreria PyTorch ('torch'). Viene qui utilizzata principalmente per verificare la disponibilità e le informazioni sulla GPU.\n",
        "import torch\n",
        "\n",
        "#Questo blocco di codice verifica la presenza di una GPU NVIDIA compatibile con CUDA.\n",
        "print(f\"GPU disponibile: {torch.cuda.is_available()}\")\n",
        "if torch.cuda.is_available():\n",
        "    print(f\"Nome GPU: {torch.cuda.get_device_name(0)}\")\n",
        "\n",
        "#Definisce la variabile 'data_yaml_path' con il percorso del file 'data.yaml'.\n",
        "#Questo file è cruciale perché contiene le informazioni sul dataset\n",
        "#(percorsi per training/validation, numero di classi, nomi delle classi) necessarie al modello YOLO per l'addestramento.\n",
        "data_yaml_path = '/content/yolo_thyroid_dataset/data.yaml'\n",
        "\n",
        "#Controlla se il file specificato in 'data_yaml_path' esiste nel filesystem.\n",
        "if os.path.exists(data_yaml_path):\n",
        "    print(f\"File data.yaml trovato in: {data_yaml_path}\")\n",
        "    #Apre il file 'data.yaml' in modalità lettura ('r'). Il costrutto 'with' assicura la chiusura automatica del file.\n",
        "    with open(data_yaml_path, 'r') as f:\n",
        "         print(\"Contenuto di data.yaml:\\n\", f.read())\n",
        "#Se il file 'data.yaml' non viene trovato al percorso specificato.\n",
        "else:\n",
        "    print(f\"ERRORE: File data.yaml NON trovato in: {data_yaml_path}. Verifica il percorso!\")\n",
        "\n",
        "\n",
        "# Scegli il modello base per la segmentazione\n",
        "# Opzioni comuni: 'yolov8n-seg.pt', 'yolov8s-seg.pt', 'yolov8m-seg.pt'\n",
        "#Assegna alla variabile 'model_name' il nome del file del modello scelto, in questo caso 'yolov8s-seg.pt' (modello \"small\" per la segmentazione).\n",
        "model_name = 'yolov8s-seg.pt'\n",
        "\n",
        "#Crea un'istanza della classe YOLO, caricando i pesi del modello pre-addestrato specificato da 'model_name'. Questo oggetto 'model' verrà poi utilizzato per l'addestramento.\n",
        "model = YOLO(model_name)\n",
        "\n",
        "# --- Parametri di Addestramento ---\n",
        "# Definisce il numero di 'epoche', ovvero il numero di volte in cui l'intero dataset di addestramento verrà processato dal modello.\n",
        "epochs = 100\n",
        "img_size = 640    # Dimensione delle immagini per l'addestramento (640x640 pixel è comune per YOLOv8)\n",
        "#Definisce il 'batch_size', cioè il numero di immagini che vengono elaborate contemporaneamente dal modello prima di aggiornare i pesi. Questo valore deve essere adattato in base alla memoria GPU disponibile.\n",
        "batch_size = 8\n",
        "#Assegna un nome descrittivo ('run_name') a questa sessione di addestramento.\n",
        "#Questo nome verrà utilizzato per creare una cartella dove verranno salvati i risultati (pesi, log, grafici).\n",
        "run_name = 'thyroid_seg_finetune'\n",
        "\n",
        "# Avvia l'addestramento!\n",
        "# Assicurati che data_yaml_path sia corretto\n",
        "if os.path.exists(data_yaml_path):\n",
        "    print(f\"\\n--- Inizio Addestramento ---\")\n",
        "    # La variabile 'results' conterrà informazioni e metriche relative all'addestramento una volta completato.\n",
        "    results = model.train(\n",
        "        data=data_yaml_path,\n",
        "        epochs=epochs,\n",
        "        imgsz=img_size,\n",
        "        batch=batch_size,\n",
        "        name=run_name,  # Nome della cartella dei risultati\n",
        "        project='YOLOv8_Thyroid_Runs' # Cartella radice per tutte le esecuzioni\n",
        "    )\n",
        "\n",
        "    print(\"--- Addestramento Completato ---\")\n",
        "else:\n",
        "    print(\"Addestramento non avviato a causa del file data.yaml mancante.\")"
      ]
    },
    {
      "cell_type": "code",
      "execution_count": 19,
      "metadata": {
        "colab": {
          "base_uri": "https://localhost:8080/"
        },
        "id": "eGK7Kw5FI0yp",
        "outputId": "88ff92a6-9d15-4b50-85e4-9d089dee5f66"
      },
      "outputs": [
        {
          "name": "stdout",
          "output_type": "stream",
          "text": [
            "\n",
            "UNRAR 6.11 beta 1 freeware      Copyright (c) 1993-2022 Alexander Roshal\n",
            "\n",
            "\n",
            "Extracting from datasetTest.rar\n",
            "\n",
            "Creating    datasetTest                                               OK\n",
            "Creating    datasetTest/groundtruth01                                 OK\n",
            "Extracting  datasetTest/groundtruth01/unogt100.jpeg                      \b\b\b\b  0%\b\b\b\b\b  OK \n",
            "Extracting  datasetTest/groundtruth01/unogt140.jpeg                      \b\b\b\b  0%\b\b\b\b\b  OK \n",
            "Extracting  datasetTest/groundtruth01/unogt141.jpeg                      \b\b\b\b  0%\b\b\b\b\b  OK \n",
            "Extracting  datasetTest/groundtruth01/unogt142.jpeg                      \b\b\b\b  0%\b\b\b\b\b  OK \n",
            "Extracting  datasetTest/groundtruth01/unogt143.jpeg                      \b\b\b\b  0%\b\b\b\b\b  OK \n",
            "Extracting  datasetTest/groundtruth01/unogt144.jpeg                      \b\b\b\b  0%\b\b\b\b\b  OK \n",
            "Extracting  datasetTest/groundtruth01/unogt145.jpeg                      \b\b\b\b  0%\b\b\b\b\b  OK \n",
            "Extracting  datasetTest/groundtruth01/unogt146.jpeg                      \b\b\b\b  0%\b\b\b\b\b  OK \n",
            "Extracting  datasetTest/groundtruth01/unogt147.jpeg                      \b\b\b\b  0%\b\b\b\b\b  OK \n",
            "Extracting  datasetTest/groundtruth01/unogt148.jpeg                      \b\b\b\b  0%\b\b\b\b\b  OK \n",
            "Extracting  datasetTest/groundtruth01/unogt149.jpeg                      \b\b\b\b  0%\b\b\b\b\b  OK \n",
            "Extracting  datasetTest/groundtruth01/unogt150.jpeg                      \b\b\b\b  0%\b\b\b\b\b  OK \n",
            "Extracting  datasetTest/groundtruth01/unogt160.jpeg                      \b\b\b\b  0%\b\b\b\b\b  OK \n",
            "Extracting  datasetTest/groundtruth01/unogt161.jpeg                      \b\b\b\b  0%\b\b\b\b\b  OK \n",
            "Extracting  datasetTest/groundtruth01/unogt162.jpeg                      \b\b\b\b  0%\b\b\b\b\b  OK \n",
            "Extracting  datasetTest/groundtruth01/unogt163.jpeg                      \b\b\b\b  0%\b\b\b\b\b  OK \n",
            "Extracting  datasetTest/groundtruth01/unogt164.jpeg                      \b\b\b\b  0%\b\b\b\b\b  OK \n",
            "Extracting  datasetTest/groundtruth01/unogt165.jpeg                      \b\b\b\b  0%\b\b\b\b\b  OK \n",
            "Extracting  datasetTest/groundtruth01/unogt166.jpeg                      \b\b\b\b  0%\b\b\b\b\b  OK \n",
            "Extracting  datasetTest/groundtruth01/unogt167.jpeg                      \b\b\b\b  0%\b\b\b\b\b  OK \n",
            "Extracting  datasetTest/groundtruth01/unogt168.jpeg                      \b\b\b\b  0%\b\b\b\b\b  OK \n",
            "Extracting  datasetTest/groundtruth01/unogt169.jpeg                      \b\b\b\b  0%\b\b\b\b\b  OK \n",
            "Extracting  datasetTest/groundtruth01/unogt170.jpeg                      \b\b\b\b  0%\b\b\b\b\b  OK \n",
            "Extracting  datasetTest/groundtruth01/unogt190.jpeg                      \b\b\b\b  0%\b\b\b\b\b  OK \n",
            "Extracting  datasetTest/groundtruth01/unogt191.jpeg                      \b\b\b\b  0%\b\b\b\b\b  OK \n",
            "Extracting  datasetTest/groundtruth01/unogt192.jpeg                      \b\b\b\b  0%\b\b\b\b\b  OK \n",
            "Extracting  datasetTest/groundtruth01/unogt193.jpeg                      \b\b\b\b  0%\b\b\b\b\b  OK \n",
            "Extracting  datasetTest/groundtruth01/unogt194.jpeg                      \b\b\b\b  0%\b\b\b\b\b  OK \n",
            "Extracting  datasetTest/groundtruth01/unogt195.jpeg                      \b\b\b\b  0%\b\b\b\b\b  OK \n",
            "Extracting  datasetTest/groundtruth01/unogt196.jpeg                      \b\b\b\b  0%\b\b\b\b\b  OK \n",
            "Extracting  datasetTest/groundtruth01/unogt197.jpeg                      \b\b\b\b  1%\b\b\b\b\b  OK \n",
            "Extracting  datasetTest/groundtruth01/unogt198.jpeg                      \b\b\b\b  1%\b\b\b\b\b  OK \n",
            "Extracting  datasetTest/groundtruth01/unogt199.jpeg                      \b\b\b\b  1%\b\b\b\b\b  OK \n",
            "Extracting  datasetTest/groundtruth01/unogt200.jpeg                      \b\b\b\b  1%\b\b\b\b\b  OK \n",
            "Extracting  datasetTest/groundtruth01/unogt220.jpeg                      \b\b\b\b  1%\b\b\b\b\b  OK \n",
            "Extracting  datasetTest/groundtruth01/unogt221.jpeg                      \b\b\b\b  1%\b\b\b\b\b  OK \n",
            "Extracting  datasetTest/groundtruth01/unogt222.jpeg                      \b\b\b\b  1%\b\b\b\b\b  OK \n",
            "Extracting  datasetTest/groundtruth01/unogt223.jpeg                      \b\b\b\b  1%\b\b\b\b\b  OK \n",
            "Extracting  datasetTest/groundtruth01/unogt224.jpeg                      \b\b\b\b  1%\b\b\b\b\b  OK \n",
            "Extracting  datasetTest/groundtruth01/unogt225.jpeg                      \b\b\b\b  1%\b\b\b\b\b  OK \n",
            "Extracting  datasetTest/groundtruth01/unogt226.jpeg                      \b\b\b\b  1%\b\b\b\b\b  OK \n",
            "Extracting  datasetTest/groundtruth01/unogt227.jpeg                      \b\b\b\b  1%\b\b\b\b\b  OK \n",
            "Extracting  datasetTest/groundtruth01/unogt228.jpeg                      \b\b\b\b  1%\b\b\b\b\b  OK \n",
            "Extracting  datasetTest/groundtruth01/unogt229.jpeg                      \b\b\b\b  1%\b\b\b\b\b  OK \n",
            "Extracting  datasetTest/groundtruth01/unogt230.jpeg                      \b\b\b\b  1%\b\b\b\b\b  OK \n",
            "Extracting  datasetTest/groundtruth01/unogt90.jpeg                       \b\b\b\b  1%\b\b\b\b\b  OK \n",
            "Extracting  datasetTest/groundtruth01/unogt91.jpeg                       \b\b\b\b  1%\b\b\b\b\b  OK \n",
            "Extracting  datasetTest/groundtruth01/unogt92.jpeg                       \b\b\b\b  1%\b\b\b\b\b  OK \n",
            "Extracting  datasetTest/groundtruth01/unogt93.jpeg                       \b\b\b\b  1%\b\b\b\b\b  OK \n",
            "Extracting  datasetTest/groundtruth01/unogt94.jpeg                       \b\b\b\b  1%\b\b\b\b\b  OK \n",
            "Extracting  datasetTest/groundtruth01/unogt95.jpeg                       \b\b\b\b  1%\b\b\b\b\b  OK \n",
            "Extracting  datasetTest/groundtruth01/unogt96.jpeg                       \b\b\b\b  1%\b\b\b\b\b  OK \n",
            "Extracting  datasetTest/groundtruth01/unogt97.jpeg                       \b\b\b\b  1%\b\b\b\b\b  OK \n",
            "Extracting  datasetTest/groundtruth01/unogt98.jpeg                       \b\b\b\b  1%\b\b\b\b\b  OK \n",
            "Extracting  datasetTest/groundtruth01/unogt99.jpeg                       \b\b\b\b  1%\b\b\b\b\b  OK \n",
            "Creating    datasetTest/groundtruth02                                 OK\n",
            "Extracting  datasetTest/groundtruth02/unogt100.jpeg                      \b\b\b\b  1%\b\b\b\b\b  OK \n",
            "Extracting  datasetTest/groundtruth02/unogt140.jpeg                      \b\b\b\b  1%\b\b\b\b\b  OK \n",
            "Extracting  datasetTest/groundtruth02/unogt141.jpeg                      \b\b\b\b  1%\b\b\b\b\b  OK \n",
            "Extracting  datasetTest/groundtruth02/unogt142.jpeg                      \b\b\b\b  1%\b\b\b\b\b  OK \n",
            "Extracting  datasetTest/groundtruth02/unogt143.jpeg                      \b\b\b\b  1%\b\b\b\b\b  OK \n",
            "Extracting  datasetTest/groundtruth02/unogt144.jpeg                      \b\b\b\b  1%\b\b\b\b\b  OK \n",
            "Extracting  datasetTest/groundtruth02/unogt145.jpeg                      \b\b\b\b  1%\b\b\b\b\b  OK \n",
            "Extracting  datasetTest/groundtruth02/unogt146.jpeg                      \b\b\b\b  1%\b\b\b\b\b  OK \n",
            "Extracting  datasetTest/groundtruth02/unogt147.jpeg                      \b\b\b\b  1%\b\b\b\b\b  OK \n",
            "Extracting  datasetTest/groundtruth02/unogt148.jpeg                      \b\b\b\b  1%\b\b\b\b\b  OK \n",
            "Extracting  datasetTest/groundtruth02/unogt149.jpeg                      \b\b\b\b  1%\b\b\b\b\b  OK \n",
            "Extracting  datasetTest/groundtruth02/unogt150.jpeg                      \b\b\b\b  1%\b\b\b\b\b  OK \n",
            "Extracting  datasetTest/groundtruth02/unogt160.jpeg                      \b\b\b\b  1%\b\b\b\b\b  OK \n",
            "Extracting  datasetTest/groundtruth02/unogt161.jpeg                      \b\b\b\b  1%\b\b\b\b\b  OK \n",
            "Extracting  datasetTest/groundtruth02/unogt162.jpeg                      \b\b\b\b  1%\b\b\b\b\b  OK \n",
            "Extracting  datasetTest/groundtruth02/unogt163.jpeg                      \b\b\b\b  1%\b\b\b\b\b  OK \n",
            "Extracting  datasetTest/groundtruth02/unogt164.jpeg                      \b\b\b\b  1%\b\b\b\b\b  OK \n",
            "Extracting  datasetTest/groundtruth02/unogt165.jpeg                      \b\b\b\b  1%\b\b\b\b\b  OK \n",
            "Extracting  datasetTest/groundtruth02/unogt166.jpeg                      \b\b\b\b  2%\b\b\b\b\b  OK \n",
            "Extracting  datasetTest/groundtruth02/unogt167.jpeg                      \b\b\b\b  2%\b\b\b\b\b  OK \n",
            "Extracting  datasetTest/groundtruth02/unogt168.jpeg                      \b\b\b\b  2%\b\b\b\b\b  OK \n",
            "Extracting  datasetTest/groundtruth02/unogt169.jpeg                      \b\b\b\b  2%\b\b\b\b\b  OK \n",
            "Extracting  datasetTest/groundtruth02/unogt170.jpeg                      \b\b\b\b  2%\b\b\b\b\b  OK \n",
            "Extracting  datasetTest/groundtruth02/unogt190.jpeg                      \b\b\b\b  2%\b\b\b\b\b  OK \n",
            "Extracting  datasetTest/groundtruth02/unogt191.jpeg                      \b\b\b\b  2%\b\b\b\b\b  OK \n",
            "Extracting  datasetTest/groundtruth02/unogt192.jpeg                      \b\b\b\b  2%\b\b\b\b\b  OK \n",
            "Extracting  datasetTest/groundtruth02/unogt193.jpeg                      \b\b\b\b  2%\b\b\b\b\b  OK \n",
            "Extracting  datasetTest/groundtruth02/unogt194.jpeg                      \b\b\b\b  2%\b\b\b\b\b  OK \n",
            "Extracting  datasetTest/groundtruth02/unogt195.jpeg                      \b\b\b\b  2%\b\b\b\b\b  OK \n",
            "Extracting  datasetTest/groundtruth02/unogt196.jpeg                      \b\b\b\b  2%\b\b\b\b\b  OK \n",
            "Extracting  datasetTest/groundtruth02/unogt197.jpeg                      \b\b\b\b  2%\b\b\b\b\b  OK \n",
            "Extracting  datasetTest/groundtruth02/unogt198.jpeg                      \b\b\b\b  2%\b\b\b\b\b  OK \n",
            "Extracting  datasetTest/groundtruth02/unogt199.jpeg                      \b\b\b\b  2%\b\b\b\b\b  OK \n",
            "Extracting  datasetTest/groundtruth02/unogt200.jpeg                      \b\b\b\b  2%\b\b\b\b\b  OK \n",
            "Extracting  datasetTest/groundtruth02/unogt220.jpeg                      \b\b\b\b  2%\b\b\b\b\b  OK \n",
            "Extracting  datasetTest/groundtruth02/unogt221.jpeg                      \b\b\b\b  2%\b\b\b\b\b  OK \n",
            "Extracting  datasetTest/groundtruth02/unogt222.jpeg                      \b\b\b\b  2%\b\b\b\b\b  OK \n",
            "Extracting  datasetTest/groundtruth02/unogt223.jpeg                      \b\b\b\b  2%\b\b\b\b\b  OK \n",
            "Extracting  datasetTest/groundtruth02/unogt224.jpeg                      \b\b\b\b  2%\b\b\b\b\b  OK \n",
            "Extracting  datasetTest/groundtruth02/unogt225.jpeg                      \b\b\b\b  2%\b\b\b\b\b  OK \n",
            "Extracting  datasetTest/groundtruth02/unogt226.jpeg                      \b\b\b\b  2%\b\b\b\b\b  OK \n",
            "Extracting  datasetTest/groundtruth02/unogt227.jpeg                      \b\b\b\b  2%\b\b\b\b\b  OK \n",
            "Extracting  datasetTest/groundtruth02/unogt228.jpeg                      \b\b\b\b  2%\b\b\b\b\b  OK \n",
            "Extracting  datasetTest/groundtruth02/unogt229.jpeg                      \b\b\b\b  2%\b\b\b\b\b  OK \n",
            "Extracting  datasetTest/groundtruth02/unogt230.jpeg                      \b\b\b\b  2%\b\b\b\b\b  OK \n",
            "Extracting  datasetTest/groundtruth02/unogt90.jpeg                       \b\b\b\b  2%\b\b\b\b\b  OK \n",
            "Extracting  datasetTest/groundtruth02/unogt91.jpeg                       \b\b\b\b  2%\b\b\b\b\b  OK \n",
            "Extracting  datasetTest/groundtruth02/unogt92.jpeg                       \b\b\b\b  2%\b\b\b\b\b  OK \n",
            "Extracting  datasetTest/groundtruth02/unogt93.jpeg                       \b\b\b\b  2%\b\b\b\b\b  OK \n",
            "Extracting  datasetTest/groundtruth02/unogt94.jpeg                       \b\b\b\b  2%\b\b\b\b\b  OK \n",
            "Extracting  datasetTest/groundtruth02/unogt95.jpeg                       \b\b\b\b  2%\b\b\b\b\b  OK \n",
            "Extracting  datasetTest/groundtruth02/unogt96.jpeg                       \b\b\b\b  2%\b\b\b\b\b  OK \n",
            "Extracting  datasetTest/groundtruth02/unogt97.jpeg                       \b\b\b\b  2%\b\b\b\b\b  OK \n",
            "Extracting  datasetTest/groundtruth02/unogt98.jpeg                       \b\b\b\b  2%\b\b\b\b\b  OK \n",
            "Extracting  datasetTest/groundtruth02/unogt99.jpeg                       \b\b\b\b  2%\b\b\b\b\b  OK \n",
            "Creating    datasetTest/groundtruth03                                 OK\n",
            "Extracting  datasetTest/groundtruth03/unogt100.jpeg                      \b\b\b\b  2%\b\b\b\b\b  OK \n",
            "Extracting  datasetTest/groundtruth03/unogt140.jpeg                      \b\b\b\b  2%\b\b\b\b\b  OK \n",
            "Extracting  datasetTest/groundtruth03/unogt141.jpeg                      \b\b\b\b  2%\b\b\b\b\b  OK \n",
            "Extracting  datasetTest/groundtruth03/unogt142.jpeg                      \b\b\b\b  2%\b\b\b\b\b  OK \n",
            "Extracting  datasetTest/groundtruth03/unogt143.jpeg                      \b\b\b\b  2%\b\b\b\b\b  OK \n",
            "Extracting  datasetTest/groundtruth03/unogt144.jpeg                      \b\b\b\b  2%\b\b\b\b\b  OK \n",
            "Extracting  datasetTest/groundtruth03/unogt145.jpeg                      \b\b\b\b  2%\b\b\b\b\b  OK \n",
            "Extracting  datasetTest/groundtruth03/unogt146.jpeg                      \b\b\b\b  2%\b\b\b\b\b  OK \n",
            "Extracting  datasetTest/groundtruth03/unogt147.jpeg                      \b\b\b\b  3%\b\b\b\b\b  OK \n",
            "Extracting  datasetTest/groundtruth03/unogt148.jpeg                      \b\b\b\b  3%\b\b\b\b\b  OK \n",
            "Extracting  datasetTest/groundtruth03/unogt149.jpeg                      \b\b\b\b  3%\b\b\b\b\b  OK \n",
            "Extracting  datasetTest/groundtruth03/unogt150.jpeg                      \b\b\b\b  3%\b\b\b\b\b  OK \n",
            "Extracting  datasetTest/groundtruth03/unogt160.jpeg                      \b\b\b\b  3%\b\b\b\b\b  OK \n",
            "Extracting  datasetTest/groundtruth03/unogt161.jpeg                      \b\b\b\b  3%\b\b\b\b\b  OK \n",
            "Extracting  datasetTest/groundtruth03/unogt162.jpeg                      \b\b\b\b  3%\b\b\b\b\b  OK \n",
            "Extracting  datasetTest/groundtruth03/unogt163.jpeg                      \b\b\b\b  3%\b\b\b\b\b  OK \n",
            "Extracting  datasetTest/groundtruth03/unogt164.jpeg                      \b\b\b\b  3%\b\b\b\b\b  OK \n",
            "Extracting  datasetTest/groundtruth03/unogt165.jpeg                      \b\b\b\b  3%\b\b\b\b\b  OK \n",
            "Extracting  datasetTest/groundtruth03/unogt166.jpeg                      \b\b\b\b  3%\b\b\b\b\b  OK \n",
            "Extracting  datasetTest/groundtruth03/unogt167.jpeg                      \b\b\b\b  3%\b\b\b\b\b  OK \n",
            "Extracting  datasetTest/groundtruth03/unogt168.jpeg                      \b\b\b\b  3%\b\b\b\b\b  OK \n",
            "Extracting  datasetTest/groundtruth03/unogt169.jpeg                      \b\b\b\b  3%\b\b\b\b\b  OK \n",
            "Extracting  datasetTest/groundtruth03/unogt170.jpeg                      \b\b\b\b  3%\b\b\b\b\b  OK \n",
            "Extracting  datasetTest/groundtruth03/unogt190.jpeg                      \b\b\b\b  3%\b\b\b\b\b  OK \n",
            "Extracting  datasetTest/groundtruth03/unogt191.jpeg                      \b\b\b\b  3%\b\b\b\b\b  OK \n",
            "Extracting  datasetTest/groundtruth03/unogt192.jpeg                      \b\b\b\b  3%\b\b\b\b\b  OK \n",
            "Extracting  datasetTest/groundtruth03/unogt193.jpeg                      \b\b\b\b  3%\b\b\b\b\b  OK \n",
            "Extracting  datasetTest/groundtruth03/unogt194.jpeg                      \b\b\b\b  3%\b\b\b\b\b  OK \n",
            "Extracting  datasetTest/groundtruth03/unogt195.jpeg                      \b\b\b\b  3%\b\b\b\b\b  OK \n",
            "Extracting  datasetTest/groundtruth03/unogt196.jpeg                      \b\b\b\b  3%\b\b\b\b\b  OK \n",
            "Extracting  datasetTest/groundtruth03/unogt197.jpeg                      \b\b\b\b  3%\b\b\b\b\b  OK \n",
            "Extracting  datasetTest/groundtruth03/unogt198.jpeg                      \b\b\b\b  3%\b\b\b\b\b  OK \n",
            "Extracting  datasetTest/groundtruth03/unogt199.jpeg                      \b\b\b\b  3%\b\b\b\b\b  OK \n",
            "Extracting  datasetTest/groundtruth03/unogt200.jpeg                      \b\b\b\b  3%\b\b\b\b\b  OK \n",
            "Extracting  datasetTest/groundtruth03/unogt220.jpeg                      \b\b\b\b  3%\b\b\b\b\b  OK \n",
            "Extracting  datasetTest/groundtruth03/unogt221.jpeg                      \b\b\b\b  3%\b\b\b\b\b  OK \n",
            "Extracting  datasetTest/groundtruth03/unogt222.jpeg                      \b\b\b\b  3%\b\b\b\b\b  OK \n",
            "Extracting  datasetTest/groundtruth03/unogt223.jpeg                      \b\b\b\b  3%\b\b\b\b\b  OK \n",
            "Extracting  datasetTest/groundtruth03/unogt224.jpeg                      \b\b\b\b  3%\b\b\b\b\b  OK \n",
            "Extracting  datasetTest/groundtruth03/unogt225.jpeg                      \b\b\b\b  3%\b\b\b\b\b  OK \n",
            "Extracting  datasetTest/groundtruth03/unogt226.jpeg                      \b\b\b\b  3%\b\b\b\b\b  OK \n",
            "Extracting  datasetTest/groundtruth03/unogt227.jpeg                      \b\b\b\b  3%\b\b\b\b\b  OK \n",
            "Extracting  datasetTest/groundtruth03/unogt228.jpeg                      \b\b\b\b  3%\b\b\b\b\b  OK \n",
            "Extracting  datasetTest/groundtruth03/unogt229.jpeg                      \b\b\b\b  3%\b\b\b\b\b  OK \n",
            "Extracting  datasetTest/groundtruth03/unogt230.jpeg                      \b\b\b\b  3%\b\b\b\b\b  OK \n",
            "Extracting  datasetTest/groundtruth03/unogt90.jpeg                       \b\b\b\b  3%\b\b\b\b\b  OK \n",
            "Extracting  datasetTest/groundtruth03/unogt91.jpeg                       \b\b\b\b  3%\b\b\b\b\b  OK \n",
            "Extracting  datasetTest/groundtruth03/unogt92.jpeg                       \b\b\b\b  4%\b\b\b\b\b  OK \n",
            "Extracting  datasetTest/groundtruth03/unogt93.jpeg                       \b\b\b\b  4%\b\b\b\b\b  OK \n",
            "Extracting  datasetTest/groundtruth03/unogt94.jpeg                       \b\b\b\b  4%\b\b\b\b\b  OK \n",
            "Extracting  datasetTest/groundtruth03/unogt95.jpeg                       \b\b\b\b  4%\b\b\b\b\b  OK \n",
            "Extracting  datasetTest/groundtruth03/unogt96.jpeg                       \b\b\b\b  4%\b\b\b\b\b  OK \n",
            "Extracting  datasetTest/groundtruth03/unogt97.jpeg                       \b\b\b\b  4%\b\b\b\b\b  OK \n",
            "Extracting  datasetTest/groundtruth03/unogt98.jpeg                       \b\b\b\b  4%\b\b\b\b\b  OK \n",
            "Extracting  datasetTest/groundtruth03/unogt99.jpeg                       \b\b\b\b  4%\b\b\b\b\b  OK \n",
            "Creating    datasetTest/groundtruth08                                 OK\n",
            "Extracting  datasetTest/groundtruth08/unogt100.jpeg                      \b\b\b\b  4%\b\b\b\b\b  OK \n",
            "Extracting  datasetTest/groundtruth08/unogt140.jpeg                      \b\b\b\b  4%\b\b\b\b\b  OK \n",
            "Extracting  datasetTest/groundtruth08/unogt141.jpeg                      \b\b\b\b  4%\b\b\b\b\b  OK \n",
            "Extracting  datasetTest/groundtruth08/unogt142.jpeg                      \b\b\b\b  4%\b\b\b\b\b  OK \n",
            "Extracting  datasetTest/groundtruth08/unogt143.jpeg                      \b\b\b\b  4%\b\b\b\b\b  OK \n",
            "Extracting  datasetTest/groundtruth08/unogt144.jpeg                      \b\b\b\b  4%\b\b\b\b\b  OK \n",
            "Extracting  datasetTest/groundtruth08/unogt145.jpeg                      \b\b\b\b  4%\b\b\b\b\b  OK \n",
            "Extracting  datasetTest/groundtruth08/unogt146.jpeg                      \b\b\b\b  4%\b\b\b\b\b  OK \n",
            "Extracting  datasetTest/groundtruth08/unogt147.jpeg                      \b\b\b\b  4%\b\b\b\b\b  OK \n",
            "Extracting  datasetTest/groundtruth08/unogt148.jpeg                      \b\b\b\b  4%\b\b\b\b\b  OK \n",
            "Extracting  datasetTest/groundtruth08/unogt149.jpeg                      \b\b\b\b  4%\b\b\b\b\b  OK \n",
            "Extracting  datasetTest/groundtruth08/unogt150.jpeg                      \b\b\b\b  4%\b\b\b\b\b  OK \n",
            "Extracting  datasetTest/groundtruth08/unogt160.jpeg                      \b\b\b\b  4%\b\b\b\b\b  OK \n",
            "Extracting  datasetTest/groundtruth08/unogt161.jpeg                      \b\b\b\b  4%\b\b\b\b\b  OK \n",
            "Extracting  datasetTest/groundtruth08/unogt162.jpeg                      \b\b\b\b  4%\b\b\b\b\b  OK \n",
            "Extracting  datasetTest/groundtruth08/unogt163.jpeg                      \b\b\b\b  4%\b\b\b\b\b  OK \n",
            "Extracting  datasetTest/groundtruth08/unogt164.jpeg                      \b\b\b\b  4%\b\b\b\b\b  OK \n",
            "Extracting  datasetTest/groundtruth08/unogt165.jpeg                      \b\b\b\b  4%\b\b\b\b\b  OK \n",
            "Extracting  datasetTest/groundtruth08/unogt166.jpeg                      \b\b\b\b  4%\b\b\b\b\b  OK \n",
            "Extracting  datasetTest/groundtruth08/unogt167.jpeg                      \b\b\b\b  4%\b\b\b\b\b  OK \n",
            "Extracting  datasetTest/groundtruth08/unogt168.jpeg                      \b\b\b\b  4%\b\b\b\b\b  OK \n",
            "Extracting  datasetTest/groundtruth08/unogt169.jpeg                      \b\b\b\b  4%\b\b\b\b\b  OK \n",
            "Extracting  datasetTest/groundtruth08/unogt170.jpeg                      \b\b\b\b  4%\b\b\b\b\b  OK \n",
            "Extracting  datasetTest/groundtruth08/unogt190.jpeg                      \b\b\b\b  5%\b\b\b\b\b  OK \n",
            "Extracting  datasetTest/groundtruth08/unogt191.jpeg                      \b\b\b\b  5%\b\b\b\b\b  OK \n",
            "Extracting  datasetTest/groundtruth08/unogt192.jpeg                      \b\b\b\b  5%\b\b\b\b\b  OK \n",
            "Extracting  datasetTest/groundtruth08/unogt193.jpeg                      \b\b\b\b  5%\b\b\b\b\b  OK \n",
            "Extracting  datasetTest/groundtruth08/unogt194.jpeg                      \b\b\b\b  5%\b\b\b\b\b  OK \n",
            "Extracting  datasetTest/groundtruth08/unogt195.jpeg                      \b\b\b\b  5%\b\b\b\b\b  OK \n",
            "Extracting  datasetTest/groundtruth08/unogt196.jpeg                      \b\b\b\b  5%\b\b\b\b\b  OK \n",
            "Extracting  datasetTest/groundtruth08/unogt197.jpeg                      \b\b\b\b  5%\b\b\b\b\b  OK \n",
            "Extracting  datasetTest/groundtruth08/unogt198.jpeg                      \b\b\b\b  5%\b\b\b\b\b  OK \n",
            "Extracting  datasetTest/groundtruth08/unogt199.jpeg                      \b\b\b\b  5%\b\b\b\b\b  OK \n",
            "Extracting  datasetTest/groundtruth08/unogt200.jpeg                      \b\b\b\b  5%\b\b\b\b\b  OK \n",
            "Extracting  datasetTest/groundtruth08/unogt220.jpeg                      \b\b\b\b  5%\b\b\b\b\b  OK \n",
            "Extracting  datasetTest/groundtruth08/unogt221.jpeg                      \b\b\b\b  5%\b\b\b\b\b  OK \n",
            "Extracting  datasetTest/groundtruth08/unogt222.jpeg                      \b\b\b\b  5%\b\b\b\b\b  OK \n",
            "Extracting  datasetTest/groundtruth08/unogt223.jpeg                      \b\b\b\b  5%\b\b\b\b\b  OK \n",
            "Extracting  datasetTest/groundtruth08/unogt224.jpeg                      \b\b\b\b  5%\b\b\b\b\b  OK \n",
            "Extracting  datasetTest/groundtruth08/unogt225.jpeg                      \b\b\b\b  5%\b\b\b\b\b  OK \n",
            "Extracting  datasetTest/groundtruth08/unogt226.jpeg                      \b\b\b\b  5%\b\b\b\b\b  OK \n",
            "Extracting  datasetTest/groundtruth08/unogt227.jpeg                      \b\b\b\b  5%\b\b\b\b\b  OK \n",
            "Extracting  datasetTest/groundtruth08/unogt228.jpeg                      \b\b\b\b  5%\b\b\b\b\b  OK \n",
            "Extracting  datasetTest/groundtruth08/unogt229.jpeg                      \b\b\b\b  5%\b\b\b\b\b  OK \n",
            "Extracting  datasetTest/groundtruth08/unogt230.jpeg                      \b\b\b\b  5%\b\b\b\b\b  OK \n",
            "Extracting  datasetTest/groundtruth08/unogt90.jpeg                       \b\b\b\b  5%\b\b\b\b\b  OK \n",
            "Extracting  datasetTest/groundtruth08/unogt91.jpeg                       \b\b\b\b  5%\b\b\b\b\b  OK \n",
            "Extracting  datasetTest/groundtruth08/unogt92.jpeg                       \b\b\b\b  5%\b\b\b\b\b  OK \n",
            "Extracting  datasetTest/groundtruth08/unogt93.jpeg                       \b\b\b\b  5%\b\b\b\b\b  OK \n",
            "Extracting  datasetTest/groundtruth08/unogt94.jpeg                       \b\b\b\b  5%\b\b\b\b\b  OK \n",
            "Extracting  datasetTest/groundtruth08/unogt95.jpeg                       \b\b\b\b  5%\b\b\b\b\b  OK \n",
            "Extracting  datasetTest/groundtruth08/unogt96.jpeg                       \b\b\b\b  5%\b\b\b\b\b  OK \n",
            "Extracting  datasetTest/groundtruth08/unogt97.jpeg                       \b\b\b\b  5%\b\b\b\b\b  OK \n",
            "Extracting  datasetTest/groundtruth08/unogt98.jpeg                       \b\b\b\b  5%\b\b\b\b\b  OK \n",
            "Extracting  datasetTest/groundtruth08/unogt99.jpeg                       \b\b\b\b  5%\b\b\b\b\b  OK \n",
            "Creating    datasetTest/groundtruth15                                 OK\n",
            "Extracting  datasetTest/groundtruth15/unogt100.jpeg                      \b\b\b\b  5%\b\b\b\b\b  OK \n",
            "Extracting  datasetTest/groundtruth15/unogt140.jpeg                      \b\b\b\b  5%\b\b\b\b\b  OK \n",
            "Extracting  datasetTest/groundtruth15/unogt141.jpeg                      \b\b\b\b  5%\b\b\b\b\b  OK \n",
            "Extracting  datasetTest/groundtruth15/unogt142.jpeg                      \b\b\b\b  5%\b\b\b\b\b  OK \n",
            "Extracting  datasetTest/groundtruth15/unogt143.jpeg                      \b\b\b\b  5%\b\b\b\b\b  OK \n",
            "Extracting  datasetTest/groundtruth15/unogt144.jpeg                      \b\b\b\b  5%\b\b\b\b\b  OK \n",
            "Extracting  datasetTest/groundtruth15/unogt145.jpeg                      \b\b\b\b  5%\b\b\b\b\b  OK \n",
            "Extracting  datasetTest/groundtruth15/unogt146.jpeg                      \b\b\b\b  5%\b\b\b\b\b  OK \n",
            "Extracting  datasetTest/groundtruth15/unogt147.jpeg                      \b\b\b\b  5%\b\b\b\b\b  OK \n",
            "Extracting  datasetTest/groundtruth15/unogt148.jpeg                      \b\b\b\b  5%\b\b\b\b\b  OK \n",
            "Extracting  datasetTest/groundtruth15/unogt149.jpeg                      \b\b\b\b  5%\b\b\b\b\b  OK \n",
            "Extracting  datasetTest/groundtruth15/unogt150.jpeg                      \b\b\b\b  5%\b\b\b\b\b  OK \n",
            "Extracting  datasetTest/groundtruth15/unogt160.jpeg                      \b\b\b\b  6%\b\b\b\b\b  OK \n",
            "Extracting  datasetTest/groundtruth15/unogt161.jpeg                      \b\b\b\b  6%\b\b\b\b\b  OK \n",
            "Extracting  datasetTest/groundtruth15/unogt162.jpeg                      \b\b\b\b  6%\b\b\b\b\b  OK \n",
            "Extracting  datasetTest/groundtruth15/unogt163.jpeg                      \b\b\b\b  6%\b\b\b\b\b  OK \n",
            "Extracting  datasetTest/groundtruth15/unogt164.jpeg                      \b\b\b\b  6%\b\b\b\b\b  OK \n",
            "Extracting  datasetTest/groundtruth15/unogt165.jpeg                      \b\b\b\b  6%\b\b\b\b\b  OK \n",
            "Extracting  datasetTest/groundtruth15/unogt166.jpeg                      \b\b\b\b  6%\b\b\b\b\b  OK \n",
            "Extracting  datasetTest/groundtruth15/unogt167.jpeg                      \b\b\b\b  6%\b\b\b\b\b  OK \n",
            "Extracting  datasetTest/groundtruth15/unogt168.jpeg                      \b\b\b\b  6%\b\b\b\b\b  OK \n",
            "Extracting  datasetTest/groundtruth15/unogt169.jpeg                      \b\b\b\b  6%\b\b\b\b\b  OK \n",
            "Extracting  datasetTest/groundtruth15/unogt170.jpeg                      \b\b\b\b  6%\b\b\b\b\b  OK \n",
            "Extracting  datasetTest/groundtruth15/unogt190.jpeg                      \b\b\b\b  6%\b\b\b\b\b  OK \n",
            "Extracting  datasetTest/groundtruth15/unogt191.jpeg                      \b\b\b\b  6%\b\b\b\b\b  OK \n",
            "Extracting  datasetTest/groundtruth15/unogt192.jpeg                      \b\b\b\b  6%\b\b\b\b\b  OK \n",
            "Extracting  datasetTest/groundtruth15/unogt193.jpeg                      \b\b\b\b  6%\b\b\b\b\b  OK \n",
            "Extracting  datasetTest/groundtruth15/unogt194.jpeg                      \b\b\b\b  6%\b\b\b\b\b  OK \n",
            "Extracting  datasetTest/groundtruth15/unogt195.jpeg                      \b\b\b\b  6%\b\b\b\b\b  OK \n",
            "Extracting  datasetTest/groundtruth15/unogt196.jpeg                      \b\b\b\b  6%\b\b\b\b\b  OK \n",
            "Extracting  datasetTest/groundtruth15/unogt197.jpeg                      \b\b\b\b  6%\b\b\b\b\b  OK \n",
            "Extracting  datasetTest/groundtruth15/unogt198.jpeg                      \b\b\b\b  6%\b\b\b\b\b  OK \n",
            "Extracting  datasetTest/groundtruth15/unogt199.jpeg                      \b\b\b\b  6%\b\b\b\b\b  OK \n",
            "Extracting  datasetTest/groundtruth15/unogt200.jpeg                      \b\b\b\b  6%\b\b\b\b\b  OK \n",
            "Extracting  datasetTest/groundtruth15/unogt220.jpeg                      \b\b\b\b  6%\b\b\b\b\b  OK \n",
            "Extracting  datasetTest/groundtruth15/unogt221.jpeg                      \b\b\b\b  6%\b\b\b\b\b  OK \n",
            "Extracting  datasetTest/groundtruth15/unogt222.jpeg                      \b\b\b\b  6%\b\b\b\b\b  OK \n",
            "Extracting  datasetTest/groundtruth15/unogt223.jpeg                      \b\b\b\b  6%\b\b\b\b\b  OK \n",
            "Extracting  datasetTest/groundtruth15/unogt224.jpeg                      \b\b\b\b  6%\b\b\b\b\b  OK \n",
            "Extracting  datasetTest/groundtruth15/unogt225.jpeg                      \b\b\b\b  6%\b\b\b\b\b  OK \n",
            "Extracting  datasetTest/groundtruth15/unogt226.jpeg                      \b\b\b\b  6%\b\b\b\b\b  OK \n",
            "Extracting  datasetTest/groundtruth15/unogt227.jpeg                      \b\b\b\b  6%\b\b\b\b\b  OK \n",
            "Extracting  datasetTest/groundtruth15/unogt228.jpeg                      \b\b\b\b  6%\b\b\b\b\b  OK \n",
            "Extracting  datasetTest/groundtruth15/unogt229.jpeg                      \b\b\b\b  6%\b\b\b\b\b  OK \n",
            "Extracting  datasetTest/groundtruth15/unogt230.jpeg                      \b\b\b\b  6%\b\b\b\b\b  OK \n",
            "Extracting  datasetTest/groundtruth15/unogt90.jpeg                       \b\b\b\b  6%\b\b\b\b\b  OK \n",
            "Extracting  datasetTest/groundtruth15/unogt91.jpeg                       \b\b\b\b  6%\b\b\b\b\b  OK \n",
            "Extracting  datasetTest/groundtruth15/unogt92.jpeg                       \b\b\b\b  6%\b\b\b\b\b  OK \n",
            "Extracting  datasetTest/groundtruth15/unogt93.jpeg                       \b\b\b\b  6%\b\b\b\b\b  OK \n",
            "Extracting  datasetTest/groundtruth15/unogt94.jpeg                       \b\b\b\b  6%\b\b\b\b\b  OK \n",
            "Extracting  datasetTest/groundtruth15/unogt95.jpeg                       \b\b\b\b  6%\b\b\b\b\b  OK \n",
            "Extracting  datasetTest/groundtruth15/unogt96.jpeg                       \b\b\b\b  6%\b\b\b\b\b  OK \n",
            "Extracting  datasetTest/groundtruth15/unogt97.jpeg                       \b\b\b\b  7%\b\b\b\b\b  OK \n",
            "Extracting  datasetTest/groundtruth15/unogt98.jpeg                       \b\b\b\b  7%\b\b\b\b\b  OK \n",
            "Extracting  datasetTest/groundtruth15/unogt99.jpeg                       \b\b\b\b  7%\b\b\b\b\b  OK \n",
            "Creating    datasetTest/groundtruth24                                 OK\n",
            "Extracting  datasetTest/groundtruth24/unogt100.jpeg                      \b\b\b\b  7%\b\b\b\b\b  OK \n",
            "Extracting  datasetTest/groundtruth24/unogt140.jpeg                      \b\b\b\b  7%\b\b\b\b\b  OK \n",
            "Extracting  datasetTest/groundtruth24/unogt141.jpeg                      \b\b\b\b  7%\b\b\b\b\b  OK \n",
            "Extracting  datasetTest/groundtruth24/unogt142.jpeg                      \b\b\b\b  7%\b\b\b\b\b  OK \n",
            "Extracting  datasetTest/groundtruth24/unogt143.jpeg                      \b\b\b\b  7%\b\b\b\b\b  OK \n",
            "Extracting  datasetTest/groundtruth24/unogt144.jpeg                      \b\b\b\b  7%\b\b\b\b\b  OK \n",
            "Extracting  datasetTest/groundtruth24/unogt145.jpeg                      \b\b\b\b  7%\b\b\b\b\b  OK \n",
            "Extracting  datasetTest/groundtruth24/unogt146.jpeg                      \b\b\b\b  7%\b\b\b\b\b  OK \n",
            "Extracting  datasetTest/groundtruth24/unogt147.jpeg                      \b\b\b\b  7%\b\b\b\b\b  OK \n",
            "Extracting  datasetTest/groundtruth24/unogt148.jpeg                      \b\b\b\b  7%\b\b\b\b\b  OK \n",
            "Extracting  datasetTest/groundtruth24/unogt149.jpeg                      \b\b\b\b  7%\b\b\b\b\b  OK \n",
            "Extracting  datasetTest/groundtruth24/unogt150.jpeg                      \b\b\b\b  7%\b\b\b\b\b  OK \n",
            "Extracting  datasetTest/groundtruth24/unogt160.jpeg                      \b\b\b\b  7%\b\b\b\b\b  OK \n",
            "Extracting  datasetTest/groundtruth24/unogt161.jpeg                      \b\b\b\b  7%\b\b\b\b\b  OK \n",
            "Extracting  datasetTest/groundtruth24/unogt162.jpeg                      \b\b\b\b  7%\b\b\b\b\b  OK \n",
            "Extracting  datasetTest/groundtruth24/unogt163.jpeg                      \b\b\b\b  7%\b\b\b\b\b  OK \n",
            "Extracting  datasetTest/groundtruth24/unogt164.jpeg                      \b\b\b\b  7%\b\b\b\b\b  OK \n",
            "Extracting  datasetTest/groundtruth24/unogt165.jpeg                      \b\b\b\b  7%\b\b\b\b\b  OK \n",
            "Extracting  datasetTest/groundtruth24/unogt166.jpeg                      \b\b\b\b  7%\b\b\b\b\b  OK \n",
            "Extracting  datasetTest/groundtruth24/unogt167.jpeg                      \b\b\b\b  7%\b\b\b\b\b  OK \n",
            "Extracting  datasetTest/groundtruth24/unogt168.jpeg                      \b\b\b\b  7%\b\b\b\b\b  OK \n",
            "Extracting  datasetTest/groundtruth24/unogt169.jpeg                      \b\b\b\b  7%\b\b\b\b\b  OK \n",
            "Extracting  datasetTest/groundtruth24/unogt170.jpeg                      \b\b\b\b  7%\b\b\b\b\b  OK \n",
            "Extracting  datasetTest/groundtruth24/unogt190.jpeg                      \b\b\b\b  7%\b\b\b\b\b  OK \n",
            "Extracting  datasetTest/groundtruth24/unogt191.jpeg                      \b\b\b\b  7%\b\b\b\b\b  OK \n",
            "Extracting  datasetTest/groundtruth24/unogt192.jpeg                      \b\b\b\b  7%\b\b\b\b\b  OK \n",
            "Extracting  datasetTest/groundtruth24/unogt193.jpeg                      \b\b\b\b  7%\b\b\b\b\b  OK \n",
            "Extracting  datasetTest/groundtruth24/unogt194.jpeg                      \b\b\b\b  7%\b\b\b\b\b  OK \n",
            "Extracting  datasetTest/groundtruth24/unogt195.jpeg                      \b\b\b\b  7%\b\b\b\b\b  OK \n",
            "Extracting  datasetTest/groundtruth24/unogt196.jpeg                      \b\b\b\b  7%\b\b\b\b\b  OK \n",
            "Extracting  datasetTest/groundtruth24/unogt197.jpeg                      \b\b\b\b  7%\b\b\b\b\b  OK \n",
            "Extracting  datasetTest/groundtruth24/unogt198.jpeg                      \b\b\b\b  7%\b\b\b\b\b  OK \n",
            "Extracting  datasetTest/groundtruth24/unogt199.jpeg                      \b\b\b\b  7%\b\b\b\b\b  OK \n",
            "Extracting  datasetTest/groundtruth24/unogt200.jpeg                      \b\b\b\b  7%\b\b\b\b\b  OK \n",
            "Extracting  datasetTest/groundtruth24/unogt220.jpeg                      \b\b\b\b  7%\b\b\b\b\b  OK \n",
            "Extracting  datasetTest/groundtruth24/unogt221.jpeg                      \b\b\b\b  7%\b\b\b\b\b  OK \n",
            "Extracting  datasetTest/groundtruth24/unogt222.jpeg                      \b\b\b\b  7%\b\b\b\b\b  OK \n",
            "Extracting  datasetTest/groundtruth24/unogt223.jpeg                      \b\b\b\b  7%\b\b\b\b\b  OK \n",
            "Extracting  datasetTest/groundtruth24/unogt224.jpeg                      \b\b\b\b  7%\b\b\b\b\b  OK \n",
            "Extracting  datasetTest/groundtruth24/unogt225.jpeg                      \b\b\b\b  7%\b\b\b\b\b  OK \n",
            "Extracting  datasetTest/groundtruth24/unogt226.jpeg                      \b\b\b\b  7%\b\b\b\b\b  OK \n",
            "Extracting  datasetTest/groundtruth24/unogt227.jpeg                      \b\b\b\b  7%\b\b\b\b\b  OK \n",
            "Extracting  datasetTest/groundtruth24/unogt228.jpeg                      \b\b\b\b  8%\b\b\b\b\b  OK \n",
            "Extracting  datasetTest/groundtruth24/unogt229.jpeg                      \b\b\b\b  8%\b\b\b\b\b  OK \n",
            "Extracting  datasetTest/groundtruth24/unogt230.jpeg                      \b\b\b\b  8%\b\b\b\b\b  OK \n",
            "Extracting  datasetTest/groundtruth24/unogt90.jpeg                       \b\b\b\b  8%\b\b\b\b\b  OK \n",
            "Extracting  datasetTest/groundtruth24/unogt91.jpeg                       \b\b\b\b  8%\b\b\b\b\b  OK \n",
            "Extracting  datasetTest/groundtruth24/unogt92.jpeg                       \b\b\b\b  8%\b\b\b\b\b  OK \n",
            "Extracting  datasetTest/groundtruth24/unogt93.jpeg                       \b\b\b\b  8%\b\b\b\b\b  OK \n",
            "Extracting  datasetTest/groundtruth24/unogt94.jpeg                       \b\b\b\b  8%\b\b\b\b\b  OK \n",
            "Extracting  datasetTest/groundtruth24/unogt95.jpeg                       \b\b\b\b  8%\b\b\b\b\b  OK \n",
            "Extracting  datasetTest/groundtruth24/unogt96.jpeg                       \b\b\b\b  8%\b\b\b\b\b  OK \n",
            "Extracting  datasetTest/groundtruth24/unogt97.jpeg                       \b\b\b\b  8%\b\b\b\b\b  OK \n",
            "Extracting  datasetTest/groundtruth24/unogt98.jpeg                       \b\b\b\b  8%\b\b\b\b\b  OK \n",
            "Extracting  datasetTest/groundtruth24/unogt99.jpeg                       \b\b\b\b  8%\b\b\b\b\b  OK \n",
            "Creating    datasetTest/originali1                                    OK\n",
            "Extracting  datasetTest/originali1/uno100.jpg                            \b\b\b\b  8%\b\b\b\b\b  OK \n",
            "Extracting  datasetTest/originali1/uno140.jpg                            \b\b\b\b  8%\b\b\b\b\b  OK \n",
            "Extracting  datasetTest/originali1/uno141.jpg                            \b\b\b\b  9%\b\b\b\b\b  OK \n",
            "Extracting  datasetTest/originali1/uno142.jpg                            \b\b\b\b  9%\b\b\b\b\b  OK \n",
            "Extracting  datasetTest/originali1/uno143.jpg                            \b\b\b\b  9%\b\b\b\b\b  OK \n",
            "Extracting  datasetTest/originali1/uno144.jpg                            \b\b\b\b 10%\b\b\b\b\b  OK \n",
            "Extracting  datasetTest/originali1/uno145.jpg                            \b\b\b\b 10%\b\b\b\b\b  OK \n",
            "Extracting  datasetTest/originali1/uno146.jpg                            \b\b\b\b 10%\b\b\b\b\b  OK \n",
            "Extracting  datasetTest/originali1/uno147.jpg                            \b\b\b\b 11%\b\b\b\b\b  OK \n",
            "Extracting  datasetTest/originali1/uno148.jpg                            \b\b\b\b 11%\b\b\b\b\b  OK \n",
            "Extracting  datasetTest/originali1/uno149.jpg                            \b\b\b\b 11%\b\b\b\b\b  OK \n",
            "Extracting  datasetTest/originali1/uno150.jpg                            \b\b\b\b 12%\b\b\b\b\b  OK \n",
            "Extracting  datasetTest/originali1/uno160.jpg                            \b\b\b\b 12%\b\b\b\b\b  OK \n",
            "Extracting  datasetTest/originali1/uno161.jpg                            \b\b\b\b 12%\b\b\b\b\b  OK \n",
            "Extracting  datasetTest/originali1/uno162.jpg                            \b\b\b\b 13%\b\b\b\b\b  OK \n",
            "Extracting  datasetTest/originali1/uno163.jpg                            \b\b\b\b 13%\b\b\b\b\b  OK \n",
            "Extracting  datasetTest/originali1/uno164.jpg                            \b\b\b\b 13%\b\b\b\b\b  OK \n",
            "Extracting  datasetTest/originali1/uno165.jpg                            \b\b\b\b 13%\b\b\b\b\b  OK \n",
            "Extracting  datasetTest/originali1/uno166.jpg                            \b\b\b\b 14%\b\b\b\b\b  OK \n",
            "Extracting  datasetTest/originali1/uno167.jpg                            \b\b\b\b 14%\b\b\b\b\b  OK \n",
            "Extracting  datasetTest/originali1/uno168.jpg                            \b\b\b\b 14%\b\b\b\b\b  OK \n",
            "Extracting  datasetTest/originali1/uno169.jpg                            \b\b\b\b 15%\b\b\b\b\b  OK \n",
            "Extracting  datasetTest/originali1/uno170.jpg                            \b\b\b\b 15%\b\b\b\b\b  OK \n",
            "Extracting  datasetTest/originali1/uno190.jpg                            \b\b\b\b 15%\b\b\b\b\b  OK \n",
            "Extracting  datasetTest/originali1/uno191.jpg                            \b\b\b\b 15%\b\b\b\b\b  OK \n",
            "Extracting  datasetTest/originali1/uno192.jpg                            \b\b\b\b 15%\b\b\b\b\b  OK \n",
            "Extracting  datasetTest/originali1/uno193.jpg                            \b\b\b\b 16%\b\b\b\b\b  OK \n",
            "Extracting  datasetTest/originali1/uno194.jpg                            \b\b\b\b 16%\b\b\b\b\b  OK \n",
            "Extracting  datasetTest/originali1/uno195.jpg                            \b\b\b\b 16%\b\b\b\b\b  OK \n",
            "Extracting  datasetTest/originali1/uno196.jpg                            \b\b\b\b 16%\b\b\b\b\b  OK \n",
            "Extracting  datasetTest/originali1/uno197.jpg                            \b\b\b\b 16%\b\b\b\b\b  OK \n",
            "Extracting  datasetTest/originali1/uno198.jpg                            \b\b\b\b 16%\b\b\b\b\b  OK \n",
            "Extracting  datasetTest/originali1/uno199.jpg                            \b\b\b\b 16%\b\b\b\b\b  OK \n",
            "Extracting  datasetTest/originali1/uno200.jpg                            \b\b\b\b 17%\b\b\b\b\b  OK \n",
            "Extracting  datasetTest/originali1/uno220.jpg                            \b\b\b\b 17%\b\b\b\b\b  OK \n",
            "Extracting  datasetTest/originali1/uno221.jpg                            \b\b\b\b 17%\b\b\b\b\b  OK \n",
            "Extracting  datasetTest/originali1/uno222.jpg                            \b\b\b\b 17%\b\b\b\b\b  OK \n",
            "Extracting  datasetTest/originali1/uno223.jpg                            \b\b\b\b 17%\b\b\b\b\b  OK \n",
            "Extracting  datasetTest/originali1/uno224.jpg                            \b\b\b\b 17%\b\b\b\b\b  OK \n",
            "Extracting  datasetTest/originali1/uno225.jpg                            \b\b\b\b 17%\b\b\b\b\b  OK \n",
            "Extracting  datasetTest/originali1/uno226.jpg                            \b\b\b\b 17%\b\b\b\b\b  OK \n",
            "Extracting  datasetTest/originali1/uno227.jpg                            \b\b\b\b 17%\b\b\b\b\b  OK \n",
            "Extracting  datasetTest/originali1/uno228.jpg                            \b\b\b\b 17%\b\b\b\b\b  OK \n",
            "Extracting  datasetTest/originali1/uno229.jpg                            \b\b\b\b 17%\b\b\b\b\b  OK \n",
            "Extracting  datasetTest/originali1/uno230.jpg                            \b\b\b\b 17%\b\b\b\b\b  OK \n",
            "Extracting  datasetTest/originali1/uno90.jpg                             \b\b\b\b 17%\b\b\b\b\b  OK \n",
            "Extracting  datasetTest/originali1/uno91.jpg                             \b\b\b\b 17%\b\b\b\b\b  OK \n",
            "Extracting  datasetTest/originali1/uno92.jpg                             \b\b\b\b 18%\b\b\b\b\b  OK \n",
            "Extracting  datasetTest/originali1/uno93.jpg                             \b\b\b\b 18%\b\b\b\b\b  OK \n",
            "Extracting  datasetTest/originali1/uno94.jpg                             \b\b\b\b 18%\b\b\b\b\b  OK \n",
            "Extracting  datasetTest/originali1/uno95.jpg                             \b\b\b\b 19%\b\b\b\b\b  OK \n",
            "Extracting  datasetTest/originali1/uno96.jpg                             \b\b\b\b 19%\b\b\b\b\b  OK \n",
            "Extracting  datasetTest/originali1/uno97.jpg                             \b\b\b\b 20%\b\b\b\b\b  OK \n",
            "Extracting  datasetTest/originali1/uno98.jpg                             \b\b\b\b 20%\b\b\b\b\b  OK \n",
            "Extracting  datasetTest/originali1/uno99.jpg                             \b\b\b\b 20%\b\b\b\b\b  OK \n",
            "Creating    datasetTest/originali15                                   OK\n",
            "Extracting  datasetTest/originali15/uno100.jpg                           \b\b\b\b 21%\b\b\b\b\b  OK \n",
            "Extracting  datasetTest/originali15/uno140.jpg                           \b\b\b\b 21%\b\b\b\b\b  OK \n",
            "Extracting  datasetTest/originali15/uno141.jpg                           \b\b\b\b 21%\b\b\b\b\b  OK \n",
            "Extracting  datasetTest/originali15/uno142.jpg                           \b\b\b\b 22%\b\b\b\b\b  OK \n",
            "Extracting  datasetTest/originali15/uno143.jpg                           \b\b\b\b 22%\b\b\b\b\b  OK \n",
            "Extracting  datasetTest/originali15/uno144.jpg                           \b\b\b\b 22%\b\b\b\b\b  OK \n",
            "Extracting  datasetTest/originali15/uno145.jpg                           \b\b\b\b 23%\b\b\b\b\b  OK \n",
            "Extracting  datasetTest/originali15/uno146.jpg                           \b\b\b\b 23%\b\b\b\b\b  OK \n",
            "Extracting  datasetTest/originali15/uno147.jpg                           \b\b\b\b 23%\b\b\b\b\b  OK \n",
            "Extracting  datasetTest/originali15/uno148.jpg                           \b\b\b\b 24%\b\b\b\b\b  OK \n",
            "Extracting  datasetTest/originali15/uno149.jpg                           \b\b\b\b 24%\b\b\b\b\b  OK \n",
            "Extracting  datasetTest/originali15/uno150.jpg                           \b\b\b\b 25%\b\b\b\b\b  OK \n",
            "Extracting  datasetTest/originali15/uno160.jpg                           \b\b\b\b 25%\b\b\b\b\b  OK \n",
            "Extracting  datasetTest/originali15/uno161.jpg                           \b\b\b\b 25%\b\b\b\b\b  OK \n",
            "Extracting  datasetTest/originali15/uno162.jpg                           \b\b\b\b 26%\b\b\b\b\b  OK \n",
            "Extracting  datasetTest/originali15/uno163.jpg                           \b\b\b\b 26%\b\b\b\b\b  OK \n",
            "Extracting  datasetTest/originali15/uno164.jpg                           \b\b\b\b 26%\b\b\b\b\b  OK \n",
            "Extracting  datasetTest/originali15/uno165.jpg                           \b\b\b\b 27%\b\b\b\b\b  OK \n",
            "Extracting  datasetTest/originali15/uno166.jpg                           \b\b\b\b 27%\b\b\b\b\b  OK \n",
            "Extracting  datasetTest/originali15/uno167.jpg                           \b\b\b\b 27%\b\b\b\b\b  OK \n",
            "Extracting  datasetTest/originali15/uno168.jpg                           \b\b\b\b 28%\b\b\b\b\b  OK \n",
            "Extracting  datasetTest/originali15/uno169.jpg                           \b\b\b\b 28%\b\b\b\b\b  OK \n",
            "Extracting  datasetTest/originali15/uno170.jpg                           \b\b\b\b 28%\b\b\b\b\b  OK \n",
            "Extracting  datasetTest/originali15/uno190.jpg                           \b\b\b\b 29%\b\b\b\b\b  OK \n",
            "Extracting  datasetTest/originali15/uno191.jpg                           \b\b\b\b 29%\b\b\b\b\b  OK \n",
            "Extracting  datasetTest/originali15/uno192.jpg                           \b\b\b\b 29%\b\b\b\b\b  OK \n",
            "Extracting  datasetTest/originali15/uno193.jpg                           \b\b\b\b 29%\b\b\b\b\b  OK \n",
            "Extracting  datasetTest/originali15/uno194.jpg                           \b\b\b\b 30%\b\b\b\b\b  OK \n",
            "Extracting  datasetTest/originali15/uno195.jpg                           \b\b\b\b 30%\b\b\b\b\b  OK \n",
            "Extracting  datasetTest/originali15/uno196.jpg                           \b\b\b\b 30%\b\b\b\b\b  OK \n",
            "Extracting  datasetTest/originali15/uno197.jpg                           \b\b\b\b 30%\b\b\b\b\b  OK \n",
            "Extracting  datasetTest/originali15/uno198.jpg                           \b\b\b\b 30%\b\b\b\b\b  OK \n",
            "Extracting  datasetTest/originali15/uno199.jpg                           \b\b\b\b 31%\b\b\b\b\b  OK \n",
            "Extracting  datasetTest/originali15/uno200.jpg                           \b\b\b\b 31%\b\b\b\b\b  OK \n",
            "Extracting  datasetTest/originali15/uno220.jpg                           \b\b\b\b 31%\b\b\b\b\b  OK \n",
            "Extracting  datasetTest/originali15/uno221.jpg                           \b\b\b\b 31%\b\b\b\b\b  OK \n",
            "Extracting  datasetTest/originali15/uno222.jpg                           \b\b\b\b 31%\b\b\b\b\b  OK \n",
            "Extracting  datasetTest/originali15/uno223.jpg                           \b\b\b\b 31%\b\b\b\b\b  OK \n",
            "Extracting  datasetTest/originali15/uno224.jpg                           \b\b\b\b 31%\b\b\b\b\b  OK \n",
            "Extracting  datasetTest/originali15/uno225.jpg                           \b\b\b\b 31%\b\b\b\b\b  OK \n",
            "Extracting  datasetTest/originali15/uno226.jpg                           \b\b\b\b 31%\b\b\b\b\b  OK \n",
            "Extracting  datasetTest/originali15/uno227.jpg                           \b\b\b\b 31%\b\b\b\b\b  OK \n",
            "Extracting  datasetTest/originali15/uno228.jpg                           \b\b\b\b 31%\b\b\b\b\b  OK \n",
            "Extracting  datasetTest/originali15/uno229.jpg                           \b\b\b\b 31%\b\b\b\b\b  OK \n",
            "Extracting  datasetTest/originali15/uno230.jpg                           \b\b\b\b 32%\b\b\b\b\b  OK \n",
            "Extracting  datasetTest/originali15/uno90.jpg                            \b\b\b\b 32%\b\b\b\b\b  OK \n",
            "Extracting  datasetTest/originali15/uno91.jpg                            \b\b\b\b 32%\b\b\b\b\b  OK \n",
            "Extracting  datasetTest/originali15/uno92.jpg                            \b\b\b\b 33%\b\b\b\b\b  OK \n",
            "Extracting  datasetTest/originali15/uno93.jpg                            \b\b\b\b 33%\b\b\b\b\b  OK \n",
            "Extracting  datasetTest/originali15/uno94.jpg                            \b\b\b\b 33%\b\b\b\b\b  OK \n",
            "Extracting  datasetTest/originali15/uno95.jpg                            \b\b\b\b 34%\b\b\b\b\b  OK \n",
            "Extracting  datasetTest/originali15/uno96.jpg                            \b\b\b\b 34%\b\b\b\b\b  OK \n",
            "Extracting  datasetTest/originali15/uno97.jpg                            \b\b\b\b 34%\b\b\b\b\b  OK \n",
            "Extracting  datasetTest/originali15/uno98.jpg                            \b\b\b\b 35%\b\b\b\b\b  OK \n",
            "Extracting  datasetTest/originali15/uno99.jpg                            \b\b\b\b 35%\b\b\b\b\b  OK \n",
            "Creating    datasetTest/originali2                                    OK\n",
            "Extracting  datasetTest/originali2/uno100.jpg                            \b\b\b\b 35%\b\b\b\b\b  OK \n",
            "Extracting  datasetTest/originali2/uno140.jpg                            \b\b\b\b 36%\b\b\b\b\b  OK \n",
            "Extracting  datasetTest/originali2/uno141.jpg                            \b\b\b\b 36%\b\b\b\b\b  OK \n",
            "Extracting  datasetTest/originali2/uno142.jpg                            \b\b\b\b 37%\b\b\b\b\b  OK \n",
            "Extracting  datasetTest/originali2/uno143.jpg                            \b\b\b\b 37%\b\b\b\b\b  OK \n",
            "Extracting  datasetTest/originali2/uno144.jpg                            \b\b\b\b 37%\b\b\b\b\b  OK \n",
            "Extracting  datasetTest/originali2/uno145.jpg                            \b\b\b\b 38%\b\b\b\b\b  OK \n",
            "Extracting  datasetTest/originali2/uno146.jpg                            \b\b\b\b 38%\b\b\b\b\b  OK \n",
            "Extracting  datasetTest/originali2/uno147.jpg                            \b\b\b\b 38%\b\b\b\b\b  OK \n",
            "Extracting  datasetTest/originali2/uno148.jpg                            \b\b\b\b 39%\b\b\b\b\b  OK \n",
            "Extracting  datasetTest/originali2/uno149.jpg                            \b\b\b\b 39%\b\b\b\b\b  OK \n",
            "Extracting  datasetTest/originali2/uno150.jpg                            \b\b\b\b 40%\b\b\b\b\b  OK \n",
            "Extracting  datasetTest/originali2/uno160.jpg                            \b\b\b\b 40%\b\b\b\b\b  OK \n",
            "Extracting  datasetTest/originali2/uno161.jpg                            \b\b\b\b 40%\b\b\b\b\b  OK \n",
            "Extracting  datasetTest/originali2/uno162.jpg                            \b\b\b\b 41%\b\b\b\b\b  OK \n",
            "Extracting  datasetTest/originali2/uno163.jpg                            \b\b\b\b 41%\b\b\b\b\b  OK \n",
            "Extracting  datasetTest/originali2/uno164.jpg                            \b\b\b\b 41%\b\b\b\b\b  OK \n",
            "Extracting  datasetTest/originali2/uno165.jpg                            \b\b\b\b 42%\b\b\b\b\b  OK \n",
            "Extracting  datasetTest/originali2/uno166.jpg                            \b\b\b\b 42%\b\b\b\b\b  OK \n",
            "Extracting  datasetTest/originali2/uno167.jpg                            \b\b\b\b 43%\b\b\b\b\b  OK \n",
            "Extracting  datasetTest/originali2/uno168.jpg                            \b\b\b\b 43%\b\b\b\b\b  OK \n",
            "Extracting  datasetTest/originali2/uno169.jpg                            \b\b\b\b 43%\b\b\b\b\b  OK \n",
            "Extracting  datasetTest/originali2/uno170.jpg                            \b\b\b\b 44%\b\b\b\b\b  OK \n",
            "Extracting  datasetTest/originali2/uno190.jpg                            \b\b\b\b 44%\b\b\b\b\b  OK \n",
            "Extracting  datasetTest/originali2/uno191.jpg                            \b\b\b\b 44%\b\b\b\b\b  OK \n",
            "Extracting  datasetTest/originali2/uno192.jpg                            \b\b\b\b 44%\b\b\b\b\b  OK \n",
            "Extracting  datasetTest/originali2/uno193.jpg                            \b\b\b\b 45%\b\b\b\b\b  OK \n",
            "Extracting  datasetTest/originali2/uno194.jpg                            \b\b\b\b 45%\b\b\b\b\b  OK \n",
            "Extracting  datasetTest/originali2/uno195.jpg                            \b\b\b\b 45%\b\b\b\b\b  OK \n",
            "Extracting  datasetTest/originali2/uno196.jpg                            \b\b\b\b 45%\b\b\b\b\b  OK \n",
            "Extracting  datasetTest/originali2/uno197.jpg                            \b\b\b\b 46%\b\b\b\b\b  OK \n",
            "Extracting  datasetTest/originali2/uno198.jpg                            \b\b\b\b 46%\b\b\b\b\b  OK \n",
            "Extracting  datasetTest/originali2/uno199.jpg                            \b\b\b\b 46%\b\b\b\b\b  OK \n",
            "Extracting  datasetTest/originali2/uno200.jpg                            \b\b\b\b 46%\b\b\b\b\b  OK \n",
            "Extracting  datasetTest/originali2/uno220.jpg                            \b\b\b\b 46%\b\b\b\b\b  OK \n",
            "Extracting  datasetTest/originali2/uno221.jpg                            \b\b\b\b 46%\b\b\b\b\b  OK \n",
            "Extracting  datasetTest/originali2/uno222.jpg                            \b\b\b\b 46%\b\b\b\b\b  OK \n",
            "Extracting  datasetTest/originali2/uno223.jpg                            \b\b\b\b 46%\b\b\b\b\b  OK \n",
            "Extracting  datasetTest/originali2/uno224.jpg                            \b\b\b\b 46%\b\b\b\b\b  OK \n",
            "Extracting  datasetTest/originali2/uno225.jpg                            \b\b\b\b 47%\b\b\b\b\b  OK \n",
            "Extracting  datasetTest/originali2/uno226.jpg                            \b\b\b\b 47%\b\b\b\b\b  OK \n",
            "Extracting  datasetTest/originali2/uno227.jpg                            \b\b\b\b 47%\b\b\b\b\b  OK \n",
            "Extracting  datasetTest/originali2/uno228.jpg                            \b\b\b\b 47%\b\b\b\b\b  OK \n",
            "Extracting  datasetTest/originali2/uno229.jpg                            \b\b\b\b 47%\b\b\b\b\b  OK \n",
            "Extracting  datasetTest/originali2/uno230.jpg                            \b\b\b\b 47%\b\b\b\b\b  OK \n",
            "Extracting  datasetTest/originali2/uno90.jpg                             \b\b\b\b 47%\b\b\b\b\b  OK \n",
            "Extracting  datasetTest/originali2/uno91.jpg                             \b\b\b\b 47%\b\b\b\b\b  OK \n",
            "Extracting  datasetTest/originali2/uno92.jpg                             \b\b\b\b 48%\b\b\b\b\b  OK \n",
            "Extracting  datasetTest/originali2/uno93.jpg                             \b\b\b\b 48%\b\b\b\b\b  OK \n",
            "Extracting  datasetTest/originali2/uno94.jpg                             \b\b\b\b 49%\b\b\b\b\b  OK \n",
            "Extracting  datasetTest/originali2/uno95.jpg                             \b\b\b\b 49%\b\b\b\b\b  OK \n",
            "Extracting  datasetTest/originali2/uno96.jpg                             \b\b\b\b 49%\b\b\b\b\b  OK \n",
            "Extracting  datasetTest/originali2/uno97.jpg                             \b\b\b\b 50%\b\b\b\b\b  OK \n",
            "Extracting  datasetTest/originali2/uno98.jpg                             \b\b\b\b 50%\b\b\b\b\b  OK \n",
            "Extracting  datasetTest/originali2/uno99.jpg                             \b\b\b\b 50%\b\b\b\b\b  OK \n",
            "Creating    datasetTest/originali24                                   OK\n",
            "Extracting  datasetTest/originali24/uno100.jpg                           \b\b\b\b 51%\b\b\b\b\b  OK \n",
            "Extracting  datasetTest/originali24/uno140.jpg                           \b\b\b\b 51%\b\b\b\b\b  OK \n",
            "Extracting  datasetTest/originali24/uno141.jpg                           \b\b\b\b 52%\b\b\b\b\b  OK \n",
            "Extracting  datasetTest/originali24/uno142.jpg                           \b\b\b\b 52%\b\b\b\b\b  OK \n",
            "Extracting  datasetTest/originali24/uno143.jpg                           \b\b\b\b 52%\b\b\b\b\b  OK \n",
            "Extracting  datasetTest/originali24/uno144.jpg                           \b\b\b\b 53%\b\b\b\b\b  OK \n",
            "Extracting  datasetTest/originali24/uno145.jpg                           \b\b\b\b 53%\b\b\b\b\b  OK \n",
            "Extracting  datasetTest/originali24/uno146.jpg                           \b\b\b\b 54%\b\b\b\b\b  OK \n",
            "Extracting  datasetTest/originali24/uno147.jpg                           \b\b\b\b 54%\b\b\b\b\b  OK \n",
            "Extracting  datasetTest/originali24/uno148.jpg                           \b\b\b\b 54%\b\b\b\b\b  OK \n",
            "Extracting  datasetTest/originali24/uno149.jpg                           \b\b\b\b 55%\b\b\b\b\b  OK \n",
            "Extracting  datasetTest/originali24/uno150.jpg                           \b\b\b\b 55%\b\b\b\b\b  OK \n",
            "Extracting  datasetTest/originali24/uno160.jpg                           \b\b\b\b 56%\b\b\b\b\b  OK \n",
            "Extracting  datasetTest/originali24/uno161.jpg                           \b\b\b\b 56%\b\b\b\b\b  OK \n",
            "Extracting  datasetTest/originali24/uno162.jpg                           \b\b\b\b 56%\b\b\b\b\b  OK \n",
            "Extracting  datasetTest/originali24/uno163.jpg                           \b\b\b\b 57%\b\b\b\b\b  OK \n",
            "Extracting  datasetTest/originali24/uno164.jpg                           \b\b\b\b 57%\b\b\b\b\b  OK \n",
            "Extracting  datasetTest/originali24/uno165.jpg                           \b\b\b\b 57%\b\b\b\b\b  OK \n",
            "Extracting  datasetTest/originali24/uno166.jpg                           \b\b\b\b 58%\b\b\b\b\b  OK \n",
            "Extracting  datasetTest/originali24/uno167.jpg                           \b\b\b\b 58%\b\b\b\b\b  OK \n",
            "Extracting  datasetTest/originali24/uno168.jpg                           \b\b\b\b 59%\b\b\b\b\b  OK \n",
            "Extracting  datasetTest/originali24/uno169.jpg                           \b\b\b\b 59%\b\b\b\b\b  OK \n",
            "Extracting  datasetTest/originali24/uno170.jpg                           \b\b\b\b 59%\b\b\b\b\b  OK \n",
            "Extracting  datasetTest/originali24/uno190.jpg                           \b\b\b\b 60%\b\b\b\b\b  OK \n",
            "Extracting  datasetTest/originali24/uno191.jpg                           \b\b\b\b 60%\b\b\b\b\b  OK \n",
            "Extracting  datasetTest/originali24/uno192.jpg                           \b\b\b\b 60%\b\b\b\b\b  OK \n",
            "Extracting  datasetTest/originali24/uno193.jpg                           \b\b\b\b 60%\b\b\b\b\b  OK \n",
            "Extracting  datasetTest/originali24/uno194.jpg                           \b\b\b\b 61%\b\b\b\b\b  OK \n",
            "Extracting  datasetTest/originali24/uno195.jpg                           \b\b\b\b 61%\b\b\b\b\b  OK \n",
            "Extracting  datasetTest/originali24/uno196.jpg                           \b\b\b\b 61%\b\b\b\b\b  OK \n",
            "Extracting  datasetTest/originali24/uno197.jpg                           \b\b\b\b 61%\b\b\b\b\b  OK \n",
            "Extracting  datasetTest/originali24/uno198.jpg                           \b\b\b\b 62%\b\b\b\b\b  OK \n",
            "Extracting  datasetTest/originali24/uno199.jpg                           \b\b\b\b 62%\b\b\b\b\b  OK \n",
            "Extracting  datasetTest/originali24/uno200.jpg                           \b\b\b\b 62%\b\b\b\b\b  OK \n",
            "Extracting  datasetTest/originali24/uno220.jpg                           \b\b\b\b 62%\b\b\b\b\b  OK \n",
            "Extracting  datasetTest/originali24/uno221.jpg                           \b\b\b\b 62%\b\b\b\b\b  OK \n",
            "Extracting  datasetTest/originali24/uno222.jpg                           \b\b\b\b 62%\b\b\b\b\b  OK \n",
            "Extracting  datasetTest/originali24/uno223.jpg                           \b\b\b\b 62%\b\b\b\b\b  OK \n",
            "Extracting  datasetTest/originali24/uno224.jpg                           \b\b\b\b 62%\b\b\b\b\b  OK \n",
            "Extracting  datasetTest/originali24/uno225.jpg                           \b\b\b\b 63%\b\b\b\b\b  OK \n",
            "Extracting  datasetTest/originali24/uno226.jpg                           \b\b\b\b 63%\b\b\b\b\b  OK \n",
            "Extracting  datasetTest/originali24/uno227.jpg                           \b\b\b\b 63%\b\b\b\b\b  OK \n",
            "Extracting  datasetTest/originali24/uno228.jpg                           \b\b\b\b 63%\b\b\b\b\b  OK \n",
            "Extracting  datasetTest/originali24/uno229.jpg                           \b\b\b\b 63%\b\b\b\b\b  OK \n",
            "Extracting  datasetTest/originali24/uno230.jpg                           \b\b\b\b 63%\b\b\b\b\b  OK \n",
            "Extracting  datasetTest/originali24/uno90.jpg                            \b\b\b\b 63%\b\b\b\b\b  OK \n",
            "Extracting  datasetTest/originali24/uno91.jpg                            \b\b\b\b 64%\b\b\b\b\b  OK \n",
            "Extracting  datasetTest/originali24/uno92.jpg                            \b\b\b\b 64%\b\b\b\b\b  OK \n",
            "Extracting  datasetTest/originali24/uno93.jpg                            \b\b\b\b 65%\b\b\b\b\b  OK \n",
            "Extracting  datasetTest/originali24/uno94.jpg                            \b\b\b\b 65%\b\b\b\b\b  OK \n",
            "Extracting  datasetTest/originali24/uno95.jpg                            \b\b\b\b 65%\b\b\b\b\b  OK \n",
            "Extracting  datasetTest/originali24/uno96.jpg                            \b\b\b\b 66%\b\b\b\b\b  OK \n",
            "Extracting  datasetTest/originali24/uno97.jpg                            \b\b\b\b 66%\b\b\b\b\b  OK \n",
            "Extracting  datasetTest/originali24/uno98.jpg                            \b\b\b\b 67%\b\b\b\b\b  OK \n",
            "Extracting  datasetTest/originali24/uno99.jpg                            \b\b\b\b 67%\b\b\b\b\b  OK \n",
            "Creating    datasetTest/originali3                                    OK\n",
            "Extracting  datasetTest/originali3/uno100.jpg                            \b\b\b\b 67%\b\b\b\b\b  OK \n",
            "Extracting  datasetTest/originali3/uno140.jpg                            \b\b\b\b 68%\b\b\b\b\b  OK \n",
            "Extracting  datasetTest/originali3/uno141.jpg                            \b\b\b\b 68%\b\b\b\b\b  OK \n",
            "Extracting  datasetTest/originali3/uno142.jpg                            \b\b\b\b 69%\b\b\b\b\b  OK \n",
            "Extracting  datasetTest/originali3/uno143.jpg                            \b\b\b\b 69%\b\b\b\b\b  OK \n",
            "Extracting  datasetTest/originali3/uno144.jpg                            \b\b\b\b 69%\b\b\b\b\b  OK \n",
            "Extracting  datasetTest/originali3/uno145.jpg                            \b\b\b\b 70%\b\b\b\b\b  OK \n",
            "Extracting  datasetTest/originali3/uno146.jpg                            \b\b\b\b 70%\b\b\b\b\b  OK \n",
            "Extracting  datasetTest/originali3/uno147.jpg                            \b\b\b\b 71%\b\b\b\b\b  OK \n",
            "Extracting  datasetTest/originali3/uno148.jpg                            \b\b\b\b 71%\b\b\b\b\b  OK \n",
            "Extracting  datasetTest/originali3/uno149.jpg                            \b\b\b\b 71%\b\b\b\b\b  OK \n",
            "Extracting  datasetTest/originali3/uno150.jpg                            \b\b\b\b 72%\b\b\b\b\b  OK \n",
            "Extracting  datasetTest/originali3/uno160.jpg                            \b\b\b\b 72%\b\b\b\b\b  OK \n",
            "Extracting  datasetTest/originali3/uno161.jpg                            \b\b\b\b 73%\b\b\b\b\b  OK \n",
            "Extracting  datasetTest/originali3/uno162.jpg                            \b\b\b\b 73%\b\b\b\b\b  OK \n",
            "Extracting  datasetTest/originali3/uno163.jpg                            \b\b\b\b 73%\b\b\b\b\b  OK \n",
            "Extracting  datasetTest/originali3/uno164.jpg                            \b\b\b\b 74%\b\b\b\b\b  OK \n",
            "Extracting  datasetTest/originali3/uno165.jpg                            \b\b\b\b 74%\b\b\b\b\b  OK \n",
            "Extracting  datasetTest/originali3/uno166.jpg                            \b\b\b\b 75%\b\b\b\b\b  OK \n",
            "Extracting  datasetTest/originali3/uno167.jpg                            \b\b\b\b 75%\b\b\b\b\b  OK \n",
            "Extracting  datasetTest/originali3/uno168.jpg                            \b\b\b\b 75%\b\b\b\b\b  OK \n",
            "Extracting  datasetTest/originali3/uno169.jpg                            \b\b\b\b 76%\b\b\b\b\b  OK \n",
            "Extracting  datasetTest/originali3/uno170.jpg                            \b\b\b\b 76%\b\b\b\b\b  OK \n",
            "Extracting  datasetTest/originali3/uno190.jpg                            \b\b\b\b 76%\b\b\b\b\b  OK \n",
            "Extracting  datasetTest/originali3/uno191.jpg                            \b\b\b\b 77%\b\b\b\b\b  OK \n",
            "Extracting  datasetTest/originali3/uno192.jpg                            \b\b\b\b 77%\b\b\b\b\b  OK \n",
            "Extracting  datasetTest/originali3/uno193.jpg                            \b\b\b\b 77%\b\b\b\b\b  OK \n",
            "Extracting  datasetTest/originali3/uno194.jpg                            \b\b\b\b 77%\b\b\b\b\b  OK \n",
            "Extracting  datasetTest/originali3/uno195.jpg                            \b\b\b\b 78%\b\b\b\b\b  OK \n",
            "Extracting  datasetTest/originali3/uno196.jpg                            \b\b\b\b 78%\b\b\b\b\b  OK \n",
            "Extracting  datasetTest/originali3/uno197.jpg                            \b\b\b\b 78%\b\b\b\b\b  OK \n",
            "Extracting  datasetTest/originali3/uno198.jpg                            \b\b\b\b 78%\b\b\b\b\b  OK \n",
            "Extracting  datasetTest/originali3/uno199.jpg                            \b\b\b\b 79%\b\b\b\b\b  OK \n",
            "Extracting  datasetTest/originali3/uno200.jpg                            \b\b\b\b 79%\b\b\b\b\b  OK \n",
            "Extracting  datasetTest/originali3/uno220.jpg                            \b\b\b\b 79%\b\b\b\b\b  OK \n",
            "Extracting  datasetTest/originali3/uno221.jpg                            \b\b\b\b 79%\b\b\b\b\b  OK \n",
            "Extracting  datasetTest/originali3/uno222.jpg                            \b\b\b\b 79%\b\b\b\b\b  OK \n",
            "Extracting  datasetTest/originali3/uno223.jpg                            \b\b\b\b 79%\b\b\b\b\b  OK \n",
            "Extracting  datasetTest/originali3/uno224.jpg                            \b\b\b\b 79%\b\b\b\b\b  OK \n",
            "Extracting  datasetTest/originali3/uno225.jpg                            \b\b\b\b 80%\b\b\b\b\b  OK \n",
            "Extracting  datasetTest/originali3/uno226.jpg                            \b\b\b\b 80%\b\b\b\b\b  OK \n",
            "Extracting  datasetTest/originali3/uno227.jpg                            \b\b\b\b 80%\b\b\b\b\b  OK \n",
            "Extracting  datasetTest/originali3/uno228.jpg                            \b\b\b\b 80%\b\b\b\b\b  OK \n",
            "Extracting  datasetTest/originali3/uno229.jpg                            \b\b\b\b 80%\b\b\b\b\b  OK \n",
            "Extracting  datasetTest/originali3/uno230.jpg                            \b\b\b\b 80%\b\b\b\b\b  OK \n",
            "Extracting  datasetTest/originali3/uno90.jpg                             \b\b\b\b 80%\b\b\b\b\b  OK \n",
            "Extracting  datasetTest/originali3/uno91.jpg                             \b\b\b\b 81%\b\b\b\b\b  OK \n",
            "Extracting  datasetTest/originali3/uno92.jpg                             \b\b\b\b 81%\b\b\b\b\b  OK \n",
            "Extracting  datasetTest/originali3/uno93.jpg                             \b\b\b\b 81%\b\b\b\b\b  OK \n",
            "Extracting  datasetTest/originali3/uno94.jpg                             \b\b\b\b 82%\b\b\b\b\b  OK \n",
            "Extracting  datasetTest/originali3/uno95.jpg                             \b\b\b\b 82%\b\b\b\b\b  OK \n",
            "Extracting  datasetTest/originali3/uno96.jpg                             \b\b\b\b 83%\b\b\b\b\b  OK \n",
            "Extracting  datasetTest/originali3/uno97.jpg                             \b\b\b\b 83%\b\b\b\b\b  OK \n",
            "Extracting  datasetTest/originali3/uno98.jpg                             \b\b\b\b 83%\b\b\b\b\b  OK \n",
            "Extracting  datasetTest/originali3/uno99.jpg                             \b\b\b\b 84%\b\b\b\b\b  OK \n",
            "Creating    datasetTest/originali8                                    OK\n",
            "Extracting  datasetTest/originali8/uno100.jpg                            \b\b\b\b 84%\b\b\b\b\b  OK \n",
            "Extracting  datasetTest/originali8/uno140.jpg                            \b\b\b\b 85%\b\b\b\b\b  OK \n",
            "Extracting  datasetTest/originali8/uno141.jpg                            \b\b\b\b 85%\b\b\b\b\b  OK \n",
            "Extracting  datasetTest/originali8/uno142.jpg                            \b\b\b\b 85%\b\b\b\b\b  OK \n",
            "Extracting  datasetTest/originali8/uno143.jpg                            \b\b\b\b 86%\b\b\b\b\b  OK \n",
            "Extracting  datasetTest/originali8/uno144.jpg                            \b\b\b\b 86%\b\b\b\b\b  OK \n",
            "Extracting  datasetTest/originali8/uno145.jpg                            \b\b\b\b 86%\b\b\b\b\b  OK \n",
            "Extracting  datasetTest/originali8/uno146.jpg                            \b\b\b\b 87%\b\b\b\b\b  OK \n",
            "Extracting  datasetTest/originali8/uno147.jpg                            \b\b\b\b 87%\b\b\b\b\b  OK \n",
            "Extracting  datasetTest/originali8/uno148.jpg                            \b\b\b\b 88%\b\b\b\b\b  OK \n",
            "Extracting  datasetTest/originali8/uno149.jpg                            \b\b\b\b 88%\b\b\b\b\b  OK \n",
            "Extracting  datasetTest/originali8/uno150.jpg                            \b\b\b\b 88%\b\b\b\b\b  OK \n",
            "Extracting  datasetTest/originali8/uno160.jpg                            \b\b\b\b 89%\b\b\b\b\b  OK \n",
            "Extracting  datasetTest/originali8/uno161.jpg                            \b\b\b\b 89%\b\b\b\b\b  OK \n",
            "Extracting  datasetTest/originali8/uno162.jpg                            \b\b\b\b 89%\b\b\b\b\b  OK \n",
            "Extracting  datasetTest/originali8/uno163.jpg                            \b\b\b\b 90%\b\b\b\b\b  OK \n",
            "Extracting  datasetTest/originali8/uno164.jpg                            \b\b\b\b 90%\b\b\b\b\b  OK \n",
            "Extracting  datasetTest/originali8/uno165.jpg                            \b\b\b\b 91%\b\b\b\b\b  OK \n",
            "Extracting  datasetTest/originali8/uno166.jpg                            \b\b\b\b 91%\b\b\b\b\b  OK \n",
            "Extracting  datasetTest/originali8/uno167.jpg                            \b\b\b\b 91%\b\b\b\b\b  OK \n",
            "Extracting  datasetTest/originali8/uno168.jpg                            \b\b\b\b 92%\b\b\b\b\b  OK \n",
            "Extracting  datasetTest/originali8/uno169.jpg                            \b\b\b\b 92%\b\b\b\b\b  OK \n",
            "Extracting  datasetTest/originali8/uno170.jpg                            \b\b\b\b 92%\b\b\b\b\b  OK \n",
            "Extracting  datasetTest/originali8/uno190.jpg                            \b\b\b\b 93%\b\b\b\b\b  OK \n",
            "Extracting  datasetTest/originali8/uno191.jpg                            \b\b\b\b 93%\b\b\b\b\b  OK \n",
            "Extracting  datasetTest/originali8/uno192.jpg                            \b\b\b\b 93%\b\b\b\b\b  OK \n",
            "Extracting  datasetTest/originali8/uno193.jpg                            \b\b\b\b 93%\b\b\b\b\b  OK \n",
            "Extracting  datasetTest/originali8/uno194.jpg                            \b\b\b\b 94%\b\b\b\b\b  OK \n",
            "Extracting  datasetTest/originali8/uno195.jpg                            \b\b\b\b 94%\b\b\b\b\b  OK \n",
            "Extracting  datasetTest/originali8/uno196.jpg                            \b\b\b\b 94%\b\b\b\b\b  OK \n",
            "Extracting  datasetTest/originali8/uno197.jpg                            \b\b\b\b 94%\b\b\b\b\b  OK \n",
            "Extracting  datasetTest/originali8/uno198.jpg                            \b\b\b\b 95%\b\b\b\b\b  OK \n",
            "Extracting  datasetTest/originali8/uno199.jpg                            \b\b\b\b 95%\b\b\b\b\b  OK \n",
            "Extracting  datasetTest/originali8/uno200.jpg                            \b\b\b\b 95%\b\b\b\b\b  OK \n",
            "Extracting  datasetTest/originali8/uno220.jpg                            \b\b\b\b 95%\b\b\b\b\b  OK \n",
            "Extracting  datasetTest/originali8/uno221.jpg                            \b\b\b\b 95%\b\b\b\b\b  OK \n",
            "Extracting  datasetTest/originali8/uno222.jpg                            \b\b\b\b 95%\b\b\b\b\b  OK \n",
            "Extracting  datasetTest/originali8/uno223.jpg                            \b\b\b\b 95%\b\b\b\b\b  OK \n",
            "Extracting  datasetTest/originali8/uno224.jpg                            \b\b\b\b 95%\b\b\b\b\b  OK \n",
            "Extracting  datasetTest/originali8/uno225.jpg                            \b\b\b\b 95%\b\b\b\b\b  OK \n",
            "Extracting  datasetTest/originali8/uno226.jpg                            \b\b\b\b 96%\b\b\b\b\b  OK \n",
            "Extracting  datasetTest/originali8/uno227.jpg                            \b\b\b\b 96%\b\b\b\b\b  OK \n",
            "Extracting  datasetTest/originali8/uno228.jpg                            \b\b\b\b 96%\b\b\b\b\b  OK \n",
            "Extracting  datasetTest/originali8/uno229.jpg                            \b\b\b\b 96%\b\b\b\b\b  OK \n",
            "Extracting  datasetTest/originali8/uno230.jpg                            \b\b\b\b 96%\b\b\b\b\b  OK \n",
            "Extracting  datasetTest/originali8/uno90.jpg                             \b\b\b\b 96%\b\b\b\b\b  OK \n",
            "Extracting  datasetTest/originali8/uno91.jpg                             \b\b\b\b 97%\b\b\b\b\b  OK \n",
            "Extracting  datasetTest/originali8/uno92.jpg                             \b\b\b\b 97%\b\b\b\b\b  OK \n",
            "Extracting  datasetTest/originali8/uno93.jpg                             \b\b\b\b 97%\b\b\b\b\b  OK \n",
            "Extracting  datasetTest/originali8/uno94.jpg                             \b\b\b\b 98%\b\b\b\b\b  OK \n",
            "Extracting  datasetTest/originali8/uno95.jpg                             \b\b\b\b 98%\b\b\b\b\b  OK \n",
            "Extracting  datasetTest/originali8/uno96.jpg                             \b\b\b\b 98%\b\b\b\b\b  OK \n",
            "Extracting  datasetTest/originali8/uno97.jpg                             \b\b\b\b 99%\b\b\b\b\b  OK \n",
            "Extracting  datasetTest/originali8/uno98.jpg                             \b\b\b\b 99%\b\b\b\b\b  OK \n",
            "Extracting  datasetTest/originali8/uno99.jpg                             \b\b\b\b 99%\b\b\b\b\b  OK \n",
            "All OK\n"
          ]
        }
      ],
      "source": [
        "!unrar x datasetTest.rar datasetTest"
      ]
    },
    {
      "cell_type": "code",
      "execution_count": null,
      "metadata": {
        "colab": {
          "base_uri": "https://localhost:8080/"
        },
        "id": "3sGFQ5_kL6m5",
        "outputId": "1178e6fe-39a5-4085-d556-959ffa3c8d25"
      },
      "outputs": [
        {
          "name": "stdout",
          "output_type": "stream",
          "text": [
            "Cartella dataset originale (test set): /content/datasetTest\n",
            "Cartella dataset YOLO di output (test set): /content/yolo_thyroid_dataset_test\n",
            "Rimuovo la cartella YOLO (test) esistente: yolo_thyroid_dataset_test\n",
            "Struttura cartelle YOLO per il test set creata.\n",
            "Trovate 330 immagini originali candidate nel test set.\n",
            "Trovate 330 coppie immagine-maschera valide nel test set.\n",
            "\n",
            "Inizio processamento per lo split: test\n",
            "Info: Nessun contorno trovato in datasetTest/groundtruth15/unogt230.jpeg. File uno230_15.txt creato vuoto.\n",
            "Info: Nessun contorno trovato in datasetTest/groundtruth15/unogt228.jpeg. File uno228_15.txt creato vuoto.\n",
            "Info: Nessun contorno trovato in datasetTest/groundtruth15/unogt226.jpeg. File uno226_15.txt creato vuoto.\n",
            "Info: Nessun contorno trovato in datasetTest/groundtruth15/unogt229.jpeg. File uno229_15.txt creato vuoto.\n",
            "Info: Nessun contorno trovato in datasetTest/groundtruth15/unogt223.jpeg. File uno223_15.txt creato vuoto.\n",
            "Info: Nessun contorno trovato in datasetTest/groundtruth15/unogt220.jpeg. File uno220_15.txt creato vuoto.\n",
            "Info: Nessun contorno trovato in datasetTest/groundtruth15/unogt221.jpeg. File uno221_15.txt creato vuoto.\n",
            "Info: Nessun contorno trovato in datasetTest/groundtruth15/unogt227.jpeg. File uno227_15.txt creato vuoto.\n",
            "Info: Nessun contorno trovato in datasetTest/groundtruth15/unogt225.jpeg. File uno225_15.txt creato vuoto.\n",
            "Info: Nessun contorno trovato in datasetTest/groundtruth15/unogt224.jpeg. File uno224_15.txt creato vuoto.\n",
            "   Processate 50/330 immagini per lo split test...\n",
            "Info: Nessun contorno trovato in datasetTest/groundtruth15/unogt222.jpeg. File uno222_15.txt creato vuoto.\n",
            "Info: Nessun contorno trovato in datasetTest/groundtruth01/unogt230.jpeg. File uno230_01.txt creato vuoto.\n",
            "Info: Nessun contorno trovato in datasetTest/groundtruth01/unogt228.jpeg. File uno228_01.txt creato vuoto.\n",
            "Info: Nessun contorno trovato in datasetTest/groundtruth01/unogt226.jpeg. File uno226_01.txt creato vuoto.\n",
            "Info: Nessun contorno trovato in datasetTest/groundtruth01/unogt229.jpeg. File uno229_01.txt creato vuoto.\n",
            "Info: Nessun contorno trovato in datasetTest/groundtruth01/unogt223.jpeg. File uno223_01.txt creato vuoto.\n",
            "Info: Nessun contorno trovato in datasetTest/groundtruth01/unogt220.jpeg. File uno220_01.txt creato vuoto.\n",
            "Info: Nessun contorno trovato in datasetTest/groundtruth01/unogt221.jpeg. File uno221_01.txt creato vuoto.\n",
            "Info: Nessun contorno trovato in datasetTest/groundtruth01/unogt227.jpeg. File uno227_01.txt creato vuoto.\n",
            "Info: Nessun contorno trovato in datasetTest/groundtruth01/unogt225.jpeg. File uno225_01.txt creato vuoto.\n",
            "   Processate 100/330 immagini per lo split test...\n",
            "Info: Nessun contorno trovato in datasetTest/groundtruth01/unogt224.jpeg. File uno224_01.txt creato vuoto.\n",
            "Info: Nessun contorno trovato in datasetTest/groundtruth01/unogt222.jpeg. File uno222_01.txt creato vuoto.\n",
            "Info: Nessun contorno trovato in datasetTest/groundtruth08/unogt230.jpeg. File uno230_08.txt creato vuoto.\n",
            "Info: Nessun contorno trovato in datasetTest/groundtruth08/unogt228.jpeg. File uno228_08.txt creato vuoto.\n",
            "Info: Nessun contorno trovato in datasetTest/groundtruth08/unogt226.jpeg. File uno226_08.txt creato vuoto.\n",
            "Info: Nessun contorno trovato in datasetTest/groundtruth08/unogt229.jpeg. File uno229_08.txt creato vuoto.\n",
            "Info: Nessun contorno trovato in datasetTest/groundtruth08/unogt223.jpeg. File uno223_08.txt creato vuoto.\n",
            "Info: Nessun contorno trovato in datasetTest/groundtruth08/unogt220.jpeg. File uno220_08.txt creato vuoto.\n",
            "Info: Nessun contorno trovato in datasetTest/groundtruth08/unogt221.jpeg. File uno221_08.txt creato vuoto.\n",
            "Info: Nessun contorno trovato in datasetTest/groundtruth08/unogt227.jpeg. File uno227_08.txt creato vuoto.\n",
            "   Processate 150/330 immagini per lo split test...\n",
            "Info: Nessun contorno trovato in datasetTest/groundtruth08/unogt225.jpeg. File uno225_08.txt creato vuoto.\n",
            "Info: Nessun contorno trovato in datasetTest/groundtruth08/unogt224.jpeg. File uno224_08.txt creato vuoto.\n",
            "Info: Nessun contorno trovato in datasetTest/groundtruth08/unogt222.jpeg. File uno222_08.txt creato vuoto.\n",
            "Info: Nessun contorno trovato in datasetTest/groundtruth02/unogt230.jpeg. File uno230_02.txt creato vuoto.\n",
            "Info: Nessun contorno trovato in datasetTest/groundtruth02/unogt228.jpeg. File uno228_02.txt creato vuoto.\n",
            "Info: Nessun contorno trovato in datasetTest/groundtruth02/unogt226.jpeg. File uno226_02.txt creato vuoto.\n",
            "Info: Nessun contorno trovato in datasetTest/groundtruth02/unogt229.jpeg. File uno229_02.txt creato vuoto.\n",
            "Info: Nessun contorno trovato in datasetTest/groundtruth02/unogt223.jpeg. File uno223_02.txt creato vuoto.\n",
            "   Processate 200/330 immagini per lo split test...\n",
            "Info: Nessun contorno trovato in datasetTest/groundtruth02/unogt220.jpeg. File uno220_02.txt creato vuoto.\n",
            "Info: Nessun contorno trovato in datasetTest/groundtruth02/unogt221.jpeg. File uno221_02.txt creato vuoto.\n",
            "Info: Nessun contorno trovato in datasetTest/groundtruth02/unogt227.jpeg. File uno227_02.txt creato vuoto.\n",
            "Info: Nessun contorno trovato in datasetTest/groundtruth02/unogt225.jpeg. File uno225_02.txt creato vuoto.\n",
            "Info: Nessun contorno trovato in datasetTest/groundtruth02/unogt224.jpeg. File uno224_02.txt creato vuoto.\n",
            "Info: Nessun contorno trovato in datasetTest/groundtruth02/unogt222.jpeg. File uno222_02.txt creato vuoto.\n",
            "Info: Nessun contorno trovato in datasetTest/groundtruth24/unogt230.jpeg. File uno230_24.txt creato vuoto.\n",
            "Info: Nessun contorno trovato in datasetTest/groundtruth24/unogt228.jpeg. File uno228_24.txt creato vuoto.\n",
            "Info: Nessun contorno trovato in datasetTest/groundtruth24/unogt226.jpeg. File uno226_24.txt creato vuoto.\n",
            "   Processate 250/330 immagini per lo split test...\n",
            "Info: Nessun contorno trovato in datasetTest/groundtruth24/unogt229.jpeg. File uno229_24.txt creato vuoto.\n",
            "Info: Nessun contorno trovato in datasetTest/groundtruth24/unogt223.jpeg. File uno223_24.txt creato vuoto.\n",
            "Info: Nessun contorno trovato in datasetTest/groundtruth24/unogt220.jpeg. File uno220_24.txt creato vuoto.\n",
            "Info: Nessun contorno trovato in datasetTest/groundtruth24/unogt221.jpeg. File uno221_24.txt creato vuoto.\n",
            "Info: Nessun contorno trovato in datasetTest/groundtruth24/unogt227.jpeg. File uno227_24.txt creato vuoto.\n",
            "Info: Nessun contorno trovato in datasetTest/groundtruth24/unogt225.jpeg. File uno225_24.txt creato vuoto.\n",
            "Info: Nessun contorno trovato in datasetTest/groundtruth24/unogt224.jpeg. File uno224_24.txt creato vuoto.\n",
            "Info: Nessun contorno trovato in datasetTest/groundtruth24/unogt222.jpeg. File uno222_24.txt creato vuoto.\n",
            "Info: Nessun contorno trovato in datasetTest/groundtruth03/unogt230.jpeg. File uno230_03.txt creato vuoto.\n",
            "Info: Nessun contorno trovato in datasetTest/groundtruth03/unogt228.jpeg. File uno228_03.txt creato vuoto.\n",
            "   Processate 300/330 immagini per lo split test...\n",
            "Info: Nessun contorno trovato in datasetTest/groundtruth03/unogt226.jpeg. File uno226_03.txt creato vuoto.\n",
            "Info: Nessun contorno trovato in datasetTest/groundtruth03/unogt229.jpeg. File uno229_03.txt creato vuoto.\n",
            "Info: Nessun contorno trovato in datasetTest/groundtruth03/unogt223.jpeg. File uno223_03.txt creato vuoto.\n",
            "Info: Nessun contorno trovato in datasetTest/groundtruth03/unogt227.jpeg. File uno227_03.txt creato vuoto.\n",
            "Info: Nessun contorno trovato in datasetTest/groundtruth03/unogt225.jpeg. File uno225_03.txt creato vuoto.\n",
            "Info: Nessun contorno trovato in datasetTest/groundtruth03/unogt224.jpeg. File uno224_03.txt creato vuoto.\n",
            "Fine processamento per lo split: test. Immagini processate correttamente: 330.\n",
            "\n",
            "File data_test.yaml creato in: yolo_thyroid_dataset_test/data_test.yaml\n",
            "Contenuto del data_test.yaml:\n",
            "test: /content/yolo_thyroid_dataset_test/images/test\n",
            "train: /content/yolo_thyroid_dataset_test/images/test\n",
            "val: /content/yolo_thyroid_dataset_test/images/test\n",
            "nc: 1\n",
            "names:\n",
            "- thyroid\n",
            "\n",
            "\n",
            "Preprocessing per il test set completato! La cartella 'yolo_thyroid_dataset_test' contiene le immagini e le etichette per il test ed è pronta per la valutazione YOLO.\n"
          ]
        }
      ],
      "source": [
        "# il comando import importa moduli e pacchetti in Python.\n",
        "'''\n",
        "questo script serve a preprocessare i dati per la creazione di un dataset di test\n",
        "per un modello YOLO (You Only Look Once) per la rilevazione di oggetti,\n",
        "in questo caso per la tiroide.\n",
        "Le immagini originali sono .jpg, le maschere sono .jpeg.\n",
        "'''\n",
        "#Importa la libreria OpenCV (cv2), utilizzata per l'elaborazione di immagini e video.\n",
        "import cv2\n",
        "#Importa la libreria NumPy e le assegna l'alias 'np'. NumPy è fondamentale per il calcolo numerico e la manipolazione di array.\n",
        "import numpy as np\n",
        "#Importa il modulo 'os', che fornisce funzioni per interagire con il sistema operativo, come la gestione di percorsi e directory.\n",
        "import os\n",
        "#Importa il modulo 'glob', utilizzato per trovare tutti i nomi di percorso che corrispondono a un pattern specificato.\n",
        "import glob\n",
        "#Dalla libreria Scikit-learn (sklearn), importa la funzione 'train_test_split', utile per suddividere i dati in set di addestramento e validazione.\n",
        "# from sklearn.model_selection import train_test_split # Non più necessario per solo test set\n",
        "#Importa la libreria 'yaml', utilizzata per leggere e scrivere file in formato YAML (YAML Ain't Markup Language), spesso usato per file di configurazione.\n",
        "import yaml\n",
        "#Importa il modulo 'shutil', che offre operazioni su file e collezioni di file di alto livello, come la copia e la rimozione di alberi di directory. Il commento originale indica già il suo uso per copiare i file.\n",
        "import shutil\n",
        "#Importa il modulo 're', che fornisce supporto per le espressioni regolari, utili per la ricerca e la manipolazione di stringhe basate su pattern.\n",
        "import re\n",
        "\n",
        "# --- CONFIGURAZIONE ---\n",
        "base_dataset_folder = 'datasetTest' # Cartella che contiene 'originali01', 'groundtruth01' etc. del test set\n",
        "yolo_dataset_folder = 'yolo_thyroid_dataset_test' # Cartella di output con file postprocess per il test set di YOLO\n",
        "yaml_output_filename = 'data_test.yaml' # Nome del file YAML per il test set\n",
        "\n",
        "# Definisci la regola per trovare la maschera dall'immagine originale\n",
        "# Esempio: se l'immagine è 'datasetTest/originali01/uno100.jpg', la maschera è 'datasetTest/groundtruth01/unogt100.jpeg'\n",
        "def get_mask_path(image_path):\n",
        "    '''\n",
        "    Firma della funzione: get_mask_path(image_path)\n",
        "    - def: Parola chiave che definisce una funzione.\n",
        "    - get_mask_path: Nome della funzione.\n",
        "    - image_path: Parametro in input. È una stringa che rappresenta il percorso completo di un file immagine originale.\n",
        "    Scopo: Questa funzione costruisce e restituisce il percorso presunto del file maschera corrispondente all'immagine fornita.\n",
        "            Si basa su una convenzione specifica di denominazione e struttura delle cartelle:\n",
        "            1. Estrae il numero identificativo dalla cartella dell'immagine originale (es. '01' da 'originali01').\n",
        "            2. Usa questo numero per formare il nome della cartella delle maschere (es. 'groundtruth01').\n",
        "            3. Modifica il nome del file immagine (es. sostituendo 'uno' con 'unogt') per ottenere il nome del file maschera.\n",
        "            4. Assicura che l'estensione del file maschera sia .jpeg.\n",
        "    Ritorna: Una stringa con il percorso completo al file maschera se la logica ha successo, altrimenti None se non è possibile determinare il percorso (es. se il numero della cartella non viene trovato).\n",
        "    '''\n",
        "    #Divide il percorso dell'immagine ('image_path') in una lista di componenti, utilizzando il separatore di directory specifico del sistema operativo (os.sep, es. '/' o '\\').\n",
        "    parts = image_path.split(os.sep)\n",
        "    #Estrae l'ultimo elemento della lista 'parts', che corrisponde al nome del file con estensione (es. 'uno100.jpg').\n",
        "    filename_orig_ext = parts[-1]\n",
        "    # Estrai il numero dalla cartella originale (es. '01' da 'originali01')\n",
        "    folder_name = parts[-2]\n",
        "    #Utilizza un'espressione regolare (re.search) per trovare una sequenza di una o più cifre ('\\d+') alla fine ('$') del nome della cartella ('folder_name').\n",
        "    folder_num_match = re.search(r'\\d+$', folder_name)\n",
        "    #Controlla se l'espressione regolare ha trovato una corrispondenza (cioè, se è stato trovato un numero alla fine del nome della cartella).\n",
        "    if folder_num_match:\n",
        "        #Se una corrispondenza è stata trovata, 'folder_num_match.group()' restituisce la stringa corrispondente (es. '01').\n",
        "        folder_num = folder_num_match.group()\n",
        "        #Costruisce il nome della cartella delle maschere anteponendo 'groundtruth' al numero estratto (es. 'groundtruth01').\n",
        "        mask_folder = f'groundtruth{folder_num}'\n",
        "\n",
        "        # Estrai il nome base del file originale SENZA la sua estensione originale\n",
        "        original_base_name, original_ext = os.path.splitext(filename_orig_ext) # es. filename_orig_ext='uno100.jpg' -> original_base_name='uno100'\n",
        "\n",
        "        # Crea il nome base del file maschera (es. sostituendo 'uno' con 'unogt' se presente)\n",
        "        mask_base_name = original_base_name.replace('uno', 'unogt')\n",
        "\n",
        "        # *** Forza l'estensione del file maschera a .jpeg ***\n",
        "        mask_filename_with_jpeg_ext = f\"{mask_base_name}.jpeg\"\n",
        "\n",
        "        #Combina il percorso base del dataset, la cartella della maschera calcolata e il nome del file maschera calcolato per formare il percorso completo del file maschera, e lo restituisce.\n",
        "        return os.path.join(os.path.dirname(os.path.dirname(image_path)), mask_folder, mask_filename_with_jpeg_ext)\n",
        "    else:\n",
        "        #Se l'espressione regolare non ha trovato un numero alla fine del nome della cartella.\n",
        "        print(f\"Attenzione: Impossibile determinare la cartella groundtruth per {image_path}\")\n",
        "        #Restituisce None per segnalare che il percorso della maschera non è stato trovato.\n",
        "        return None\n",
        "\n",
        "# Classe target (solo una: tiroide)\n",
        "class_index = 0\n",
        "class_name = 'thyroid'\n",
        "# --- FINE CONFIGURAZIONE ---\n",
        "\n",
        "print(f\"Cartella dataset originale (test set): {os.path.abspath(base_dataset_folder)}\")\n",
        "print(f\"Cartella dataset YOLO di output (test set): {os.path.abspath(yolo_dataset_folder)}\")\n",
        "\n",
        "# Pulisci la cartella di output se esiste già (opzionale, ma utile in Colab)\n",
        "if os.path.exists(yolo_dataset_folder):\n",
        "    print(f\"Rimuovo la cartella YOLO (test) esistente: {yolo_dataset_folder}\")\n",
        "    shutil.rmtree(yolo_dataset_folder)\n",
        "\n",
        "'''\n",
        "Crea le cartelle necessarie per il test set di YOLO\n",
        "le cartelle sono:\n",
        "- images/test: per le immagini di test\n",
        "- labels/test: per le etichette di test\n",
        "'''\n",
        "os.makedirs(os.path.join(yolo_dataset_folder, 'images', 'test'), exist_ok=True)\n",
        "os.makedirs(os.path.join(yolo_dataset_folder, 'labels', 'test'), exist_ok=True)\n",
        "\n",
        "print(\"Struttura cartelle YOLO per il test set creata.\")\n",
        "\n",
        "#Inizializza una lista vuota chiamata 'all_image_paths' che conterrà i percorsi di tutte le immagini originali trovate.\n",
        "all_image_paths = []\n",
        "# Trova tutte le immagini nelle cartelle 'originali*'\n",
        "#Itera su tutte le cartelle all'interno di 'base_dataset_folder' il cui nome inizia con 'originali' (es. 'originali01', 'originali02').\n",
        "for original_folder in glob.glob(os.path.join(base_dataset_folder, 'originali*')):\n",
        "    # L'utente ha specificato che le immagini originali sono .jpg\n",
        "    all_image_paths.extend(glob.glob(os.path.join(original_folder, '*.jpg')))\n",
        "    # Manteniamo la flessibilità per altre estensioni se presenti, ma la priorità è .jpg per originali\n",
        "    all_image_paths.extend(glob.glob(os.path.join(original_folder, '*.jpeg')))\n",
        "    all_image_paths.extend(glob.glob(os.path.join(original_folder, '*.png')))\n",
        "\n",
        "print(f\"Trovate {len(all_image_paths)} immagini originali candidate nel test set.\")\n",
        "\n",
        "#Inizializza una lista vuota chiamata 'image_mask_pairs' per memorizzare le coppie di percorsi (immagine originale, maschera corrispondente).\n",
        "image_mask_pairs = []\n",
        "#Itera su ciascun percorso di immagine trovato e memorizzato in 'all_image_paths'.\n",
        "for img_path in all_image_paths:\n",
        "    #Chiama la funzione 'get_mask_path' per ottenere il percorso della maschera corrispondente all'immagine corrente.\n",
        "    mask_path = get_mask_path(img_path)\n",
        "    # Aggiungi solo se get_mask_path ha restituito un percorso valido e se esiste\n",
        "    #Controlla due condizioni: 1) 'mask_path' non è None (cioè la funzione ha restituito un percorso) E 2) il file specificato da 'mask_path' esiste effettivamente.\n",
        "    if mask_path and os.path.exists(mask_path):\n",
        "        #Se entrambe le condizioni sono vere, aggiunge una tupla (coppia) contenente il percorso dell'immagine e il percorso della maschera alla lista 'image_mask_pairs'.\n",
        "        image_mask_pairs.append((img_path, mask_path))\n",
        "    elif mask_path:\n",
        "        #Se 'mask_path' è stato restituito (non è None) ma il file non esiste (la condizione 'os.path.exists(mask_path)' era falsa).\n",
        "        print(f\"Attenzione: Maschera non trovata per {img_path} al percorso calcolato {mask_path} (Verifica estensione e nome file maschera!)\")\n",
        "    else: # mask_path è None\n",
        "        print(f\"Attenzione: get_mask_path non ha restituito un percorso per {img_path}\")\n",
        "\n",
        "\n",
        "print(f\"Trovate {len(image_mask_pairs)} coppie immagine-maschera valide nel test set.\")\n",
        "\n",
        "#Controlla se la lista 'image_mask_pairs' è vuota (cioè, non sono state trovate coppie valide).\n",
        "if not image_mask_pairs:\n",
        "    print(\"Nessuna coppia immagine-maschera trovata. Controlla i percorsi, la funzione get_mask_path e le estensioni dei file.\")\n",
        "#else:\n",
        "    # Non c'è suddivisione train/val, tutte le coppie sono per il test set\n",
        "\n",
        "def process_dataset_split(pairs, split_name):\n",
        "    '''\n",
        "    Firma della funzione: process_dataset_split(pairs, split_name)\n",
        "    - process_dataset_split: Nome della funzione.\n",
        "    - pairs: Parametro in input. È una lista di tuple, dove ogni tupla contiene due stringhe: (percorso_immagine_originale, percorso_maschera_corrispondente).\n",
        "    - split_name: Parametro in input. È una stringa che indica il nome del set di dati che si sta processando (es. \"test\").\n",
        "    Scopo: Questa funzione elabora un insieme di coppie immagine-maschera per un determinato split.\n",
        "            Per ogni coppia:\n",
        "            1. Costruisce nuovi nomi per l'immagine e il file di etichetta, includendo un numero derivato dalla sottocartella originale per garantire unicità.\n",
        "            2. Copia l'immagine originale nella sottocartella 'images/<split_name>' della directory YOLO con il nuovo nome.\n",
        "            3. Legge l'immagine della maschera, la binarizza e trova i contorni della regione di interesse (es. la tiroide).\n",
        "            4. Normalizza le coordinate dei punti del contorno rispetto alle dimensioni dell'immagine (valori tra 0 e 1).\n",
        "            5. Salva i contorni normalizzati in un file di testo (formato etichetta YOLO) nella sottocartella 'labels/<split_name>' con il nuovo nome.\n",
        "    Ritorna: Nulla (la funzione modifica il filesystem creando file e cartelle).\n",
        "    '''\n",
        "    print(f\"\\nInizio processamento per lo split: {split_name}\")\n",
        "    #Inizializza un contatore per le immagini processate con successo.\n",
        "    processed_count = 0\n",
        "    #Inizializza un contatore per i file saltati a causa dell'impossibilità di estrarre il numero della sottocartella.\n",
        "    skipped_no_folder_num = 0\n",
        "\n",
        "    #Itera su ogni tupla (percorso immagine, percorso maschera) nella lista 'pairs'.\n",
        "    for img_path, mask_path in pairs:\n",
        "        #Inizia un blocco try-except per gestire potenziali errori durante l'elaborazione di una singola coppia immagine-maschera.\n",
        "        try:\n",
        "            # --- Estrai informazioni per il nuovo nome ---\n",
        "            #Estrae il nome base del file originale dell'immagine (es. \"uno100.jpg\") dal suo percorso completo.\n",
        "            original_base_filename_with_ext = os.path.basename(img_path)\n",
        "            #Separa il nome base del file nella sua parte nominale (es. \"uno100\") e la sua estensione (es. \".jpg\").\n",
        "            name_part, extension = os.path.splitext(original_base_filename_with_ext)\n",
        "\n",
        "            # Divide il percorso completo dell'immagine originale nei suoi componenti.\n",
        "            parts = img_path.split(os.sep)\n",
        "            #Estrae il nome della cartella che contiene l'immagine (es. 'originali01').\n",
        "            folder_name = parts[-2]\n",
        "            #Utilizza un'espressione regolare per trovare una sequenza di cifre alla fine del nome della cartella.\n",
        "            folder_num_match = re.search(r'\\d+$', folder_name)\n",
        "\n",
        "            #Se l'espressione regolare non trova un numero alla fine del nome della cartella.\n",
        "            if not folder_num_match:\n",
        "                print(f\"Attenzione: Impossibile estrarre il numero dalla cartella '{folder_name}' per l'immagine {img_path}. Salto questo file.\")\n",
        "                #Incrementa il contatore dei file saltati per questo motivo.\n",
        "                skipped_no_folder_num += 1\n",
        "                #Interrompe l'iterazione corrente del ciclo e passa alla prossima coppia immagine-maschera.\n",
        "                continue\n",
        "\n",
        "            #Estrae la stringa numerica trovata (es. '01').\n",
        "            subfolder_num_str = folder_num_match.group()\n",
        "\n",
        "            # Costruisci i nuovi nomi dei file\n",
        "            new_base_filename = f\"{name_part}_{subfolder_num_str}{extension}\" # Es: uno140_01.jpg (mantiene l'estensione originale dell'immagine)\n",
        "            #Costruisce il nuovo nome del file etichetta, usando la stessa base del nuovo nome immagine ma con estensione \".txt\" (es. \"uno140_01.txt\").\n",
        "            new_label_filename = f\"{name_part}_{subfolder_num_str}.txt\"\n",
        "\n",
        "            # --- Processa Immagine ---\n",
        "            # Legge l'immagine originale dal percorso 'img_path' utilizzando OpenCV. 'img' sarà un array NumPy.\n",
        "            img = cv2.imread(img_path)\n",
        "            #Controlla se il caricamento dell'immagine è fallito (imread restituisce None in caso di errore).\n",
        "            if img is None:\n",
        "                print(f\"Errore nel leggere l'immagine: {img_path}\")\n",
        "                #Salta all'iterazione successiva del ciclo.\n",
        "                continue\n",
        "            #Estrae altezza ('img_height') e larghezza ('img_width') dell'immagine dalle dimensioni dell'array NumPy ('img.shape').\n",
        "            img_height, img_width = img.shape[:2]\n",
        "\n",
        "            # Definisci il percorso di destinazione con il NUOVO nome\n",
        "            yolo_img_path = os.path.join(yolo_dataset_folder, 'images', split_name, new_base_filename)\n",
        "            #Copia il file immagine originale ('img_path') nella nuova posizione ('yolo_img_path'). 'copy2' tenta di preservare anche i metadati del file.\n",
        "            shutil.copy2(img_path, yolo_img_path)\n",
        "\n",
        "            # --- Processa Maschera e Crea Etichetta .txt ---\n",
        "            #Legge l'immagine della maschera dal percorso 'mask_path' in scala di grigi (cv2.IMREAD_GRAYSCALE).\n",
        "            mask = cv2.imread(mask_path, cv2.IMREAD_GRAYSCALE)\n",
        "            #Controlla se il caricamento della maschera è fallito.\n",
        "            if mask is None:\n",
        "                print(f\"Errore nel leggere la maschera: {mask_path} (associata a {img_path})\")\n",
        "                #Se l'immagine era già stata copiata ma la sua maschera non è leggibile, rimuove l'immagine copiata per mantenere la coerenza.\n",
        "                if os.path.exists(yolo_img_path): os.remove(yolo_img_path)\n",
        "                #Salta all'iterazione successiva.\n",
        "                continue\n",
        "\n",
        "            #Applica una binarizzazione alla maschera. I pixel con valore > 60 diventano 255 (bianco), gli altri 0 (nero). Il primo valore restituito ('_') è la soglia usata, non ci serve quindi usiamo il simbolo '_' per ignorarlo.\n",
        "            _, mask_binary = cv2.threshold(mask, 60, 255, cv2.THRESH_BINARY)\n",
        "\n",
        "            #Trova i contorni nell'immagine della maschera binarizzata.\n",
        "            contours, hierarchy = cv2.findContours(mask_binary, cv2.RETR_EXTERNAL, cv2.CHAIN_APPROX_SIMPLE)\n",
        "\n",
        "            #Costruisce il percorso completo per il file di etichetta .txt nella struttura YOLO, usando il nuovo nome file.\n",
        "            yolo_label_path = os.path.join(yolo_dataset_folder, 'labels', split_name, new_label_filename)\n",
        "\n",
        "            #Apre il file di etichetta in modalità scrittura ('w'). Il costrutto 'with' assicura che il file venga chiuso automaticamente. 'f' è l'oggetto file.\n",
        "            with open(yolo_label_path, 'w') as f:\n",
        "                #Inizializza un contatore per i contorni validi (quelli che soddisfano i criteri di dimensione/area) trovati in questa maschera.\n",
        "                valid_contours_found = 0\n",
        "                #Itera su ciascun contorno trovato nell'immagine della maschera.\n",
        "                for contour in contours:\n",
        "                    #Applica filtro su punti E area (opzionale ma consigliato)\n",
        "                    min_contour_area = 5 # Ignora contorni con area < 5 pixel\n",
        "                    #Controlla se il contorno è valido:\n",
        "                    if contour.size >= 6 and cv2.contourArea(contour) > min_contour_area:\n",
        "                        #'contour.flatten()' converte l'array del contorno in un array monodimensionale [x1,y1,x2,y2,...].\n",
        "                        normalized_contour = contour.flatten().astype(float)\n",
        "                        #Normalizza le coordinate x (elementi a indice pari: 0, 2, 4, ...) dividendo per la larghezza dell'immagine.\n",
        "                        normalized_contour[0::2] /= img_width\n",
        "                        #normalizza le coordinate y (elementi a indice dispari: 1, 3, 5, ...) dividendo per l'altezza dell'immagine.\n",
        "                        normalized_contour[1::2] /= img_height\n",
        "                        #Assicura che tutte le coordinate normalizzate siano strettamente comprese tra 0 e 1.\n",
        "                        normalized_contour = np.clip(normalized_contour, 0.00001, 0.99999)\n",
        "                        #Converte ogni coordinata normalizzata in una stringa formattata con 6 cifre decimali e poi unisce tutte queste stringhe con uno spazio.\n",
        "                        contour_str = ' '.join(map(lambda x: f\"{x:.6f}\", normalized_contour))\n",
        "                        #Scrive una riga nel file di etichetta.\n",
        "                        f.write(f\"{class_index} {contour_str}\\n\")\n",
        "                        #Incrementa il contatore dei contorni validi.\n",
        "                        valid_contours_found += 1\n",
        "                #Se sono stati trovati dei contorni ma nessuno valido.\n",
        "                if contours and valid_contours_found == 0:\n",
        "                    print(f\"Info: Trovati contorni in {mask_path}, ma nessuno era valido (>=3 punti e area > {min_contour_area}). File {new_label_filename} creato vuoto.\")\n",
        "                #Se non è stato trovato alcun contorno.\n",
        "                elif not contours:\n",
        "                    print(f\"Info: Nessun contorno trovato in {mask_path}. File {new_label_filename} creato vuoto.\")\n",
        "                    pass\n",
        "\n",
        "            #Incrementa il contatore delle immagini processate con successo in questo split.\n",
        "            processed_count += 1\n",
        "            #Controlla se il numero di immagini processate è un multiplo di 50.\n",
        "            if processed_count % 50 == 0: # Stampa ogni 50 immagini\n",
        "                print(f\"   Processate {processed_count}/{len(pairs)} immagini per lo split {split_name}...\")\n",
        "\n",
        "        #Se si verifica un qualsiasi altro errore non gestito specificamente nel blocco 'try'. 'e' contiene l'oggetto eccezione.\n",
        "        except Exception as e:\n",
        "            print(f\"Errore grave durante il processamento di {img_path} o {mask_path}: {e}\")\n",
        "\n",
        "    print(f\"Fine processamento per lo split: {split_name}. Immagini processate correttamente: {processed_count}.\")\n",
        "    #Se alcuni file sono stati saltati a causa del problema con il numero della sottocartella.\n",
        "    if skipped_no_folder_num > 0:\n",
        "        print(f\"Attenzione: {skipped_no_folder_num} file sono stati saltati perché non è stato possibile estrarre il numero della sottocartella.\")\n",
        "\n",
        "\n",
        "# Processa tutte le coppie trovate come 'test' set\n",
        "if image_mask_pairs:\n",
        "    process_dataset_split(image_mask_pairs, 'test')\n",
        "else:\n",
        "    print(\"Nessuna coppia immagine-maschera da processare per il test set.\")\n",
        "\n",
        "\n",
        "# Crea il dizionario per il file YAML del test set\n",
        "yaml_data = {\n",
        "    'test': os.path.abspath(os.path.join(yolo_dataset_folder, 'images', 'test')),\n",
        "    'train': os.path.abspath(os.path.join(yolo_dataset_folder, 'images', 'test')),\n",
        "    'val': os.path.abspath(os.path.join(yolo_dataset_folder, 'images', 'test')),\n",
        "    'nc': 1, # Numero di classi\n",
        "    'names': [class_name] # Lista dei nomi delle classi\n",
        "}\n",
        "\n",
        "#Costruisce il percorso completo per il file yaml_output_filename all'interno della cartella del dataset YOLO di test.\n",
        "yaml_path = os.path.join(yolo_dataset_folder, yaml_output_filename)\n",
        "#Apre il file YAML in modalità scrittura ('w').\n",
        "with open(yaml_path, 'w') as f:\n",
        "    #Scrive il contenuto del dizionario 'yaml_data' nel file 'f' in formato YAML.\n",
        "    yaml.dump(yaml_data, f, default_flow_style=False, sort_keys=False)\n",
        "\n",
        "print(f\"\\nFile {yaml_output_filename} creato in: {yaml_path}\")\n",
        "print(f\"Contenuto del {yaml_output_filename}:\")\n",
        "with open(yaml_path, 'r') as f:\n",
        "    print(f.read())\n",
        "\n",
        "print(f\"\\nPreprocessing per il test set completato! La cartella '{yolo_dataset_folder}' contiene le immagini e le etichette per il test ed è pronta per la valutazione YOLO.\")"
      ]
    },
    {
      "cell_type": "code",
      "execution_count": 31,
      "metadata": {
        "colab": {
          "base_uri": "https://localhost:8080/"
        },
        "id": "A_DKV0XyYbVr",
        "outputId": "eae05c31-4724-47da-9888-2090ad6d513e"
      },
      "outputs": [
        {
          "name": "stdout",
          "output_type": "stream",
          "text": [
            "File YAML del test set trovato: '/content/yolo_thyroid_dataset_test/data_test.yaml'. Assicurati che usi percorsi assoluti per i dataset.\n",
            "\n",
            "\n",
            "--- Inizio Valutazione del Modello Fine-tuned (best.pt) sul Test Set ---\n",
            "Avvio di model.val() per il modello fine-tuned...\n",
            "YOLOv8s-seg summary (fused): 85 layers, 11,779,987 parameters, 0 gradients, 42.4 GFLOPs\n",
            "\u001b[34m\u001b[1mval: \u001b[0mFast image access ✅ (ping: 0.0±0.0 ms, read: 597.0±226.4 MB/s, size: 19.9 KB)\n"
          ]
        },
        {
          "name": "stderr",
          "output_type": "stream",
          "text": [
            "\u001b[34m\u001b[1mval: \u001b[0mScanning /content/yolo_thyroid_dataset_test/labels/test.cache... 330 images, 63 backgrounds, 0 corrupt: 100%|██████████| 330/330 [00:00<?, ?it/s]\n",
            "                 Class     Images  Instances      Box(P          R      mAP50  mAP50-95)     Mask(P          R      mAP50  mAP50-95): 100%|██████████| 42/42 [00:05<00:00,  7.38it/s]\n"
          ]
        },
        {
          "name": "stdout",
          "output_type": "stream",
          "text": [
            "                   all        330        268      0.975       0.44      0.712      0.478      0.975       0.44      0.712      0.437\n",
            "Speed: 0.7ms preprocess, 11.3ms inference, 0.0ms loss, 0.9ms postprocess per image\n",
            "Results saved to \u001b[1mYOLOv8_Finetuned_Eval_Runs/eval_finetuned_thyroid_test8\u001b[0m\n",
            "\n",
            "--- Risultati Valutazione Modello Fine-tuned (da results_dict) ---\n",
            "Numero immagini non trovato tramite metrics_finetuned_obj.dataset.len. Controlla output della tabella YOLO.\n",
            "  Modello: best.pt\n",
            "  Numero Immagini: N/A\n",
            "  mAP@0.5:0.95 (seg): 0.4375\n",
            "  mAP@0.5 (seg): 0.7117\n",
            "  Precision (seg): 0.9752\n",
            "  Recall (seg): 0.4403\n",
            "\n",
            "Metriche del modello fine-tuned salvate con successo nel file Excel: 'risultati_valutazione_yolo_finetuned.xlsx'\n",
            "\n",
            "--- Valutazione Completata ---\n"
          ]
        }
      ],
      "source": [
        "from ultralytics import YOLO\n",
        "import torch\n",
        "import os\n",
        "import pandas as pd # Importa pandas\n",
        "import numpy as np  # Importa numpy per np.number\n",
        "import traceback    # Per un debug più dettagliato\n",
        "\n",
        "# --- Configurazione ---\n",
        "PATH_AL_FILE_YAML_DEL_TEST_SET = '/content/yolo_thyroid_dataset_test/data_test.yaml' # Assicurati che questo YAML usi PERCORSI ASSOLUTI\n",
        "PATH_AI_PESI_FINETUNED = 'best.pt'\n",
        "OUTPUT_EXCEL_FILE = 'risultati_valutazione_yolo_finetuned.xlsx'\n",
        "\n",
        "IMG_SIZE = 640\n",
        "BATCH_SIZE = 8\n",
        "CONF_THRESHOLD = 0.25\n",
        "IOU_THRESHOLD = 0.5\n",
        "DEVICE = torch.device('cuda' if torch.cuda.is_available() else 'cpu')\n",
        "\n",
        "# Lista per conservare i dati per Excel\n",
        "excel_data_rows = []\n",
        "\n",
        "# Verifica l'esistenza del file YAML\n",
        "if not os.path.exists(PATH_AL_FILE_YAML_DEL_TEST_SET):\n",
        "    print(f\"ERRORE: File YAML del test set non trovato in '{PATH_AL_FILE_YAML_DEL_TEST_SET}'\")\n",
        "    exit()\n",
        "else:\n",
        "    print(f\"File YAML del test set trovato: '{PATH_AL_FILE_YAML_DEL_TEST_SET}'. Assicurati che usi percorsi assoluti per i dataset.\")\n",
        "\n",
        "# --- Valutare il tuo modello fine-tuned (best.pt) sul tuo test set ---\n",
        "print(f\"\\n\\n--- Inizio Valutazione del Modello Fine-tuned ({PATH_AI_PESI_FINETUNED}) sul Test Set ---\")\n",
        "metrics_finetuned_data_for_excel = {\"Modello\": PATH_AI_PESI_FINETUNED, \"Numero Immagini\": 'N/A'} # Inizializza\n",
        "\n",
        "if not os.path.exists(PATH_AI_PESI_FINETUNED):\n",
        "    print(f\"ERRORE: File dei pesi fine-tuned non trovato in '{PATH_AI_PESI_FINETUNED}'\")\n",
        "    metrics_finetuned_data_for_excel[\"mAP@0.5:0.95 (seg)\"] = \"Pesi non trovati\"\n",
        "    metrics_finetuned_data_for_excel[\"mAP@0.5 (seg)\"] = \"Pesi non trovati\"\n",
        "    metrics_finetuned_data_for_excel[\"Precision (seg)\"] = \"Pesi non trovati\"\n",
        "    metrics_finetuned_data_for_excel[\"Recall (seg)\"] = \"Pesi non trovati\"\n",
        "    excel_data_rows.append(metrics_finetuned_data_for_excel)\n",
        "else:\n",
        "    try:\n",
        "        model_finetuned = YOLO(PATH_AI_PESI_FINETUNED)\n",
        "        model_finetuned.to(DEVICE)\n",
        "\n",
        "        print(f\"Avvio di model.val() per il modello fine-tuned...\")\n",
        "        metrics_finetuned_obj = model_finetuned.val(\n",
        "            data=PATH_AL_FILE_YAML_DEL_TEST_SET, # Assicurati che questo YAML usi percorsi assoluti\n",
        "            imgsz=IMG_SIZE,\n",
        "            batch=BATCH_SIZE,\n",
        "            conf=CONF_THRESHOLD,\n",
        "            iou=IOU_THRESHOLD,\n",
        "            split='test',\n",
        "            device=DEVICE,\n",
        "            project='YOLOv8_Finetuned_Eval_Runs', # I risultati di questa esecuzione verranno salvati qui\n",
        "            name='eval_finetuned_thyroid_test'  # Puoi cambiare questo nome per ogni esecuzione se vuoi tenere traccia\n",
        "        )\n",
        "\n",
        "        print(\"\\n--- Risultati Valutazione Modello Fine-tuned (da results_dict) ---\")\n",
        "\n",
        "        if hasattr(metrics_finetuned_obj, 'results_dict'):\n",
        "            results_d_finetuned = metrics_finetuned_obj.results_dict\n",
        "\n",
        "            # Estrai il numero di immagini\n",
        "            num_images_finetuned = metrics_finetuned_obj.dataset.len if hasattr(metrics_finetuned_obj, 'dataset') and hasattr(metrics_finetuned_obj.dataset, 'len') else 'N/A'\n",
        "            if num_images_finetuned == 'N/A':\n",
        "                 # Fallback se .dataset.len non è disponibile (es. da output precedente 330)\n",
        "                 # Potresti inserire un valore noto o lasciare 'N/A'\n",
        "                 print(\"Numero immagini non trovato tramite metrics_finetuned_obj.dataset.len. Controlla output della tabella YOLO.\")\n",
        "\n",
        "\n",
        "            metrics_finetuned_data_for_excel[\"Numero Immagini\"] = num_images_finetuned\n",
        "            metrics_finetuned_data_for_excel[\"mAP@0.5:0.95 (seg)\"] = results_d_finetuned.get('metrics/mAP50-95(M)')\n",
        "            metrics_finetuned_data_for_excel[\"mAP@0.5 (seg)\"] = results_d_finetuned.get('metrics/mAP50(M)')\n",
        "            metrics_finetuned_data_for_excel[\"Precision (seg)\"] = results_d_finetuned.get('metrics/precision(M)')\n",
        "            metrics_finetuned_data_for_excel[\"Recall (seg)\"] = results_d_finetuned.get('metrics/recall(M)')\n",
        "\n",
        "            # Stampa le metriche che andranno in Excel\n",
        "            for key, value in metrics_finetuned_data_for_excel.items():\n",
        "                if isinstance(value, (float, np.number)):\n",
        "                     print(f\"  {key}: {value:.4f}\")\n",
        "                else:\n",
        "                     print(f\"  {key}: {value}\")\n",
        "\n",
        "            excel_data_rows.append(metrics_finetuned_data_for_excel)\n",
        "        else:\n",
        "            print(\"  ERRORE: metrics_finetuned_obj.results_dict non trovato. Impossibile estrarre le metriche.\")\n",
        "            metrics_finetuned_data_for_excel[\"mAP@0.5:0.95 (seg)\"] = \"Errore (no results_dict)\"\n",
        "            metrics_finetuned_data_for_excel[\"mAP@0.5 (seg)\"] = \"Errore (no results_dict)\"\n",
        "            metrics_finetuned_data_for_excel[\"Precision (seg)\"] = \"Errore (no results_dict)\"\n",
        "            metrics_finetuned_data_for_excel[\"Recall (seg)\"] = \"Errore (no results_dict)\"\n",
        "            excel_data_rows.append(metrics_finetuned_data_for_excel)\n",
        "\n",
        "\n",
        "    except Exception as e:\n",
        "        print(f\"Errore GRAVE durante la valutazione del modello fine-tuned: {e}\")\n",
        "        traceback.print_exc()\n",
        "        metrics_finetuned_data_for_excel[\"mAP@0.5:0.95 (seg)\"] = \"Errore (eccezione)\"\n",
        "        metrics_finetuned_data_for_excel[\"mAP@0.5 (seg)\"] = \"Errore (eccezione)\"\n",
        "        metrics_finetuned_data_for_excel[\"Precision (seg)\"] = \"Errore (eccezione)\"\n",
        "        metrics_finetuned_data_for_excel[\"Recall (seg)\"] = \"Errore (eccezione)\"\n",
        "        excel_data_rows.append(metrics_finetuned_data_for_excel)\n",
        "\n",
        "# --- Salvataggio in Excel ---\n",
        "if excel_data_rows:\n",
        "    df = pd.DataFrame(excel_data_rows)\n",
        "    # Definisci l'ordine desiderato delle colonne\n",
        "    col_order = [\"Modello\", \"Numero Immagini\", \"mAP@0.5:0.95 (seg)\", \"mAP@0.5 (seg)\", \"Precision (seg)\", \"Recall (seg)\"]\n",
        "    # Filtra le colonne per mantenere solo quelle presenti nel DataFrame e nell'ordine specificato\n",
        "    df_cols_existing = [col for col in col_order if col in df.columns]\n",
        "    df = df[df_cols_existing]\n",
        "\n",
        "    try:\n",
        "        df.to_excel(OUTPUT_EXCEL_FILE, index=False, engine='openpyxl')\n",
        "        print(f\"\\nMetriche del modello fine-tuned salvate con successo nel file Excel: '{OUTPUT_EXCEL_FILE}'\")\n",
        "    except Exception as e:\n",
        "        print(f\"\\nErrore durante il salvataggio del file Excel: {e}\")\n",
        "        print(\"Assicurati di avere installato 'openpyxl': pip install openpyxl\")\n",
        "else:\n",
        "    print(\"\\nNessun dato di metrica del modello fine-tuned da salvare nel file Excel.\")\n",
        "\n",
        "print(\"\\n--- Valutazione Completata ---\")"
      ]
    },
    {
      "cell_type": "code",
      "execution_count": 32,
      "metadata": {
        "colab": {
          "base_uri": "https://localhost:8080/"
        },
        "id": "OFzPEZoqdm1h",
        "outputId": "3c2288f0-e567-4940-d1ab-4294256680aa"
      },
      "outputs": [
        {
          "name": "stdout",
          "output_type": "stream",
          "text": [
            "330\n"
          ]
        }
      ],
      "source": [
        "! ls /content/yolo_thyroid_dataset_test/images/test/ | wc -l"
      ]
    }
  ],
  "metadata": {
    "accelerator": "GPU",
    "colab": {
      "gpuType": "T4",
      "provenance": []
    },
    "kernelspec": {
      "display_name": "Python 3",
      "name": "python3"
    },
    "language_info": {
      "name": "python"
    }
  },
  "nbformat": 4,
  "nbformat_minor": 0
}
